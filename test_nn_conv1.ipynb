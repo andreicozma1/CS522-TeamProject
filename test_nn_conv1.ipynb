{
 "cells": [
  {
   "cell_type": "code",
   "execution_count": 3,
   "metadata": {
    "collapsed": false,
    "pycharm": {
     "name": "#%%\n"
    }
   },
   "outputs": [
    {
     "name": "stdout",
     "output_type": "stream",
     "text": [
      "Input Dimension: 900\n"
     ]
    }
   ],
   "source": [
    "from Dataset import *\n",
    "import cupy as cp\n",
    "from bpnn_cuda import BPNN\n",
    "\n",
    "def convert_categories(y_cat):\n",
    "    desired = cp.array([0 if y[0] == 1 else 1 for y in y_cat])\n",
    "    return desired\n",
    "\n",
    "def get_data():\n",
    "    d = Dataset.load_gzip(os.path.join(\"datasets\", \"face_mask_pickled\"), \"dataset_gray_conv.pkl.gzip\")\n",
    "\n",
    "    ndimen = d.train.X.shape[1]\n",
    "\n",
    "    # Structure Training Data for BPNN\n",
    "    training_inputs = [cp.reshape(cp.asarray(x), (ndimen, 1)) for x in d.train.X]\n",
    "    training_results = [cp.asarray(y.reshape(-1, 1)) for y in d.train.y]\n",
    "\n",
    "    training_data = zip(training_inputs, training_results)\n",
    "    # Structure Validation Data for BPNN\n",
    "    validation_inputs = [cp.reshape(cp.asarray(x), (ndimen, 1)) for x in d.validation.X]\n",
    "    validation_data = zip(validation_inputs, convert_categories(d.validation.y))\n",
    "    # Structure Testing Data for BPNN\n",
    "    testing_inputs = [cp.reshape(cp.asarray(x), (ndimen, 1)) for x in d.test.X]\n",
    "    testing_data = zip(testing_inputs, convert_categories(d.test.y))\n",
    "\n",
    "    return training_data, validation_data, testing_data, ndimen\n",
    "\n",
    "\n",
    "training_data, validation_data, testing_data, ndimen = get_data()\n",
    "print(f\"Input Dimension: {ndimen}\")\n",
    "\n",
    "ntrials = 1\n",
    "max_epochs = 30\n",
    "init_nc = [ndimen, 200, 2]\n",
    "init_b = 40\n",
    "init_lr = 0.5"
   ]
  },
  {
   "cell_type": "code",
   "execution_count": 2,
   "metadata": {},
   "outputs": [
    {
     "name": "stdout",
     "output_type": "stream",
     "text": [
      "# Training MLP Network: Sizes=[900, 200, 2]\tEpochs=100\tBatch-Size=40\tLearning-Rate=0.5\n",
      " - Training Data Len: 10000\n",
      " - Validation Data Len: 800\n",
      "# Epochs:\n"
     ]
    },
    {
     "name": "stderr",
     "output_type": "stream",
     "text": [
      "  1%|          | 1/100 [00:07<12:26,  7.54s/it]"
     ]
    },
    {
     "name": "stdout",
     "output_type": "stream",
     "text": [
      "\t1. Correct 698/800\t(score: 0.8725\tdelta: 0.8725\tdelta_avg: 0.8725)\n"
     ]
    },
    {
     "name": "stderr",
     "output_type": "stream",
     "text": [
      "  2%|▏         | 2/100 [00:13<10:34,  6.47s/it]"
     ]
    },
    {
     "name": "stdout",
     "output_type": "stream",
     "text": [
      "\t2. Correct 713/800\t(score: 0.89125\tdelta: 0.018749999999999933\tdelta_avg: 0.445625)\n"
     ]
    },
    {
     "name": "stderr",
     "output_type": "stream",
     "text": [
      "  3%|▎         | 3/100 [00:18<09:46,  6.05s/it]"
     ]
    },
    {
     "name": "stdout",
     "output_type": "stream",
     "text": [
      "\t3. Correct 722/800\t(score: 0.9025\tdelta: 0.011249999999999982\tdelta_avg: 0.30083333333333334)\n"
     ]
    },
    {
     "name": "stderr",
     "output_type": "stream",
     "text": [
      "  4%|▍         | 4/100 [00:24<09:14,  5.77s/it]"
     ]
    },
    {
     "name": "stdout",
     "output_type": "stream",
     "text": [
      "\t4. Correct 723/800\t(score: 0.90375\tdelta: 0.0012500000000000844\tdelta_avg: 0.2259375)\n"
     ]
    },
    {
     "name": "stderr",
     "output_type": "stream",
     "text": [
      "  5%|▌         | 5/100 [00:29<08:56,  5.65s/it]"
     ]
    },
    {
     "name": "stdout",
     "output_type": "stream",
     "text": [
      "\t5. Correct 723/800\t(score: 0.90375\tdelta: 0.0\tdelta_avg: 0.18075000000000002)\n"
     ]
    },
    {
     "name": "stderr",
     "output_type": "stream",
     "text": [
      "  6%|▌         | 6/100 [00:34<08:39,  5.53s/it]"
     ]
    },
    {
     "name": "stdout",
     "output_type": "stream",
     "text": [
      "\t6. Correct 723/800\t(score: 0.90375\tdelta: 0.0\tdelta_avg: 0.150625)\n"
     ]
    },
    {
     "name": "stderr",
     "output_type": "stream",
     "text": [
      "  7%|▋         | 7/100 [00:40<08:30,  5.49s/it]"
     ]
    },
    {
     "name": "stdout",
     "output_type": "stream",
     "text": [
      "\t7. Correct 728/800\t(score: 0.91\tdelta: 0.006249999999999978\tdelta_avg: 0.13)\n"
     ]
    },
    {
     "name": "stderr",
     "output_type": "stream",
     "text": [
      "  8%|▊         | 8/100 [00:45<08:22,  5.46s/it]"
     ]
    },
    {
     "name": "stdout",
     "output_type": "stream",
     "text": [
      "\t8. Correct 726/800\t(score: 0.9075\tdelta: -0.0025000000000000577\tdelta_avg: 0.1134375)\n"
     ]
    },
    {
     "name": "stderr",
     "output_type": "stream",
     "text": [
      "  9%|▉         | 9/100 [00:51<08:27,  5.57s/it]"
     ]
    },
    {
     "name": "stdout",
     "output_type": "stream",
     "text": [
      "\t9. Correct 728/800\t(score: 0.91\tdelta: 0.0025000000000000577\tdelta_avg: 0.10111111111111111)\n"
     ]
    },
    {
     "name": "stderr",
     "output_type": "stream",
     "text": [
      " 10%|█         | 10/100 [00:57<08:25,  5.61s/it]"
     ]
    },
    {
     "name": "stdout",
     "output_type": "stream",
     "text": [
      "\t10. Correct 725/800\t(score: 0.90625\tdelta: -0.003750000000000031\tdelta_avg: 0.090625)\n"
     ]
    },
    {
     "name": "stderr",
     "output_type": "stream",
     "text": [
      " 11%|█         | 11/100 [01:03<08:43,  5.88s/it]"
     ]
    },
    {
     "name": "stdout",
     "output_type": "stream",
     "text": [
      "\t11. Correct 729/800\t(score: 0.91125\tdelta: 0.0050000000000000044\tdelta_avg: 0.08284090909090909)\n"
     ]
    },
    {
     "name": "stderr",
     "output_type": "stream",
     "text": [
      " 12%|█▏        | 12/100 [01:09<08:47,  5.99s/it]"
     ]
    },
    {
     "name": "stdout",
     "output_type": "stream",
     "text": [
      "\t12. Correct 728/800\t(score: 0.91\tdelta: -0.0012499999999999734\tdelta_avg: 0.07583333333333334)\n"
     ]
    },
    {
     "name": "stderr",
     "output_type": "stream",
     "text": [
      " 13%|█▎        | 13/100 [01:15<08:30,  5.87s/it]"
     ]
    },
    {
     "name": "stdout",
     "output_type": "stream",
     "text": [
      "\t13. Correct 729/800\t(score: 0.91125\tdelta: 0.0012499999999999734\tdelta_avg: 0.07009615384615385)\n"
     ]
    },
    {
     "name": "stderr",
     "output_type": "stream",
     "text": [
      " 14%|█▍        | 14/100 [01:20<08:10,  5.71s/it]"
     ]
    },
    {
     "name": "stdout",
     "output_type": "stream",
     "text": [
      "\t14. Correct 728/800\t(score: 0.91\tdelta: -0.0012499999999999734\tdelta_avg: 0.065)\n"
     ]
    },
    {
     "name": "stderr",
     "output_type": "stream",
     "text": [
      " 15%|█▌        | 15/100 [01:26<07:54,  5.59s/it]"
     ]
    },
    {
     "name": "stdout",
     "output_type": "stream",
     "text": [
      "\t15. Correct 733/800\t(score: 0.91625\tdelta: 0.006249999999999978\tdelta_avg: 0.06108333333333334)\n"
     ]
    },
    {
     "name": "stderr",
     "output_type": "stream",
     "text": [
      " 16%|█▌        | 16/100 [01:31<07:41,  5.50s/it]"
     ]
    },
    {
     "name": "stdout",
     "output_type": "stream",
     "text": [
      "\t16. Correct 728/800\t(score: 0.91\tdelta: -0.006249999999999978\tdelta_avg: 0.056875)\n"
     ]
    },
    {
     "name": "stderr",
     "output_type": "stream",
     "text": [
      " 17%|█▋        | 17/100 [01:36<07:30,  5.43s/it]"
     ]
    },
    {
     "name": "stdout",
     "output_type": "stream",
     "text": [
      "\t17. Correct 728/800\t(score: 0.91\tdelta: 0.0\tdelta_avg: 0.05352941176470588)\n"
     ]
    },
    {
     "name": "stderr",
     "output_type": "stream",
     "text": [
      " 18%|█▊        | 18/100 [01:42<07:22,  5.40s/it]"
     ]
    },
    {
     "name": "stdout",
     "output_type": "stream",
     "text": [
      "\t18. Correct 729/800\t(score: 0.91125\tdelta: 0.0012499999999999734\tdelta_avg: 0.050625)\n"
     ]
    },
    {
     "name": "stderr",
     "output_type": "stream",
     "text": [
      " 19%|█▉        | 19/100 [01:47<07:15,  5.38s/it]"
     ]
    },
    {
     "name": "stdout",
     "output_type": "stream",
     "text": [
      "\t19. Correct 735/800\t(score: 0.91875\tdelta: 0.007499999999999951\tdelta_avg: 0.048355263157894735)\n"
     ]
    },
    {
     "name": "stderr",
     "output_type": "stream",
     "text": [
      " 20%|██        | 20/100 [01:53<07:18,  5.48s/it]"
     ]
    },
    {
     "name": "stdout",
     "output_type": "stream",
     "text": [
      "\t20. Correct 730/800\t(score: 0.9125\tdelta: -0.006249999999999978\tdelta_avg: 0.045625)\n"
     ]
    },
    {
     "name": "stderr",
     "output_type": "stream",
     "text": [
      " 21%|██        | 21/100 [01:58<07:12,  5.47s/it]"
     ]
    },
    {
     "name": "stdout",
     "output_type": "stream",
     "text": [
      "\t21. Correct 729/800\t(score: 0.91125\tdelta: -0.0012499999999999734\tdelta_avg: 0.04339285714285714)\n"
     ]
    },
    {
     "name": "stderr",
     "output_type": "stream",
     "text": [
      " 21%|██        | 21/100 [02:01<07:35,  5.77s/it]\n"
     ]
    },
    {
     "ename": "KeyboardInterrupt",
     "evalue": "",
     "output_type": "error",
     "traceback": [
      "\u001b[0;31m---------------------------------------------------------------------------\u001b[0m",
      "\u001b[0;31mKeyboardInterrupt\u001b[0m                         Traceback (most recent call last)",
      "\u001b[0;32m/tmp/ipykernel_517754/3978375016.py\u001b[0m in \u001b[0;36m<module>\u001b[0;34m\u001b[0m\n\u001b[1;32m      1\u001b[0m \u001b[0mmodel_BPNN\u001b[0m \u001b[0;34m=\u001b[0m \u001b[0mBPNN\u001b[0m\u001b[0;34m(\u001b[0m\u001b[0minit_nc\u001b[0m\u001b[0;34m,\u001b[0m \u001b[0mverbose\u001b[0m\u001b[0;34m=\u001b[0m\u001b[0;32mTrue\u001b[0m\u001b[0;34m)\u001b[0m\u001b[0;34m\u001b[0m\u001b[0;34m\u001b[0m\u001b[0m\n\u001b[0;32m----> 2\u001b[0;31m final_score, eval_scores, eval_scores_deltas, conv_time = model_BPNN.train(training_data,\n\u001b[0m\u001b[1;32m      3\u001b[0m                                                                            \u001b[0mmax_epochs\u001b[0m\u001b[0;34m=\u001b[0m\u001b[0mmax_epochs\u001b[0m\u001b[0;34m,\u001b[0m\u001b[0;34m\u001b[0m\u001b[0;34m\u001b[0m\u001b[0m\n\u001b[1;32m      4\u001b[0m                                                                            \u001b[0mbatch_size\u001b[0m\u001b[0;34m=\u001b[0m\u001b[0minit_b\u001b[0m\u001b[0;34m,\u001b[0m\u001b[0;34m\u001b[0m\u001b[0;34m\u001b[0m\u001b[0m\n\u001b[1;32m      5\u001b[0m                                                                            \u001b[0mlearning_rate\u001b[0m\u001b[0;34m=\u001b[0m\u001b[0minit_lr\u001b[0m\u001b[0;34m,\u001b[0m\u001b[0;34m\u001b[0m\u001b[0;34m\u001b[0m\u001b[0m\n",
      "\u001b[0;32m/mnt/D/GitHub/classes/CS522/CS522-TeamProject/bpnn_cuda.py\u001b[0m in \u001b[0;36mtrain\u001b[0;34m(self, training_data, max_epochs, batch_size, learning_rate, evaluation_data, evaluation_treshold)\u001b[0m\n\u001b[1;32m     89\u001b[0m             \u001b[0;31m# For each mini batch run the update function\u001b[0m\u001b[0;34m\u001b[0m\u001b[0;34m\u001b[0m\u001b[0;34m\u001b[0m\u001b[0m\n\u001b[1;32m     90\u001b[0m             \u001b[0;32mfor\u001b[0m \u001b[0mbatch\u001b[0m \u001b[0;32min\u001b[0m \u001b[0mbatches\u001b[0m\u001b[0;34m:\u001b[0m\u001b[0;34m\u001b[0m\u001b[0;34m\u001b[0m\u001b[0m\n\u001b[0;32m---> 91\u001b[0;31m                 \u001b[0mself\u001b[0m\u001b[0;34m.\u001b[0m\u001b[0mupdate_batch\u001b[0m\u001b[0;34m(\u001b[0m\u001b[0mbatch\u001b[0m\u001b[0;34m,\u001b[0m \u001b[0mlearning_rate\u001b[0m\u001b[0;34m)\u001b[0m\u001b[0;34m\u001b[0m\u001b[0;34m\u001b[0m\u001b[0m\n\u001b[0m\u001b[1;32m     92\u001b[0m \u001b[0;34m\u001b[0m\u001b[0m\n\u001b[1;32m     93\u001b[0m             \u001b[0;31m# Print mini-batch evalutaion on testing data\u001b[0m\u001b[0;34m\u001b[0m\u001b[0;34m\u001b[0m\u001b[0;34m\u001b[0m\u001b[0m\n",
      "\u001b[0;32m/mnt/D/GitHub/classes/CS522/CS522-TeamProject/bpnn_cuda.py\u001b[0m in \u001b[0;36mupdate_batch\u001b[0;34m(self, batch, learning_rate)\u001b[0m\n\u001b[1;32m    139\u001b[0m         \u001b[0;32mfor\u001b[0m \u001b[0mx\u001b[0m\u001b[0;34m,\u001b[0m \u001b[0my\u001b[0m \u001b[0;32min\u001b[0m \u001b[0mbatch\u001b[0m\u001b[0;34m:\u001b[0m\u001b[0;34m\u001b[0m\u001b[0;34m\u001b[0m\u001b[0m\n\u001b[1;32m    140\u001b[0m             \u001b[0;31m# Use back propagation to get the change in weights and biases\u001b[0m\u001b[0;34m\u001b[0m\u001b[0;34m\u001b[0m\u001b[0;34m\u001b[0m\u001b[0m\n\u001b[0;32m--> 141\u001b[0;31m             \u001b[0mdelta_nabla_b\u001b[0m\u001b[0;34m,\u001b[0m \u001b[0mdelta_nabla_w\u001b[0m \u001b[0;34m=\u001b[0m \u001b[0mself\u001b[0m\u001b[0;34m.\u001b[0m\u001b[0mbackprop\u001b[0m\u001b[0;34m(\u001b[0m\u001b[0mx\u001b[0m\u001b[0;34m,\u001b[0m \u001b[0my\u001b[0m\u001b[0;34m)\u001b[0m\u001b[0;34m\u001b[0m\u001b[0;34m\u001b[0m\u001b[0m\n\u001b[0m\u001b[1;32m    142\u001b[0m             \u001b[0mnabla_b\u001b[0m \u001b[0;34m=\u001b[0m \u001b[0;34m[\u001b[0m\u001b[0mnb\u001b[0m \u001b[0;34m+\u001b[0m \u001b[0mdnb\u001b[0m \u001b[0;32mfor\u001b[0m \u001b[0mnb\u001b[0m\u001b[0;34m,\u001b[0m \u001b[0mdnb\u001b[0m \u001b[0;32min\u001b[0m \u001b[0mzip\u001b[0m\u001b[0;34m(\u001b[0m\u001b[0mnabla_b\u001b[0m\u001b[0;34m,\u001b[0m \u001b[0mdelta_nabla_b\u001b[0m\u001b[0;34m)\u001b[0m\u001b[0;34m]\u001b[0m\u001b[0;34m\u001b[0m\u001b[0;34m\u001b[0m\u001b[0m\n\u001b[1;32m    143\u001b[0m             \u001b[0mnabla_w\u001b[0m \u001b[0;34m=\u001b[0m \u001b[0;34m[\u001b[0m\u001b[0mnw\u001b[0m \u001b[0;34m+\u001b[0m \u001b[0mdnw\u001b[0m \u001b[0;32mfor\u001b[0m \u001b[0mnw\u001b[0m\u001b[0;34m,\u001b[0m \u001b[0mdnw\u001b[0m \u001b[0;32min\u001b[0m \u001b[0mzip\u001b[0m\u001b[0;34m(\u001b[0m\u001b[0mnabla_w\u001b[0m\u001b[0;34m,\u001b[0m \u001b[0mdelta_nabla_w\u001b[0m\u001b[0;34m)\u001b[0m\u001b[0;34m]\u001b[0m\u001b[0;34m\u001b[0m\u001b[0;34m\u001b[0m\u001b[0m\n",
      "\u001b[0;32m/mnt/D/GitHub/classes/CS522/CS522-TeamProject/bpnn_cuda.py\u001b[0m in \u001b[0;36mbackprop\u001b[0;34m(self, x, y)\u001b[0m\n\u001b[1;32m    172\u001b[0m         \u001b[0;32mfor\u001b[0m \u001b[0ml\u001b[0m \u001b[0;32min\u001b[0m \u001b[0mrange\u001b[0m\u001b[0;34m(\u001b[0m\u001b[0;36m2\u001b[0m\u001b[0;34m,\u001b[0m \u001b[0mself\u001b[0m\u001b[0;34m.\u001b[0m\u001b[0mnum_layers\u001b[0m\u001b[0;34m)\u001b[0m\u001b[0;34m:\u001b[0m\u001b[0;34m\u001b[0m\u001b[0;34m\u001b[0m\u001b[0m\n\u001b[1;32m    173\u001b[0m             \u001b[0mz\u001b[0m \u001b[0;34m=\u001b[0m \u001b[0mzs\u001b[0m\u001b[0;34m[\u001b[0m\u001b[0;34m-\u001b[0m\u001b[0ml\u001b[0m\u001b[0;34m]\u001b[0m\u001b[0;34m\u001b[0m\u001b[0;34m\u001b[0m\u001b[0m\n\u001b[0;32m--> 174\u001b[0;31m             \u001b[0msp\u001b[0m \u001b[0;34m=\u001b[0m \u001b[0msigmoid_prime\u001b[0m\u001b[0;34m(\u001b[0m\u001b[0mz\u001b[0m\u001b[0;34m)\u001b[0m\u001b[0;34m\u001b[0m\u001b[0;34m\u001b[0m\u001b[0m\n\u001b[0m\u001b[1;32m    175\u001b[0m             \u001b[0mdelta\u001b[0m \u001b[0;34m=\u001b[0m \u001b[0mcp\u001b[0m\u001b[0;34m.\u001b[0m\u001b[0mdot\u001b[0m\u001b[0;34m(\u001b[0m\u001b[0mself\u001b[0m\u001b[0;34m.\u001b[0m\u001b[0mweights\u001b[0m\u001b[0;34m[\u001b[0m\u001b[0;34m-\u001b[0m\u001b[0ml\u001b[0m \u001b[0;34m+\u001b[0m \u001b[0;36m1\u001b[0m\u001b[0;34m]\u001b[0m\u001b[0;34m.\u001b[0m\u001b[0mtranspose\u001b[0m\u001b[0;34m(\u001b[0m\u001b[0;34m)\u001b[0m\u001b[0;34m,\u001b[0m \u001b[0mdelta\u001b[0m\u001b[0;34m)\u001b[0m \u001b[0;34m*\u001b[0m \u001b[0msp\u001b[0m\u001b[0;34m\u001b[0m\u001b[0;34m\u001b[0m\u001b[0m\n\u001b[1;32m    176\u001b[0m             \u001b[0mnabla_b\u001b[0m\u001b[0;34m[\u001b[0m\u001b[0;34m-\u001b[0m\u001b[0ml\u001b[0m\u001b[0;34m]\u001b[0m \u001b[0;34m=\u001b[0m \u001b[0mdelta\u001b[0m\u001b[0;34m\u001b[0m\u001b[0;34m\u001b[0m\u001b[0m\n",
      "\u001b[0;32m/mnt/D/GitHub/classes/CS522/CS522-TeamProject/bpnn_cuda.py\u001b[0m in \u001b[0;36msigmoid_prime\u001b[0;34m(z)\u001b[0m\n\u001b[1;32m     16\u001b[0m     \u001b[0mDerivative\u001b[0m \u001b[0mof\u001b[0m \u001b[0msigmoid\u001b[0m \u001b[0mfunction\u001b[0m\u001b[0;34m\u001b[0m\u001b[0;34m\u001b[0m\u001b[0m\n\u001b[1;32m     17\u001b[0m     \"\"\"\n\u001b[0;32m---> 18\u001b[0;31m     \u001b[0;32mreturn\u001b[0m \u001b[0msigmoid\u001b[0m\u001b[0;34m(\u001b[0m\u001b[0mz\u001b[0m\u001b[0;34m)\u001b[0m \u001b[0;34m*\u001b[0m \u001b[0;34m(\u001b[0m\u001b[0;36m1\u001b[0m \u001b[0;34m-\u001b[0m \u001b[0msigmoid\u001b[0m\u001b[0;34m(\u001b[0m\u001b[0mz\u001b[0m\u001b[0;34m)\u001b[0m\u001b[0;34m)\u001b[0m\u001b[0;34m\u001b[0m\u001b[0;34m\u001b[0m\u001b[0m\n\u001b[0m\u001b[1;32m     19\u001b[0m \u001b[0;34m\u001b[0m\u001b[0m\n\u001b[1;32m     20\u001b[0m \u001b[0;34m\u001b[0m\u001b[0m\n",
      "\u001b[0;32m/mnt/D/GitHub/classes/CS522/CS522-TeamProject/bpnn_cuda.py\u001b[0m in \u001b[0;36msigmoid\u001b[0;34m(z)\u001b[0m\n\u001b[1;32m      9\u001b[0m     \u001b[0mImplementing\u001b[0m \u001b[0mthe\u001b[0m \u001b[0msigmoid\u001b[0m \u001b[0mfunction\u001b[0m\u001b[0;34m\u001b[0m\u001b[0;34m\u001b[0m\u001b[0m\n\u001b[1;32m     10\u001b[0m     \"\"\"\n\u001b[0;32m---> 11\u001b[0;31m     \u001b[0;32mreturn\u001b[0m \u001b[0;36m1.0\u001b[0m \u001b[0;34m/\u001b[0m \u001b[0;34m(\u001b[0m\u001b[0;36m1.0\u001b[0m \u001b[0;34m+\u001b[0m \u001b[0mcp\u001b[0m\u001b[0;34m.\u001b[0m\u001b[0mexp\u001b[0m\u001b[0;34m(\u001b[0m\u001b[0;34m-\u001b[0m\u001b[0mz\u001b[0m\u001b[0;34m)\u001b[0m\u001b[0;34m)\u001b[0m\u001b[0;34m\u001b[0m\u001b[0;34m\u001b[0m\u001b[0m\n\u001b[0m\u001b[1;32m     12\u001b[0m \u001b[0;34m\u001b[0m\u001b[0m\n\u001b[1;32m     13\u001b[0m \u001b[0;34m\u001b[0m\u001b[0m\n",
      "\u001b[0;31mKeyboardInterrupt\u001b[0m: "
     ]
    }
   ],
   "source": [
    "\n",
    "model_BPNN = BPNN(init_nc, verbose=True)\n",
    "final_score, eval_scores, eval_scores_deltas, conv_time = model_BPNN.train(training_data,\n",
    "                                                                           max_epochs=max_epochs,\n",
    "                                                                           batch_size=init_b,\n",
    "                                                                           learning_rate=init_lr,\n",
    "                                                                           evaluation_data=validation_data)\n"
   ]
  },
  {
   "cell_type": "code",
   "execution_count": 4,
   "metadata": {
    "collapsed": true
   },
   "outputs": [
    {
     "name": "stdout",
     "output_type": "stream",
     "text": [
      "Training Epoch vs. Accuracy (Effect of Network Configuration)\n"
     ]
    },
    {
     "name": "stderr",
     "output_type": "stream",
     "text": [
      "100%|██████████| 30/30 [02:43<00:00,  5.46s/it]\n"
     ]
    },
    {
     "name": "stdout",
     "output_type": "stream",
     "text": [
      "[900, 50, 2] => 0.925\n"
     ]
    },
    {
     "name": "stderr",
     "output_type": "stream",
     "text": [
      "100%|██████████| 30/30 [02:48<00:00,  5.61s/it]\n"
     ]
    },
    {
     "name": "stdout",
     "output_type": "stream",
     "text": [
      "[900, 100, 2] => 0.92\n"
     ]
    },
    {
     "name": "stderr",
     "output_type": "stream",
     "text": [
      "100%|██████████| 30/30 [02:34<00:00,  5.15s/it]\n"
     ]
    },
    {
     "name": "stdout",
     "output_type": "stream",
     "text": [
      "[900, 200, 2] => 0.9275\n"
     ]
    },
    {
     "name": "stderr",
     "output_type": "stream",
     "text": [
      "100%|██████████| 30/30 [02:43<00:00,  5.44s/it]\n"
     ]
    },
    {
     "name": "stdout",
     "output_type": "stream",
     "text": [
      "[900, 400, 2] => 0.92625\n"
     ]
    },
    {
     "name": "stderr",
     "output_type": "stream",
     "text": [
      "100%|██████████| 30/30 [02:52<00:00,  5.74s/it]"
     ]
    },
    {
     "name": "stdout",
     "output_type": "stream",
     "text": [
      "[900, 800, 2] => 0.9125\n"
     ]
    },
    {
     "name": "stderr",
     "output_type": "stream",
     "text": [
      "\n"
     ]
    },
    {
     "data": {
      "image/png": "[encoded data removed]",
      "text/plain": [
       "<Figure size 1008x432 with 1 Axes>"
      ]
     },
     "metadata": {
      "needs_background": "light"
     },
     "output_type": "display_data"
    },
    {
     "name": "stdout",
     "output_type": "stream",
     "text": [
      "Best network configuration: [900, 200, 2]\n"
     ]
    }
   ],
   "source": [
    "def plot_accuracies_hidden_layers_and_nodes(save_dir, layers_arr):\n",
    "    os.makedirs(save_dir, exist_ok=True)\n",
    "    print(f\"Training Epoch vs. Accuracy (Effect of Network Configuration)\")\n",
    "\n",
    "    fig = plt.figure(figsize=(14, 6))\n",
    "    plt.title(\n",
    "        f\"Training Epoch vs. Accuracy (Effect of Network Configuration)\")\n",
    "    plt.xlabel(\"Epoch\")\n",
    "    plt.ylabel('Accuracy')\n",
    "\n",
    "    best_score = 0\n",
    "    best_config = None\n",
    "\n",
    "    for layers in layers_arr:\n",
    "        final_scores = []\n",
    "        epoch_scores = []\n",
    "        # Run an average over multiple trials\n",
    "        for i in range(ntrials):\n",
    "            # Get data and train the network\n",
    "            training_data, validation_data, testing_data, ndimen = get_data()\n",
    "            nn = BPNN(layers, verbose=False)\n",
    "            final_score, eval_scores, eval_scores_deltas, conv_time = nn.train(training_data,\n",
    "                                                                               max_epochs=max_epochs,\n",
    "                                                                               batch_size=init_b,\n",
    "                                                                               learning_rate=init_lr,\n",
    "                                                                               evaluation_data=validation_data,\n",
    "                                                                               evaluation_treshold=None)\n",
    "            final_scores.append(final_score)\n",
    "            epoch_scores.append(eval_scores)\n",
    "\n",
    "        # Compute the averages over the specified number of trials\n",
    "        final_score_avg = np.average(final_scores)\n",
    "        epoch_scores = np.mean(epoch_scores, axis=0)\n",
    "\n",
    "        print(f'{layers} => {final_score_avg}')\n",
    "        if final_score_avg > best_score:\n",
    "            best_score = final_score_avg\n",
    "            best_config = layers\n",
    "        plt.plot(epoch_scores, label=f'{layers} - {final_score_avg}')\n",
    "\n",
    "    plt.grid()\n",
    "    plt.legend()\n",
    "    plt.show()\n",
    "    fig.savefig(f'{save_dir}/bpnn_layers_vs_acc', dpi=100)\n",
    "\n",
    "    return best_config\n",
    "\n",
    "\n",
    "layers_arr = [[ndimen, 50, 2],\n",
    "              [ndimen, 100, 2],\n",
    "              [ndimen, 200, 2],\n",
    "              [ndimen, 400, 2],\n",
    "              [ndimen, 800, 2],]\n",
    "\n",
    "\n",
    "\"\"\"\n",
    "# Generate all possible network combinations with the following criteria:\n",
    "# - Minimum number of hidden layers: 1\n",
    "# - Maximum number of hidden layers: 10\n",
    "# - Minimum number of nodes in each hidden layer: 32\n",
    "# - Maximum number of nodes in each hidden layer: 1024\n",
    "# - Increments of 32\n",
    "\"\"\"\n",
    "\n",
    "\n",
    "best_nc = plot_accuracies_hidden_layers_and_nodes(\"img\", layers_arr)\n",
    "print(f\"Best network configuration: {best_nc}\")\n"
   ]
  },
  {
   "cell_type": "code",
   "execution_count": 4,
   "metadata": {
    "collapsed": false,
    "pycharm": {
     "name": "#%%\n"
    }
   },
   "outputs": [
    {
     "name": "stdout",
     "output_type": "stream",
     "text": [
      "Training Epoch vs. Accuracy (Effect of Batch Size)\n"
     ]
    },
    {
     "name": "stderr",
     "output_type": "stream",
     "text": [
      "100%|██████████| 100/100 [38:24<00:00, 23.05s/it]\n"
     ]
    },
    {
     "name": "stdout",
     "output_type": "stream",
     "text": [
      "20 => 0.8425\n"
     ]
    },
    {
     "name": "stderr",
     "output_type": "stream",
     "text": [
      "100%|██████████| 100/100 [37:55<00:00, 22.75s/it]\n"
     ]
    },
    {
     "name": "stdout",
     "output_type": "stream",
     "text": [
      "30 => 0.82875\n"
     ]
    },
    {
     "name": "stderr",
     "output_type": "stream",
     "text": [
      "100%|██████████| 100/100 [40:20<00:00, 24.20s/it]\n"
     ]
    },
    {
     "name": "stdout",
     "output_type": "stream",
     "text": [
      "35 => 0.8375\n"
     ]
    },
    {
     "name": "stderr",
     "output_type": "stream",
     "text": [
      "100%|██████████| 100/100 [41:49<00:00, 25.10s/it]\n"
     ]
    },
    {
     "name": "stdout",
     "output_type": "stream",
     "text": [
      "40 => 0.83625\n"
     ]
    },
    {
     "name": "stderr",
     "output_type": "stream",
     "text": [
      "100%|██████████| 100/100 [37:59<00:00, 22.80s/it]\n"
     ]
    },
    {
     "name": "stdout",
     "output_type": "stream",
     "text": [
      "45 => 0.8325\n"
     ]
    },
    {
     "name": "stderr",
     "output_type": "stream",
     "text": [
      "100%|██████████| 100/100 [37:36<00:00, 22.57s/it]\n"
     ]
    },
    {
     "name": "stdout",
     "output_type": "stream",
     "text": [
      "50 => 0.82875\n"
     ]
    },
    {
     "name": "stderr",
     "output_type": "stream",
     "text": [
      "100%|██████████| 100/100 [37:30<00:00, 22.51s/it]\n"
     ]
    },
    {
     "name": "stdout",
     "output_type": "stream",
     "text": [
      "60 => 0.8225\n"
     ]
    },
    {
     "name": "stderr",
     "output_type": "stream",
     "text": [
      "100%|██████████| 100/100 [37:26<00:00, 22.47s/it]\n"
     ]
    },
    {
     "name": "stdout",
     "output_type": "stream",
     "text": [
      "70 => 0.80875\n"
     ]
    },
    {
     "name": "stderr",
     "output_type": "stream",
     "text": [
      "100%|██████████| 100/100 [37:23<00:00, 22.44s/it]\n"
     ]
    },
    {
     "name": "stdout",
     "output_type": "stream",
     "text": [
      "80 => 0.805\n"
     ]
    },
    {
     "name": "stderr",
     "output_type": "stream",
     "text": [
      "100%|██████████| 100/100 [37:21<00:00, 22.42s/it]\n"
     ]
    },
    {
     "name": "stdout",
     "output_type": "stream",
     "text": [
      "90 => 0.77875\n"
     ]
    },
    {
     "name": "stderr",
     "output_type": "stream",
     "text": [
      "100%|██████████| 100/100 [37:19<00:00, 22.40s/it]\n"
     ]
    },
    {
     "name": "stdout",
     "output_type": "stream",
     "text": [
      "100 => 0.50875\n"
     ]
    },
    {
     "name": "stderr",
     "output_type": "stream",
     "text": [
      "100%|██████████| 100/100 [37:19<00:00, 22.39s/it]\n"
     ]
    },
    {
     "name": "stdout",
     "output_type": "stream",
     "text": [
      "110 => 0.75625\n"
     ]
    },
    {
     "name": "stderr",
     "output_type": "stream",
     "text": [
      "100%|██████████| 100/100 [37:16<00:00, 22.37s/it]\n"
     ]
    },
    {
     "name": "stdout",
     "output_type": "stream",
     "text": [
      "120 => 0.7425\n"
     ]
    },
    {
     "name": "stderr",
     "output_type": "stream",
     "text": [
      "100%|██████████| 100/100 [37:15<00:00, 22.36s/it]\n"
     ]
    },
    {
     "name": "stdout",
     "output_type": "stream",
     "text": [
      "130 => 0.74125\n"
     ]
    },
    {
     "name": "stderr",
     "output_type": "stream",
     "text": [
      "100%|██████████| 100/100 [37:14<00:00, 22.35s/it]\n"
     ]
    },
    {
     "name": "stdout",
     "output_type": "stream",
     "text": [
      "140 => 0.75875\n"
     ]
    },
    {
     "name": "stderr",
     "output_type": "stream",
     "text": [
      "100%|██████████| 100/100 [37:08<00:00, 22.28s/it]"
     ]
    },
    {
     "name": "stdout",
     "output_type": "stream",
     "text": [
      "150 => 0.74\n"
     ]
    },
    {
     "name": "stderr",
     "output_type": "stream",
     "text": [
      "\n"
     ]
    },
    {
     "data": {
      "image/png": "[encoded data removed]",
      "text/plain": [
       "<Figure size 1008x432 with 1 Axes>"
      ]
     },
     "metadata": {
      "needs_background": "light"
     },
     "output_type": "display_data"
    },
    {
     "name": "stdout",
     "output_type": "stream",
     "text": [
      "Best batch size: 20\n"
     ]
    }
   ],
   "source": [
    "def plot_accuracies_mini_batch_size(save_dir, batch_size_arr):\n",
    "    os.makedirs(save_dir, exist_ok=True)\n",
    "    print(f\"Training Epoch vs. Accuracy (Effect of Batch Size)\")\n",
    "\n",
    "    fig = plt.figure(figsize=(14, 6))\n",
    "    plt.title(f\"Training Epoch vs. Accuracy (Effect of Batch Size)\")\n",
    "    plt.xlabel(\"Epoch\")\n",
    "    plt.ylabel('Accuracy')\n",
    "\n",
    "    best_score = 0\n",
    "    best_config = None\n",
    "\n",
    "    for batch_size in batch_size_arr:\n",
    "        final_scores = []\n",
    "        epoch_scores = []\n",
    "        # Run an average over multiple trials\n",
    "        for i in range(ntrials):\n",
    "            # Get data and train the network\n",
    "            training_data, validation_data, testing_data, ndimen = get_data()\n",
    "            nn = BPNN(best_nc, verbose=False)\n",
    "            final_score, eval_scores, eval_scores_deltas, conv_time = nn.train(training_data,\n",
    "                                                                               max_epochs=max_epochs,\n",
    "                                                                               batch_size=batch_size,\n",
    "                                                                               learning_rate=init_lr,\n",
    "                                                                               evaluation_data=validation_data,\n",
    "                                                                               evaluation_treshold=None)\n",
    "            final_scores.append(final_score)\n",
    "            epoch_scores.append(eval_scores)\n",
    "\n",
    "        # Compute the averages over the specified number of trials\n",
    "        final_score_avg = np.average(final_scores)\n",
    "        epoch_scores = np.mean(epoch_scores, axis=0)\n",
    "\n",
    "        print(f'{batch_size} => {final_score_avg}')\n",
    "        if final_score_avg > best_score:\n",
    "            best_score = final_score_avg\n",
    "            best_config = batch_size\n",
    "        plt.plot(epoch_scores, label=f'{batch_size} - {final_score_avg}')\n",
    "\n",
    "    plt.grid()\n",
    "    plt.legend()\n",
    "    plt.show()\n",
    "    fig.savefig(f'{save_dir}/bpnn_batch_vs_acc', dpi=100)\n",
    "\n",
    "    return best_config\n",
    "\n",
    "\n",
    "batch_size_arr = [20, 30, 35, 40, 45, 50, 60, 70, 80, 90, 100, 110, 120, 130, 140, 150]\n",
    "best_b = plot_accuracies_mini_batch_size(\"img\", batch_size_arr)\n",
    "print(f\"Best batch size: {best_b}\")"
   ]
  },
  {
   "cell_type": "code",
   "execution_count": 5,
   "metadata": {
    "collapsed": false,
    "pycharm": {
     "name": "#%%\n"
    }
   },
   "outputs": [
    {
     "name": "stdout",
     "output_type": "stream",
     "text": [
      "Training Epoch vs. Accuracy (Effect of Learning Rate)\n",
      "Training Epoch vs. Accuracy (Effect of Learning Rate)\n"
     ]
    },
    {
     "name": "stderr",
     "output_type": "stream",
     "text": [
      "100%|██████████| 100/100 [38:21<00:00, 23.01s/it]\n"
     ]
    },
    {
     "name": "stdout",
     "output_type": "stream",
     "text": [
      "0.75 => 0.56125\n"
     ]
    },
    {
     "name": "stderr",
     "output_type": "stream",
     "text": [
      "100%|██████████| 100/100 [38:20<00:00, 23.01s/it]\n"
     ]
    },
    {
     "name": "stdout",
     "output_type": "stream",
     "text": [
      "0.65 => 0.81375\n"
     ]
    },
    {
     "name": "stderr",
     "output_type": "stream",
     "text": [
      "100%|██████████| 100/100 [39:51<00:00, 23.91s/it]\n"
     ]
    },
    {
     "name": "stdout",
     "output_type": "stream",
     "text": [
      "0.6 => 0.82625\n"
     ]
    },
    {
     "name": "stderr",
     "output_type": "stream",
     "text": [
      "100%|██████████| 100/100 [34:49<00:00, 20.90s/it]\n"
     ]
    },
    {
     "name": "stdout",
     "output_type": "stream",
     "text": [
      "0.55 => 0.82875\n"
     ]
    },
    {
     "name": "stderr",
     "output_type": "stream",
     "text": [
      "100%|██████████| 100/100 [34:49<00:00, 20.90s/it]\n"
     ]
    },
    {
     "name": "stdout",
     "output_type": "stream",
     "text": [
      "0.5 => 0.81875\n"
     ]
    },
    {
     "name": "stderr",
     "output_type": "stream",
     "text": [
      "100%|██████████| 100/100 [37:13<00:00, 22.34s/it]\n"
     ]
    },
    {
     "name": "stdout",
     "output_type": "stream",
     "text": [
      "0.45 => 0.50125\n"
     ]
    },
    {
     "name": "stderr",
     "output_type": "stream",
     "text": [
      "100%|██████████| 100/100 [34:54<00:00, 20.94s/it]\n"
     ]
    },
    {
     "name": "stdout",
     "output_type": "stream",
     "text": [
      "0.4 => 0.83\n"
     ]
    },
    {
     "name": "stderr",
     "output_type": "stream",
     "text": [
      "100%|██████████| 100/100 [34:47<00:00, 20.87s/it]\n"
     ]
    },
    {
     "name": "stdout",
     "output_type": "stream",
     "text": [
      "0.35 => 0.83375\n"
     ]
    },
    {
     "name": "stderr",
     "output_type": "stream",
     "text": [
      "100%|██████████| 100/100 [38:31<00:00, 23.11s/it]"
     ]
    },
    {
     "name": "stdout",
     "output_type": "stream",
     "text": [
      "0.25 => 0.82625\n"
     ]
    },
    {
     "name": "stderr",
     "output_type": "stream",
     "text": [
      "\n"
     ]
    },
    {
     "data": {
      "image/png": "[encoded data removed]",
      "text/plain": [
       "<Figure size 1008x432 with 1 Axes>"
      ]
     },
     "metadata": {
      "needs_background": "light"
     },
     "output_type": "display_data"
    },
    {
     "name": "stdout",
     "output_type": "stream",
     "text": [
      "Best learning rate: 0.35\n"
     ]
    }
   ],
   "source": [
    "def plot_accuracies_learning_rate(save_dir, learning_rate_arr):\n",
    "    os.makedirs(save_dir, exist_ok=True)\n",
    "    print(f\"Training Epoch vs. Accuracy (Effect of Learning Rate)\")\n",
    "    print(f\"Training Epoch vs. Accuracy (Effect of Learning Rate)\")\n",
    "\n",
    "    fig = plt.figure(figsize=(14, 6))\n",
    "    plt.title(f\"Training Epoch vs. Accuracy (Effect of Learning Rate)\")\n",
    "    plt.xlabel(\"Epoch\")\n",
    "    plt.ylabel('Accuracy')\n",
    "\n",
    "    best_score = 0\n",
    "    best_config = None\n",
    "\n",
    "    for learning_rate in learning_rate_arr:\n",
    "        final_scores = []\n",
    "        epoch_scores = []\n",
    "        # Run an average over multiple trials\n",
    "        for i in range(ntrials):\n",
    "            # Get data and train the network\n",
    "            training_data, validation_data, testing_data, ndimen = get_data()\n",
    "            nn = BPNN(best_nc, verbose=False)\n",
    "            final_score, eval_scores, eval_scores_deltas, conv_time = nn.train(training_data,\n",
    "                                                                               max_epochs=max_epochs,\n",
    "                                                                               batch_size=best_b,\n",
    "                                                                               learning_rate=learning_rate,\n",
    "                                                                               evaluation_data=validation_data,\n",
    "                                                                               evaluation_treshold=None)\n",
    "\n",
    "            final_scores.append(final_score)\n",
    "            epoch_scores.append(eval_scores)\n",
    "\n",
    "        # Compute the averages over the specified number of trials\n",
    "        final_score_avg = np.average(final_scores)\n",
    "        epoch_scores = np.mean(epoch_scores, axis=0)\n",
    "\n",
    "        print(f'{learning_rate} => {final_score_avg}')\n",
    "        if final_score_avg > best_score:\n",
    "            best_score = final_score_avg\n",
    "            best_config = learning_rate\n",
    "\n",
    "        plt.plot(epoch_scores, label=f'{learning_rate} - {final_score_avg}')\n",
    "\n",
    "    plt.grid()\n",
    "    plt.legend()\n",
    "    plt.show()\n",
    "    fig.savefig(f'{save_dir}/bpnn_lr_vs_acc', dpi=100)\n",
    "\n",
    "    return best_config\n",
    "\n",
    "\n",
    "learning_rate_arr = [0.75, 0.65, 0.60, 0.55, 0.5, 0.45, 0.40, 0.35, 0.25]\n",
    "best_lr = plot_accuracies_learning_rate(\"img\", learning_rate_arr)\n",
    "print(f\"Best learning rate: {best_lr}\")"
   ]
  },
  {
   "cell_type": "code",
   "execution_count": 6,
   "metadata": {
    "collapsed": false,
    "pycharm": {
     "name": "#%%\n"
    }
   },
   "outputs": [
    {
     "name": "stdout",
     "output_type": "stream",
     "text": [
      "# Training MLP Network: Sizes=[3481, 5000, 2]\tEpochs=200\tBatch-Size=40\tLearning-Rate=0.5\n",
      " - Training Data Len: 10000\n",
      " - Validation Data Len: 800\n",
      "# Epochs:\n"
     ]
    },
    {
     "name": "stderr",
     "output_type": "stream",
     "text": [
      "  0%|          | 1/200 [00:30<1:41:10, 30.51s/it]"
     ]
    },
    {
     "name": "stdout",
     "output_type": "stream",
     "text": [
      "\t1. Correct 462/800\t(score: 0.5775\tdelta: 0.5775\tdelta_avg: 0.5775)\n"
     ]
    },
    {
     "name": "stderr",
     "output_type": "stream",
     "text": [
      "  1%|          | 2/200 [01:00<1:39:45, 30.23s/it]"
     ]
    },
    {
     "name": "stdout",
     "output_type": "stream",
     "text": [
      "\t2. Correct 543/800\t(score: 0.67875\tdelta: 0.10124999999999995\tdelta_avg: 0.339375)\n"
     ]
    },
    {
     "name": "stderr",
     "output_type": "stream",
     "text": [
      "  2%|▏         | 3/200 [01:28<1:35:31, 29.09s/it]"
     ]
    },
    {
     "name": "stdout",
     "output_type": "stream",
     "text": [
      "\t3. Correct 545/800\t(score: 0.68125\tdelta: 0.0025000000000000577\tdelta_avg: 0.22708333333333333)\n"
     ]
    },
    {
     "name": "stderr",
     "output_type": "stream",
     "text": [
      "  2%|▏         | 4/200 [01:57<1:34:54, 29.05s/it]"
     ]
    },
    {
     "name": "stdout",
     "output_type": "stream",
     "text": [
      "\t4. Correct 585/800\t(score: 0.73125\tdelta: 0.04999999999999993\tdelta_avg: 0.1828125)\n"
     ]
    },
    {
     "name": "stderr",
     "output_type": "stream",
     "text": [
      "  2%|▎         | 5/200 [02:26<1:34:45, 29.15s/it]"
     ]
    },
    {
     "name": "stdout",
     "output_type": "stream",
     "text": [
      "\t5. Correct 593/800\t(score: 0.74125\tdelta: 0.010000000000000009\tdelta_avg: 0.14825)\n"
     ]
    },
    {
     "name": "stderr",
     "output_type": "stream",
     "text": [
      "  3%|▎         | 6/200 [02:55<1:33:59, 29.07s/it]"
     ]
    },
    {
     "name": "stdout",
     "output_type": "stream",
     "text": [
      "\t6. Correct 608/800\t(score: 0.76\tdelta: 0.018750000000000044\tdelta_avg: 0.12666666666666668)\n"
     ]
    },
    {
     "name": "stderr",
     "output_type": "stream",
     "text": [
      "  4%|▎         | 7/200 [03:24<1:33:11, 28.97s/it]"
     ]
    },
    {
     "name": "stdout",
     "output_type": "stream",
     "text": [
      "\t7. Correct 614/800\t(score: 0.7675\tdelta: 0.007499999999999951\tdelta_avg: 0.10964285714285714)\n"
     ]
    },
    {
     "name": "stderr",
     "output_type": "stream",
     "text": [
      "  4%|▍         | 8/200 [03:53<1:32:30, 28.91s/it]"
     ]
    },
    {
     "name": "stdout",
     "output_type": "stream",
     "text": [
      "\t8. Correct 622/800\t(score: 0.7775\tdelta: 0.010000000000000009\tdelta_avg: 0.0971875)\n"
     ]
    },
    {
     "name": "stderr",
     "output_type": "stream",
     "text": [
      "  4%|▍         | 9/200 [04:22<1:32:20, 29.01s/it]"
     ]
    },
    {
     "name": "stdout",
     "output_type": "stream",
     "text": [
      "\t9. Correct 624/800\t(score: 0.78\tdelta: 0.0025000000000000577\tdelta_avg: 0.08666666666666667)\n"
     ]
    },
    {
     "name": "stderr",
     "output_type": "stream",
     "text": [
      "  5%|▌         | 10/200 [04:49<1:29:56, 28.40s/it]"
     ]
    },
    {
     "name": "stdout",
     "output_type": "stream",
     "text": [
      "\t10. Correct 632/800\t(score: 0.79\tdelta: 0.010000000000000009\tdelta_avg: 0.079)\n"
     ]
    },
    {
     "name": "stderr",
     "output_type": "stream",
     "text": [
      "  6%|▌         | 11/200 [05:16<1:27:58, 27.93s/it]"
     ]
    },
    {
     "name": "stdout",
     "output_type": "stream",
     "text": [
      "\t11. Correct 627/800\t(score: 0.78375\tdelta: -0.006250000000000089\tdelta_avg: 0.07125)\n"
     ]
    },
    {
     "name": "stderr",
     "output_type": "stream",
     "text": [
      "  6%|▌         | 12/200 [05:45<1:28:44, 28.32s/it]"
     ]
    },
    {
     "name": "stdout",
     "output_type": "stream",
     "text": [
      "\t12. Correct 622/800\t(score: 0.7775\tdelta: -0.006249999999999978\tdelta_avg: 0.06479166666666666)\n"
     ]
    },
    {
     "name": "stderr",
     "output_type": "stream",
     "text": [
      "  6%|▋         | 13/200 [06:12<1:27:21, 28.03s/it]"
     ]
    },
    {
     "name": "stdout",
     "output_type": "stream",
     "text": [
      "\t13. Correct 633/800\t(score: 0.79125\tdelta: 0.01375000000000004\tdelta_avg: 0.06086538461538461)\n"
     ]
    },
    {
     "name": "stderr",
     "output_type": "stream",
     "text": [
      "  7%|▋         | 14/200 [06:40<1:26:14, 27.82s/it]"
     ]
    },
    {
     "name": "stdout",
     "output_type": "stream",
     "text": [
      "\t14. Correct 628/800\t(score: 0.785\tdelta: -0.006249999999999978\tdelta_avg: 0.05607142857142857)\n"
     ]
    },
    {
     "name": "stderr",
     "output_type": "stream",
     "text": [
      "  8%|▊         | 15/200 [07:06<1:24:46, 27.50s/it]"
     ]
    },
    {
     "name": "stdout",
     "output_type": "stream",
     "text": [
      "\t15. Correct 637/800\t(score: 0.79625\tdelta: 0.011249999999999982\tdelta_avg: 0.05308333333333334)\n"
     ]
    },
    {
     "name": "stderr",
     "output_type": "stream",
     "text": [
      "  8%|▊         | 16/200 [07:33<1:23:45, 27.31s/it]"
     ]
    },
    {
     "name": "stdout",
     "output_type": "stream",
     "text": [
      "\t16. Correct 652/800\t(score: 0.815\tdelta: 0.018749999999999933\tdelta_avg: 0.0509375)\n"
     ]
    },
    {
     "name": "stderr",
     "output_type": "stream",
     "text": [
      "  8%|▊         | 17/200 [08:01<1:23:39, 27.43s/it]"
     ]
    },
    {
     "name": "stdout",
     "output_type": "stream",
     "text": [
      "\t17. Correct 643/800\t(score: 0.80375\tdelta: -0.011249999999999982\tdelta_avg: 0.04727941176470588)\n"
     ]
    },
    {
     "name": "stderr",
     "output_type": "stream",
     "text": [
      "  9%|▉         | 18/200 [08:28<1:22:51, 27.32s/it]"
     ]
    },
    {
     "name": "stdout",
     "output_type": "stream",
     "text": [
      "\t18. Correct 645/800\t(score: 0.80625\tdelta: 0.0025000000000000577\tdelta_avg: 0.04479166666666667)\n"
     ]
    },
    {
     "name": "stderr",
     "output_type": "stream",
     "text": [
      " 10%|▉         | 19/200 [08:55<1:22:10, 27.24s/it]"
     ]
    },
    {
     "name": "stdout",
     "output_type": "stream",
     "text": [
      "\t19. Correct 651/800\t(score: 0.81375\tdelta: 0.007499999999999951\tdelta_avg: 0.04282894736842105)\n"
     ]
    },
    {
     "name": "stderr",
     "output_type": "stream",
     "text": [
      " 10%|█         | 20/200 [09:22<1:21:17, 27.10s/it]"
     ]
    },
    {
     "name": "stdout",
     "output_type": "stream",
     "text": [
      "\t20. Correct 648/800\t(score: 0.81\tdelta: -0.00374999999999992\tdelta_avg: 0.0405)\n"
     ]
    },
    {
     "name": "stderr",
     "output_type": "stream",
     "text": [
      " 10%|█         | 21/200 [09:49<1:20:34, 27.01s/it]"
     ]
    },
    {
     "name": "stdout",
     "output_type": "stream",
     "text": [
      "\t21. Correct 649/800\t(score: 0.81125\tdelta: 0.0012499999999999734\tdelta_avg: 0.038630952380952384)\n"
     ]
    },
    {
     "name": "stderr",
     "output_type": "stream",
     "text": [
      " 11%|█         | 22/200 [10:15<1:19:53, 26.93s/it]"
     ]
    },
    {
     "name": "stdout",
     "output_type": "stream",
     "text": [
      "\t22. Correct 660/800\t(score: 0.825\tdelta: 0.013749999999999929\tdelta_avg: 0.0375)\n"
     ]
    },
    {
     "name": "stderr",
     "output_type": "stream",
     "text": [
      " 12%|█▏        | 23/200 [10:43<1:20:09, 27.18s/it]"
     ]
    },
    {
     "name": "stdout",
     "output_type": "stream",
     "text": [
      "\t23. Correct 641/800\t(score: 0.80125\tdelta: -0.023749999999999938\tdelta_avg: 0.03483695652173913)\n"
     ]
    },
    {
     "name": "stderr",
     "output_type": "stream",
     "text": [
      " 12%|█▏        | 24/200 [11:10<1:19:29, 27.10s/it]"
     ]
    },
    {
     "name": "stdout",
     "output_type": "stream",
     "text": [
      "\t24. Correct 664/800\t(score: 0.83\tdelta: 0.028749999999999942\tdelta_avg: 0.034583333333333334)\n"
     ]
    },
    {
     "name": "stderr",
     "output_type": "stream",
     "text": [
      " 12%|█▎        | 25/200 [11:37<1:18:53, 27.05s/it]"
     ]
    },
    {
     "name": "stdout",
     "output_type": "stream",
     "text": [
      "\t25. Correct 668/800\t(score: 0.835\tdelta: 0.0050000000000000044\tdelta_avg: 0.0334)\n"
     ]
    },
    {
     "name": "stderr",
     "output_type": "stream",
     "text": [
      " 13%|█▎        | 26/200 [12:04<1:18:19, 27.01s/it]"
     ]
    },
    {
     "name": "stdout",
     "output_type": "stream",
     "text": [
      "\t26. Correct 666/800\t(score: 0.8325\tdelta: -0.0024999999999999467\tdelta_avg: 0.03201923076923077)\n"
     ]
    },
    {
     "name": "stderr",
     "output_type": "stream",
     "text": [
      " 14%|█▎        | 27/200 [12:32<1:19:08, 27.45s/it]"
     ]
    },
    {
     "name": "stdout",
     "output_type": "stream",
     "text": [
      "\t27. Correct 666/800\t(score: 0.8325\tdelta: 0.0\tdelta_avg: 0.030833333333333334)\n"
     ]
    },
    {
     "name": "stderr",
     "output_type": "stream",
     "text": [
      " 14%|█▍        | 28/200 [13:02<1:20:11, 27.97s/it]"
     ]
    },
    {
     "name": "stdout",
     "output_type": "stream",
     "text": [
      "\t28. Correct 669/800\t(score: 0.83625\tdelta: 0.003750000000000031\tdelta_avg: 0.02986607142857143)\n"
     ]
    },
    {
     "name": "stderr",
     "output_type": "stream",
     "text": [
      " 14%|█▍        | 29/200 [13:33<1:22:42, 29.02s/it]"
     ]
    },
    {
     "name": "stdout",
     "output_type": "stream",
     "text": [
      "\t29. Correct 669/800\t(score: 0.83625\tdelta: 0.0\tdelta_avg: 0.028836206896551725)\n"
     ]
    },
    {
     "name": "stderr",
     "output_type": "stream",
     "text": [
      " 15%|█▌        | 30/200 [14:01<1:21:12, 28.66s/it]"
     ]
    },
    {
     "name": "stdout",
     "output_type": "stream",
     "text": [
      "\t30. Correct 653/800\t(score: 0.81625\tdelta: -0.020000000000000018\tdelta_avg: 0.027208333333333334)\n"
     ]
    },
    {
     "name": "stderr",
     "output_type": "stream",
     "text": [
      " 16%|█▌        | 31/200 [14:28<1:19:10, 28.11s/it]"
     ]
    },
    {
     "name": "stdout",
     "output_type": "stream",
     "text": [
      "\t31. Correct 677/800\t(score: 0.84625\tdelta: 0.029999999999999916\tdelta_avg: 0.027298387096774193)\n"
     ]
    },
    {
     "name": "stderr",
     "output_type": "stream",
     "text": [
      " 16%|█▌        | 32/200 [14:54<1:17:33, 27.70s/it]"
     ]
    },
    {
     "name": "stdout",
     "output_type": "stream",
     "text": [
      "\t32. Correct 680/800\t(score: 0.85\tdelta: 0.003750000000000031\tdelta_avg: 0.0265625)\n"
     ]
    },
    {
     "name": "stderr",
     "output_type": "stream",
     "text": [
      " 16%|█▋        | 33/200 [15:21<1:16:34, 27.51s/it]"
     ]
    },
    {
     "name": "stdout",
     "output_type": "stream",
     "text": [
      "\t33. Correct 668/800\t(score: 0.835\tdelta: -0.015000000000000013\tdelta_avg: 0.025303030303030303)\n"
     ]
    },
    {
     "name": "stderr",
     "output_type": "stream",
     "text": [
      " 17%|█▋        | 34/200 [15:50<1:17:07, 27.88s/it]"
     ]
    },
    {
     "name": "stdout",
     "output_type": "stream",
     "text": [
      "\t34. Correct 671/800\t(score: 0.83875\tdelta: 0.003750000000000031\tdelta_avg: 0.024669117647058824)\n"
     ]
    },
    {
     "name": "stderr",
     "output_type": "stream",
     "text": [
      " 18%|█▊        | 35/200 [16:17<1:16:00, 27.64s/it]"
     ]
    },
    {
     "name": "stdout",
     "output_type": "stream",
     "text": [
      "\t35. Correct 675/800\t(score: 0.84375\tdelta: 0.0050000000000000044\tdelta_avg: 0.024107142857142858)\n"
     ]
    },
    {
     "name": "stderr",
     "output_type": "stream",
     "text": [
      " 18%|█▊        | 36/200 [16:44<1:15:08, 27.49s/it]"
     ]
    },
    {
     "name": "stdout",
     "output_type": "stream",
     "text": [
      "\t36. Correct 676/800\t(score: 0.845\tdelta: 0.0012499999999999734\tdelta_avg: 0.02347222222222222)\n"
     ]
    },
    {
     "name": "stderr",
     "output_type": "stream",
     "text": [
      " 18%|█▊        | 37/200 [17:12<1:14:24, 27.39s/it]"
     ]
    },
    {
     "name": "stdout",
     "output_type": "stream",
     "text": [
      "\t37. Correct 669/800\t(score: 0.83625\tdelta: -0.008749999999999925\tdelta_avg: 0.022601351351351353)\n"
     ]
    },
    {
     "name": "stderr",
     "output_type": "stream",
     "text": [
      " 19%|█▉        | 38/200 [17:39<1:13:42, 27.30s/it]"
     ]
    },
    {
     "name": "stdout",
     "output_type": "stream",
     "text": [
      "\t38. Correct 664/800\t(score: 0.83\tdelta: -0.006250000000000089\tdelta_avg: 0.021842105263157895)\n"
     ]
    },
    {
     "name": "stderr",
     "output_type": "stream",
     "text": [
      " 20%|█▉        | 39/200 [18:09<1:15:26, 28.12s/it]"
     ]
    },
    {
     "name": "stdout",
     "output_type": "stream",
     "text": [
      "\t39. Correct 673/800\t(score: 0.84125\tdelta: 0.011250000000000093\tdelta_avg: 0.02157051282051282)\n"
     ]
    },
    {
     "name": "stderr",
     "output_type": "stream",
     "text": [
      " 20%|██        | 40/200 [18:36<1:14:02, 27.76s/it]"
     ]
    },
    {
     "name": "stdout",
     "output_type": "stream",
     "text": [
      "\t40. Correct 676/800\t(score: 0.845\tdelta: 0.00374999999999992\tdelta_avg: 0.021124999999999998)\n"
     ]
    },
    {
     "name": "stderr",
     "output_type": "stream",
     "text": [
      " 20%|██        | 41/200 [19:03<1:12:58, 27.54s/it]"
     ]
    },
    {
     "name": "stdout",
     "output_type": "stream",
     "text": [
      "\t41. Correct 665/800\t(score: 0.83125\tdelta: -0.013749999999999929\tdelta_avg: 0.02027439024390244)\n"
     ]
    },
    {
     "name": "stderr",
     "output_type": "stream",
     "text": [
      " 21%|██        | 42/200 [19:31<1:13:04, 27.75s/it]"
     ]
    },
    {
     "name": "stdout",
     "output_type": "stream",
     "text": [
      "\t42. Correct 668/800\t(score: 0.835\tdelta: 0.00374999999999992\tdelta_avg: 0.01988095238095238)\n"
     ]
    },
    {
     "name": "stderr",
     "output_type": "stream",
     "text": [
      " 22%|██▏       | 43/200 [19:58<1:11:55, 27.49s/it]"
     ]
    },
    {
     "name": "stdout",
     "output_type": "stream",
     "text": [
      "\t43. Correct 683/800\t(score: 0.85375\tdelta: 0.018750000000000044\tdelta_avg: 0.0198546511627907)\n"
     ]
    },
    {
     "name": "stderr",
     "output_type": "stream",
     "text": [
      " 22%|██▏       | 44/200 [20:25<1:11:00, 27.31s/it]"
     ]
    },
    {
     "name": "stdout",
     "output_type": "stream",
     "text": [
      "\t44. Correct 682/800\t(score: 0.8525\tdelta: -0.0012499999999999734\tdelta_avg: 0.019375)\n"
     ]
    },
    {
     "name": "stderr",
     "output_type": "stream",
     "text": [
      " 22%|██▎       | 45/200 [20:52<1:10:18, 27.22s/it]"
     ]
    },
    {
     "name": "stdout",
     "output_type": "stream",
     "text": [
      "\t45. Correct 674/800\t(score: 0.8425\tdelta: -0.010000000000000009\tdelta_avg: 0.018722222222222223)\n"
     ]
    },
    {
     "name": "stderr",
     "output_type": "stream",
     "text": [
      " 23%|██▎       | 46/200 [21:19<1:10:12, 27.35s/it]"
     ]
    },
    {
     "name": "stdout",
     "output_type": "stream",
     "text": [
      "\t46. Correct 662/800\t(score: 0.8275\tdelta: -0.015000000000000013\tdelta_avg: 0.017989130434782608)\n"
     ]
    },
    {
     "name": "stderr",
     "output_type": "stream",
     "text": [
      " 24%|██▎       | 47/200 [21:47<1:09:51, 27.39s/it]"
     ]
    },
    {
     "name": "stdout",
     "output_type": "stream",
     "text": [
      "\t47. Correct 681/800\t(score: 0.85125\tdelta: 0.023749999999999938\tdelta_avg: 0.018111702127659574)\n"
     ]
    },
    {
     "name": "stderr",
     "output_type": "stream",
     "text": [
      " 24%|██▍       | 48/200 [22:14<1:08:59, 27.23s/it]"
     ]
    },
    {
     "name": "stdout",
     "output_type": "stream",
     "text": [
      "\t48. Correct 684/800\t(score: 0.855\tdelta: 0.003750000000000031\tdelta_avg: 0.0178125)\n"
     ]
    },
    {
     "name": "stderr",
     "output_type": "stream",
     "text": [
      " 24%|██▍       | 49/200 [22:41<1:08:47, 27.34s/it]"
     ]
    },
    {
     "name": "stdout",
     "output_type": "stream",
     "text": [
      "\t49. Correct 677/800\t(score: 0.84625\tdelta: -0.008750000000000036\tdelta_avg: 0.017270408163265305)\n"
     ]
    },
    {
     "name": "stderr",
     "output_type": "stream",
     "text": [
      " 25%|██▌       | 50/200 [23:09<1:08:45, 27.50s/it]"
     ]
    },
    {
     "name": "stdout",
     "output_type": "stream",
     "text": [
      "\t50. Correct 679/800\t(score: 0.84875\tdelta: 0.0025000000000000577\tdelta_avg: 0.016975)\n"
     ]
    },
    {
     "name": "stderr",
     "output_type": "stream",
     "text": [
      " 26%|██▌       | 51/200 [23:37<1:08:42, 27.67s/it]"
     ]
    },
    {
     "name": "stdout",
     "output_type": "stream",
     "text": [
      "\t51. Correct 677/800\t(score: 0.84625\tdelta: -0.0025000000000000577\tdelta_avg: 0.016593137254901958)\n"
     ]
    },
    {
     "name": "stderr",
     "output_type": "stream",
     "text": [
      " 26%|██▌       | 52/200 [24:05<1:08:11, 27.64s/it]"
     ]
    },
    {
     "name": "stdout",
     "output_type": "stream",
     "text": [
      "\t52. Correct 682/800\t(score: 0.8525\tdelta: 0.006250000000000089\tdelta_avg: 0.01639423076923077)\n"
     ]
    },
    {
     "name": "stderr",
     "output_type": "stream",
     "text": [
      " 26%|██▋       | 53/200 [24:34<1:09:00, 28.17s/it]"
     ]
    },
    {
     "name": "stdout",
     "output_type": "stream",
     "text": [
      "\t53. Correct 685/800\t(score: 0.85625\tdelta: 0.00374999999999992\tdelta_avg: 0.01615566037735849)\n"
     ]
    },
    {
     "name": "stderr",
     "output_type": "stream",
     "text": [
      " 27%|██▋       | 54/200 [25:02<1:08:05, 27.99s/it]"
     ]
    },
    {
     "name": "stdout",
     "output_type": "stream",
     "text": [
      "\t54. Correct 675/800\t(score: 0.84375\tdelta: -0.012499999999999956\tdelta_avg: 0.015625)\n"
     ]
    },
    {
     "name": "stderr",
     "output_type": "stream",
     "text": [
      " 28%|██▊       | 55/200 [25:29<1:06:46, 27.63s/it]"
     ]
    },
    {
     "name": "stdout",
     "output_type": "stream",
     "text": [
      "\t55. Correct 687/800\t(score: 0.85875\tdelta: 0.015000000000000013\tdelta_avg: 0.015613636363636364)\n"
     ]
    },
    {
     "name": "stderr",
     "output_type": "stream",
     "text": [
      " 28%|██▊       | 56/200 [25:55<1:05:41, 27.37s/it]"
     ]
    },
    {
     "name": "stdout",
     "output_type": "stream",
     "text": [
      "\t56. Correct 672/800\t(score: 0.84\tdelta: -0.018750000000000044\tdelta_avg: 0.015)\n"
     ]
    },
    {
     "name": "stderr",
     "output_type": "stream",
     "text": [
      " 28%|██▊       | 57/200 [26:22<1:04:59, 27.27s/it]"
     ]
    },
    {
     "name": "stdout",
     "output_type": "stream",
     "text": [
      "\t57. Correct 676/800\t(score: 0.845\tdelta: 0.0050000000000000044\tdelta_avg: 0.014824561403508772)\n"
     ]
    },
    {
     "name": "stderr",
     "output_type": "stream",
     "text": [
      " 29%|██▉       | 58/200 [26:49<1:04:18, 27.18s/it]"
     ]
    },
    {
     "name": "stdout",
     "output_type": "stream",
     "text": [
      "\t58. Correct 684/800\t(score: 0.855\tdelta: 0.010000000000000009\tdelta_avg: 0.014741379310344827)\n"
     ]
    },
    {
     "name": "stderr",
     "output_type": "stream",
     "text": [
      " 30%|██▉       | 59/200 [27:16<1:03:33, 27.05s/it]"
     ]
    },
    {
     "name": "stdout",
     "output_type": "stream",
     "text": [
      "\t59. Correct 687/800\t(score: 0.85875\tdelta: 0.003750000000000031\tdelta_avg: 0.014555084745762711)\n"
     ]
    },
    {
     "name": "stderr",
     "output_type": "stream",
     "text": [
      " 30%|███       | 60/200 [27:43<1:02:54, 26.96s/it]"
     ]
    },
    {
     "name": "stdout",
     "output_type": "stream",
     "text": [
      "\t60. Correct 682/800\t(score: 0.8525\tdelta: -0.006249999999999978\tdelta_avg: 0.014208333333333333)\n"
     ]
    },
    {
     "name": "stderr",
     "output_type": "stream",
     "text": [
      " 30%|███       | 61/200 [28:11<1:03:13, 27.29s/it]"
     ]
    },
    {
     "name": "stdout",
     "output_type": "stream",
     "text": [
      "\t61. Correct 680/800\t(score: 0.85\tdelta: -0.0025000000000000577\tdelta_avg: 0.013934426229508197)\n"
     ]
    },
    {
     "name": "stderr",
     "output_type": "stream",
     "text": [
      " 31%|███       | 62/200 [28:38<1:02:32, 27.19s/it]"
     ]
    },
    {
     "name": "stdout",
     "output_type": "stream",
     "text": [
      "\t62. Correct 680/800\t(score: 0.85\tdelta: 0.0\tdelta_avg: 0.013709677419354839)\n"
     ]
    },
    {
     "name": "stderr",
     "output_type": "stream",
     "text": [
      " 32%|███▏      | 63/200 [29:05<1:02:17, 27.28s/it]"
     ]
    },
    {
     "name": "stdout",
     "output_type": "stream",
     "text": [
      "\t63. Correct 680/800\t(score: 0.85\tdelta: 0.0\tdelta_avg: 0.013492063492063491)\n"
     ]
    },
    {
     "name": "stderr",
     "output_type": "stream",
     "text": [
      " 32%|███▏      | 64/200 [29:32<1:01:33, 27.16s/it]"
     ]
    },
    {
     "name": "stdout",
     "output_type": "stream",
     "text": [
      "\t64. Correct 672/800\t(score: 0.84\tdelta: -0.010000000000000009\tdelta_avg: 0.013125)\n"
     ]
    },
    {
     "name": "stderr",
     "output_type": "stream",
     "text": [
      " 32%|███▎      | 65/200 [29:59<1:00:54, 27.07s/it]"
     ]
    },
    {
     "name": "stdout",
     "output_type": "stream",
     "text": [
      "\t65. Correct 680/800\t(score: 0.85\tdelta: 0.010000000000000009\tdelta_avg: 0.013076923076923076)\n"
     ]
    },
    {
     "name": "stderr",
     "output_type": "stream",
     "text": [
      " 33%|███▎      | 66/200 [30:26<1:00:18, 27.00s/it]"
     ]
    },
    {
     "name": "stdout",
     "output_type": "stream",
     "text": [
      "\t66. Correct 694/800\t(score: 0.8675\tdelta: 0.01750000000000007\tdelta_avg: 0.013143939393939395)\n"
     ]
    },
    {
     "name": "stderr",
     "output_type": "stream",
     "text": [
      " 34%|███▎      | 67/200 [30:53<59:46, 26.96s/it]  "
     ]
    },
    {
     "name": "stdout",
     "output_type": "stream",
     "text": [
      "\t67. Correct 680/800\t(score: 0.85\tdelta: -0.01750000000000007\tdelta_avg: 0.012686567164179104)\n"
     ]
    },
    {
     "name": "stderr",
     "output_type": "stream",
     "text": [
      " 34%|███▍      | 68/200 [31:20<59:16, 26.94s/it]"
     ]
    },
    {
     "name": "stdout",
     "output_type": "stream",
     "text": [
      "\t68. Correct 680/800\t(score: 0.85\tdelta: 0.0\tdelta_avg: 0.012499999999999999)\n"
     ]
    },
    {
     "name": "stderr",
     "output_type": "stream",
     "text": [
      " 34%|███▍      | 69/200 [31:47<58:46, 26.92s/it]"
     ]
    },
    {
     "name": "stdout",
     "output_type": "stream",
     "text": [
      "\t69. Correct 678/800\t(score: 0.8475\tdelta: -0.0024999999999999467\tdelta_avg: 0.012282608695652175)\n"
     ]
    },
    {
     "name": "stderr",
     "output_type": "stream",
     "text": [
      " 35%|███▌      | 70/200 [32:13<58:17, 26.90s/it]"
     ]
    },
    {
     "name": "stdout",
     "output_type": "stream",
     "text": [
      "\t70. Correct 687/800\t(score: 0.85875\tdelta: 0.011249999999999982\tdelta_avg: 0.012267857142857143)\n"
     ]
    },
    {
     "name": "stderr",
     "output_type": "stream",
     "text": [
      " 36%|███▌      | 71/200 [32:40<57:48, 26.89s/it]"
     ]
    },
    {
     "name": "stdout",
     "output_type": "stream",
     "text": [
      "\t71. Correct 680/800\t(score: 0.85\tdelta: -0.008750000000000036\tdelta_avg: 0.011971830985915493)\n"
     ]
    },
    {
     "name": "stderr",
     "output_type": "stream",
     "text": [
      " 36%|███▌      | 72/200 [33:07<57:20, 26.88s/it]"
     ]
    },
    {
     "name": "stdout",
     "output_type": "stream",
     "text": [
      "\t72. Correct 681/800\t(score: 0.85125\tdelta: 0.0012499999999999734\tdelta_avg: 0.011822916666666666)\n"
     ]
    },
    {
     "name": "stderr",
     "output_type": "stream",
     "text": [
      " 36%|███▋      | 73/200 [33:34<56:55, 26.89s/it]"
     ]
    },
    {
     "name": "stdout",
     "output_type": "stream",
     "text": [
      "\t73. Correct 678/800\t(score: 0.8475\tdelta: -0.00374999999999992\tdelta_avg: 0.01160958904109589)\n"
     ]
    },
    {
     "name": "stderr",
     "output_type": "stream",
     "text": [
      " 37%|███▋      | 74/200 [34:01<56:27, 26.88s/it]"
     ]
    },
    {
     "name": "stdout",
     "output_type": "stream",
     "text": [
      "\t74. Correct 686/800\t(score: 0.8575\tdelta: 0.010000000000000009\tdelta_avg: 0.01158783783783784)\n"
     ]
    },
    {
     "name": "stderr",
     "output_type": "stream",
     "text": [
      " 38%|███▊      | 75/200 [34:28<55:59, 26.88s/it]"
     ]
    },
    {
     "name": "stdout",
     "output_type": "stream",
     "text": [
      "\t75. Correct 681/800\t(score: 0.85125\tdelta: -0.006250000000000089\tdelta_avg: 0.011349999999999999)\n"
     ]
    },
    {
     "name": "stderr",
     "output_type": "stream",
     "text": [
      " 38%|███▊      | 76/200 [34:55<55:32, 26.87s/it]"
     ]
    },
    {
     "name": "stdout",
     "output_type": "stream",
     "text": [
      "\t76. Correct 681/800\t(score: 0.85125\tdelta: 0.0\tdelta_avg: 0.011200657894736841)\n"
     ]
    },
    {
     "name": "stderr",
     "output_type": "stream",
     "text": [
      " 38%|███▊      | 77/200 [35:21<55:04, 26.87s/it]"
     ]
    },
    {
     "name": "stdout",
     "output_type": "stream",
     "text": [
      "\t77. Correct 678/800\t(score: 0.8475\tdelta: -0.00374999999999992\tdelta_avg: 0.011006493506493508)\n"
     ]
    },
    {
     "name": "stderr",
     "output_type": "stream",
     "text": [
      " 39%|███▉      | 78/200 [35:48<54:37, 26.87s/it]"
     ]
    },
    {
     "name": "stdout",
     "output_type": "stream",
     "text": [
      "\t78. Correct 681/800\t(score: 0.85125\tdelta: 0.00374999999999992\tdelta_avg: 0.010913461538461539)\n"
     ]
    },
    {
     "name": "stderr",
     "output_type": "stream",
     "text": [
      " 40%|███▉      | 79/200 [36:15<54:11, 26.87s/it]"
     ]
    },
    {
     "name": "stdout",
     "output_type": "stream",
     "text": [
      "\t79. Correct 676/800\t(score: 0.845\tdelta: -0.006249999999999978\tdelta_avg: 0.01069620253164557)\n"
     ]
    },
    {
     "name": "stderr",
     "output_type": "stream",
     "text": [
      " 40%|████      | 80/200 [36:42<53:44, 26.87s/it]"
     ]
    },
    {
     "name": "stdout",
     "output_type": "stream",
     "text": [
      "\t80. Correct 680/800\t(score: 0.85\tdelta: 0.0050000000000000044\tdelta_avg: 0.010624999999999999)\n"
     ]
    },
    {
     "name": "stderr",
     "output_type": "stream",
     "text": [
      " 40%|████      | 81/200 [37:09<53:19, 26.88s/it]"
     ]
    },
    {
     "name": "stdout",
     "output_type": "stream",
     "text": [
      "\t81. Correct 681/800\t(score: 0.85125\tdelta: 0.0012499999999999734\tdelta_avg: 0.010509259259259258)\n"
     ]
    },
    {
     "name": "stderr",
     "output_type": "stream",
     "text": [
      " 41%|████      | 82/200 [37:36<52:51, 26.88s/it]"
     ]
    },
    {
     "name": "stdout",
     "output_type": "stream",
     "text": [
      "\t82. Correct 676/800\t(score: 0.845\tdelta: -0.006249999999999978\tdelta_avg: 0.010304878048780488)\n"
     ]
    },
    {
     "name": "stderr",
     "output_type": "stream",
     "text": [
      " 42%|████▏     | 83/200 [38:03<52:24, 26.88s/it]"
     ]
    },
    {
     "name": "stdout",
     "output_type": "stream",
     "text": [
      "\t83. Correct 672/800\t(score: 0.84\tdelta: -0.0050000000000000044\tdelta_avg: 0.010120481927710843)\n"
     ]
    },
    {
     "name": "stderr",
     "output_type": "stream",
     "text": [
      " 42%|████▏     | 84/200 [38:30<51:57, 26.88s/it]"
     ]
    },
    {
     "name": "stdout",
     "output_type": "stream",
     "text": [
      "\t84. Correct 679/800\t(score: 0.84875\tdelta: 0.008750000000000036\tdelta_avg: 0.010104166666666668)\n"
     ]
    },
    {
     "name": "stderr",
     "output_type": "stream",
     "text": [
      " 42%|████▎     | 85/200 [38:57<51:30, 26.88s/it]"
     ]
    },
    {
     "name": "stdout",
     "output_type": "stream",
     "text": [
      "\t85. Correct 680/800\t(score: 0.85\tdelta: 0.0012499999999999734\tdelta_avg: 0.01)\n"
     ]
    },
    {
     "name": "stderr",
     "output_type": "stream",
     "text": [
      " 43%|████▎     | 86/200 [39:23<51:03, 26.87s/it]"
     ]
    },
    {
     "name": "stdout",
     "output_type": "stream",
     "text": [
      "\t86. Correct 677/800\t(score: 0.84625\tdelta: -0.003750000000000031\tdelta_avg: 0.009840116279069767)\n"
     ]
    },
    {
     "name": "stderr",
     "output_type": "stream",
     "text": [
      " 44%|████▎     | 87/200 [39:50<50:35, 26.87s/it]"
     ]
    },
    {
     "name": "stdout",
     "output_type": "stream",
     "text": [
      "\t87. Correct 677/800\t(score: 0.84625\tdelta: 0.0\tdelta_avg: 0.009727011494252874)\n"
     ]
    },
    {
     "name": "stderr",
     "output_type": "stream",
     "text": [
      " 44%|████▍     | 88/200 [40:17<50:08, 26.86s/it]"
     ]
    },
    {
     "name": "stdout",
     "output_type": "stream",
     "text": [
      "\t88. Correct 673/800\t(score: 0.84125\tdelta: -0.004999999999999893\tdelta_avg: 0.009559659090909091)\n"
     ]
    },
    {
     "name": "stderr",
     "output_type": "stream",
     "text": [
      " 44%|████▍     | 89/200 [40:44<49:41, 26.86s/it]"
     ]
    },
    {
     "name": "stdout",
     "output_type": "stream",
     "text": [
      "\t89. Correct 676/800\t(score: 0.845\tdelta: 0.00374999999999992\tdelta_avg: 0.00949438202247191)\n"
     ]
    },
    {
     "name": "stderr",
     "output_type": "stream",
     "text": [
      " 45%|████▌     | 90/200 [41:11<49:14, 26.85s/it]"
     ]
    },
    {
     "name": "stdout",
     "output_type": "stream",
     "text": [
      "\t90. Correct 688/800\t(score: 0.86\tdelta: 0.015000000000000013\tdelta_avg: 0.009555555555555555)\n"
     ]
    },
    {
     "name": "stderr",
     "output_type": "stream",
     "text": [
      " 46%|████▌     | 91/200 [41:38<48:47, 26.85s/it]"
     ]
    },
    {
     "name": "stdout",
     "output_type": "stream",
     "text": [
      "\t91. Correct 682/800\t(score: 0.8525\tdelta: -0.007499999999999951\tdelta_avg: 0.009368131868131869)\n"
     ]
    },
    {
     "name": "stderr",
     "output_type": "stream",
     "text": [
      " 46%|████▌     | 92/200 [42:04<48:20, 26.86s/it]"
     ]
    },
    {
     "name": "stdout",
     "output_type": "stream",
     "text": [
      "\t92. Correct 687/800\t(score: 0.85875\tdelta: 0.006249999999999978\tdelta_avg: 0.009334239130434782)\n"
     ]
    },
    {
     "name": "stderr",
     "output_type": "stream",
     "text": [
      " 46%|████▋     | 93/200 [42:31<47:54, 26.86s/it]"
     ]
    },
    {
     "name": "stdout",
     "output_type": "stream",
     "text": [
      "\t93. Correct 687/800\t(score: 0.85875\tdelta: 0.0\tdelta_avg: 0.009233870967741935)\n"
     ]
    },
    {
     "name": "stderr",
     "output_type": "stream",
     "text": [
      " 47%|████▋     | 94/200 [42:58<47:27, 26.86s/it]"
     ]
    },
    {
     "name": "stdout",
     "output_type": "stream",
     "text": [
      "\t94. Correct 681/800\t(score: 0.85125\tdelta: -0.007500000000000062\tdelta_avg: 0.009055851063829787)\n"
     ]
    },
    {
     "name": "stderr",
     "output_type": "stream",
     "text": [
      " 48%|████▊     | 95/200 [43:26<47:13, 26.99s/it]"
     ]
    },
    {
     "name": "stdout",
     "output_type": "stream",
     "text": [
      "\t95. Correct 678/800\t(score: 0.8475\tdelta: -0.00374999999999992\tdelta_avg: 0.008921052631578948)\n"
     ]
    },
    {
     "name": "stderr",
     "output_type": "stream",
     "text": [
      " 48%|████▊     | 96/200 [43:51<46:00, 26.55s/it]"
     ]
    },
    {
     "name": "stdout",
     "output_type": "stream",
     "text": [
      "\t96. Correct 686/800\t(score: 0.8575\tdelta: 0.010000000000000009\tdelta_avg: 0.008932291666666667)\n"
     ]
    },
    {
     "name": "stderr",
     "output_type": "stream",
     "text": [
      " 48%|████▊     | 97/200 [44:17<45:02, 26.24s/it]"
     ]
    },
    {
     "name": "stdout",
     "output_type": "stream",
     "text": [
      "\t97. Correct 685/800\t(score: 0.85625\tdelta: -0.0012500000000000844\tdelta_avg: 0.008827319587628866)\n"
     ]
    },
    {
     "name": "stderr",
     "output_type": "stream",
     "text": [
      " 49%|████▉     | 98/200 [44:42<44:13, 26.02s/it]"
     ]
    },
    {
     "name": "stdout",
     "output_type": "stream",
     "text": [
      "\t98. Correct 682/800\t(score: 0.8525\tdelta: -0.00374999999999992\tdelta_avg: 0.008698979591836735)\n"
     ]
    },
    {
     "name": "stderr",
     "output_type": "stream",
     "text": [
      " 50%|████▉     | 99/200 [45:08<43:32, 25.86s/it]"
     ]
    },
    {
     "name": "stdout",
     "output_type": "stream",
     "text": [
      "\t99. Correct 682/800\t(score: 0.8525\tdelta: 0.0\tdelta_avg: 0.008611111111111111)\n"
     ]
    },
    {
     "name": "stderr",
     "output_type": "stream",
     "text": [
      " 50%|█████     | 100/200 [45:33<42:55, 25.76s/it]"
     ]
    },
    {
     "name": "stdout",
     "output_type": "stream",
     "text": [
      "\t100. Correct 682/800\t(score: 0.8525\tdelta: 0.0\tdelta_avg: 0.008525)\n"
     ]
    },
    {
     "name": "stderr",
     "output_type": "stream",
     "text": [
      " 50%|█████     | 101/200 [45:59<42:22, 25.68s/it]"
     ]
    },
    {
     "name": "stdout",
     "output_type": "stream",
     "text": [
      "\t101. Correct 682/800\t(score: 0.8525\tdelta: 0.0\tdelta_avg: 0.008440594059405941)\n"
     ]
    },
    {
     "name": "stderr",
     "output_type": "stream",
     "text": [
      " 51%|█████     | 102/200 [46:24<41:51, 25.63s/it]"
     ]
    },
    {
     "name": "stdout",
     "output_type": "stream",
     "text": [
      "\t102. Correct 680/800\t(score: 0.85\tdelta: -0.0025000000000000577\tdelta_avg: 0.008333333333333333)\n"
     ]
    },
    {
     "name": "stderr",
     "output_type": "stream",
     "text": [
      " 52%|█████▏    | 103/200 [46:52<42:41, 26.41s/it]"
     ]
    },
    {
     "name": "stdout",
     "output_type": "stream",
     "text": [
      "\t103. Correct 684/800\t(score: 0.855\tdelta: 0.0050000000000000044\tdelta_avg: 0.008300970873786407)\n"
     ]
    },
    {
     "name": "stderr",
     "output_type": "stream",
     "text": [
      " 52%|█████▏    | 104/200 [47:21<43:16, 27.05s/it]"
     ]
    },
    {
     "name": "stdout",
     "output_type": "stream",
     "text": [
      "\t104. Correct 685/800\t(score: 0.85625\tdelta: 0.0012499999999999734\tdelta_avg: 0.008233173076923077)\n"
     ]
    },
    {
     "name": "stderr",
     "output_type": "stream",
     "text": [
      " 52%|█████▎    | 105/200 [47:48<42:51, 27.07s/it]"
     ]
    },
    {
     "name": "stdout",
     "output_type": "stream",
     "text": [
      "\t105. Correct 684/800\t(score: 0.855\tdelta: -0.0012499999999999734\tdelta_avg: 0.008142857142857143)\n"
     ]
    },
    {
     "name": "stderr",
     "output_type": "stream",
     "text": [
      " 53%|█████▎    | 106/200 [48:15<42:22, 27.05s/it]"
     ]
    },
    {
     "name": "stdout",
     "output_type": "stream",
     "text": [
      "\t106. Correct 684/800\t(score: 0.855\tdelta: 0.0\tdelta_avg: 0.008066037735849057)\n"
     ]
    },
    {
     "name": "stderr",
     "output_type": "stream",
     "text": [
      " 54%|█████▎    | 107/200 [48:43<42:15, 27.26s/it]"
     ]
    },
    {
     "name": "stdout",
     "output_type": "stream",
     "text": [
      "\t107. Correct 685/800\t(score: 0.85625\tdelta: 0.0012499999999999734\tdelta_avg: 0.00800233644859813)\n"
     ]
    },
    {
     "name": "stderr",
     "output_type": "stream",
     "text": [
      " 54%|█████▍    | 108/200 [49:15<43:55, 28.65s/it]"
     ]
    },
    {
     "name": "stdout",
     "output_type": "stream",
     "text": [
      "\t108. Correct 685/800\t(score: 0.85625\tdelta: 0.0\tdelta_avg: 0.007928240740740741)\n"
     ]
    },
    {
     "name": "stderr",
     "output_type": "stream",
     "text": [
      " 55%|█████▍    | 109/200 [49:48<45:27, 29.97s/it]"
     ]
    },
    {
     "name": "stdout",
     "output_type": "stream",
     "text": [
      "\t109. Correct 684/800\t(score: 0.855\tdelta: -0.0012499999999999734\tdelta_avg: 0.007844036697247706)\n"
     ]
    },
    {
     "name": "stderr",
     "output_type": "stream",
     "text": [
      " 55%|█████▌    | 110/200 [50:18<45:08, 30.09s/it]"
     ]
    },
    {
     "name": "stdout",
     "output_type": "stream",
     "text": [
      "\t110. Correct 684/800\t(score: 0.855\tdelta: 0.0\tdelta_avg: 0.007772727272727272)\n"
     ]
    },
    {
     "name": "stderr",
     "output_type": "stream",
     "text": [
      " 56%|█████▌    | 111/200 [50:46<43:43, 29.48s/it]"
     ]
    },
    {
     "name": "stdout",
     "output_type": "stream",
     "text": [
      "\t111. Correct 684/800\t(score: 0.855\tdelta: 0.0\tdelta_avg: 0.007702702702702703)\n"
     ]
    },
    {
     "name": "stderr",
     "output_type": "stream",
     "text": [
      " 56%|█████▌    | 112/200 [51:14<42:42, 29.11s/it]"
     ]
    },
    {
     "name": "stdout",
     "output_type": "stream",
     "text": [
      "\t112. Correct 685/800\t(score: 0.85625\tdelta: 0.0012499999999999734\tdelta_avg: 0.0076450892857142854)\n"
     ]
    },
    {
     "name": "stderr",
     "output_type": "stream",
     "text": [
      " 56%|█████▋    | 113/200 [51:43<41:48, 28.84s/it]"
     ]
    },
    {
     "name": "stdout",
     "output_type": "stream",
     "text": [
      "\t113. Correct 685/800\t(score: 0.85625\tdelta: 0.0\tdelta_avg: 0.0075774336283185835)\n"
     ]
    },
    {
     "name": "stderr",
     "output_type": "stream",
     "text": [
      " 57%|█████▋    | 114/200 [52:12<41:43, 29.11s/it]"
     ]
    },
    {
     "name": "stdout",
     "output_type": "stream",
     "text": [
      "\t114. Correct 685/800\t(score: 0.85625\tdelta: 0.0\tdelta_avg: 0.007510964912280702)\n"
     ]
    },
    {
     "name": "stderr",
     "output_type": "stream",
     "text": [
      " 57%|█████▊    | 115/200 [52:44<42:08, 29.75s/it]"
     ]
    },
    {
     "name": "stdout",
     "output_type": "stream",
     "text": [
      "\t115. Correct 686/800\t(score: 0.8575\tdelta: 0.0012500000000000844\tdelta_avg: 0.0074565217391304355)\n"
     ]
    },
    {
     "name": "stderr",
     "output_type": "stream",
     "text": [
      " 58%|█████▊    | 116/200 [53:12<41:08, 29.39s/it]"
     ]
    },
    {
     "name": "stdout",
     "output_type": "stream",
     "text": [
      "\t116. Correct 687/800\t(score: 0.85875\tdelta: 0.0012499999999999734\tdelta_avg: 0.00740301724137931)\n"
     ]
    },
    {
     "name": "stderr",
     "output_type": "stream",
     "text": [
      " 58%|█████▊    | 117/200 [53:44<41:31, 30.02s/it]"
     ]
    },
    {
     "name": "stdout",
     "output_type": "stream",
     "text": [
      "\t117. Correct 687/800\t(score: 0.85875\tdelta: 0.0\tdelta_avg: 0.00733974358974359)\n"
     ]
    },
    {
     "name": "stderr",
     "output_type": "stream",
     "text": [
      " 59%|█████▉    | 118/200 [54:15<41:40, 30.50s/it]"
     ]
    },
    {
     "name": "stdout",
     "output_type": "stream",
     "text": [
      "\t118. Correct 687/800\t(score: 0.85875\tdelta: 0.0\tdelta_avg: 0.007277542372881356)\n"
     ]
    },
    {
     "name": "stderr",
     "output_type": "stream",
     "text": [
      " 60%|█████▉    | 119/200 [54:43<40:05, 29.69s/it]"
     ]
    },
    {
     "name": "stdout",
     "output_type": "stream",
     "text": [
      "\t119. Correct 687/800\t(score: 0.85875\tdelta: 0.0\tdelta_avg: 0.007216386554621848)\n"
     ]
    },
    {
     "name": "stderr",
     "output_type": "stream",
     "text": [
      " 60%|██████    | 120/200 [55:12<39:25, 29.57s/it]"
     ]
    },
    {
     "name": "stdout",
     "output_type": "stream",
     "text": [
      "\t120. Correct 687/800\t(score: 0.85875\tdelta: 0.0\tdelta_avg: 0.00715625)\n"
     ]
    },
    {
     "name": "stderr",
     "output_type": "stream",
     "text": [
      " 60%|██████    | 121/200 [55:42<39:06, 29.71s/it]"
     ]
    },
    {
     "name": "stdout",
     "output_type": "stream",
     "text": [
      "\t121. Correct 687/800\t(score: 0.85875\tdelta: 0.0\tdelta_avg: 0.007097107438016529)\n"
     ]
    },
    {
     "name": "stderr",
     "output_type": "stream",
     "text": [
      " 61%|██████    | 122/200 [56:10<38:01, 29.25s/it]"
     ]
    },
    {
     "name": "stdout",
     "output_type": "stream",
     "text": [
      "\t122. Correct 689/800\t(score: 0.86125\tdelta: 0.0024999999999999467\tdelta_avg: 0.007059426229508196)\n"
     ]
    },
    {
     "name": "stderr",
     "output_type": "stream",
     "text": [
      " 62%|██████▏   | 123/200 [56:38<36:59, 28.83s/it]"
     ]
    },
    {
     "name": "stdout",
     "output_type": "stream",
     "text": [
      "\t123. Correct 688/800\t(score: 0.86\tdelta: -0.0012499999999999734\tdelta_avg: 0.0069918699186991866)\n"
     ]
    },
    {
     "name": "stderr",
     "output_type": "stream",
     "text": [
      " 62%|██████▏   | 124/200 [57:07<36:17, 28.65s/it]"
     ]
    },
    {
     "name": "stdout",
     "output_type": "stream",
     "text": [
      "\t124. Correct 688/800\t(score: 0.86\tdelta: 0.0\tdelta_avg: 0.006935483870967742)\n"
     ]
    },
    {
     "name": "stderr",
     "output_type": "stream",
     "text": [
      " 62%|██████▎   | 125/200 [57:34<35:30, 28.40s/it]"
     ]
    },
    {
     "name": "stdout",
     "output_type": "stream",
     "text": [
      "\t125. Correct 688/800\t(score: 0.86\tdelta: 0.0\tdelta_avg: 0.00688)\n"
     ]
    },
    {
     "name": "stderr",
     "output_type": "stream",
     "text": [
      " 63%|██████▎   | 126/200 [58:02<34:51, 28.26s/it]"
     ]
    },
    {
     "name": "stdout",
     "output_type": "stream",
     "text": [
      "\t126. Correct 688/800\t(score: 0.86\tdelta: 0.0\tdelta_avg: 0.006825396825396826)\n"
     ]
    },
    {
     "name": "stderr",
     "output_type": "stream",
     "text": [
      " 64%|██████▎   | 127/200 [58:32<34:50, 28.63s/it]"
     ]
    },
    {
     "name": "stdout",
     "output_type": "stream",
     "text": [
      "\t127. Correct 688/800\t(score: 0.86\tdelta: 0.0\tdelta_avg: 0.006771653543307087)\n"
     ]
    },
    {
     "name": "stderr",
     "output_type": "stream",
     "text": [
      " 64%|██████▍   | 128/200 [59:02<34:57, 29.13s/it]"
     ]
    },
    {
     "name": "stdout",
     "output_type": "stream",
     "text": [
      "\t128. Correct 688/800\t(score: 0.86\tdelta: 0.0\tdelta_avg: 0.00671875)\n"
     ]
    },
    {
     "name": "stderr",
     "output_type": "stream",
     "text": [
      " 64%|██████▍   | 129/200 [59:30<33:52, 28.62s/it]"
     ]
    },
    {
     "name": "stdout",
     "output_type": "stream",
     "text": [
      "\t129. Correct 688/800\t(score: 0.86\tdelta: 0.0\tdelta_avg: 0.006666666666666666)\n"
     ]
    },
    {
     "name": "stderr",
     "output_type": "stream",
     "text": [
      " 65%|██████▌   | 130/200 [59:57<33:00, 28.29s/it]"
     ]
    },
    {
     "name": "stdout",
     "output_type": "stream",
     "text": [
      "\t130. Correct 687/800\t(score: 0.85875\tdelta: -0.0012499999999999734\tdelta_avg: 0.006605769230769231)\n"
     ]
    },
    {
     "name": "stderr",
     "output_type": "stream",
     "text": [
      " 66%|██████▌   | 131/200 [1:00:24<32:13, 28.03s/it]"
     ]
    },
    {
     "name": "stdout",
     "output_type": "stream",
     "text": [
      "\t131. Correct 688/800\t(score: 0.86\tdelta: 0.0012499999999999734\tdelta_avg: 0.006564885496183206)\n"
     ]
    },
    {
     "name": "stderr",
     "output_type": "stream",
     "text": [
      " 66%|██████▌   | 132/200 [1:00:52<31:33, 27.85s/it]"
     ]
    },
    {
     "name": "stdout",
     "output_type": "stream",
     "text": [
      "\t132. Correct 688/800\t(score: 0.86\tdelta: 0.0\tdelta_avg: 0.0065151515151515155)\n"
     ]
    },
    {
     "name": "stderr",
     "output_type": "stream",
     "text": [
      " 66%|██████▋   | 133/200 [1:01:20<31:14, 27.98s/it]"
     ]
    },
    {
     "name": "stdout",
     "output_type": "stream",
     "text": [
      "\t133. Correct 688/800\t(score: 0.86\tdelta: 0.0\tdelta_avg: 0.006466165413533834)\n"
     ]
    },
    {
     "name": "stderr",
     "output_type": "stream",
     "text": [
      " 67%|██████▋   | 134/200 [1:01:48<30:36, 27.83s/it]"
     ]
    },
    {
     "name": "stdout",
     "output_type": "stream",
     "text": [
      "\t134. Correct 688/800\t(score: 0.86\tdelta: 0.0\tdelta_avg: 0.006417910447761194)\n"
     ]
    },
    {
     "name": "stderr",
     "output_type": "stream",
     "text": [
      " 68%|██████▊   | 135/200 [1:02:15<30:03, 27.74s/it]"
     ]
    },
    {
     "name": "stdout",
     "output_type": "stream",
     "text": [
      "\t135. Correct 688/800\t(score: 0.86\tdelta: 0.0\tdelta_avg: 0.00637037037037037)\n"
     ]
    },
    {
     "name": "stderr",
     "output_type": "stream",
     "text": [
      " 68%|██████▊   | 136/200 [1:02:43<29:30, 27.67s/it]"
     ]
    },
    {
     "name": "stdout",
     "output_type": "stream",
     "text": [
      "\t136. Correct 688/800\t(score: 0.86\tdelta: 0.0\tdelta_avg: 0.006323529411764706)\n"
     ]
    },
    {
     "name": "stderr",
     "output_type": "stream",
     "text": [
      " 68%|██████▊   | 137/200 [1:03:10<28:59, 27.61s/it]"
     ]
    },
    {
     "name": "stdout",
     "output_type": "stream",
     "text": [
      "\t137. Correct 688/800\t(score: 0.86\tdelta: 0.0\tdelta_avg: 0.006277372262773723)\n"
     ]
    },
    {
     "name": "stderr",
     "output_type": "stream",
     "text": [
      " 69%|██████▉   | 138/200 [1:03:38<28:27, 27.55s/it]"
     ]
    },
    {
     "name": "stdout",
     "output_type": "stream",
     "text": [
      "\t138. Correct 688/800\t(score: 0.86\tdelta: 0.0\tdelta_avg: 0.006231884057971014)\n"
     ]
    },
    {
     "name": "stderr",
     "output_type": "stream",
     "text": [
      " 70%|██████▉   | 139/200 [1:04:05<27:58, 27.52s/it]"
     ]
    },
    {
     "name": "stdout",
     "output_type": "stream",
     "text": [
      "\t139. Correct 688/800\t(score: 0.86\tdelta: 0.0\tdelta_avg: 0.00618705035971223)\n"
     ]
    },
    {
     "name": "stderr",
     "output_type": "stream",
     "text": [
      " 70%|███████   | 140/200 [1:04:32<27:29, 27.49s/it]"
     ]
    },
    {
     "name": "stdout",
     "output_type": "stream",
     "text": [
      "\t140. Correct 688/800\t(score: 0.86\tdelta: 0.0\tdelta_avg: 0.006142857142857143)\n"
     ]
    },
    {
     "name": "stderr",
     "output_type": "stream",
     "text": [
      " 70%|███████   | 141/200 [1:05:00<27:03, 27.52s/it]"
     ]
    },
    {
     "name": "stdout",
     "output_type": "stream",
     "text": [
      "\t141. Correct 688/800\t(score: 0.86\tdelta: 0.0\tdelta_avg: 0.006099290780141844)\n"
     ]
    },
    {
     "name": "stderr",
     "output_type": "stream",
     "text": [
      " 71%|███████   | 142/200 [1:05:27<26:34, 27.49s/it]"
     ]
    },
    {
     "name": "stdout",
     "output_type": "stream",
     "text": [
      "\t142. Correct 688/800\t(score: 0.86\tdelta: 0.0\tdelta_avg: 0.006056338028169014)\n"
     ]
    },
    {
     "name": "stderr",
     "output_type": "stream",
     "text": [
      " 72%|███████▏  | 143/200 [1:05:56<26:22, 27.77s/it]"
     ]
    },
    {
     "name": "stdout",
     "output_type": "stream",
     "text": [
      "\t143. Correct 688/800\t(score: 0.86\tdelta: 0.0\tdelta_avg: 0.0060139860139860135)\n"
     ]
    },
    {
     "name": "stderr",
     "output_type": "stream",
     "text": [
      " 72%|███████▏  | 144/200 [1:06:25<26:11, 28.06s/it]"
     ]
    },
    {
     "name": "stdout",
     "output_type": "stream",
     "text": [
      "\t144. Correct 690/800\t(score: 0.8625\tdelta: 0.0025000000000000577\tdelta_avg: 0.005989583333333334)\n"
     ]
    },
    {
     "name": "stderr",
     "output_type": "stream",
     "text": [
      " 72%|███████▎  | 145/200 [1:06:53<25:42, 28.04s/it]"
     ]
    },
    {
     "name": "stdout",
     "output_type": "stream",
     "text": [
      "\t145. Correct 686/800\t(score: 0.8575\tdelta: -0.0050000000000000044\tdelta_avg: 0.0059137931034482765)\n"
     ]
    },
    {
     "name": "stderr",
     "output_type": "stream",
     "text": [
      " 73%|███████▎  | 146/200 [1:07:20<25:06, 27.90s/it]"
     ]
    },
    {
     "name": "stdout",
     "output_type": "stream",
     "text": [
      "\t146. Correct 688/800\t(score: 0.86\tdelta: 0.0024999999999999467\tdelta_avg: 0.005890410958904109)\n"
     ]
    },
    {
     "name": "stderr",
     "output_type": "stream",
     "text": [
      " 74%|███████▎  | 147/200 [1:07:49<24:50, 28.12s/it]"
     ]
    },
    {
     "name": "stdout",
     "output_type": "stream",
     "text": [
      "\t147. Correct 690/800\t(score: 0.8625\tdelta: 0.0025000000000000577\tdelta_avg: 0.00586734693877551)\n"
     ]
    },
    {
     "name": "stderr",
     "output_type": "stream",
     "text": [
      " 74%|███████▍  | 148/200 [1:08:17<24:24, 28.16s/it]"
     ]
    },
    {
     "name": "stdout",
     "output_type": "stream",
     "text": [
      "\t148. Correct 689/800\t(score: 0.86125\tdelta: -0.0012500000000000844\tdelta_avg: 0.005819256756756756)\n"
     ]
    },
    {
     "name": "stderr",
     "output_type": "stream",
     "text": [
      " 74%|███████▍  | 149/200 [1:08:45<23:52, 28.10s/it]"
     ]
    },
    {
     "name": "stdout",
     "output_type": "stream",
     "text": [
      "\t149. Correct 688/800\t(score: 0.86\tdelta: -0.0012499999999999734\tdelta_avg: 0.0057718120805369125)\n"
     ]
    },
    {
     "name": "stderr",
     "output_type": "stream",
     "text": [
      " 75%|███████▌  | 150/200 [1:09:13<23:20, 28.01s/it]"
     ]
    },
    {
     "name": "stdout",
     "output_type": "stream",
     "text": [
      "\t150. Correct 689/800\t(score: 0.86125\tdelta: 0.0012499999999999734\tdelta_avg: 0.005741666666666667)\n"
     ]
    },
    {
     "name": "stderr",
     "output_type": "stream",
     "text": [
      " 76%|███████▌  | 151/200 [1:09:43<23:23, 28.65s/it]"
     ]
    },
    {
     "name": "stdout",
     "output_type": "stream",
     "text": [
      "\t151. Correct 689/800\t(score: 0.86125\tdelta: 0.0\tdelta_avg: 0.00570364238410596)\n"
     ]
    },
    {
     "name": "stderr",
     "output_type": "stream",
     "text": [
      " 76%|███████▌  | 152/200 [1:10:13<23:17, 29.11s/it]"
     ]
    },
    {
     "name": "stdout",
     "output_type": "stream",
     "text": [
      "\t152. Correct 688/800\t(score: 0.86\tdelta: -0.0012499999999999734\tdelta_avg: 0.005657894736842105)\n"
     ]
    },
    {
     "name": "stderr",
     "output_type": "stream",
     "text": [
      " 76%|███████▋  | 153/200 [1:10:42<22:48, 29.11s/it]"
     ]
    },
    {
     "name": "stdout",
     "output_type": "stream",
     "text": [
      "\t153. Correct 689/800\t(score: 0.86125\tdelta: 0.0012499999999999734\tdelta_avg: 0.0056290849673202616)\n"
     ]
    },
    {
     "name": "stderr",
     "output_type": "stream",
     "text": [
      " 77%|███████▋  | 154/200 [1:11:13<22:45, 29.68s/it]"
     ]
    },
    {
     "name": "stdout",
     "output_type": "stream",
     "text": [
      "\t154. Correct 689/800\t(score: 0.86125\tdelta: 0.0\tdelta_avg: 0.0055925324675324675)\n"
     ]
    },
    {
     "name": "stderr",
     "output_type": "stream",
     "text": [
      " 78%|███████▊  | 155/200 [1:11:43<22:14, 29.65s/it]"
     ]
    },
    {
     "name": "stdout",
     "output_type": "stream",
     "text": [
      "\t155. Correct 690/800\t(score: 0.8625\tdelta: 0.0012500000000000844\tdelta_avg: 0.005564516129032258)\n"
     ]
    },
    {
     "name": "stderr",
     "output_type": "stream",
     "text": [
      " 78%|███████▊  | 156/200 [1:12:11<21:30, 29.32s/it]"
     ]
    },
    {
     "name": "stdout",
     "output_type": "stream",
     "text": [
      "\t156. Correct 690/800\t(score: 0.8625\tdelta: 0.0\tdelta_avg: 0.005528846153846154)\n"
     ]
    },
    {
     "name": "stderr",
     "output_type": "stream",
     "text": [
      " 78%|███████▊  | 157/200 [1:12:40<20:55, 29.19s/it]"
     ]
    },
    {
     "name": "stdout",
     "output_type": "stream",
     "text": [
      "\t157. Correct 690/800\t(score: 0.8625\tdelta: 0.0\tdelta_avg: 0.005493630573248408)\n"
     ]
    },
    {
     "name": "stderr",
     "output_type": "stream",
     "text": [
      " 79%|███████▉  | 158/200 [1:13:08<20:09, 28.81s/it]"
     ]
    },
    {
     "name": "stdout",
     "output_type": "stream",
     "text": [
      "\t158. Correct 690/800\t(score: 0.8625\tdelta: 0.0\tdelta_avg: 0.005458860759493671)\n"
     ]
    },
    {
     "name": "stderr",
     "output_type": "stream",
     "text": [
      " 80%|███████▉  | 159/200 [1:13:36<19:30, 28.54s/it]"
     ]
    },
    {
     "name": "stdout",
     "output_type": "stream",
     "text": [
      "\t159. Correct 690/800\t(score: 0.8625\tdelta: 0.0\tdelta_avg: 0.005424528301886793)\n"
     ]
    },
    {
     "name": "stderr",
     "output_type": "stream",
     "text": [
      " 80%|████████  | 160/200 [1:14:05<19:06, 28.67s/it]"
     ]
    },
    {
     "name": "stdout",
     "output_type": "stream",
     "text": [
      "\t160. Correct 689/800\t(score: 0.86125\tdelta: -0.0012500000000000844\tdelta_avg: 0.0053828125)\n"
     ]
    },
    {
     "name": "stderr",
     "output_type": "stream",
     "text": [
      " 80%|████████  | 161/200 [1:14:33<18:34, 28.58s/it]"
     ]
    },
    {
     "name": "stdout",
     "output_type": "stream",
     "text": [
      "\t161. Correct 689/800\t(score: 0.86125\tdelta: 0.0\tdelta_avg: 0.005349378881987578)\n"
     ]
    },
    {
     "name": "stderr",
     "output_type": "stream",
     "text": [
      " 81%|████████  | 162/200 [1:15:02<18:04, 28.54s/it]"
     ]
    },
    {
     "name": "stdout",
     "output_type": "stream",
     "text": [
      "\t162. Correct 689/800\t(score: 0.86125\tdelta: 0.0\tdelta_avg: 0.005316358024691358)\n"
     ]
    },
    {
     "name": "stderr",
     "output_type": "stream",
     "text": [
      " 82%|████████▏ | 163/200 [1:15:30<17:34, 28.49s/it]"
     ]
    },
    {
     "name": "stdout",
     "output_type": "stream",
     "text": [
      "\t163. Correct 689/800\t(score: 0.86125\tdelta: 0.0\tdelta_avg: 0.005283742331288343)\n"
     ]
    },
    {
     "name": "stderr",
     "output_type": "stream",
     "text": [
      " 82%|████████▏ | 164/200 [1:15:59<17:03, 28.44s/it]"
     ]
    },
    {
     "name": "stdout",
     "output_type": "stream",
     "text": [
      "\t164. Correct 689/800\t(score: 0.86125\tdelta: 0.0\tdelta_avg: 0.005251524390243902)\n"
     ]
    },
    {
     "name": "stderr",
     "output_type": "stream",
     "text": [
      " 82%|████████▎ | 165/200 [1:16:27<16:33, 28.40s/it]"
     ]
    },
    {
     "name": "stdout",
     "output_type": "stream",
     "text": [
      "\t165. Correct 689/800\t(score: 0.86125\tdelta: 0.0\tdelta_avg: 0.00521969696969697)\n"
     ]
    },
    {
     "name": "stderr",
     "output_type": "stream",
     "text": [
      " 83%|████████▎ | 166/200 [1:16:55<16:05, 28.39s/it]"
     ]
    },
    {
     "name": "stdout",
     "output_type": "stream",
     "text": [
      "\t166. Correct 689/800\t(score: 0.86125\tdelta: 0.0\tdelta_avg: 0.005188253012048193)\n"
     ]
    },
    {
     "name": "stderr",
     "output_type": "stream",
     "text": [
      " 84%|████████▎ | 167/200 [1:17:24<15:36, 28.38s/it]"
     ]
    },
    {
     "name": "stdout",
     "output_type": "stream",
     "text": [
      "\t167. Correct 689/800\t(score: 0.86125\tdelta: 0.0\tdelta_avg: 0.0051571856287425145)\n"
     ]
    },
    {
     "name": "stderr",
     "output_type": "stream",
     "text": [
      " 84%|████████▍ | 168/200 [1:17:52<15:08, 28.38s/it]"
     ]
    },
    {
     "name": "stdout",
     "output_type": "stream",
     "text": [
      "\t168. Correct 689/800\t(score: 0.86125\tdelta: 0.0\tdelta_avg: 0.005126488095238095)\n"
     ]
    },
    {
     "name": "stderr",
     "output_type": "stream",
     "text": [
      " 84%|████████▍ | 169/200 [1:18:20<14:39, 28.37s/it]"
     ]
    },
    {
     "name": "stdout",
     "output_type": "stream",
     "text": [
      "\t169. Correct 689/800\t(score: 0.86125\tdelta: 0.0\tdelta_avg: 0.005096153846153846)\n"
     ]
    },
    {
     "name": "stderr",
     "output_type": "stream",
     "text": [
      " 85%|████████▌ | 170/200 [1:18:49<14:10, 28.36s/it]"
     ]
    },
    {
     "name": "stdout",
     "output_type": "stream",
     "text": [
      "\t170. Correct 689/800\t(score: 0.86125\tdelta: 0.0\tdelta_avg: 0.005066176470588235)\n"
     ]
    },
    {
     "name": "stderr",
     "output_type": "stream",
     "text": [
      " 86%|████████▌ | 171/200 [1:19:17<13:42, 28.35s/it]"
     ]
    },
    {
     "name": "stdout",
     "output_type": "stream",
     "text": [
      "\t171. Correct 689/800\t(score: 0.86125\tdelta: 0.0\tdelta_avg: 0.005036549707602339)\n"
     ]
    },
    {
     "name": "stderr",
     "output_type": "stream",
     "text": [
      " 86%|████████▌ | 172/200 [1:19:45<13:13, 28.35s/it]"
     ]
    },
    {
     "name": "stdout",
     "output_type": "stream",
     "text": [
      "\t172. Correct 689/800\t(score: 0.86125\tdelta: 0.0\tdelta_avg: 0.005007267441860465)\n"
     ]
    },
    {
     "name": "stderr",
     "output_type": "stream",
     "text": [
      " 86%|████████▋ | 173/200 [1:20:14<12:46, 28.39s/it]"
     ]
    },
    {
     "name": "stdout",
     "output_type": "stream",
     "text": [
      "\t173. Correct 689/800\t(score: 0.86125\tdelta: 0.0\tdelta_avg: 0.004978323699421965)\n"
     ]
    },
    {
     "name": "stderr",
     "output_type": "stream",
     "text": [
      " 87%|████████▋ | 174/200 [1:20:42<12:17, 28.37s/it]"
     ]
    },
    {
     "name": "stdout",
     "output_type": "stream",
     "text": [
      "\t174. Correct 689/800\t(score: 0.86125\tdelta: 0.0\tdelta_avg: 0.0049497126436781605)\n"
     ]
    },
    {
     "name": "stderr",
     "output_type": "stream",
     "text": [
      " 88%|████████▊ | 175/200 [1:21:11<11:48, 28.36s/it]"
     ]
    },
    {
     "name": "stdout",
     "output_type": "stream",
     "text": [
      "\t175. Correct 689/800\t(score: 0.86125\tdelta: 0.0\tdelta_avg: 0.004921428571428571)\n"
     ]
    },
    {
     "name": "stderr",
     "output_type": "stream",
     "text": [
      " 88%|████████▊ | 176/200 [1:21:39<11:20, 28.35s/it]"
     ]
    },
    {
     "name": "stdout",
     "output_type": "stream",
     "text": [
      "\t176. Correct 689/800\t(score: 0.86125\tdelta: 0.0\tdelta_avg: 0.004893465909090909)\n"
     ]
    },
    {
     "name": "stderr",
     "output_type": "stream",
     "text": [
      " 88%|████████▊ | 177/200 [1:22:07<10:51, 28.34s/it]"
     ]
    },
    {
     "name": "stdout",
     "output_type": "stream",
     "text": [
      "\t177. Correct 689/800\t(score: 0.86125\tdelta: 0.0\tdelta_avg: 0.004865819209039548)\n"
     ]
    },
    {
     "name": "stderr",
     "output_type": "stream",
     "text": [
      " 89%|████████▉ | 178/200 [1:22:35<10:23, 28.33s/it]"
     ]
    },
    {
     "name": "stdout",
     "output_type": "stream",
     "text": [
      "\t178. Correct 689/800\t(score: 0.86125\tdelta: 0.0\tdelta_avg: 0.004838483146067415)\n"
     ]
    },
    {
     "name": "stderr",
     "output_type": "stream",
     "text": [
      " 90%|████████▉ | 179/200 [1:23:04<09:55, 28.34s/it]"
     ]
    },
    {
     "name": "stdout",
     "output_type": "stream",
     "text": [
      "\t179. Correct 689/800\t(score: 0.86125\tdelta: 0.0\tdelta_avg: 0.00481145251396648)\n"
     ]
    },
    {
     "name": "stderr",
     "output_type": "stream",
     "text": [
      " 90%|█████████ | 180/200 [1:23:32<09:26, 28.33s/it]"
     ]
    },
    {
     "name": "stdout",
     "output_type": "stream",
     "text": [
      "\t180. Correct 689/800\t(score: 0.86125\tdelta: 0.0\tdelta_avg: 0.004784722222222222)\n"
     ]
    },
    {
     "name": "stderr",
     "output_type": "stream",
     "text": [
      " 90%|█████████ | 181/200 [1:24:00<08:58, 28.34s/it]"
     ]
    },
    {
     "name": "stdout",
     "output_type": "stream",
     "text": [
      "\t181. Correct 689/800\t(score: 0.86125\tdelta: 0.0\tdelta_avg: 0.00475828729281768)\n"
     ]
    },
    {
     "name": "stderr",
     "output_type": "stream",
     "text": [
      " 91%|█████████ | 182/200 [1:24:29<08:29, 28.33s/it]"
     ]
    },
    {
     "name": "stdout",
     "output_type": "stream",
     "text": [
      "\t182. Correct 689/800\t(score: 0.86125\tdelta: 0.0\tdelta_avg: 0.004732142857142857)\n"
     ]
    },
    {
     "name": "stderr",
     "output_type": "stream",
     "text": [
      " 92%|█████████▏| 183/200 [1:24:58<08:05, 28.56s/it]"
     ]
    },
    {
     "name": "stdout",
     "output_type": "stream",
     "text": [
      "\t183. Correct 689/800\t(score: 0.86125\tdelta: 0.0\tdelta_avg: 0.004706284153005464)\n"
     ]
    },
    {
     "name": "stderr",
     "output_type": "stream",
     "text": [
      " 92%|█████████▏| 184/200 [1:25:26<07:36, 28.51s/it]"
     ]
    },
    {
     "name": "stdout",
     "output_type": "stream",
     "text": [
      "\t184. Correct 689/800\t(score: 0.86125\tdelta: 0.0\tdelta_avg: 0.00468070652173913)\n"
     ]
    },
    {
     "name": "stderr",
     "output_type": "stream",
     "text": [
      " 92%|█████████▎| 185/200 [1:25:55<07:06, 28.45s/it]"
     ]
    },
    {
     "name": "stdout",
     "output_type": "stream",
     "text": [
      "\t185. Correct 689/800\t(score: 0.86125\tdelta: 0.0\tdelta_avg: 0.004655405405405405)\n"
     ]
    },
    {
     "name": "stderr",
     "output_type": "stream",
     "text": [
      " 93%|█████████▎| 186/200 [1:26:23<06:38, 28.44s/it]"
     ]
    },
    {
     "name": "stdout",
     "output_type": "stream",
     "text": [
      "\t186. Correct 689/800\t(score: 0.86125\tdelta: 0.0\tdelta_avg: 0.004630376344086021)\n"
     ]
    },
    {
     "name": "stderr",
     "output_type": "stream",
     "text": [
      " 94%|█████████▎| 187/200 [1:26:51<06:09, 28.41s/it]"
     ]
    },
    {
     "name": "stdout",
     "output_type": "stream",
     "text": [
      "\t187. Correct 688/800\t(score: 0.86\tdelta: -0.0012499999999999734\tdelta_avg: 0.004598930481283422)\n"
     ]
    },
    {
     "name": "stderr",
     "output_type": "stream",
     "text": [
      " 94%|█████████▍| 188/200 [1:27:20<05:40, 28.39s/it]"
     ]
    },
    {
     "name": "stdout",
     "output_type": "stream",
     "text": [
      "\t188. Correct 688/800\t(score: 0.86\tdelta: 0.0\tdelta_avg: 0.004574468085106383)\n"
     ]
    },
    {
     "name": "stderr",
     "output_type": "stream",
     "text": [
      " 94%|█████████▍| 189/200 [1:27:48<05:12, 28.37s/it]"
     ]
    },
    {
     "name": "stdout",
     "output_type": "stream",
     "text": [
      "\t189. Correct 688/800\t(score: 0.86\tdelta: 0.0\tdelta_avg: 0.00455026455026455)\n"
     ]
    },
    {
     "name": "stderr",
     "output_type": "stream",
     "text": [
      " 95%|█████████▌| 190/200 [1:28:16<04:43, 28.36s/it]"
     ]
    },
    {
     "name": "stdout",
     "output_type": "stream",
     "text": [
      "\t190. Correct 688/800\t(score: 0.86\tdelta: 0.0\tdelta_avg: 0.004526315789473684)\n"
     ]
    },
    {
     "name": "stderr",
     "output_type": "stream",
     "text": [
      " 96%|█████████▌| 191/200 [1:28:45<04:15, 28.38s/it]"
     ]
    },
    {
     "name": "stdout",
     "output_type": "stream",
     "text": [
      "\t191. Correct 688/800\t(score: 0.86\tdelta: 0.0\tdelta_avg: 0.0045026178010471206)\n"
     ]
    },
    {
     "name": "stderr",
     "output_type": "stream",
     "text": [
      " 96%|█████████▌| 192/200 [1:29:14<03:48, 28.55s/it]"
     ]
    },
    {
     "name": "stdout",
     "output_type": "stream",
     "text": [
      "\t192. Correct 688/800\t(score: 0.86\tdelta: 0.0\tdelta_avg: 0.004479166666666667)\n"
     ]
    },
    {
     "name": "stderr",
     "output_type": "stream",
     "text": [
      " 96%|█████████▋| 193/200 [1:29:40<03:14, 27.82s/it]"
     ]
    },
    {
     "name": "stdout",
     "output_type": "stream",
     "text": [
      "\t193. Correct 688/800\t(score: 0.86\tdelta: 0.0\tdelta_avg: 0.004455958549222798)\n"
     ]
    },
    {
     "name": "stderr",
     "output_type": "stream",
     "text": [
      " 97%|█████████▋| 194/200 [1:30:06<02:43, 27.33s/it]"
     ]
    },
    {
     "name": "stdout",
     "output_type": "stream",
     "text": [
      "\t194. Correct 688/800\t(score: 0.86\tdelta: 0.0\tdelta_avg: 0.004432989690721649)\n"
     ]
    },
    {
     "name": "stderr",
     "output_type": "stream",
     "text": [
      " 98%|█████████▊| 195/200 [1:30:32<02:14, 26.97s/it]"
     ]
    },
    {
     "name": "stdout",
     "output_type": "stream",
     "text": [
      "\t195. Correct 688/800\t(score: 0.86\tdelta: 0.0\tdelta_avg: 0.00441025641025641)\n"
     ]
    },
    {
     "name": "stderr",
     "output_type": "stream",
     "text": [
      " 98%|█████████▊| 196/200 [1:30:58<01:46, 26.72s/it]"
     ]
    },
    {
     "name": "stdout",
     "output_type": "stream",
     "text": [
      "\t196. Correct 688/800\t(score: 0.86\tdelta: 0.0\tdelta_avg: 0.004387755102040816)\n"
     ]
    },
    {
     "name": "stderr",
     "output_type": "stream",
     "text": [
      " 98%|█████████▊| 197/200 [1:31:24<01:19, 26.54s/it]"
     ]
    },
    {
     "name": "stdout",
     "output_type": "stream",
     "text": [
      "\t197. Correct 688/800\t(score: 0.86\tdelta: 0.0\tdelta_avg: 0.004365482233502538)\n"
     ]
    },
    {
     "name": "stderr",
     "output_type": "stream",
     "text": [
      " 99%|█████████▉| 198/200 [1:31:51<00:52, 26.41s/it]"
     ]
    },
    {
     "name": "stdout",
     "output_type": "stream",
     "text": [
      "\t198. Correct 688/800\t(score: 0.86\tdelta: 0.0\tdelta_avg: 0.004343434343434344)\n"
     ]
    },
    {
     "name": "stderr",
     "output_type": "stream",
     "text": [
      "100%|█████████▉| 199/200 [1:32:17<00:26, 26.32s/it]"
     ]
    },
    {
     "name": "stdout",
     "output_type": "stream",
     "text": [
      "\t199. Correct 688/800\t(score: 0.86\tdelta: 0.0\tdelta_avg: 0.004321608040201005)\n"
     ]
    },
    {
     "name": "stderr",
     "output_type": "stream",
     "text": [
      "100%|██████████| 200/200 [1:32:43<00:00, 27.82s/it]"
     ]
    },
    {
     "name": "stdout",
     "output_type": "stream",
     "text": [
      "\t200. Correct 689/800\t(score: 0.86125\tdelta: 0.0012499999999999734\tdelta_avg: 0.00430625)\n",
      "Converged in 200 epochs with accuracy 0.86125 took 5563.27 sec\n"
     ]
    },
    {
     "name": "stderr",
     "output_type": "stream",
     "text": [
      "\n"
     ]
    },
    {
     "data": {
      "image/png": "[encoded data removed]",
      "text/plain": [
       "<Figure size 1008x432 with 1 Axes>"
      ]
     },
     "metadata": {
      "needs_background": "light"
     },
     "output_type": "display_data"
    },
    {
     "name": "stdout",
     "output_type": "stream",
     "text": [
      "Overall Testing Accuracy: 0.8487903225806451\n",
      "Class 0 Testing Accuracy: 0.862475442043222\n",
      "Class 1 Testing Accuracy: 0.8343685300207039\n"
     ]
    }
   ],
   "source": [
    "\"\"\"\n",
    "Plot the convergence curve of BPNN\n",
    "\"\"\"\n",
    "\n",
    "training_data, validation_data, testing_data, ndimen = get_data()\n",
    "\n",
    "nn = BPNN([ndimen, 5000, 2], verbose=True)\n",
    "final_score, eval_scores, eval_scores_deltas, nn_conv_time = nn.train(training_data,\n",
    "                                                                      max_epochs=200,\n",
    "                                                                      batch_size=40,\n",
    "                                                                      learning_rate=0.5,\n",
    "                                                                      evaluation_data=validation_data,\n",
    "                                                                      evaluation_treshold=None)\n",
    "\n",
    "fig = plt.figure(figsize=(14, 6))\n",
    "\n",
    "plt.title(f\"Training Epoch vs. Accuracy with (Final Model)\")\n",
    "plt.xlabel(\"Epoch\")\n",
    "plt.ylabel('Accuracy')\n",
    "\n",
    "plt.plot(eval_scores, label='Convergence Curve')\n",
    "\n",
    "plt.grid()\n",
    "plt.legend()\n",
    "plt.show()\n",
    "fig.savefig(f'img/bpnn_best_model', dpi=100)\n"
   ]
  },
  {
   "cell_type": "code",
   "execution_count": 40,
   "metadata": {},
   "outputs": [],
   "source": [
    "import gzip\n",
    "\n",
    "# make directory to save generated images to\n",
    "os.makedirs('models', exist_ok=True)\n",
    "\n",
    "def save_best_model():\n",
    "    # Save the best BPNN model to a pickle file\n",
    "    with gzip.open('models/bpnn_best_model.pkl.gzip', 'wb') as f:\n",
    "        pickle.dump(nn, f)\n",
    "    \n",
    "def save_testing_pred(data):\n",
    "    # Tuples (X, y, y_pred)\n",
    "    \n",
    "    new_data = []\n",
    "    for (x, y) in data:\n",
    "        decision = np.argmax(nn.feedforward(x))\n",
    "        new_data.append((x, y, decision))\n",
    "        \n",
    "    with gzip.open('models/bpnn_testing_pred.pkl.gzip', 'wb') as f:\n",
    "        pickle.dump(new_data, f)\n",
    "\n",
    "\n",
    "training_data, validation_data, testing_data, ndimen = get_data()\n",
    "save_best_model()\n",
    "save_testing_pred(testing_data)\n"
   ]
  },
  {
   "cell_type": "code",
   "execution_count": 42,
   "metadata": {},
   "outputs": [
    {
     "ename": "FileNotFoundError",
     "evalue": "[Errno 2] No such file or directory: 'datasets/face_mask_pickled/dataset_gray_conv.pkl.gzip'",
     "output_type": "error",
     "traceback": [
      "\u001b[0;31m---------------------------------------------------------------------------\u001b[0m",
      "\u001b[0;31mFileNotFoundError\u001b[0m                         Traceback (most recent call last)",
      "\u001b[0;32m/tmp/ipykernel_400367/2889670597.py\u001b[0m in \u001b[0;36m<module>\u001b[0;34m\u001b[0m\n\u001b[1;32m     33\u001b[0m \u001b[0;34m\u001b[0m\u001b[0m\n\u001b[1;32m     34\u001b[0m \u001b[0;34m\u001b[0m\u001b[0m\n\u001b[0;32m---> 35\u001b[0;31m \u001b[0mtraining_data\u001b[0m\u001b[0;34m,\u001b[0m \u001b[0mvalidation_data\u001b[0m\u001b[0;34m,\u001b[0m \u001b[0mtesting_data\u001b[0m\u001b[0;34m,\u001b[0m \u001b[0mndimen\u001b[0m \u001b[0;34m=\u001b[0m \u001b[0mget_data\u001b[0m\u001b[0;34m(\u001b[0m\u001b[0;34m)\u001b[0m\u001b[0;34m\u001b[0m\u001b[0;34m\u001b[0m\u001b[0m\n\u001b[0m\u001b[1;32m     36\u001b[0m \u001b[0;34m\u001b[0m\u001b[0m\n\u001b[1;32m     37\u001b[0m \u001b[0;34m\u001b[0m\u001b[0m\n",
      "\u001b[0;32m/tmp/ipykernel_400367/1501754029.py\u001b[0m in \u001b[0;36mget_data\u001b[0;34m()\u001b[0m\n\u001b[1;32m      8\u001b[0m \u001b[0;34m\u001b[0m\u001b[0m\n\u001b[1;32m      9\u001b[0m \u001b[0;32mdef\u001b[0m \u001b[0mget_data\u001b[0m\u001b[0;34m(\u001b[0m\u001b[0;34m)\u001b[0m\u001b[0;34m:\u001b[0m\u001b[0;34m\u001b[0m\u001b[0;34m\u001b[0m\u001b[0m\n\u001b[0;32m---> 10\u001b[0;31m     \u001b[0md\u001b[0m \u001b[0;34m=\u001b[0m \u001b[0mDataset\u001b[0m\u001b[0;34m.\u001b[0m\u001b[0mload_gzip\u001b[0m\u001b[0;34m(\u001b[0m\u001b[0mos\u001b[0m\u001b[0;34m.\u001b[0m\u001b[0mpath\u001b[0m\u001b[0;34m.\u001b[0m\u001b[0mjoin\u001b[0m\u001b[0;34m(\u001b[0m\u001b[0;34m\"datasets\"\u001b[0m\u001b[0;34m,\u001b[0m \u001b[0;34m\"face_mask_pickled\"\u001b[0m\u001b[0;34m)\u001b[0m\u001b[0;34m,\u001b[0m \u001b[0;34m\"dataset_gray_conv.pkl.gzip\"\u001b[0m\u001b[0;34m)\u001b[0m\u001b[0;34m\u001b[0m\u001b[0;34m\u001b[0m\u001b[0m\n\u001b[0m\u001b[1;32m     11\u001b[0m \u001b[0;34m\u001b[0m\u001b[0m\n\u001b[1;32m     12\u001b[0m     \u001b[0mndimen\u001b[0m \u001b[0;34m=\u001b[0m \u001b[0md\u001b[0m\u001b[0;34m.\u001b[0m\u001b[0mtrain\u001b[0m\u001b[0;34m.\u001b[0m\u001b[0mX\u001b[0m\u001b[0;34m.\u001b[0m\u001b[0mshape\u001b[0m\u001b[0;34m[\u001b[0m\u001b[0;36m1\u001b[0m\u001b[0;34m]\u001b[0m\u001b[0;34m\u001b[0m\u001b[0;34m\u001b[0m\u001b[0m\n",
      "\u001b[0;32m/mnt/D/GitHub/classes/CS522/CS522-TeamProject/Dataset.py\u001b[0m in \u001b[0;36mload_gzip\u001b[0;34m(dir_path, file_name)\u001b[0m\n\u001b[1;32m    182\u001b[0m         \u001b[0;31m# print(\"# Loading from Gzip Pickle File:\", fullpath)\u001b[0m\u001b[0;34m\u001b[0m\u001b[0;34m\u001b[0m\u001b[0;34m\u001b[0m\u001b[0m\n\u001b[1;32m    183\u001b[0m \u001b[0;34m\u001b[0m\u001b[0m\n\u001b[0;32m--> 184\u001b[0;31m         \u001b[0;32mif\u001b[0m \u001b[0;32mnot\u001b[0m \u001b[0mos\u001b[0m\u001b[0;34m.\u001b[0m\u001b[0mpath\u001b[0m\u001b[0;34m.\u001b[0m\u001b[0misfile\u001b[0m\u001b[0;34m(\u001b[0m\u001b[0mfullpath\u001b[0m\u001b[0;34m)\u001b[0m\u001b[0;34m:\u001b[0m\u001b[0;34m\u001b[0m\u001b[0;34m\u001b[0m\u001b[0m\n\u001b[0m\u001b[1;32m    185\u001b[0m             raise FileNotFoundError(\n\u001b[1;32m    186\u001b[0m                 f\"File not found: {fullpath}\")\n",
      "\u001b[0;32m~/anaconda3/lib/python3.8/gzip.py\u001b[0m in \u001b[0;36mopen\u001b[0;34m(filename, mode, compresslevel, encoding, errors, newline)\u001b[0m\n\u001b[1;32m     56\u001b[0m     \u001b[0mgz_mode\u001b[0m \u001b[0;34m=\u001b[0m \u001b[0mmode\u001b[0m\u001b[0;34m.\u001b[0m\u001b[0mreplace\u001b[0m\u001b[0;34m(\u001b[0m\u001b[0;34m\"t\"\u001b[0m\u001b[0;34m,\u001b[0m \u001b[0;34m\"\"\u001b[0m\u001b[0;34m)\u001b[0m\u001b[0;34m\u001b[0m\u001b[0;34m\u001b[0m\u001b[0m\n\u001b[1;32m     57\u001b[0m     \u001b[0;32mif\u001b[0m \u001b[0misinstance\u001b[0m\u001b[0;34m(\u001b[0m\u001b[0mfilename\u001b[0m\u001b[0;34m,\u001b[0m \u001b[0;34m(\u001b[0m\u001b[0mstr\u001b[0m\u001b[0;34m,\u001b[0m \u001b[0mbytes\u001b[0m\u001b[0;34m,\u001b[0m \u001b[0mos\u001b[0m\u001b[0;34m.\u001b[0m\u001b[0mPathLike\u001b[0m\u001b[0;34m)\u001b[0m\u001b[0;34m)\u001b[0m\u001b[0;34m:\u001b[0m\u001b[0;34m\u001b[0m\u001b[0;34m\u001b[0m\u001b[0m\n\u001b[0;32m---> 58\u001b[0;31m         \u001b[0mbinary_file\u001b[0m \u001b[0;34m=\u001b[0m \u001b[0mGzipFile\u001b[0m\u001b[0;34m(\u001b[0m\u001b[0mfilename\u001b[0m\u001b[0;34m,\u001b[0m \u001b[0mgz_mode\u001b[0m\u001b[0;34m,\u001b[0m \u001b[0mcompresslevel\u001b[0m\u001b[0;34m)\u001b[0m\u001b[0;34m\u001b[0m\u001b[0;34m\u001b[0m\u001b[0m\n\u001b[0m\u001b[1;32m     59\u001b[0m     \u001b[0;32melif\u001b[0m \u001b[0mhasattr\u001b[0m\u001b[0;34m(\u001b[0m\u001b[0mfilename\u001b[0m\u001b[0;34m,\u001b[0m \u001b[0;34m\"read\"\u001b[0m\u001b[0;34m)\u001b[0m \u001b[0;32mor\u001b[0m \u001b[0mhasattr\u001b[0m\u001b[0;34m(\u001b[0m\u001b[0mfilename\u001b[0m\u001b[0;34m,\u001b[0m \u001b[0;34m\"write\"\u001b[0m\u001b[0;34m)\u001b[0m\u001b[0;34m:\u001b[0m\u001b[0;34m\u001b[0m\u001b[0;34m\u001b[0m\u001b[0m\n\u001b[1;32m     60\u001b[0m         \u001b[0mbinary_file\u001b[0m \u001b[0;34m=\u001b[0m \u001b[0mGzipFile\u001b[0m\u001b[0;34m(\u001b[0m\u001b[0;32mNone\u001b[0m\u001b[0;34m,\u001b[0m \u001b[0mgz_mode\u001b[0m\u001b[0;34m,\u001b[0m \u001b[0mcompresslevel\u001b[0m\u001b[0;34m,\u001b[0m \u001b[0mfilename\u001b[0m\u001b[0;34m)\u001b[0m\u001b[0;34m\u001b[0m\u001b[0;34m\u001b[0m\u001b[0m\n",
      "\u001b[0;32m~/anaconda3/lib/python3.8/gzip.py\u001b[0m in \u001b[0;36m__init__\u001b[0;34m(self, filename, mode, compresslevel, fileobj, mtime)\u001b[0m\n\u001b[1;32m    171\u001b[0m             \u001b[0mmode\u001b[0m \u001b[0;34m+=\u001b[0m \u001b[0;34m'b'\u001b[0m\u001b[0;34m\u001b[0m\u001b[0;34m\u001b[0m\u001b[0m\n\u001b[1;32m    172\u001b[0m         \u001b[0;32mif\u001b[0m \u001b[0mfileobj\u001b[0m \u001b[0;32mis\u001b[0m \u001b[0;32mNone\u001b[0m\u001b[0;34m:\u001b[0m\u001b[0;34m\u001b[0m\u001b[0;34m\u001b[0m\u001b[0m\n\u001b[0;32m--> 173\u001b[0;31m             \u001b[0mfileobj\u001b[0m \u001b[0;34m=\u001b[0m \u001b[0mself\u001b[0m\u001b[0;34m.\u001b[0m\u001b[0mmyfileobj\u001b[0m \u001b[0;34m=\u001b[0m \u001b[0mbuiltins\u001b[0m\u001b[0;34m.\u001b[0m\u001b[0mopen\u001b[0m\u001b[0;34m(\u001b[0m\u001b[0mfilename\u001b[0m\u001b[0;34m,\u001b[0m \u001b[0mmode\u001b[0m \u001b[0;32mor\u001b[0m \u001b[0;34m'rb'\u001b[0m\u001b[0;34m)\u001b[0m\u001b[0;34m\u001b[0m\u001b[0;34m\u001b[0m\u001b[0m\n\u001b[0m\u001b[1;32m    174\u001b[0m         \u001b[0;32mif\u001b[0m \u001b[0mfilename\u001b[0m \u001b[0;32mis\u001b[0m \u001b[0;32mNone\u001b[0m\u001b[0;34m:\u001b[0m\u001b[0;34m\u001b[0m\u001b[0;34m\u001b[0m\u001b[0m\n\u001b[1;32m    175\u001b[0m             \u001b[0mfilename\u001b[0m \u001b[0;34m=\u001b[0m \u001b[0mgetattr\u001b[0m\u001b[0;34m(\u001b[0m\u001b[0mfileobj\u001b[0m\u001b[0;34m,\u001b[0m \u001b[0;34m'name'\u001b[0m\u001b[0;34m,\u001b[0m \u001b[0;34m''\u001b[0m\u001b[0;34m)\u001b[0m\u001b[0;34m\u001b[0m\u001b[0;34m\u001b[0m\u001b[0m\n",
      "\u001b[0;31mFileNotFoundError\u001b[0m: [Errno 2] No such file or directory: 'datasets/face_mask_pickled/dataset_gray_conv.pkl.gzip'"
     ]
    }
   ],
   "source": [
    "def evaluate(dataset):\n",
    "\n",
    "    acc = 0\n",
    "    acc0 = 0\n",
    "    len0 = 0\n",
    "    acc1 = 0\n",
    "    len1 = 0\n",
    "\n",
    "    for (x, y) in dataset:\n",
    "        decision = np.argmax(nn.feedforward(x))\n",
    "\n",
    "        if decision == y:\n",
    "            acc += 1\n",
    "        if y == 0:\n",
    "            len0 += 1\n",
    "            if decision == y:\n",
    "                acc0 += 1\n",
    "        if y == 1:\n",
    "            len1 += 1\n",
    "            if decision == y:\n",
    "                acc1 += 1\n",
    "\n",
    "    nn_acc = acc / (len0 + len1)\n",
    "    # Compute class accuracies\n",
    "    nn_acc0 = acc0 / len0\n",
    "    nn_acc1 = acc1 / len1\n",
    "\n",
    "    print(f'Overall Testing Accuracy: {nn_acc}')\n",
    "    print(f'Class 0 Testing Accuracy: {nn_acc0}')\n",
    "    print(f'Class 1 Testing Accuracy: {nn_acc1}')\n",
    "    \n",
    "    return nn_acc, nn_acc0, nn_acc1\n",
    "\n",
    "\n",
    "training_data, validation_data, testing_data, ndimen = get_data()\n",
    "\n",
    "\n",
    "vnn_acc, vnn_acc0, vnn_acc1 = evaluate(validation_data)\n",
    "print()\n",
    "tnn_acc, tnn_acc0, tnn_acc1 = evaluate(testing_data)\n",
    "\n"
   ]
  },
  {
   "cell_type": "code",
   "execution_count": 35,
   "metadata": {},
   "outputs": [
    {
     "data": {
      "image/png": "[encoded data removed]",
      "text/plain": [
       "<Figure size 1008x720 with 1 Axes>"
      ]
     },
     "metadata": {
      "needs_background": "light"
     },
     "output_type": "display_data"
    }
   ],
   "source": [
    "# Plot a barchart comparing the validation vs testing accuracies overall, for class 0, and for class 1 side by side\n",
    "\n",
    "# set the y axis major ticks to .1 and minor ticks to .01\n",
    "major_ticks = np.arange(0, 1.1, 0.1)\n",
    "minor_ticks = np.arange(0, 1.1, 0.01)\n",
    "\n",
    "\n",
    "\n",
    "fig = plt.figure(figsize=(14, 10))\n",
    "\n",
    "plt.title(f\"Validation vs. Testing Accuracy\")\n",
    "plt.xlabel(\"Accuracy\")\n",
    "\n",
    "width = 0.25\n",
    "plt.barh(0 + width/2, tnn_acc, width, label='Testing', color='green')\n",
    "plt.barh(0 - width/2, vnn_acc, width, label='Validation', color='blue')\n",
    "\n",
    "plt.barh(1 + width/2, tnn_acc0, width, color='green')\n",
    "plt.barh(1 - width/2, vnn_acc0, width, color='blue')\n",
    "\n",
    "plt.barh(2 + width/2, tnn_acc1, width, color='green')\n",
    "plt.barh(2 - width/2, vnn_acc1, width, color='blue')\n",
    "\n",
    "plt.yticks(np.arange(0, 3, 1), ['Overall', 'Class 0', 'Class 1'])\n",
    "plt.xticks(major_ticks)\n",
    "plt.grid()\n",
    "plt.legend()\n",
    "plt.show()\n",
    "fig.savefig(f'img/bpnn_validation_vs_testing', dpi=100)\n"
   ]
  }
 ],
 "metadata": {
  "kernelspec": {
   "display_name": "Python 3",
   "language": "python",
   "name": "python3"
  },
  "language_info": {
   "codemirror_mode": {
    "name": "ipython",
    "version": 3
   },
   "file_extension": ".py",
   "mimetype": "text/x-python",
   "name": "python",
   "nbconvert_exporter": "python",
   "pygments_lexer": "ipython3",
   "version": "3.8.8"
  }
 },
 "nbformat": 4,
 "nbformat_minor": 0
}
