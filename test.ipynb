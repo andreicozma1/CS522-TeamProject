{
 "cells": [
  {
   "cell_type": "code",
   "execution_count": 13,
   "outputs": [],
   "source": [
    "%load_ext autoreload\n",
    "%autoreload 2"
   ],
   "metadata": {
    "collapsed": false,
    "pycharm": {
     "name": "#%%\n"
    }
   }
  },
  {
   "cell_type": "code",
   "execution_count": 1,
   "metadata": {
    "collapsed": true
   },
   "outputs": [],
   "source": [
    "import numpy as np\n"
   ]
  },
  {
   "cell_type": "code",
   "execution_count": 2,
   "outputs": [],
   "source": [
    "def load_data(f):\n",
    "    \"\"\"\n",
    "    Assume data format:\n",
    "    feature1 feature 2 ... label\n",
    "    \"\"\"\n",
    "    # process training data\n",
    "    data = np.genfromtxt(f)\n",
    "    # return all feature columns except last\n",
    "    X = data[:, :-1]\n",
    "    y = data[:, -1].astype(int)\n",
    "    return X, y"
   ],
   "metadata": {
    "collapsed": false,
    "pycharm": {
     "name": "#%%\n"
    }
   }
  },
  {
   "cell_type": "code",
   "execution_count": 3,
   "outputs": [],
   "source": [
    "def standardize(X, mean, std):\n",
    "    \"\"\"\n",
    "    standardizes the dataset\n",
    "    \"\"\"\n",
    "    return np.apply_along_axis(lambda row: (row - mean) / std, 1, X)\n",
    "\n",
    "def get_stats(X, y=None):\n",
    "    \"\"\"\n",
    "    get dictionary of all relevant statistics on dataset\n",
    "    \"\"\"\n",
    "    covs, c_means, classes, classn = {}, {}, 0, 0 # dictionaries\n",
    "    mean, std, cov = np.mean(X, axis=0).reshape(-1,1), np.std(X, axis=0).reshape(-1,1), np.cov(X.T)\n",
    "    if y is not None:\n",
    "        classes = np.unique(y)  # get unique labels as dictionary items\n",
    "        classn = len(classes)  # the number of classes in the dataset\n",
    "        for c in classes:\n",
    "            arr = X[y == c]\n",
    "            covs[c] = np.cov(arr.T)\n",
    "            if covs[c].shape == ():\n",
    "                covs[c] = np.array([[covs[c]]]).reshape((1,1))\n",
    "            c_means[c] = np.mean(arr, axis=0).reshape(-1,1)  # mean along rows\n",
    "    stats = {\n",
    "        'covs': covs,\n",
    "        'c_means': c_means,\n",
    "        'classes': classes,\n",
    "        'classn': classn,\n",
    "        'mean': mean,\n",
    "        'std': std,\n",
    "        'cov': cov\n",
    "    }\n",
    "    return stats"
   ],
   "metadata": {
    "collapsed": false,
    "pycharm": {
     "name": "#%%\n"
    }
   }
  },
  {
   "cell_type": "code",
   "execution_count": 4,
   "outputs": [
    {
     "name": "stdout",
     "output_type": "stream",
     "text": [
      "(332,)\n",
      "--------------------\n",
      "Pima dataset\n",
      "The dimension of the synth training data is: (200, 7)\n",
      "The dimension of the synth testing data is: (332, 7)\n",
      "--------------------\n"
     ]
    }
   ],
   "source": [
    "X_train_pima, y_train_pima = load_data('pima.tr')\n",
    "X_test_pima, y_test_pima = load_data('pima.te')\n",
    "print(y_test_pima.shape)\n",
    "# print dataset shapes\n",
    "print('-' * 20)\n",
    "print(f\"Pima dataset\")\n",
    "print(f\"The dimension of the synth training data is: {X_train_pima.shape}\")\n",
    "print(f\"The dimension of the synth testing data is: {X_test_pima.shape}\")\n",
    "print('-' * 20)\n",
    "\n",
    "# create directory for images\n",
    "\n",
    "# standardize the datasets\n",
    "pima_stats = get_stats(X_train_pima, y_train_pima)\n",
    "nX_train_pima = standardize(X_train_pima, pima_stats['mean'].flatten(), pima_stats['std'].flatten())\n",
    "nX_test_pima = standardize(X_test_pima, pima_stats['mean'].flatten(), pima_stats['std'].flatten())"
   ],
   "metadata": {
    "collapsed": false,
    "pycharm": {
     "name": "#%%\n"
    }
   }
  },
  {
   "cell_type": "code",
   "execution_count": null,
   "outputs": [
    {
     "name": "stdout",
     "output_type": "stream",
     "text": [
      "starting training\n",
      "starting epoch # 0\n"
     ]
    }
   ],
   "source": [
    "from svm import SVM\n",
    "from evaluation import *\n",
    "\n",
    "svm = SVM(kernel='rbf', C=.1, max_iter=10000)\n",
    "svm.fit(X_train_pima, y_train_pima)"
   ],
   "metadata": {
    "collapsed": false,
    "pycharm": {
     "name": "#%%\n",
     "is_executing": true
    }
   }
  },
  {
   "cell_type": "code",
   "execution_count": null,
   "outputs": [],
   "source": [],
   "metadata": {
    "collapsed": false,
    "pycharm": {
     "name": "#%%\n"
    }
   }
  }
 ],
 "metadata": {
  "kernelspec": {
   "display_name": "Python 3",
   "language": "python",
   "name": "python3"
  },
  "language_info": {
   "codemirror_mode": {
    "name": "ipython",
    "version": 2
   },
   "file_extension": ".py",
   "mimetype": "text/x-python",
   "name": "python",
   "nbconvert_exporter": "python",
   "pygments_lexer": "ipython2",
   "version": "2.7.6"
  }
 },
 "nbformat": 4,
 "nbformat_minor": 0
}