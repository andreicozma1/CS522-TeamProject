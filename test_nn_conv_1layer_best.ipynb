{
 "cells": [
  {
   "cell_type": "markdown",
   "metadata": {},
   "source": [
    "# Structure Data for BPNN"
   ]
  },
  {
   "cell_type": "code",
   "execution_count": 10,
   "metadata": {
    "collapsed": false,
    "pycharm": {
     "name": "#%%\n"
    }
   },
   "outputs": [
    {
     "name": "stdout",
     "output_type": "stream",
     "text": [
      "The autoreload extension is already loaded. To reload it, use:\n",
      "  %reload_ext autoreload\n"
     ]
    }
   ],
   "source": [
    "%load_ext autoreload\n",
    "%autoreload 2\n",
    "\n",
    "from Dataset import *\n",
    "import numpy as np\n",
    "from bpnn_cuda import BPNN\n",
    "from tqdm.notebook import tqdm"
   ]
  },
  {
   "cell_type": "markdown",
   "metadata": {},
   "source": [
    "# Load the Model"
   ]
  },
  {
   "cell_type": "code",
   "execution_count": 11,
   "metadata": {},
   "outputs": [],
   "source": [
    "\n",
    "import pickle\n",
    "import gzip\n",
    "# Load the best model from file\n",
    "with gzip.open('models/bpnn_best_model.pkl.gzip', 'rb') as f:\n",
    "    nn = pickle.load(f)"
   ]
  },
  {
   "cell_type": "markdown",
   "metadata": {},
   "source": [
    "# Evaluate Model"
   ]
  },
  {
   "cell_type": "code",
   "execution_count": 12,
   "metadata": {},
   "outputs": [
    {
     "name": "stdout",
     "output_type": "stream",
     "text": [
      "Overall Validation Accuracy: 0.95625\n",
      "Class 0 Validation Accuracy: 0.9425\n",
      "Class 1 Validation Accuracy: 0.97\n",
      "\n",
      "Overall Testing Accuracy: 0.9425403225806451\n",
      "Class 0 Testing Accuracy: 0.9410609037328095\n",
      "Class 1 Testing Accuracy: 0.9440993788819876\n"
     ]
    }
   ],
   "source": [
    "def evaluate(dataset, name):\n",
    "\n",
    "    acc = 0\n",
    "    acc0 = 0\n",
    "    len0 = 0\n",
    "    acc1 = 0\n",
    "    len1 = 0\n",
    "\n",
    "    for (x, y) in dataset:\n",
    "        decision = np.argmax(nn.feedforward(x))\n",
    "\n",
    "        if decision == y:\n",
    "            acc += 1\n",
    "        if y == 0:\n",
    "            len0 += 1\n",
    "            if decision == y:\n",
    "                acc0 += 1\n",
    "        if y == 1:\n",
    "            len1 += 1\n",
    "            if decision == y:\n",
    "                acc1 += 1\n",
    "\n",
    "    nn_acc = acc / (len0 + len1)\n",
    "    # Compute class accuracies\n",
    "    nn_acc0 = acc0 / len0\n",
    "    nn_acc1 = acc1 / len1\n",
    "\n",
    "    print(f'Overall {name} Accuracy: {nn_acc}')\n",
    "    print(f'Class 0 {name} Accuracy: {nn_acc0}')\n",
    "    print(f'Class 1 {name} Accuracy: {nn_acc1}')\n",
    "\n",
    "    return nn_acc, nn_acc0, nn_acc1\n",
    "\n",
    "\n",
    "training_data, validation_data, testing_data, ndimen = BPNN.get_data()\n",
    "\n",
    "\n",
    "vnn_acc, vnn_acc0, vnn_acc1 = evaluate(validation_data, \"Validation\")\n",
    "print()\n",
    "tnn_acc, tnn_acc0, tnn_acc1 = evaluate(testing_data, \"Testing\")\n"
   ]
  },
  {
   "cell_type": "markdown",
   "metadata": {},
   "source": [
    "# Plot Bar Chart"
   ]
  },
  {
   "cell_type": "code",
   "execution_count": 13,
   "metadata": {},
   "outputs": [
    {
     "data": {
      "image/png": "[encoded data removed]",
      "text/plain": [
       "<Figure size 1008x720 with 1 Axes>"
      ]
     },
     "metadata": {
      "needs_background": "light"
     },
     "output_type": "display_data"
    }
   ],
   "source": [
    "# Plot a barchart comparing the validation vs testing accuracies overall, for class 0, and for class 1 side by side\n",
    "\n",
    "# set the y axis major ticks to .1 and minor ticks to .01\n",
    "major_ticks = np.arange(0, 1.1, 0.1)\n",
    "minor_ticks = np.arange(0, 1.1, 0.01)\n",
    "\n",
    "\n",
    "\n",
    "fig = plt.figure(figsize=(14, 10))\n",
    "\n",
    "plt.title(f\"Validation vs. Testing Accuracy\")\n",
    "plt.xlabel(\"Accuracy\")\n",
    "\n",
    "width = 0.25\n",
    "plt.barh(0 + width/2, tnn_acc, width, label='Testing', color='green')\n",
    "plt.barh(0 - width/2, vnn_acc, width, label='Validation', color='blue')\n",
    "\n",
    "plt.barh(1 + width/2, tnn_acc0, width, color='green')\n",
    "plt.barh(1 - width/2, vnn_acc0, width, color='blue')\n",
    "\n",
    "plt.barh(2 + width/2, tnn_acc1, width, color='green')\n",
    "plt.barh(2 - width/2, vnn_acc1, width, color='blue')\n",
    "\n",
    "plt.yticks(np.arange(0, 3, 1), ['Overall', 'Class 0', 'Class 1'])\n",
    "plt.xticks(major_ticks)\n",
    "plt.grid()\n",
    "plt.legend()\n",
    "plt.show()\n",
    "fig.savefig(f'img/bpnn_validation_vs_testing', dpi=100)\n"
   ]
  }
 ],
 "metadata": {
  "interpreter": {
   "hash": "aee8b7b246df8f9039afb4144a1f6fd8d2ca17a180786b69acc140d282b71a49"
  },
  "kernelspec": {
   "display_name": "Python 3.9.7 64-bit",
   "name": "python3"
  },
  "language_info": {
   "codemirror_mode": {
    "name": "ipython",
    "version": 3
   },
   "file_extension": ".py",
   "mimetype": "text/x-python",
   "name": "python",
   "nbconvert_exporter": "python",
   "pygments_lexer": "ipython3",
   "version": "3.8.8"
  }
 },
 "nbformat": 4,
 "nbformat_minor": 0
}
