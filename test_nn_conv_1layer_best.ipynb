{
 "cells": [
  {
   "cell_type": "markdown",
   "metadata": {},
   "source": [
    "# Structure Data for BPNN"
   ]
  },
  {
   "cell_type": "code",
   "execution_count": 5,
   "metadata": {
    "collapsed": false,
    "pycharm": {
     "name": "#%%\n"
    }
   },
   "outputs": [],
   "source": [
    "%load_ext autoreload\n",
    "%autoreload 2\n",
    "\n",
    "from Dataset import *\n",
    "import numpy as np\n",
    "from bpnn import BPNN\n",
    "from tqdm.notebook import tqdm\n",
    "\n",
    "def convert_categories(y_cat):\n",
    "    desired = np.array([0 if y[0] == 1 else 1 for y in y_cat])\n",
    "    return desired\n",
    "\n",
    "def get_data():\n",
    "    d = Dataset.load_gzip(os.path.join(\n",
    "        \"datasets\", \"face_mask_pickled\"), \"dataset_gray_conv_test_2.pkl.gzip\")\n",
    "\n",
    "    ndimen = d.train.X.shape[1]\n",
    "\n",
    "    # Structure Training Data for BPNN\n",
    "    training_inputs = [np.reshape(np.asarray(x), (ndimen, 1)) for x in d.train.X]\n",
    "    training_results = [np.asarray(y.reshape(-1, 1)) for y in d.train.y]\n",
    "\n",
    "    training_data = zip(training_inputs, training_results)\n",
    "    # Structure Validation Data for BPNN\n",
    "    validation_inputs = [np.reshape(np.asarray(x), (ndimen, 1)) for x in d.validation.X]\n",
    "    validation_data = zip(validation_inputs, convert_categories(d.validation.y))\n",
    "    # Structure Testing Data for BPNN\n",
    "    testing_inputs = [np.reshape(np.asarray(x), (ndimen, 1)) for x in d.test.X]\n",
    "    testing_data = zip(testing_inputs, convert_categories(d.test.y))\n",
    "\n",
    "    return training_data, validation_data, testing_data, ndimen\n"
   ]
  },
  {
   "cell_type": "markdown",
   "metadata": {},
   "source": [
    "# Train Best BPNN Configuration"
   ]
  },
  {
   "cell_type": "code",
   "execution_count": 6,
   "metadata": {},
   "outputs": [
    {
     "name": "stdout",
     "output_type": "stream",
     "text": [
      "Input Dimension: 900\n",
      "# Training MLP Network: Sizes=[900, 100, 2]\tEpochs=15\tBatch-Size=20\tLearning-Rate=0.45\n",
      " - Training Data Len: 10000\n",
      " - Validation Data Len: 800\n",
      "# Epochs:\n",
      "\t1. Correct 634/800\t(score: 0.7925\tdelta: 0.7925\tdelta_avg: 0.7925)\n",
      "\t2. Correct 703/800\t(score: 0.8788\tdelta: 0.0863\tdelta_avg: 0.4394)\n",
      "\t3. Correct 710/800\t(score: 0.8875\tdelta: 0.0087\tdelta_avg: 0.2958)\n",
      "\t4. Correct 711/800\t(score: 0.8888\tdelta: 0.0013\tdelta_avg: 0.2222)\n",
      "\t5. Correct 714/800\t(score: 0.8925\tdelta: 0.0037\tdelta_avg: 0.1785)\n",
      "\t6. Correct 722/800\t(score: 0.9025\tdelta: 0.01\tdelta_avg: 0.1504)\n",
      "\t7. Correct 722/800\t(score: 0.9025\tdelta: 0.0\tdelta_avg: 0.1289)\n",
      "\t8. Correct 722/800\t(score: 0.9025\tdelta: 0.0\tdelta_avg: 0.1128)\n",
      "\t9. Correct 726/800\t(score: 0.9075\tdelta: 0.005\tdelta_avg: 0.1008)\n",
      "\t10. Correct 727/800\t(score: 0.9087\tdelta: 0.0012\tdelta_avg: 0.0909)\n",
      "\t11. Correct 730/800\t(score: 0.9125\tdelta: 0.0038\tdelta_avg: 0.083)\n",
      "\t12. Correct 731/800\t(score: 0.9137\tdelta: 0.0012\tdelta_avg: 0.0761)\n",
      "\t13. Correct 732/800\t(score: 0.915\tdelta: 0.0013\tdelta_avg: 0.0704)\n",
      "\t14. Correct 731/800\t(score: 0.9137\tdelta: -0.0013\tdelta_avg: 0.0653)\n",
      "Converged in 14 epochs with accuracy 0.91375 took 48.89 sec\n"
     ]
    }
   ],
   "source": [
    "\n",
    "\"\"\"\n",
    "# Best Hyperparameters:\n",
    "- Best Network Configuration: [900, 100, 2]\n",
    "- Best Batch Size: 20\n",
    "- Best Learning Rate: 0.45\n",
    "\"\"\"\n",
    "\n",
    "training_data, validation_data, testing_data, ndimen = get_data()\n",
    "print(f\"Input Dimension: {ndimen}\")\n",
    "\n",
    "\n",
    "max_epochs = 15\n",
    "init_nc = [900, 100, 2]\n",
    "init_b = 20\n",
    "init_lr = 0.45\n",
    "\n",
    "model_BPNN = BPNN(init_nc, verbose=True)\n",
    "final_score, eval_scores, eval_scores_deltas, conv_time = model_BPNN.train(training_data,\n",
    "                                                                           max_epochs=max_epochs,\n",
    "                                                                           batch_size=init_b,\n",
    "                                                                           learning_rate=init_lr,\n",
    "                                                                           evaluation_data=validation_data)\n"
   ]
  },
  {
   "cell_type": "code",
   "execution_count": 9,
   "metadata": {},
   "outputs": [
    {
     "data": {
      "image/png": "[encoded data removed]",
      "text/plain": [
       "<Figure size 1008x432 with 1 Axes>"
      ]
     },
     "metadata": {
      "needs_background": "light"
     },
     "output_type": "display_data"
    }
   ],
   "source": [
    "fig = plt.figure(figsize=(14, 6))\n",
    "\n",
    "plt.title(f\"Training Epoch vs. Accuracy with (Final Model)\")\n",
    "plt.xlabel(\"Epoch\")\n",
    "plt.ylabel('Accuracy')\n",
    "\n",
    "plt.plot(eval_scores, label=f'Accuracy ({final_score})')\n",
    "\n",
    "plt.grid()\n",
    "plt.legend()\n",
    "plt.show()\n",
    "fig.savefig(f'img/bpnn_best_model', dpi=100)"
   ]
  },
  {
   "cell_type": "markdown",
   "metadata": {},
   "source": [
    "# Save Best Model & Predictions"
   ]
  },
  {
   "cell_type": "code",
   "execution_count": 12,
   "metadata": {},
   "outputs": [],
   "source": [
    "import gzip\n",
    "\n",
    "# make directory to save generated images to\n",
    "os.makedirs('models', exist_ok=True)\n",
    "\n",
    "def save_best_model():\n",
    "    # Save the best BPNN model to a pickle file\n",
    "    with gzip.open('models/bpnn_best_model_numpy.pkl.gzip', 'wb') as f:\n",
    "        pickle.dump(model_BPNN, f)\n",
    "    \n",
    "def save_testing_pred(data):\n",
    "    # Tuples (X, y, y_pred)\n",
    "    \n",
    "    new_data = []\n",
    "    for (x, y) in data:\n",
    "        decision = np.argmax(model_BPNN.feedforward(x))\n",
    "        new_data.append((x, y, decision))\n",
    "        \n",
    "    with gzip.open('models/bpnn_testing_pred_numpy.pkl.gzip', 'wb') as f:\n",
    "        pickle.dump(new_data, f)\n",
    "\n",
    "\n",
    "training_data, validation_data, testing_data, ndimen = get_data()\n",
    "save_best_model()\n",
    "save_testing_pred(testing_data)\n"
   ]
  },
  {
   "cell_type": "markdown",
   "metadata": {},
   "source": [
    "# Load the Model"
   ]
  },
  {
   "cell_type": "code",
   "execution_count": 6,
   "metadata": {},
   "outputs": [],
   "source": [
    "\n",
    "import pickle\n",
    "import gzip\n",
    "# Load the best model from file\n",
    "with gzip.open('models/bpnn_best_model_numpy.pkl.gzip', 'rb') as f:\n",
    "    nn = pickle.load(f)"
   ]
  },
  {
   "cell_type": "markdown",
   "metadata": {},
   "source": [
    "# Evaluate Model"
   ]
  },
  {
   "cell_type": "code",
   "execution_count": 7,
   "metadata": {},
   "outputs": [
    {
     "name": "stdout",
     "output_type": "stream",
     "text": [
      "Overall Validation Accuracy: 0.91375\n",
      "Class 0 Validation Accuracy: 0.9\n",
      "Class 1 Validation Accuracy: 0.9275\n",
      "\n",
      "Overall Testing Accuracy: 0.9122983870967742\n",
      "Class 0 Testing Accuracy: 0.9135559921414538\n",
      "Class 1 Testing Accuracy: 0.9109730848861284\n"
     ]
    }
   ],
   "source": [
    "def evaluate(dataset, name):\n",
    "\n",
    "    acc = 0\n",
    "    acc0 = 0\n",
    "    len0 = 0\n",
    "    acc1 = 0\n",
    "    len1 = 0\n",
    "\n",
    "    for (x, y) in dataset:\n",
    "        decision = np.argmax(nn.feedforward(x))\n",
    "\n",
    "        if decision == y:\n",
    "            acc += 1\n",
    "        if y == 0:\n",
    "            len0 += 1\n",
    "            if decision == y:\n",
    "                acc0 += 1\n",
    "        if y == 1:\n",
    "            len1 += 1\n",
    "            if decision == y:\n",
    "                acc1 += 1\n",
    "\n",
    "    nn_acc = acc / (len0 + len1)\n",
    "    # Compute class accuracies\n",
    "    nn_acc0 = acc0 / len0\n",
    "    nn_acc1 = acc1 / len1\n",
    "\n",
    "    print(f'Overall {name} Accuracy: {nn_acc}')\n",
    "    print(f'Class 0 {name} Accuracy: {nn_acc0}')\n",
    "    print(f'Class 1 {name} Accuracy: {nn_acc1}')\n",
    "    \n",
    "    return nn_acc, nn_acc0, nn_acc1\n",
    "\n",
    "\n",
    "training_data, validation_data, testing_data, ndimen = get_data()\n",
    "\n",
    "\n",
    "vnn_acc, vnn_acc0, vnn_acc1 = evaluate(validation_data, \"Validation\")\n",
    "print()\n",
    "tnn_acc, tnn_acc0, tnn_acc1 = evaluate(testing_data, \"Testing\")\n",
    "\n"
   ]
  },
  {
   "cell_type": "markdown",
   "metadata": {},
   "source": [
    "# Plot Bar Chart"
   ]
  },
  {
   "cell_type": "code",
   "execution_count": 8,
   "metadata": {},
   "outputs": [
    {
     "data": {
      "image/png": "[encoded data removed]",
      "text/plain": [
       "<Figure size 1008x720 with 1 Axes>"
      ]
     },
     "metadata": {
      "needs_background": "light"
     },
     "output_type": "display_data"
    }
   ],
   "source": [
    "# Plot a barchart comparing the validation vs testing accuracies overall, for class 0, and for class 1 side by side\n",
    "\n",
    "# set the y axis major ticks to .1 and minor ticks to .01\n",
    "major_ticks = np.arange(0, 1.1, 0.1)\n",
    "minor_ticks = np.arange(0, 1.1, 0.01)\n",
    "\n",
    "\n",
    "\n",
    "fig = plt.figure(figsize=(14, 10))\n",
    "\n",
    "plt.title(f\"Validation vs. Testing Accuracy\")\n",
    "plt.xlabel(\"Accuracy\")\n",
    "\n",
    "width = 0.25\n",
    "plt.barh(0 + width/2, tnn_acc, width, label='Testing', color='green')\n",
    "plt.barh(0 - width/2, vnn_acc, width, label='Validation', color='blue')\n",
    "\n",
    "plt.barh(1 + width/2, tnn_acc0, width, color='green')\n",
    "plt.barh(1 - width/2, vnn_acc0, width, color='blue')\n",
    "\n",
    "plt.barh(2 + width/2, tnn_acc1, width, color='green')\n",
    "plt.barh(2 - width/2, vnn_acc1, width, color='blue')\n",
    "\n",
    "plt.yticks(np.arange(0, 3, 1), ['Overall', 'Class 0', 'Class 1'])\n",
    "plt.xticks(major_ticks)\n",
    "plt.grid()\n",
    "plt.legend()\n",
    "plt.show()\n",
    "fig.savefig(f'img/bpnn_validation_vs_testing', dpi=100)\n"
   ]
  }
 ],
 "metadata": {
  "interpreter": {
   "hash": "aee8b7b246df8f9039afb4144a1f6fd8d2ca17a180786b69acc140d282b71a49"
  },
  "kernelspec": {
   "display_name": "Python 3.9.7 64-bit",
   "name": "python3"
  },
  "language_info": {
   "codemirror_mode": {
    "name": "ipython",
    "version": 3
   },
   "file_extension": ".py",
   "mimetype": "text/x-python",
   "name": "python",
   "nbconvert_exporter": "python",
   "pygments_lexer": "ipython3",
   "version": "3.9.7"
  }
 },
 "nbformat": 4,
 "nbformat_minor": 0
}
