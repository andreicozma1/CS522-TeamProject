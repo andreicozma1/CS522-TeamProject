{
 "cells": [
  {
   "cell_type": "markdown",
   "metadata": {},
   "source": [
    "# Structure Data for BPNN"
   ]
  },
  {
   "cell_type": "code",
   "execution_count": 27,
   "metadata": {
    "collapsed": false,
    "pycharm": {
     "name": "#%%\n"
    }
   },
   "outputs": [
    {
     "name": "stdout",
     "output_type": "stream",
     "text": [
      "The autoreload extension is already loaded. To reload it, use:\n",
      "  %reload_ext autoreload\n",
      "Input Dimension: 900\n"
     ]
    }
   ],
   "source": [
    "%load_ext autoreload\n",
    "%autoreload 2\n",
    "\n",
    "# IMPORT LIBRARIES\n",
    "from Dataset import *\n",
    "import cupy as cp\n",
    "from bpnn_cuda import BPNN\n",
    "from tqdm import tqdm\n",
    "\n",
    "\n",
    "training_data, validation_data, testing_data, ndimen = BPNN.get_data()\n",
    "print(f\"Input Dimension: {ndimen}\")\n",
    "\n",
    "ntrials = 1\n",
    "max_epochs = 30\n",
    "init_nc = [ndimen, 200, 2]\n",
    "init_b = 40\n",
    "init_lr = 0.5"
   ]
  },
  {
   "cell_type": "markdown",
   "metadata": {},
   "source": [
    "# Train Initial BPNN Configuration"
   ]
  },
  {
   "cell_type": "code",
   "execution_count": 28,
   "metadata": {},
   "outputs": [
    {
     "name": "stdout",
     "output_type": "stream",
     "text": [
      "# Training MLP Network: Sizes=[900, 200, 2]\tEpochs=15\tBatch-Size=40\tLearning-Rate=0.5\n",
      " - Training Data Len: 10000\n",
      " - Validation Data Len: 800\n",
      "# Epochs:\n"
     ]
    },
    {
     "name": "stderr",
     "output_type": "stream",
     "text": [
      "  7%|▋         | 1/15 [00:05<01:13,  5.22s/it]"
     ]
    },
    {
     "name": "stdout",
     "output_type": "stream",
     "text": [
      "\t1. Correct 689/800\t(score: 0.86125\tdelta: 0.86125\tdelta_avg: 0.86125)\n"
     ]
    },
    {
     "name": "stderr",
     "output_type": "stream",
     "text": [
      " 13%|█▎        | 2/15 [00:10<01:05,  5.06s/it]"
     ]
    },
    {
     "name": "stdout",
     "output_type": "stream",
     "text": [
      "\t2. Correct 706/800\t(score: 0.8825\tdelta: 0.02124999999999999\tdelta_avg: 0.44125)\n"
     ]
    },
    {
     "name": "stderr",
     "output_type": "stream",
     "text": [
      " 20%|██        | 3/15 [00:15<00:59,  4.99s/it]"
     ]
    },
    {
     "name": "stdout",
     "output_type": "stream",
     "text": [
      "\t3. Correct 713/800\t(score: 0.89125\tdelta: 0.008750000000000036\tdelta_avg: 0.2970833333333333)\n"
     ]
    },
    {
     "name": "stderr",
     "output_type": "stream",
     "text": [
      " 27%|██▋       | 4/15 [00:20<00:54,  4.99s/it]"
     ]
    },
    {
     "name": "stdout",
     "output_type": "stream",
     "text": [
      "\t4. Correct 718/800\t(score: 0.8975\tdelta: 0.006249999999999978\tdelta_avg: 0.224375)\n"
     ]
    },
    {
     "name": "stderr",
     "output_type": "stream",
     "text": [
      " 33%|███▎      | 5/15 [00:25<00:50,  5.05s/it]"
     ]
    },
    {
     "name": "stdout",
     "output_type": "stream",
     "text": [
      "\t5. Correct 721/800\t(score: 0.90125\tdelta: 0.003750000000000031\tdelta_avg: 0.18025)\n"
     ]
    },
    {
     "name": "stderr",
     "output_type": "stream",
     "text": [
      " 40%|████      | 6/15 [00:30<00:45,  5.11s/it]"
     ]
    },
    {
     "name": "stdout",
     "output_type": "stream",
     "text": [
      "\t6. Correct 723/800\t(score: 0.90375\tdelta: 0.0025000000000000577\tdelta_avg: 0.150625)\n"
     ]
    },
    {
     "name": "stderr",
     "output_type": "stream",
     "text": [
      " 47%|████▋     | 7/15 [00:35<00:41,  5.22s/it]"
     ]
    },
    {
     "name": "stdout",
     "output_type": "stream",
     "text": [
      "\t7. Correct 724/800\t(score: 0.905\tdelta: 0.0012499999999999734\tdelta_avg: 0.12928571428571428)\n"
     ]
    },
    {
     "name": "stderr",
     "output_type": "stream",
     "text": [
      " 53%|█████▎    | 8/15 [00:41<00:36,  5.28s/it]"
     ]
    },
    {
     "name": "stdout",
     "output_type": "stream",
     "text": [
      "\t8. Correct 725/800\t(score: 0.90625\tdelta: 0.0012499999999999734\tdelta_avg: 0.11328125)\n"
     ]
    },
    {
     "name": "stderr",
     "output_type": "stream",
     "text": [
      " 60%|██████    | 9/15 [00:46<00:31,  5.27s/it]"
     ]
    },
    {
     "name": "stdout",
     "output_type": "stream",
     "text": [
      "\t9. Correct 724/800\t(score: 0.905\tdelta: -0.0012499999999999734\tdelta_avg: 0.10055555555555556)\n"
     ]
    },
    {
     "name": "stderr",
     "output_type": "stream",
     "text": [
      " 67%|██████▋   | 10/15 [00:51<00:26,  5.28s/it]"
     ]
    },
    {
     "name": "stdout",
     "output_type": "stream",
     "text": [
      "\t10. Correct 725/800\t(score: 0.90625\tdelta: 0.0012499999999999734\tdelta_avg: 0.090625)\n"
     ]
    },
    {
     "name": "stderr",
     "output_type": "stream",
     "text": [
      " 73%|███████▎  | 11/15 [00:57<00:21,  5.37s/it]"
     ]
    },
    {
     "name": "stdout",
     "output_type": "stream",
     "text": [
      "\t11. Correct 732/800\t(score: 0.915\tdelta: 0.008750000000000036\tdelta_avg: 0.08318181818181819)\n"
     ]
    },
    {
     "name": "stderr",
     "output_type": "stream",
     "text": [
      " 80%|████████  | 12/15 [01:02<00:16,  5.34s/it]"
     ]
    },
    {
     "name": "stdout",
     "output_type": "stream",
     "text": [
      "\t12. Correct 726/800\t(score: 0.9075\tdelta: -0.007500000000000062\tdelta_avg: 0.075625)\n"
     ]
    },
    {
     "name": "stderr",
     "output_type": "stream",
     "text": [
      " 87%|████████▋ | 13/15 [01:07<00:10,  5.27s/it]"
     ]
    },
    {
     "name": "stdout",
     "output_type": "stream",
     "text": [
      "\t13. Correct 727/800\t(score: 0.90875\tdelta: 0.0012499999999999734\tdelta_avg: 0.06990384615384615)\n"
     ]
    },
    {
     "name": "stderr",
     "output_type": "stream",
     "text": [
      " 93%|█████████▎| 14/15 [01:13<00:05,  5.25s/it]"
     ]
    },
    {
     "name": "stdout",
     "output_type": "stream",
     "text": [
      "\t14. Correct 727/800\t(score: 0.90875\tdelta: 0.0\tdelta_avg: 0.06491071428571428)\n"
     ]
    },
    {
     "name": "stderr",
     "output_type": "stream",
     "text": [
      "100%|██████████| 15/15 [01:18<00:00,  5.21s/it]"
     ]
    },
    {
     "name": "stdout",
     "output_type": "stream",
     "text": [
      "\t15. Correct 727/800\t(score: 0.90875\tdelta: 0.0\tdelta_avg: 0.06058333333333333)\n",
      "Converged in 15 epochs with accuracy 0.90875 took 78.22 sec\n"
     ]
    },
    {
     "name": "stderr",
     "output_type": "stream",
     "text": [
      "\n"
     ]
    }
   ],
   "source": [
    "\n",
    "model_BPNN = BPNN(init_nc, verbose=True)\n",
    "final_score, eval_scores, eval_scores_deltas, conv_time = model_BPNN.train(training_data,\n",
    "                                                                           max_epochs=max_epochs,\n",
    "                                                                           batch_size=init_b,\n",
    "                                                                           learning_rate=init_lr,\n",
    "                                                                           evaluation_data=validation_data)\n"
   ]
  },
  {
   "cell_type": "markdown",
   "metadata": {},
   "source": [
    "# Tune Network Configuration"
   ]
  },
  {
   "cell_type": "code",
   "execution_count": 2,
   "metadata": {
    "collapsed": true
   },
   "outputs": [
    {
     "name": "stdout",
     "output_type": "stream",
     "text": [
      "Training Epoch vs. Accuracy (Effect of Network Configuration)\n"
     ]
    },
    {
     "name": "stderr",
     "output_type": "stream",
     "text": [
      "  9%|▉         | 1/11 [01:16<12:49, 76.98s/it]"
     ]
    },
    {
     "name": "stdout",
     "output_type": "stream",
     "text": [
      "[900, 50, 2] => 0.91375\n"
     ]
    },
    {
     "name": "stderr",
     "output_type": "stream",
     "text": [
      " 18%|█▊        | 2/11 [02:33<11:31, 76.84s/it]"
     ]
    },
    {
     "name": "stdout",
     "output_type": "stream",
     "text": [
      "[900, 100, 2] => 0.92125\n"
     ]
    },
    {
     "name": "stderr",
     "output_type": "stream",
     "text": [
      " 27%|██▋       | 3/11 [03:49<10:11, 76.46s/it]"
     ]
    },
    {
     "name": "stdout",
     "output_type": "stream",
     "text": [
      "[900, 200, 2] => 0.9225\n"
     ]
    },
    {
     "name": "stderr",
     "output_type": "stream",
     "text": [
      " 36%|███▋      | 4/11 [05:06<08:57, 76.73s/it]"
     ]
    },
    {
     "name": "stdout",
     "output_type": "stream",
     "text": [
      "[900, 400, 2] => 0.92375\n"
     ]
    },
    {
     "name": "stderr",
     "output_type": "stream",
     "text": [
      " 45%|████▌     | 5/11 [06:23<07:40, 76.72s/it]"
     ]
    },
    {
     "name": "stdout",
     "output_type": "stream",
     "text": [
      "[900, 800, 2] => 0.91625\n"
     ]
    },
    {
     "name": "stderr",
     "output_type": "stream",
     "text": [
      " 55%|█████▍    | 6/11 [07:41<06:26, 77.25s/it]"
     ]
    },
    {
     "name": "stdout",
     "output_type": "stream",
     "text": [
      "[900, 75, 2] => 0.93125\n"
     ]
    },
    {
     "name": "stderr",
     "output_type": "stream",
     "text": [
      " 64%|██████▎   | 7/11 [08:59<05:09, 77.39s/it]"
     ]
    },
    {
     "name": "stdout",
     "output_type": "stream",
     "text": [
      "[900, 90, 2] => 0.91875\n"
     ]
    },
    {
     "name": "stderr",
     "output_type": "stream",
     "text": [
      " 73%|███████▎  | 8/11 [10:16<03:51, 77.28s/it]"
     ]
    },
    {
     "name": "stdout",
     "output_type": "stream",
     "text": [
      "[900, 110, 2] => 0.91375\n"
     ]
    },
    {
     "name": "stderr",
     "output_type": "stream",
     "text": [
      " 82%|████████▏ | 9/11 [11:32<02:33, 76.96s/it]"
     ]
    },
    {
     "name": "stdout",
     "output_type": "stream",
     "text": [
      "[900, 130, 2] => 0.9275\n"
     ]
    },
    {
     "name": "stderr",
     "output_type": "stream",
     "text": [
      " 91%|█████████ | 10/11 [12:50<01:17, 77.24s/it]"
     ]
    },
    {
     "name": "stdout",
     "output_type": "stream",
     "text": [
      "[900, 160, 2] => 0.9325\n"
     ]
    },
    {
     "name": "stderr",
     "output_type": "stream",
     "text": [
      "100%|██████████| 11/11 [14:08<00:00, 77.09s/it]"
     ]
    },
    {
     "name": "stdout",
     "output_type": "stream",
     "text": [
      "[900, 190, 2] => 0.91375\n"
     ]
    },
    {
     "name": "stderr",
     "output_type": "stream",
     "text": [
      "\n"
     ]
    },
    {
     "data": {
      "image/png": "[encoded data removed]",
      "text/plain": [
       "<Figure size 1008x432 with 1 Axes>"
      ]
     },
     "metadata": {
      "needs_background": "light"
     },
     "output_type": "display_data"
    },
    {
     "name": "stdout",
     "output_type": "stream",
     "text": [
      "Best network configuration: [900, 160, 2]\n"
     ]
    }
   ],
   "source": [
    "def plot_accuracies_hidden_layers_and_nodes(save_dir, layers_arr):\n",
    "    os.makedirs(save_dir, exist_ok=True)\n",
    "    print(f\"Training Epoch vs. Accuracy (Effect of Network Configuration)\")\n",
    "\n",
    "    fig = plt.figure(figsize=(14, 6))\n",
    "    plt.title(\n",
    "        f\"Training Epoch vs. Accuracy (Effect of Network Configuration)\")\n",
    "    plt.xlabel(\"Epoch\")\n",
    "    plt.ylabel('Accuracy')\n",
    "\n",
    "    best_score = 0\n",
    "    best_config = None\n",
    "\n",
    "    for layers in layers_arr:\n",
    "        final_scores = []\n",
    "        epoch_scores = []\n",
    "        # Run an average over multiple trials\n",
    "        for i in range(ntrials):\n",
    "            # Get data and train the network\n",
    "            training_data, validation_data, testing_data, ndimen = BPNN.get_data()\n",
    "            nn = BPNN(layers, verbose=False)\n",
    "            final_score, eval_scores, eval_scores_deltas, conv_time = nn.train(training_data,\n",
    "                                                                               max_epochs=max_epochs,\n",
    "                                                                               batch_size=init_b,\n",
    "                                                                               learning_rate=init_lr,\n",
    "                                                                               evaluation_data=validation_data,\n",
    "                                                                               evaluation_treshold=None)\n",
    "            final_scores.append(final_score)\n",
    "            epoch_scores.append(eval_scores)\n",
    "\n",
    "        # Compute the averages over the specified number of trials\n",
    "        final_score_avg = np.average(final_scores)\n",
    "        epoch_scores = np.mean(epoch_scores, axis=0)\n",
    "\n",
    "        print(f'{layers} => {final_score_avg} ({conv_time})')\n",
    "        if final_score_avg > best_score:\n",
    "            best_score = final_score_avg\n",
    "            best_config = layers\n",
    "        plt.plot(epoch_scores, label=f'{layers} - {final_score_avg}')\n",
    "\n",
    "    plt.grid()\n",
    "    plt.legend()\n",
    "    plt.show()\n",
    "    fig.savefig(f'{save_dir}/bpnn_layers_vs_acc', dpi=100)\n",
    "\n",
    "    return best_config\n",
    "\n",
    "\n",
    "layers_arr = [[ndimen, 50, 2],\n",
    "              [ndimen, 100, 2],\n",
    "              [ndimen, 200, 2],\n",
    "              [ndimen, 400, 2],\n",
    "              [ndimen, 800, 2],\n",
    "              \n",
    "              [ndimen, 75, 2],\n",
    "              [ndimen, 90, 2],\n",
    "              [ndimen, 110, 2],\n",
    "              [ndimen, 130, 2],\n",
    "              [ndimen, 160, 2],\n",
    "              [ndimen, 190, 2], ]\n",
    "\n",
    "\n",
    "best_nc = plot_accuracies_hidden_layers_and_nodes(\"img\", layers_arr)\n",
    "print(f\"Best network configuration: {best_nc}\")\n"
   ]
  },
  {
   "cell_type": "markdown",
   "metadata": {},
   "source": [
    "# Tune Batch Size"
   ]
  },
  {
   "cell_type": "code",
   "execution_count": 29,
   "metadata": {
    "collapsed": false,
    "pycharm": {
     "name": "#%%\n"
    }
   },
   "outputs": [
    {
     "name": "stdout",
     "output_type": "stream",
     "text": [
      "Training Epoch vs. Accuracy (Effect of Batch Size)\n"
     ]
    },
    {
     "name": "stderr",
     "output_type": "stream",
     "text": [
      "100%|██████████| 15/15 [01:20<00:00,  5.39s/it]\n"
     ]
    },
    {
     "name": "stdout",
     "output_type": "stream",
     "text": [
      "5 => 0.92875 (80.82013368606567)\n"
     ]
    },
    {
     "name": "stderr",
     "output_type": "stream",
     "text": [
      "100%|██████████| 15/15 [01:22<00:00,  5.53s/it]\n"
     ]
    },
    {
     "name": "stdout",
     "output_type": "stream",
     "text": [
      "8 => 0.91875 (82.89781355857849)\n"
     ]
    },
    {
     "name": "stderr",
     "output_type": "stream",
     "text": [
      "100%|██████████| 15/15 [01:18<00:00,  5.24s/it]\n"
     ]
    },
    {
     "name": "stdout",
     "output_type": "stream",
     "text": [
      "12 => 0.915 (78.60236978530884)\n"
     ]
    },
    {
     "name": "stderr",
     "output_type": "stream",
     "text": [
      "100%|██████████| 15/15 [01:24<00:00,  5.65s/it]\n"
     ]
    },
    {
     "name": "stdout",
     "output_type": "stream",
     "text": [
      "14 => 0.92625 (84.79294848442078)\n"
     ]
    },
    {
     "name": "stderr",
     "output_type": "stream",
     "text": [
      "100%|██████████| 15/15 [01:18<00:00,  5.26s/it]\n"
     ]
    },
    {
     "name": "stdout",
     "output_type": "stream",
     "text": [
      "16 => 0.91875 (78.97292995452881)\n"
     ]
    },
    {
     "name": "stderr",
     "output_type": "stream",
     "text": [
      "100%|██████████| 15/15 [01:12<00:00,  4.83s/it]\n"
     ]
    },
    {
     "name": "stdout",
     "output_type": "stream",
     "text": [
      "18 => 0.91375 (72.47402548789978)\n"
     ]
    },
    {
     "name": "stderr",
     "output_type": "stream",
     "text": [
      "100%|██████████| 15/15 [01:15<00:00,  5.00s/it]\n"
     ]
    },
    {
     "name": "stdout",
     "output_type": "stream",
     "text": [
      "20 => 0.91625 (75.03568124771118)\n"
     ]
    },
    {
     "name": "stderr",
     "output_type": "stream",
     "text": [
      "100%|██████████| 15/15 [01:13<00:00,  4.89s/it]\n"
     ]
    },
    {
     "name": "stdout",
     "output_type": "stream",
     "text": [
      "30 => 0.915 (73.34409499168396)\n"
     ]
    },
    {
     "name": "stderr",
     "output_type": "stream",
     "text": [
      "100%|██████████| 15/15 [01:13<00:00,  4.89s/it]\n"
     ]
    },
    {
     "name": "stdout",
     "output_type": "stream",
     "text": [
      "35 => 0.91875 (73.3113100528717)\n"
     ]
    },
    {
     "name": "stderr",
     "output_type": "stream",
     "text": [
      "100%|██████████| 15/15 [01:13<00:00,  4.90s/it]"
     ]
    },
    {
     "name": "stdout",
     "output_type": "stream",
     "text": [
      "40 => 0.9125 (73.45820713043213)\n"
     ]
    },
    {
     "name": "stderr",
     "output_type": "stream",
     "text": [
      "\n"
     ]
    },
    {
     "data": {
      "image/png": "[encoded data removed]",
      "text/plain": [
       "<Figure size 1008x432 with 1 Axes>"
      ]
     },
     "metadata": {
      "needs_background": "light"
     },
     "output_type": "display_data"
    },
    {
     "name": "stdout",
     "output_type": "stream",
     "text": [
      "Best batch size: 5\n"
     ]
    }
   ],
   "source": [
    "def plot_accuracies_mini_batch_size(save_dir, batch_size_arr):\n",
    "    os.makedirs(save_dir, exist_ok=True)\n",
    "    print(f\"Training Epoch vs. Accuracy (Effect of Batch Size)\")\n",
    "\n",
    "    fig = plt.figure(figsize=(14, 6))\n",
    "    plt.title(f\"Training Epoch vs. Accuracy (Effect of Batch Size)\")\n",
    "    plt.xlabel(\"Epoch\")\n",
    "    plt.ylabel('Accuracy')\n",
    "\n",
    "    best_score = 0\n",
    "    best_config = None\n",
    "\n",
    "    for batch_size in batch_size_arr:\n",
    "        final_scores = []\n",
    "        epoch_scores = []\n",
    "        # Run an average over multiple trials\n",
    "        for i in range(ntrials):\n",
    "            # Get data and train the network\n",
    "            training_data, validation_data, testing_data, ndimen = BPNN.get_data()\n",
    "            nn = BPNN(best_nc, verbose=False)\n",
    "            final_score, eval_scores, eval_scores_deltas, conv_time = nn.train(training_data,\n",
    "                                                                               max_epochs=max_epochs,\n",
    "                                                                               batch_size=batch_size,\n",
    "                                                                               learning_rate=init_lr,\n",
    "                                                                               evaluation_data=validation_data,\n",
    "                                                                               evaluation_treshold=None)\n",
    "            final_scores.append(final_score)\n",
    "            epoch_scores.append(eval_scores)\n",
    "\n",
    "        # Compute the averages over the specified number of trials\n",
    "        final_score_avg = np.average(final_scores)\n",
    "        epoch_scores = np.mean(epoch_scores, axis=0)\n",
    "\n",
    "        print(f'{batch_size} => {final_score_avg} ({conv_time})')\n",
    "        if final_score_avg > best_score:\n",
    "            best_score = final_score_avg\n",
    "            best_config = batch_size\n",
    "        plt.plot(epoch_scores, label=f'{batch_size} - {final_score_avg}')\n",
    "\n",
    "    plt.grid()\n",
    "    plt.legend()\n",
    "    plt.show()\n",
    "    fig.savefig(f'{save_dir}/bpnn_batch_vs_acc', dpi=100)\n",
    "\n",
    "    return best_config\n",
    "\n",
    "\n",
    "batch_size_arr = [5, 8, 12, 14, 16, 18, 20, 30, 35, 40]\n",
    "best_b = plot_accuracies_mini_batch_size(\"img\", batch_size_arr)\n",
    "print(f\"Best batch size: {best_b}\")"
   ]
  },
  {
   "cell_type": "markdown",
   "metadata": {},
   "source": [
    "# Tune Learning Rate"
   ]
  },
  {
   "cell_type": "code",
   "execution_count": 31,
   "metadata": {
    "collapsed": false,
    "pycharm": {
     "name": "#%%\n"
    }
   },
   "outputs": [
    {
     "name": "stdout",
     "output_type": "stream",
     "text": [
      "Training Epoch vs. Accuracy (Effect of Learning Rate)\n"
     ]
    },
    {
     "name": "stderr",
     "output_type": "stream",
     "text": [
      "100%|██████████| 15/15 [01:17<00:00,  5.20s/it]\n"
     ]
    },
    {
     "name": "stdout",
     "output_type": "stream",
     "text": [
      "0.75 => 0.93375 (77.95185041427612)\n"
     ]
    },
    {
     "name": "stderr",
     "output_type": "stream",
     "text": [
      "100%|██████████| 15/15 [01:18<00:00,  5.26s/it]\n"
     ]
    },
    {
     "name": "stdout",
     "output_type": "stream",
     "text": [
      "0.65 => 0.92 (78.90114140510559)\n"
     ]
    },
    {
     "name": "stderr",
     "output_type": "stream",
     "text": [
      "100%|██████████| 15/15 [01:17<00:00,  5.19s/it]\n"
     ]
    },
    {
     "name": "stdout",
     "output_type": "stream",
     "text": [
      "0.6 => 0.93 (77.81529116630554)\n"
     ]
    },
    {
     "name": "stderr",
     "output_type": "stream",
     "text": [
      "100%|██████████| 15/15 [01:23<00:00,  5.56s/it]\n"
     ]
    },
    {
     "name": "stdout",
     "output_type": "stream",
     "text": [
      "0.55 => 0.9225 (83.35553359985352)\n"
     ]
    },
    {
     "name": "stderr",
     "output_type": "stream",
     "text": [
      "100%|██████████| 15/15 [01:18<00:00,  5.27s/it]\n"
     ]
    },
    {
     "name": "stdout",
     "output_type": "stream",
     "text": [
      "0.5 => 0.92125 (78.9821400642395)\n"
     ]
    },
    {
     "name": "stderr",
     "output_type": "stream",
     "text": [
      "100%|██████████| 15/15 [01:18<00:00,  5.24s/it]\n"
     ]
    },
    {
     "name": "stdout",
     "output_type": "stream",
     "text": [
      "0.45 => 0.92875 (78.58448958396912)\n"
     ]
    },
    {
     "name": "stderr",
     "output_type": "stream",
     "text": [
      "100%|██████████| 15/15 [01:18<00:00,  5.24s/it]\n"
     ]
    },
    {
     "name": "stdout",
     "output_type": "stream",
     "text": [
      "0.4 => 0.92625 (78.66976618766785)\n"
     ]
    },
    {
     "name": "stderr",
     "output_type": "stream",
     "text": [
      " 73%|███████▎  | 11/15 [00:59<00:21,  5.39s/it]\n"
     ]
    },
    {
     "ename": "KeyboardInterrupt",
     "evalue": "",
     "output_type": "error",
     "traceback": [
      "\u001b[0;31m---------------------------------------------------------------------------\u001b[0m",
      "\u001b[0;31mKeyboardInterrupt\u001b[0m                         Traceback (most recent call last)",
      "\u001b[0;32m/tmp/ipykernel_790056/3050572176.py\u001b[0m in \u001b[0;36m<module>\u001b[0;34m\u001b[0m\n\u001b[1;32m     49\u001b[0m \u001b[0;34m\u001b[0m\u001b[0m\n\u001b[1;32m     50\u001b[0m \u001b[0mlearning_rate_arr\u001b[0m \u001b[0;34m=\u001b[0m \u001b[0;34m[\u001b[0m\u001b[0;36m0.75\u001b[0m\u001b[0;34m,\u001b[0m \u001b[0;36m0.65\u001b[0m\u001b[0;34m,\u001b[0m \u001b[0;36m0.60\u001b[0m\u001b[0;34m,\u001b[0m \u001b[0;36m0.55\u001b[0m\u001b[0;34m,\u001b[0m \u001b[0;36m0.5\u001b[0m\u001b[0;34m,\u001b[0m \u001b[0;36m0.45\u001b[0m\u001b[0;34m,\u001b[0m \u001b[0;36m0.40\u001b[0m\u001b[0;34m,\u001b[0m \u001b[0;36m0.35\u001b[0m\u001b[0;34m,\u001b[0m \u001b[0;36m0.25\u001b[0m\u001b[0;34m,\u001b[0m \u001b[0;36m0.15\u001b[0m\u001b[0;34m,\u001b[0m \u001b[0;36m0.1\u001b[0m\u001b[0;34m,\u001b[0m \u001b[0;36m0.05\u001b[0m\u001b[0;34m,\u001b[0m \u001b[0;36m0.01\u001b[0m\u001b[0;34m,\u001b[0m \u001b[0;36m0.005\u001b[0m\u001b[0;34m,\u001b[0m \u001b[0;36m0.001\u001b[0m\u001b[0;34m]\u001b[0m\u001b[0;34m\u001b[0m\u001b[0;34m\u001b[0m\u001b[0m\n\u001b[0;32m---> 51\u001b[0;31m \u001b[0mbest_lr\u001b[0m \u001b[0;34m=\u001b[0m \u001b[0mplot_accuracies_learning_rate\u001b[0m\u001b[0;34m(\u001b[0m\u001b[0;34m\"img\"\u001b[0m\u001b[0;34m,\u001b[0m \u001b[0mlearning_rate_arr\u001b[0m\u001b[0;34m)\u001b[0m\u001b[0;34m\u001b[0m\u001b[0;34m\u001b[0m\u001b[0m\n\u001b[0m\u001b[1;32m     52\u001b[0m \u001b[0mprint\u001b[0m\u001b[0;34m(\u001b[0m\u001b[0;34mf\"Best learning rate: {best_lr}\"\u001b[0m\u001b[0;34m)\u001b[0m\u001b[0;34m\u001b[0m\u001b[0;34m\u001b[0m\u001b[0m\n",
      "\u001b[0;32m/tmp/ipykernel_790056/3050572176.py\u001b[0m in \u001b[0;36mplot_accuracies_learning_rate\u001b[0;34m(save_dir, learning_rate_arr)\u001b[0m\n\u001b[1;32m     19\u001b[0m             \u001b[0mtraining_data\u001b[0m\u001b[0;34m,\u001b[0m \u001b[0mvalidation_data\u001b[0m\u001b[0;34m,\u001b[0m \u001b[0mtesting_data\u001b[0m\u001b[0;34m,\u001b[0m \u001b[0mndimen\u001b[0m \u001b[0;34m=\u001b[0m \u001b[0mBPNN\u001b[0m\u001b[0;34m.\u001b[0m\u001b[0mget_data\u001b[0m\u001b[0;34m(\u001b[0m\u001b[0;34m)\u001b[0m\u001b[0;34m\u001b[0m\u001b[0;34m\u001b[0m\u001b[0m\n\u001b[1;32m     20\u001b[0m             \u001b[0mnn\u001b[0m \u001b[0;34m=\u001b[0m \u001b[0mBPNN\u001b[0m\u001b[0;34m(\u001b[0m\u001b[0mbest_nc\u001b[0m\u001b[0;34m,\u001b[0m \u001b[0mverbose\u001b[0m\u001b[0;34m=\u001b[0m\u001b[0;32mFalse\u001b[0m\u001b[0;34m)\u001b[0m\u001b[0;34m\u001b[0m\u001b[0;34m\u001b[0m\u001b[0m\n\u001b[0;32m---> 21\u001b[0;31m             final_score, eval_scores, eval_scores_deltas, conv_time = nn.train(training_data,\n\u001b[0m\u001b[1;32m     22\u001b[0m                                                                                \u001b[0mmax_epochs\u001b[0m\u001b[0;34m=\u001b[0m\u001b[0mmax_epochs\u001b[0m\u001b[0;34m,\u001b[0m\u001b[0;34m\u001b[0m\u001b[0;34m\u001b[0m\u001b[0m\n\u001b[1;32m     23\u001b[0m                                                                                \u001b[0mbatch_size\u001b[0m\u001b[0;34m=\u001b[0m\u001b[0mbest_b\u001b[0m\u001b[0;34m,\u001b[0m\u001b[0;34m\u001b[0m\u001b[0;34m\u001b[0m\u001b[0m\n",
      "\u001b[0;32m/mnt/D/GitHub/classes/CS522/CS522-TeamProject/bpnn_cuda.py\u001b[0m in \u001b[0;36mtrain\u001b[0;34m(self, training_data, max_epochs, batch_size, learning_rate, evaluation_data, evaluation_treshold)\u001b[0m\n\u001b[1;32m     98\u001b[0m             \u001b[0;31m# For each mini batch run the update function\u001b[0m\u001b[0;34m\u001b[0m\u001b[0;34m\u001b[0m\u001b[0;34m\u001b[0m\u001b[0m\n\u001b[1;32m     99\u001b[0m             \u001b[0;32mfor\u001b[0m \u001b[0mbatch\u001b[0m \u001b[0;32min\u001b[0m \u001b[0mbatches\u001b[0m\u001b[0;34m:\u001b[0m\u001b[0;34m\u001b[0m\u001b[0;34m\u001b[0m\u001b[0m\n\u001b[0;32m--> 100\u001b[0;31m                 \u001b[0mself\u001b[0m\u001b[0;34m.\u001b[0m\u001b[0mupdate_batch\u001b[0m\u001b[0;34m(\u001b[0m\u001b[0mbatch\u001b[0m\u001b[0;34m,\u001b[0m \u001b[0mlearning_rate\u001b[0m\u001b[0;34m)\u001b[0m\u001b[0;34m\u001b[0m\u001b[0;34m\u001b[0m\u001b[0m\n\u001b[0m\u001b[1;32m    101\u001b[0m \u001b[0;34m\u001b[0m\u001b[0m\n\u001b[1;32m    102\u001b[0m             \u001b[0;31m# Print mini-batch evalutaion on testing data\u001b[0m\u001b[0;34m\u001b[0m\u001b[0;34m\u001b[0m\u001b[0;34m\u001b[0m\u001b[0m\n",
      "\u001b[0;32m/mnt/D/GitHub/classes/CS522/CS522-TeamProject/bpnn_cuda.py\u001b[0m in \u001b[0;36mupdate_batch\u001b[0;34m(self, batch, learning_rate)\u001b[0m\n\u001b[1;32m    148\u001b[0m         \u001b[0;32mfor\u001b[0m \u001b[0mx\u001b[0m\u001b[0;34m,\u001b[0m \u001b[0my\u001b[0m \u001b[0;32min\u001b[0m \u001b[0mbatch\u001b[0m\u001b[0;34m:\u001b[0m\u001b[0;34m\u001b[0m\u001b[0;34m\u001b[0m\u001b[0m\n\u001b[1;32m    149\u001b[0m             \u001b[0;31m# Use back propagation to get the change in weights and biases\u001b[0m\u001b[0;34m\u001b[0m\u001b[0;34m\u001b[0m\u001b[0;34m\u001b[0m\u001b[0m\n\u001b[0;32m--> 150\u001b[0;31m             \u001b[0mdelta_nabla_b\u001b[0m\u001b[0;34m,\u001b[0m \u001b[0mdelta_nabla_w\u001b[0m \u001b[0;34m=\u001b[0m \u001b[0mself\u001b[0m\u001b[0;34m.\u001b[0m\u001b[0mbackprop\u001b[0m\u001b[0;34m(\u001b[0m\u001b[0mx\u001b[0m\u001b[0;34m,\u001b[0m \u001b[0my\u001b[0m\u001b[0;34m)\u001b[0m\u001b[0;34m\u001b[0m\u001b[0;34m\u001b[0m\u001b[0m\n\u001b[0m\u001b[1;32m    151\u001b[0m             \u001b[0mnabla_b\u001b[0m \u001b[0;34m=\u001b[0m \u001b[0;34m[\u001b[0m\u001b[0mnb\u001b[0m \u001b[0;34m+\u001b[0m \u001b[0mdnb\u001b[0m \u001b[0;32mfor\u001b[0m \u001b[0mnb\u001b[0m\u001b[0;34m,\u001b[0m \u001b[0mdnb\u001b[0m \u001b[0;32min\u001b[0m \u001b[0mzip\u001b[0m\u001b[0;34m(\u001b[0m\u001b[0mnabla_b\u001b[0m\u001b[0;34m,\u001b[0m \u001b[0mdelta_nabla_b\u001b[0m\u001b[0;34m)\u001b[0m\u001b[0;34m]\u001b[0m\u001b[0;34m\u001b[0m\u001b[0;34m\u001b[0m\u001b[0m\n\u001b[1;32m    152\u001b[0m             \u001b[0mnabla_w\u001b[0m \u001b[0;34m=\u001b[0m \u001b[0;34m[\u001b[0m\u001b[0mnw\u001b[0m \u001b[0;34m+\u001b[0m \u001b[0mdnw\u001b[0m \u001b[0;32mfor\u001b[0m \u001b[0mnw\u001b[0m\u001b[0;34m,\u001b[0m \u001b[0mdnw\u001b[0m \u001b[0;32min\u001b[0m \u001b[0mzip\u001b[0m\u001b[0;34m(\u001b[0m\u001b[0mnabla_w\u001b[0m\u001b[0;34m,\u001b[0m \u001b[0mdelta_nabla_w\u001b[0m\u001b[0;34m)\u001b[0m\u001b[0;34m]\u001b[0m\u001b[0;34m\u001b[0m\u001b[0;34m\u001b[0m\u001b[0m\n",
      "\u001b[0;32m/mnt/D/GitHub/classes/CS522/CS522-TeamProject/bpnn_cuda.py\u001b[0m in \u001b[0;36mbackprop\u001b[0;34m(self, x, y)\u001b[0m\n\u001b[1;32m    169\u001b[0m         \u001b[0mzs\u001b[0m \u001b[0;34m=\u001b[0m \u001b[0;34m[\u001b[0m\u001b[0;34m]\u001b[0m  \u001b[0;31m# list to store all the z vectors, layer by layer\u001b[0m\u001b[0;34m\u001b[0m\u001b[0;34m\u001b[0m\u001b[0m\n\u001b[1;32m    170\u001b[0m         \u001b[0;32mfor\u001b[0m \u001b[0mb\u001b[0m\u001b[0;34m,\u001b[0m \u001b[0mw\u001b[0m \u001b[0;32min\u001b[0m \u001b[0mzip\u001b[0m\u001b[0;34m(\u001b[0m\u001b[0mself\u001b[0m\u001b[0;34m.\u001b[0m\u001b[0mbiases\u001b[0m\u001b[0;34m,\u001b[0m \u001b[0mself\u001b[0m\u001b[0;34m.\u001b[0m\u001b[0mweights\u001b[0m\u001b[0;34m)\u001b[0m\u001b[0;34m:\u001b[0m\u001b[0;34m\u001b[0m\u001b[0;34m\u001b[0m\u001b[0m\n\u001b[0;32m--> 171\u001b[0;31m             \u001b[0mz\u001b[0m \u001b[0;34m=\u001b[0m \u001b[0mcp\u001b[0m\u001b[0;34m.\u001b[0m\u001b[0mdot\u001b[0m\u001b[0;34m(\u001b[0m\u001b[0mw\u001b[0m\u001b[0;34m,\u001b[0m \u001b[0mactivation\u001b[0m\u001b[0;34m)\u001b[0m \u001b[0;34m+\u001b[0m \u001b[0mb\u001b[0m\u001b[0;34m\u001b[0m\u001b[0;34m\u001b[0m\u001b[0m\n\u001b[0m\u001b[1;32m    172\u001b[0m             \u001b[0mzs\u001b[0m\u001b[0;34m.\u001b[0m\u001b[0mappend\u001b[0m\u001b[0;34m(\u001b[0m\u001b[0mz\u001b[0m\u001b[0;34m)\u001b[0m\u001b[0;34m\u001b[0m\u001b[0;34m\u001b[0m\u001b[0m\n\u001b[1;32m    173\u001b[0m             \u001b[0mactivation\u001b[0m \u001b[0;34m=\u001b[0m \u001b[0msigmoid\u001b[0m\u001b[0;34m(\u001b[0m\u001b[0mz\u001b[0m\u001b[0;34m)\u001b[0m\u001b[0;34m\u001b[0m\u001b[0;34m\u001b[0m\u001b[0m\n",
      "\u001b[0;31mKeyboardInterrupt\u001b[0m: "
     ]
    },
    {
     "data": {
      "image/png": "[encoded data removed]",
      "text/plain": [
       "<Figure size 1008x432 with 1 Axes>"
      ]
     },
     "metadata": {
      "needs_background": "light"
     },
     "output_type": "display_data"
    }
   ],
   "source": [
    "def plot_accuracies_learning_rate(save_dir, learning_rate_arr):\n",
    "    os.makedirs(save_dir, exist_ok=True)\n",
    "    print(f\"Training Epoch vs. Accuracy (Effect of Learning Rate)\")\n",
    "\n",
    "    fig = plt.figure(figsize=(14, 6))\n",
    "    plt.title(f\"Training Epoch vs. Accuracy (Effect of Learning Rate)\")\n",
    "    plt.xlabel(\"Epoch\")\n",
    "    plt.ylabel('Accuracy')\n",
    "\n",
    "    best_score = 0\n",
    "    best_config = None\n",
    "\n",
    "    for learning_rate in learning_rate_arr:\n",
    "        final_scores = []\n",
    "        epoch_scores = []\n",
    "        # Run an average over multiple trials\n",
    "        for i in range(ntrials):\n",
    "            # Get data and train the network\n",
    "            training_data, validation_data, testing_data, ndimen = BPNN.get_data()\n",
    "            nn = BPNN(best_nc, verbose=False)\n",
    "            final_score, eval_scores, eval_scores_deltas, conv_time = nn.train(training_data,\n",
    "                                                                               max_epochs=max_epochs,\n",
    "                                                                               batch_size=best_b,\n",
    "                                                                               learning_rate=learning_rate,\n",
    "                                                                               evaluation_data=validation_data,\n",
    "                                                                               evaluation_treshold=None)\n",
    "\n",
    "            final_scores.append(final_score)\n",
    "            epoch_scores.append(eval_scores)\n",
    "\n",
    "        # Compute the averages over the specified number of trials\n",
    "        final_score_avg = np.average(final_scores)\n",
    "        epoch_scores = np.mean(epoch_scores, axis=0)\n",
    "\n",
    "        print(f'{learning_rate} => {final_score_avg} ({conv_time})')\n",
    "        if final_score_avg > best_score:\n",
    "            best_score = final_score_avg\n",
    "            best_config = learning_rate\n",
    "\n",
    "        plt.plot(epoch_scores, label=f'{learning_rate} - {final_score_avg}')\n",
    "\n",
    "    plt.grid()\n",
    "    plt.legend()\n",
    "    plt.show()\n",
    "    fig.savefig(f'{save_dir}/bpnn_lr_vs_acc', dpi=100)\n",
    "\n",
    "    return best_config\n",
    "\n",
    "\n",
    "learning_rate_arr = [0.75, 0.65, 0.60, 0.55, 0.5, 0.45, 0.40, 0.35, 0.25, 0.15, 0.1, 0.05, 0.01, 0.005, 0.001]\n",
    "best_lr = plot_accuracies_learning_rate(\"img\", learning_rate_arr)\n",
    "print(f\"Best learning rate: {best_lr}\")"
   ]
  },
  {
   "cell_type": "markdown",
   "metadata": {},
   "source": [
    "# Hyperband Tuning"
   ]
  },
  {
   "cell_type": "code",
   "execution_count": 1,
   "metadata": {},
   "outputs": [
    {
     "name": "stdout",
     "output_type": "stream",
     "text": [
      "Input Dimension: 900\n",
      "================================================================================\n",
      "# Epochs:  3\n",
      "# Network Configurations\n",
      "\t[900, 160, 2]\n",
      "\t[900, 106, 2]\n",
      "\t[900, 213, 2]\n",
      "\t[900, 53, 2]\n",
      "\t[900, 266, 2]\n",
      "# Batch Sizes\n",
      "\t10\n",
      "\t6\n",
      "\t13\n",
      "\t3\n",
      "\t16\n",
      "# Learning Rates\n",
      "\t0.83\n",
      "\t0.5533333333333333\n",
      "\t1.1066666666666665\n",
      "\t0.2766666666666667\n",
      "\t1.3833333333333333\n",
      "\n",
      "# Best Model:  0\n",
      " - Hypers: [[900, 160, 2], 10, 0.83]\n",
      " - Accuracy: 0\n",
      " - Time: 0\n",
      "# Current Model (0/125)\n",
      " - Hypers: [[900, 160, 2], 10, 0.83]\n",
      " - Trial 0/1\n"
     ]
    },
    {
     "name": "stderr",
     "output_type": "stream",
     "text": [
      "100%|██████████| 3/3 [00:15<00:00,  5.27s/it]\n"
     ]
    },
    {
     "name": "stdout",
     "output_type": "stream",
     "text": [
      " - Accuracy: 0.92\n",
      " - Time: 15.8 sec\n",
      "\n",
      "# Best Model:  0.92\n",
      " - Hypers: [[900, 160, 2], 10, 0.83]\n",
      " - Accuracy: 0.92\n",
      " - Time: 15.8\n",
      "# Current Model (1/125)\n",
      " - Hypers: [[900, 160, 2], 10, 0.5533333333333333]\n",
      " - Trial 0/1\n"
     ]
    },
    {
     "name": "stderr",
     "output_type": "stream",
     "text": [
      "100%|██████████| 3/3 [00:14<00:00,  4.97s/it]\n"
     ]
    },
    {
     "name": "stdout",
     "output_type": "stream",
     "text": [
      " - Accuracy: 0.91875\n",
      " - Time: 14.92 sec\n",
      "\n",
      "# Best Model:  0.92\n",
      " - Hypers: [[900, 160, 2], 10, 0.83]\n",
      " - Accuracy: 0.92\n",
      " - Time: 15.8\n",
      "# Current Model (2/125)\n",
      " - Hypers: [[900, 160, 2], 10, 1.1066666666666665]\n",
      " - Trial 0/1\n"
     ]
    },
    {
     "name": "stderr",
     "output_type": "stream",
     "text": [
      "100%|██████████| 3/3 [00:14<00:00,  4.92s/it]\n"
     ]
    },
    {
     "name": "stdout",
     "output_type": "stream",
     "text": [
      " - Accuracy: 0.92125\n",
      " - Time: 14.77 sec\n",
      "\n",
      "# Best Model:  0.92125\n",
      " - Hypers: [[900, 160, 2], 10, 1.1066666666666665]\n",
      " - Accuracy: 0.92125\n",
      " - Time: 14.77\n",
      "# Current Model (3/125)\n",
      " - Hypers: [[900, 160, 2], 10, 0.2766666666666667]\n",
      " - Trial 0/1\n"
     ]
    },
    {
     "name": "stderr",
     "output_type": "stream",
     "text": [
      "100%|██████████| 3/3 [00:14<00:00,  4.97s/it]\n"
     ]
    },
    {
     "name": "stdout",
     "output_type": "stream",
     "text": [
      " - Accuracy: 0.9175\n",
      " - Time: 14.91 sec\n",
      "\n",
      "# Best Model:  0.92125\n",
      " - Hypers: [[900, 160, 2], 10, 1.1066666666666665]\n",
      " - Accuracy: 0.92125\n",
      " - Time: 14.77\n",
      "# Current Model (4/125)\n",
      " - Hypers: [[900, 160, 2], 10, 1.3833333333333333]\n",
      " - Trial 0/1\n"
     ]
    },
    {
     "name": "stderr",
     "output_type": "stream",
     "text": [
      "100%|██████████| 3/3 [00:15<00:00,  5.03s/it]\n"
     ]
    },
    {
     "name": "stdout",
     "output_type": "stream",
     "text": [
      " - Accuracy: 0.93125\n",
      " - Time: 15.08 sec\n",
      "\n",
      "# Best Model:  0.93125\n",
      " - Hypers: [[900, 160, 2], 10, 1.3833333333333333]\n",
      " - Accuracy: 0.93125\n",
      " - Time: 15.08\n",
      "# Current Model (5/125)\n",
      " - Hypers: [[900, 160, 2], 6, 0.83]\n",
      " - Trial 0/1\n"
     ]
    },
    {
     "name": "stderr",
     "output_type": "stream",
     "text": [
      "100%|██████████| 3/3 [00:16<00:00,  5.44s/it]\n"
     ]
    },
    {
     "name": "stdout",
     "output_type": "stream",
     "text": [
      " - Accuracy: 0.92\n",
      " - Time: 16.31 sec\n",
      "\n",
      "# Best Model:  0.93125\n",
      " - Hypers: [[900, 160, 2], 10, 1.3833333333333333]\n",
      " - Accuracy: 0.93125\n",
      " - Time: 15.08\n",
      "# Current Model (6/125)\n",
      " - Hypers: [[900, 160, 2], 6, 0.5533333333333333]\n",
      " - Trial 0/1\n"
     ]
    },
    {
     "name": "stderr",
     "output_type": "stream",
     "text": [
      "100%|██████████| 3/3 [00:16<00:00,  5.39s/it]\n"
     ]
    },
    {
     "name": "stdout",
     "output_type": "stream",
     "text": [
      " - Accuracy: 0.935\n",
      " - Time: 16.16 sec\n",
      "\n",
      "# Best Model:  0.935\n",
      " - Hypers: [[900, 160, 2], 6, 0.5533333333333333]\n",
      " - Accuracy: 0.935\n",
      " - Time: 16.16\n",
      "# Current Model (7/125)\n",
      " - Hypers: [[900, 160, 2], 6, 1.1066666666666665]\n",
      " - Trial 0/1\n"
     ]
    },
    {
     "name": "stderr",
     "output_type": "stream",
     "text": [
      "100%|██████████| 3/3 [00:16<00:00,  5.52s/it]\n"
     ]
    },
    {
     "name": "stdout",
     "output_type": "stream",
     "text": [
      " - Accuracy: 0.91625\n",
      " - Time: 16.55 sec\n",
      "\n",
      "# Best Model:  0.935\n",
      " - Hypers: [[900, 160, 2], 6, 0.5533333333333333]\n",
      " - Accuracy: 0.935\n",
      " - Time: 16.16\n",
      "# Current Model (8/125)\n",
      " - Hypers: [[900, 160, 2], 6, 0.2766666666666667]\n",
      " - Trial 0/1\n"
     ]
    },
    {
     "name": "stderr",
     "output_type": "stream",
     "text": [
      "100%|██████████| 3/3 [00:15<00:00,  5.32s/it]\n"
     ]
    },
    {
     "name": "stdout",
     "output_type": "stream",
     "text": [
      " - Accuracy: 0.9125\n",
      " - Time: 15.96 sec\n",
      "\n",
      "# Best Model:  0.935\n",
      " - Hypers: [[900, 160, 2], 6, 0.5533333333333333]\n",
      " - Accuracy: 0.935\n",
      " - Time: 16.16\n",
      "# Current Model (9/125)\n",
      " - Hypers: [[900, 160, 2], 6, 1.3833333333333333]\n",
      " - Trial 0/1\n"
     ]
    },
    {
     "name": "stderr",
     "output_type": "stream",
     "text": [
      "100%|██████████| 3/3 [00:16<00:00,  5.35s/it]\n"
     ]
    },
    {
     "name": "stdout",
     "output_type": "stream",
     "text": [
      " - Accuracy: 0.92375\n",
      " - Time: 16.06 sec\n",
      "\n",
      "# Best Model:  0.935\n",
      " - Hypers: [[900, 160, 2], 6, 0.5533333333333333]\n",
      " - Accuracy: 0.935\n",
      " - Time: 16.16\n",
      "# Current Model (10/125)\n",
      " - Hypers: [[900, 160, 2], 13, 0.83]\n",
      " - Trial 0/1\n"
     ]
    },
    {
     "name": "stderr",
     "output_type": "stream",
     "text": [
      "100%|██████████| 3/3 [00:15<00:00,  5.15s/it]\n"
     ]
    },
    {
     "name": "stdout",
     "output_type": "stream",
     "text": [
      " - Accuracy: 0.91875\n",
      " - Time: 15.45 sec\n",
      "\n",
      "# Best Model:  0.935\n",
      " - Hypers: [[900, 160, 2], 6, 0.5533333333333333]\n",
      " - Accuracy: 0.935\n",
      " - Time: 16.16\n",
      "# Current Model (11/125)\n",
      " - Hypers: [[900, 160, 2], 13, 0.5533333333333333]\n",
      " - Trial 0/1\n"
     ]
    },
    {
     "name": "stderr",
     "output_type": "stream",
     "text": [
      "100%|██████████| 3/3 [00:15<00:00,  5.26s/it]\n"
     ]
    },
    {
     "name": "stdout",
     "output_type": "stream",
     "text": [
      " - Accuracy: 0.9075\n",
      " - Time: 15.78 sec\n",
      "\n",
      "# Best Model:  0.935\n",
      " - Hypers: [[900, 160, 2], 6, 0.5533333333333333]\n",
      " - Accuracy: 0.935\n",
      " - Time: 16.16\n",
      "# Current Model (12/125)\n",
      " - Hypers: [[900, 160, 2], 13, 1.1066666666666665]\n",
      " - Trial 0/1\n"
     ]
    },
    {
     "name": "stderr",
     "output_type": "stream",
     "text": [
      "100%|██████████| 3/3 [00:15<00:00,  5.20s/it]\n"
     ]
    },
    {
     "name": "stdout",
     "output_type": "stream",
     "text": [
      " - Accuracy: 0.9225\n",
      " - Time: 15.6 sec\n",
      "\n",
      "# Best Model:  0.935\n",
      " - Hypers: [[900, 160, 2], 6, 0.5533333333333333]\n",
      " - Accuracy: 0.935\n",
      " - Time: 16.16\n",
      "# Current Model (13/125)\n",
      " - Hypers: [[900, 160, 2], 13, 0.2766666666666667]\n",
      " - Trial 0/1\n"
     ]
    },
    {
     "name": "stderr",
     "output_type": "stream",
     "text": [
      "100%|██████████| 3/3 [00:15<00:00,  5.32s/it]\n"
     ]
    },
    {
     "name": "stdout",
     "output_type": "stream",
     "text": [
      " - Accuracy: 0.89875\n",
      " - Time: 15.96 sec\n",
      "\n",
      "# Best Model:  0.935\n",
      " - Hypers: [[900, 160, 2], 6, 0.5533333333333333]\n",
      " - Accuracy: 0.935\n",
      " - Time: 16.16\n",
      "# Current Model (14/125)\n",
      " - Hypers: [[900, 160, 2], 13, 1.3833333333333333]\n",
      " - Trial 0/1\n"
     ]
    },
    {
     "name": "stderr",
     "output_type": "stream",
     "text": [
      "100%|██████████| 3/3 [00:15<00:00,  5.19s/it]\n"
     ]
    },
    {
     "name": "stdout",
     "output_type": "stream",
     "text": [
      " - Accuracy: 0.91\n",
      " - Time: 15.56 sec\n",
      "\n",
      "# Best Model:  0.935\n",
      " - Hypers: [[900, 160, 2], 6, 0.5533333333333333]\n",
      " - Accuracy: 0.935\n",
      " - Time: 16.16\n",
      "# Current Model (15/125)\n",
      " - Hypers: [[900, 160, 2], 3, 0.83]\n",
      " - Trial 0/1\n"
     ]
    },
    {
     "name": "stderr",
     "output_type": "stream",
     "text": [
      "100%|██████████| 3/3 [00:16<00:00,  5.59s/it]\n"
     ]
    },
    {
     "name": "stdout",
     "output_type": "stream",
     "text": [
      " - Accuracy: 0.92125\n",
      " - Time: 16.76 sec\n",
      "\n",
      "# Best Model:  0.935\n",
      " - Hypers: [[900, 160, 2], 6, 0.5533333333333333]\n",
      " - Accuracy: 0.935\n",
      " - Time: 16.16\n",
      "# Current Model (16/125)\n",
      " - Hypers: [[900, 160, 2], 3, 0.5533333333333333]\n",
      " - Trial 0/1\n"
     ]
    },
    {
     "name": "stderr",
     "output_type": "stream",
     "text": [
      "100%|██████████| 3/3 [00:17<00:00,  5.78s/it]\n"
     ]
    },
    {
     "name": "stdout",
     "output_type": "stream",
     "text": [
      " - Accuracy: 0.9125\n",
      " - Time: 17.33 sec\n",
      "\n",
      "# Best Model:  0.935\n",
      " - Hypers: [[900, 160, 2], 6, 0.5533333333333333]\n",
      " - Accuracy: 0.935\n",
      " - Time: 16.16\n",
      "# Current Model (17/125)\n",
      " - Hypers: [[900, 160, 2], 3, 1.1066666666666665]\n",
      " - Trial 0/1\n"
     ]
    },
    {
     "name": "stderr",
     "output_type": "stream",
     "text": [
      "100%|██████████| 3/3 [00:16<00:00,  5.64s/it]\n"
     ]
    },
    {
     "name": "stdout",
     "output_type": "stream",
     "text": [
      " - Accuracy: 0.89625\n",
      " - Time: 16.92 sec\n",
      "\n",
      "# Best Model:  0.935\n",
      " - Hypers: [[900, 160, 2], 6, 0.5533333333333333]\n",
      " - Accuracy: 0.935\n",
      " - Time: 16.16\n",
      "# Current Model (18/125)\n",
      " - Hypers: [[900, 160, 2], 3, 0.2766666666666667]\n",
      " - Trial 0/1\n"
     ]
    },
    {
     "name": "stderr",
     "output_type": "stream",
     "text": [
      "100%|██████████| 3/3 [00:16<00:00,  5.52s/it]\n"
     ]
    },
    {
     "name": "stdout",
     "output_type": "stream",
     "text": [
      " - Accuracy: 0.92625\n",
      " - Time: 16.56 sec\n",
      "\n",
      "# Best Model:  0.935\n",
      " - Hypers: [[900, 160, 2], 6, 0.5533333333333333]\n",
      " - Accuracy: 0.935\n",
      " - Time: 16.16\n",
      "# Current Model (19/125)\n",
      " - Hypers: [[900, 160, 2], 3, 1.3833333333333333]\n",
      " - Trial 0/1\n"
     ]
    },
    {
     "name": "stderr",
     "output_type": "stream",
     "text": [
      "100%|██████████| 3/3 [00:16<00:00,  5.58s/it]\n"
     ]
    },
    {
     "name": "stdout",
     "output_type": "stream",
     "text": [
      " - Accuracy: 0.91875\n",
      " - Time: 16.74 sec\n",
      "\n",
      "# Best Model:  0.935\n",
      " - Hypers: [[900, 160, 2], 6, 0.5533333333333333]\n",
      " - Accuracy: 0.935\n",
      " - Time: 16.16\n",
      "# Current Model (20/125)\n",
      " - Hypers: [[900, 160, 2], 16, 0.83]\n",
      " - Trial 0/1\n"
     ]
    },
    {
     "name": "stderr",
     "output_type": "stream",
     "text": [
      "100%|██████████| 3/3 [00:15<00:00,  5.22s/it]\n"
     ]
    },
    {
     "name": "stdout",
     "output_type": "stream",
     "text": [
      " - Accuracy: 0.91\n",
      " - Time: 15.66 sec\n",
      "\n",
      "# Best Model:  0.935\n",
      " - Hypers: [[900, 160, 2], 6, 0.5533333333333333]\n",
      " - Accuracy: 0.935\n",
      " - Time: 16.16\n",
      "# Current Model (21/125)\n",
      " - Hypers: [[900, 160, 2], 16, 0.5533333333333333]\n",
      " - Trial 0/1\n"
     ]
    },
    {
     "name": "stderr",
     "output_type": "stream",
     "text": [
      "100%|██████████| 3/3 [00:15<00:00,  5.22s/it]\n"
     ]
    },
    {
     "name": "stdout",
     "output_type": "stream",
     "text": [
      " - Accuracy: 0.90875\n",
      " - Time: 15.67 sec\n",
      "\n",
      "# Best Model:  0.935\n",
      " - Hypers: [[900, 160, 2], 6, 0.5533333333333333]\n",
      " - Accuracy: 0.935\n",
      " - Time: 16.16\n",
      "# Current Model (22/125)\n",
      " - Hypers: [[900, 160, 2], 16, 1.1066666666666665]\n",
      " - Trial 0/1\n"
     ]
    },
    {
     "name": "stderr",
     "output_type": "stream",
     "text": [
      "100%|██████████| 3/3 [00:16<00:00,  5.35s/it]\n"
     ]
    },
    {
     "name": "stdout",
     "output_type": "stream",
     "text": [
      " - Accuracy: 0.91\n",
      " - Time: 16.04 sec\n",
      "\n",
      "# Best Model:  0.935\n",
      " - Hypers: [[900, 160, 2], 6, 0.5533333333333333]\n",
      " - Accuracy: 0.935\n",
      " - Time: 16.16\n",
      "# Current Model (23/125)\n",
      " - Hypers: [[900, 160, 2], 16, 0.2766666666666667]\n",
      " - Trial 0/1\n"
     ]
    },
    {
     "name": "stderr",
     "output_type": "stream",
     "text": [
      "100%|██████████| 3/3 [00:15<00:00,  5.16s/it]\n"
     ]
    },
    {
     "name": "stdout",
     "output_type": "stream",
     "text": [
      " - Accuracy: 0.91125\n",
      " - Time: 15.48 sec\n",
      "\n",
      "# Best Model:  0.935\n",
      " - Hypers: [[900, 160, 2], 6, 0.5533333333333333]\n",
      " - Accuracy: 0.935\n",
      " - Time: 16.16\n",
      "# Current Model (24/125)\n",
      " - Hypers: [[900, 160, 2], 16, 1.3833333333333333]\n",
      " - Trial 0/1\n"
     ]
    },
    {
     "name": "stderr",
     "output_type": "stream",
     "text": [
      "100%|██████████| 3/3 [00:15<00:00,  5.05s/it]\n"
     ]
    },
    {
     "name": "stdout",
     "output_type": "stream",
     "text": [
      " - Accuracy: 0.92125\n",
      " - Time: 15.16 sec\n",
      "\n",
      "# Best Model:  0.935\n",
      " - Hypers: [[900, 160, 2], 6, 0.5533333333333333]\n",
      " - Accuracy: 0.935\n",
      " - Time: 16.16\n",
      "# Current Model (25/125)\n",
      " - Hypers: [[900, 106, 2], 10, 0.83]\n",
      " - Trial 0/1\n"
     ]
    },
    {
     "name": "stderr",
     "output_type": "stream",
     "text": [
      "100%|██████████| 3/3 [00:15<00:00,  5.26s/it]\n"
     ]
    },
    {
     "name": "stdout",
     "output_type": "stream",
     "text": [
      " - Accuracy: 0.9275\n",
      " - Time: 15.77 sec\n",
      "\n",
      "# Best Model:  0.935\n",
      " - Hypers: [[900, 160, 2], 6, 0.5533333333333333]\n",
      " - Accuracy: 0.935\n",
      " - Time: 16.16\n",
      "# Current Model (26/125)\n",
      " - Hypers: [[900, 106, 2], 10, 0.5533333333333333]\n",
      " - Trial 0/1\n"
     ]
    },
    {
     "name": "stderr",
     "output_type": "stream",
     "text": [
      "100%|██████████| 3/3 [00:15<00:00,  5.25s/it]\n"
     ]
    },
    {
     "name": "stdout",
     "output_type": "stream",
     "text": [
      " - Accuracy: 0.915\n",
      " - Time: 15.74 sec\n",
      "\n",
      "# Best Model:  0.935\n",
      " - Hypers: [[900, 160, 2], 6, 0.5533333333333333]\n",
      " - Accuracy: 0.935\n",
      " - Time: 16.16\n",
      "# Current Model (27/125)\n",
      " - Hypers: [[900, 106, 2], 10, 1.1066666666666665]\n",
      " - Trial 0/1\n"
     ]
    },
    {
     "name": "stderr",
     "output_type": "stream",
     "text": [
      "100%|██████████| 3/3 [00:15<00:00,  5.21s/it]\n"
     ]
    },
    {
     "name": "stdout",
     "output_type": "stream",
     "text": [
      " - Accuracy: 0.92875\n",
      " - Time: 15.64 sec\n",
      "\n",
      "# Best Model:  0.935\n",
      " - Hypers: [[900, 160, 2], 6, 0.5533333333333333]\n",
      " - Accuracy: 0.935\n",
      " - Time: 16.16\n",
      "# Current Model (28/125)\n",
      " - Hypers: [[900, 106, 2], 10, 0.2766666666666667]\n",
      " - Trial 0/1\n"
     ]
    },
    {
     "name": "stderr",
     "output_type": "stream",
     "text": [
      "100%|██████████| 3/3 [00:15<00:00,  5.30s/it]\n"
     ]
    },
    {
     "name": "stdout",
     "output_type": "stream",
     "text": [
      " - Accuracy: 0.9025\n",
      " - Time: 15.89 sec\n",
      "\n",
      "# Best Model:  0.935\n",
      " - Hypers: [[900, 160, 2], 6, 0.5533333333333333]\n",
      " - Accuracy: 0.935\n",
      " - Time: 16.16\n",
      "# Current Model (29/125)\n",
      " - Hypers: [[900, 106, 2], 10, 1.3833333333333333]\n",
      " - Trial 0/1\n"
     ]
    },
    {
     "name": "stderr",
     "output_type": "stream",
     "text": [
      "100%|██████████| 3/3 [00:15<00:00,  5.23s/it]\n"
     ]
    },
    {
     "name": "stdout",
     "output_type": "stream",
     "text": [
      " - Accuracy: 0.92625\n",
      " - Time: 15.69 sec\n",
      "\n",
      "# Best Model:  0.935\n",
      " - Hypers: [[900, 160, 2], 6, 0.5533333333333333]\n",
      " - Accuracy: 0.935\n",
      " - Time: 16.16\n",
      "# Current Model (30/125)\n",
      " - Hypers: [[900, 106, 2], 6, 0.83]\n",
      " - Trial 0/1\n"
     ]
    },
    {
     "name": "stderr",
     "output_type": "stream",
     "text": [
      "100%|██████████| 3/3 [00:15<00:00,  5.05s/it]\n"
     ]
    },
    {
     "name": "stdout",
     "output_type": "stream",
     "text": [
      " - Accuracy: 0.9175\n",
      " - Time: 15.17 sec\n",
      "\n",
      "# Best Model:  0.935\n",
      " - Hypers: [[900, 160, 2], 6, 0.5533333333333333]\n",
      " - Accuracy: 0.935\n",
      " - Time: 16.16\n",
      "# Current Model (31/125)\n",
      " - Hypers: [[900, 106, 2], 6, 0.5533333333333333]\n",
      " - Trial 0/1\n"
     ]
    },
    {
     "name": "stderr",
     "output_type": "stream",
     "text": [
      "100%|██████████| 3/3 [00:15<00:00,  5.17s/it]\n"
     ]
    },
    {
     "name": "stdout",
     "output_type": "stream",
     "text": [
      " - Accuracy: 0.9125\n",
      " - Time: 15.52 sec\n",
      "\n",
      "# Best Model:  0.935\n",
      " - Hypers: [[900, 160, 2], 6, 0.5533333333333333]\n",
      " - Accuracy: 0.935\n",
      " - Time: 16.16\n",
      "# Current Model (32/125)\n",
      " - Hypers: [[900, 106, 2], 6, 1.1066666666666665]\n",
      " - Trial 0/1\n"
     ]
    },
    {
     "name": "stderr",
     "output_type": "stream",
     "text": [
      "100%|██████████| 3/3 [00:15<00:00,  5.19s/it]\n"
     ]
    },
    {
     "name": "stdout",
     "output_type": "stream",
     "text": [
      " - Accuracy: 0.915\n",
      " - Time: 15.56 sec\n",
      "\n",
      "# Best Model:  0.935\n",
      " - Hypers: [[900, 160, 2], 6, 0.5533333333333333]\n",
      " - Accuracy: 0.935\n",
      " - Time: 16.16\n",
      "# Current Model (33/125)\n",
      " - Hypers: [[900, 106, 2], 6, 0.2766666666666667]\n",
      " - Trial 0/1\n"
     ]
    },
    {
     "name": "stderr",
     "output_type": "stream",
     "text": [
      "100%|██████████| 3/3 [00:15<00:00,  5.21s/it]\n"
     ]
    },
    {
     "name": "stdout",
     "output_type": "stream",
     "text": [
      " - Accuracy: 0.90875\n",
      " - Time: 15.64 sec\n",
      "\n",
      "# Best Model:  0.935\n",
      " - Hypers: [[900, 160, 2], 6, 0.5533333333333333]\n",
      " - Accuracy: 0.935\n",
      " - Time: 16.16\n",
      "# Current Model (34/125)\n",
      " - Hypers: [[900, 106, 2], 6, 1.3833333333333333]\n",
      " - Trial 0/1\n"
     ]
    },
    {
     "name": "stderr",
     "output_type": "stream",
     "text": [
      "100%|██████████| 3/3 [00:15<00:00,  5.28s/it]\n"
     ]
    },
    {
     "name": "stdout",
     "output_type": "stream",
     "text": [
      " - Accuracy: 0.92125\n",
      " - Time: 15.85 sec\n",
      "\n",
      "# Best Model:  0.935\n",
      " - Hypers: [[900, 160, 2], 6, 0.5533333333333333]\n",
      " - Accuracy: 0.935\n",
      " - Time: 16.16\n",
      "# Current Model (35/125)\n",
      " - Hypers: [[900, 106, 2], 13, 0.83]\n",
      " - Trial 0/1\n"
     ]
    },
    {
     "name": "stderr",
     "output_type": "stream",
     "text": [
      "100%|██████████| 3/3 [00:15<00:00,  5.22s/it]\n"
     ]
    },
    {
     "name": "stdout",
     "output_type": "stream",
     "text": [
      " - Accuracy: 0.90625\n",
      " - Time: 15.65 sec\n",
      "\n",
      "# Best Model:  0.935\n",
      " - Hypers: [[900, 160, 2], 6, 0.5533333333333333]\n",
      " - Accuracy: 0.935\n",
      " - Time: 16.16\n",
      "# Current Model (36/125)\n",
      " - Hypers: [[900, 106, 2], 13, 0.5533333333333333]\n",
      " - Trial 0/1\n"
     ]
    },
    {
     "name": "stderr",
     "output_type": "stream",
     "text": [
      "100%|██████████| 3/3 [00:15<00:00,  5.31s/it]\n"
     ]
    },
    {
     "name": "stdout",
     "output_type": "stream",
     "text": [
      " - Accuracy: 0.91\n",
      " - Time: 15.92 sec\n",
      "\n",
      "# Best Model:  0.935\n",
      " - Hypers: [[900, 160, 2], 6, 0.5533333333333333]\n",
      " - Accuracy: 0.935\n",
      " - Time: 16.16\n",
      "# Current Model (37/125)\n",
      " - Hypers: [[900, 106, 2], 13, 1.1066666666666665]\n",
      " - Trial 0/1\n"
     ]
    },
    {
     "name": "stderr",
     "output_type": "stream",
     "text": [
      "100%|██████████| 3/3 [00:15<00:00,  5.29s/it]\n"
     ]
    },
    {
     "name": "stdout",
     "output_type": "stream",
     "text": [
      " - Accuracy: 0.91625\n",
      " - Time: 15.88 sec\n",
      "\n",
      "# Best Model:  0.935\n",
      " - Hypers: [[900, 160, 2], 6, 0.5533333333333333]\n",
      " - Accuracy: 0.935\n",
      " - Time: 16.16\n",
      "# Current Model (38/125)\n",
      " - Hypers: [[900, 106, 2], 13, 0.2766666666666667]\n",
      " - Trial 0/1\n"
     ]
    },
    {
     "name": "stderr",
     "output_type": "stream",
     "text": [
      "100%|██████████| 3/3 [00:15<00:00,  5.29s/it]\n"
     ]
    },
    {
     "name": "stdout",
     "output_type": "stream",
     "text": [
      " - Accuracy: 0.905\n",
      " - Time: 15.89 sec\n",
      "\n",
      "# Best Model:  0.935\n",
      " - Hypers: [[900, 160, 2], 6, 0.5533333333333333]\n",
      " - Accuracy: 0.935\n",
      " - Time: 16.16\n",
      "# Current Model (39/125)\n",
      " - Hypers: [[900, 106, 2], 13, 1.3833333333333333]\n",
      " - Trial 0/1\n"
     ]
    },
    {
     "name": "stderr",
     "output_type": "stream",
     "text": [
      "100%|██████████| 3/3 [00:15<00:00,  5.32s/it]\n"
     ]
    },
    {
     "name": "stdout",
     "output_type": "stream",
     "text": [
      " - Accuracy: 0.92875\n",
      " - Time: 15.96 sec\n",
      "\n",
      "# Best Model:  0.935\n",
      " - Hypers: [[900, 160, 2], 6, 0.5533333333333333]\n",
      " - Accuracy: 0.935\n",
      " - Time: 16.16\n",
      "# Current Model (40/125)\n",
      " - Hypers: [[900, 106, 2], 3, 0.83]\n",
      " - Trial 0/1\n"
     ]
    },
    {
     "name": "stderr",
     "output_type": "stream",
     "text": [
      "100%|██████████| 3/3 [00:17<00:00,  5.69s/it]\n"
     ]
    },
    {
     "name": "stdout",
     "output_type": "stream",
     "text": [
      " - Accuracy: 0.93125\n",
      " - Time: 17.08 sec\n",
      "\n",
      "# Best Model:  0.935\n",
      " - Hypers: [[900, 160, 2], 6, 0.5533333333333333]\n",
      " - Accuracy: 0.935\n",
      " - Time: 16.16\n",
      "# Current Model (41/125)\n",
      " - Hypers: [[900, 106, 2], 3, 0.5533333333333333]\n",
      " - Trial 0/1\n"
     ]
    },
    {
     "name": "stderr",
     "output_type": "stream",
     "text": [
      "100%|██████████| 3/3 [00:16<00:00,  5.62s/it]\n"
     ]
    },
    {
     "name": "stdout",
     "output_type": "stream",
     "text": [
      " - Accuracy: 0.91\n",
      " - Time: 16.87 sec\n",
      "\n",
      "# Best Model:  0.935\n",
      " - Hypers: [[900, 160, 2], 6, 0.5533333333333333]\n",
      " - Accuracy: 0.935\n",
      " - Time: 16.16\n",
      "# Current Model (42/125)\n",
      " - Hypers: [[900, 106, 2], 3, 1.1066666666666665]\n",
      " - Trial 0/1\n"
     ]
    },
    {
     "name": "stderr",
     "output_type": "stream",
     "text": [
      "100%|██████████| 3/3 [00:16<00:00,  5.59s/it]\n"
     ]
    },
    {
     "name": "stdout",
     "output_type": "stream",
     "text": [
      " - Accuracy: 0.91875\n",
      " - Time: 16.78 sec\n",
      "\n",
      "# Best Model:  0.935\n",
      " - Hypers: [[900, 160, 2], 6, 0.5533333333333333]\n",
      " - Accuracy: 0.935\n",
      " - Time: 16.16\n",
      "# Current Model (43/125)\n",
      " - Hypers: [[900, 106, 2], 3, 0.2766666666666667]\n",
      " - Trial 0/1\n"
     ]
    },
    {
     "name": "stderr",
     "output_type": "stream",
     "text": [
      "100%|██████████| 3/3 [00:16<00:00,  5.40s/it]\n"
     ]
    },
    {
     "name": "stdout",
     "output_type": "stream",
     "text": [
      " - Accuracy: 0.92125\n",
      " - Time: 16.21 sec\n",
      "\n",
      "# Best Model:  0.935\n",
      " - Hypers: [[900, 160, 2], 6, 0.5533333333333333]\n",
      " - Accuracy: 0.935\n",
      " - Time: 16.16\n",
      "# Current Model (44/125)\n",
      " - Hypers: [[900, 106, 2], 3, 1.3833333333333333]\n",
      " - Trial 0/1\n"
     ]
    },
    {
     "name": "stderr",
     "output_type": "stream",
     "text": [
      "100%|██████████| 3/3 [00:16<00:00,  5.63s/it]\n"
     ]
    },
    {
     "name": "stdout",
     "output_type": "stream",
     "text": [
      " - Accuracy: 0.91125\n",
      " - Time: 16.88 sec\n",
      "\n",
      "# Best Model:  0.935\n",
      " - Hypers: [[900, 160, 2], 6, 0.5533333333333333]\n",
      " - Accuracy: 0.935\n",
      " - Time: 16.16\n",
      "# Current Model (45/125)\n",
      " - Hypers: [[900, 106, 2], 16, 0.83]\n",
      " - Trial 0/1\n"
     ]
    },
    {
     "name": "stderr",
     "output_type": "stream",
     "text": [
      "100%|██████████| 3/3 [00:15<00:00,  5.33s/it]\n"
     ]
    },
    {
     "name": "stdout",
     "output_type": "stream",
     "text": [
      " - Accuracy: 0.91625\n",
      " - Time: 15.99 sec\n",
      "\n",
      "# Best Model:  0.935\n",
      " - Hypers: [[900, 160, 2], 6, 0.5533333333333333]\n",
      " - Accuracy: 0.935\n",
      " - Time: 16.16\n",
      "# Current Model (46/125)\n",
      " - Hypers: [[900, 106, 2], 16, 0.5533333333333333]\n",
      " - Trial 0/1\n"
     ]
    },
    {
     "name": "stderr",
     "output_type": "stream",
     "text": [
      "100%|██████████| 3/3 [00:15<00:00,  5.10s/it]\n"
     ]
    },
    {
     "name": "stdout",
     "output_type": "stream",
     "text": [
      " - Accuracy: 0.91125\n",
      " - Time: 15.3 sec\n",
      "\n",
      "# Best Model:  0.935\n",
      " - Hypers: [[900, 160, 2], 6, 0.5533333333333333]\n",
      " - Accuracy: 0.935\n",
      " - Time: 16.16\n",
      "# Current Model (47/125)\n",
      " - Hypers: [[900, 106, 2], 16, 1.1066666666666665]\n",
      " - Trial 0/1\n"
     ]
    },
    {
     "name": "stderr",
     "output_type": "stream",
     "text": [
      "100%|██████████| 3/3 [00:15<00:00,  5.19s/it]\n"
     ]
    },
    {
     "name": "stdout",
     "output_type": "stream",
     "text": [
      " - Accuracy: 0.91625\n",
      " - Time: 15.58 sec\n",
      "\n",
      "# Best Model:  0.935\n",
      " - Hypers: [[900, 160, 2], 6, 0.5533333333333333]\n",
      " - Accuracy: 0.935\n",
      " - Time: 16.16\n",
      "# Current Model (48/125)\n",
      " - Hypers: [[900, 106, 2], 16, 0.2766666666666667]\n",
      " - Trial 0/1\n"
     ]
    },
    {
     "name": "stderr",
     "output_type": "stream",
     "text": [
      "100%|██████████| 3/3 [00:15<00:00,  5.21s/it]\n"
     ]
    },
    {
     "name": "stdout",
     "output_type": "stream",
     "text": [
      " - Accuracy: 0.895\n",
      " - Time: 15.64 sec\n",
      "\n",
      "# Best Model:  0.935\n",
      " - Hypers: [[900, 160, 2], 6, 0.5533333333333333]\n",
      " - Accuracy: 0.935\n",
      " - Time: 16.16\n",
      "# Current Model (49/125)\n",
      " - Hypers: [[900, 106, 2], 16, 1.3833333333333333]\n",
      " - Trial 0/1\n"
     ]
    },
    {
     "name": "stderr",
     "output_type": "stream",
     "text": [
      "100%|██████████| 3/3 [00:15<00:00,  5.07s/it]\n"
     ]
    },
    {
     "name": "stdout",
     "output_type": "stream",
     "text": [
      " - Accuracy: 0.91875\n",
      " - Time: 15.21 sec\n",
      "\n",
      "# Best Model:  0.935\n",
      " - Hypers: [[900, 160, 2], 6, 0.5533333333333333]\n",
      " - Accuracy: 0.935\n",
      " - Time: 16.16\n",
      "# Current Model (50/125)\n",
      " - Hypers: [[900, 213, 2], 10, 0.83]\n",
      " - Trial 0/1\n"
     ]
    },
    {
     "name": "stderr",
     "output_type": "stream",
     "text": [
      "100%|██████████| 3/3 [00:15<00:00,  5.25s/it]\n"
     ]
    },
    {
     "name": "stdout",
     "output_type": "stream",
     "text": [
      " - Accuracy: 0.92\n",
      " - Time: 15.76 sec\n",
      "\n",
      "# Best Model:  0.935\n",
      " - Hypers: [[900, 160, 2], 6, 0.5533333333333333]\n",
      " - Accuracy: 0.935\n",
      " - Time: 16.16\n",
      "# Current Model (51/125)\n",
      " - Hypers: [[900, 213, 2], 10, 0.5533333333333333]\n",
      " - Trial 0/1\n"
     ]
    },
    {
     "name": "stderr",
     "output_type": "stream",
     "text": [
      "100%|██████████| 3/3 [00:15<00:00,  5.07s/it]\n"
     ]
    },
    {
     "name": "stdout",
     "output_type": "stream",
     "text": [
      " - Accuracy: 0.915\n",
      " - Time: 15.2 sec\n",
      "\n",
      "# Best Model:  0.935\n",
      " - Hypers: [[900, 160, 2], 6, 0.5533333333333333]\n",
      " - Accuracy: 0.935\n",
      " - Time: 16.16\n",
      "# Current Model (52/125)\n",
      " - Hypers: [[900, 213, 2], 10, 1.1066666666666665]\n",
      " - Trial 0/1\n"
     ]
    },
    {
     "name": "stderr",
     "output_type": "stream",
     "text": [
      "100%|██████████| 3/3 [00:15<00:00,  5.05s/it]\n"
     ]
    },
    {
     "name": "stdout",
     "output_type": "stream",
     "text": [
      " - Accuracy: 0.93\n",
      " - Time: 15.14 sec\n",
      "\n",
      "# Best Model:  0.935\n",
      " - Hypers: [[900, 160, 2], 6, 0.5533333333333333]\n",
      " - Accuracy: 0.935\n",
      " - Time: 16.16\n",
      "# Current Model (53/125)\n",
      " - Hypers: [[900, 213, 2], 10, 0.2766666666666667]\n",
      " - Trial 0/1\n"
     ]
    },
    {
     "name": "stderr",
     "output_type": "stream",
     "text": [
      "100%|██████████| 3/3 [00:15<00:00,  5.19s/it]\n"
     ]
    },
    {
     "name": "stdout",
     "output_type": "stream",
     "text": [
      " - Accuracy: 0.90625\n",
      " - Time: 15.56 sec\n",
      "\n",
      "# Best Model:  0.935\n",
      " - Hypers: [[900, 160, 2], 6, 0.5533333333333333]\n",
      " - Accuracy: 0.935\n",
      " - Time: 16.16\n",
      "# Current Model (54/125)\n",
      " - Hypers: [[900, 213, 2], 10, 1.3833333333333333]\n",
      " - Trial 0/1\n"
     ]
    },
    {
     "name": "stderr",
     "output_type": "stream",
     "text": [
      "100%|██████████| 3/3 [00:16<00:00,  5.54s/it]\n"
     ]
    },
    {
     "name": "stdout",
     "output_type": "stream",
     "text": [
      " - Accuracy: 0.93375\n",
      " - Time: 16.61 sec\n",
      "\n",
      "# Best Model:  0.935\n",
      " - Hypers: [[900, 160, 2], 6, 0.5533333333333333]\n",
      " - Accuracy: 0.935\n",
      " - Time: 16.16\n",
      "# Current Model (55/125)\n",
      " - Hypers: [[900, 213, 2], 6, 0.83]\n",
      " - Trial 0/1\n"
     ]
    },
    {
     "name": "stderr",
     "output_type": "stream",
     "text": [
      "100%|██████████| 3/3 [00:15<00:00,  5.21s/it]\n"
     ]
    },
    {
     "name": "stdout",
     "output_type": "stream",
     "text": [
      " - Accuracy: 0.91875\n",
      " - Time: 15.62 sec\n",
      "\n",
      "# Best Model:  0.935\n",
      " - Hypers: [[900, 160, 2], 6, 0.5533333333333333]\n",
      " - Accuracy: 0.935\n",
      " - Time: 16.16\n",
      "# Current Model (56/125)\n",
      " - Hypers: [[900, 213, 2], 6, 0.5533333333333333]\n",
      " - Trial 0/1\n"
     ]
    },
    {
     "name": "stderr",
     "output_type": "stream",
     "text": [
      "100%|██████████| 3/3 [00:15<00:00,  5.04s/it]\n"
     ]
    },
    {
     "name": "stdout",
     "output_type": "stream",
     "text": [
      " - Accuracy: 0.92375\n",
      " - Time: 15.13 sec\n",
      "\n",
      "# Best Model:  0.935\n",
      " - Hypers: [[900, 160, 2], 6, 0.5533333333333333]\n",
      " - Accuracy: 0.935\n",
      " - Time: 16.16\n",
      "# Current Model (57/125)\n",
      " - Hypers: [[900, 213, 2], 6, 1.1066666666666665]\n",
      " - Trial 0/1\n"
     ]
    },
    {
     "name": "stderr",
     "output_type": "stream",
     "text": [
      "100%|██████████| 3/3 [00:15<00:00,  5.00s/it]\n"
     ]
    },
    {
     "name": "stdout",
     "output_type": "stream",
     "text": [
      " - Accuracy: 0.9075\n",
      " - Time: 15.01 sec\n",
      "\n",
      "# Best Model:  0.935\n",
      " - Hypers: [[900, 160, 2], 6, 0.5533333333333333]\n",
      " - Accuracy: 0.935\n",
      " - Time: 16.16\n",
      "# Current Model (58/125)\n",
      " - Hypers: [[900, 213, 2], 6, 0.2766666666666667]\n",
      " - Trial 0/1\n"
     ]
    },
    {
     "name": "stderr",
     "output_type": "stream",
     "text": [
      "100%|██████████| 3/3 [00:15<00:00,  5.27s/it]\n"
     ]
    },
    {
     "name": "stdout",
     "output_type": "stream",
     "text": [
      " - Accuracy: 0.91375\n",
      " - Time: 15.82 sec\n",
      "\n",
      "# Best Model:  0.935\n",
      " - Hypers: [[900, 160, 2], 6, 0.5533333333333333]\n",
      " - Accuracy: 0.935\n",
      " - Time: 16.16\n",
      "# Current Model (59/125)\n",
      " - Hypers: [[900, 213, 2], 6, 1.3833333333333333]\n",
      " - Trial 0/1\n"
     ]
    },
    {
     "name": "stderr",
     "output_type": "stream",
     "text": [
      "100%|██████████| 3/3 [00:15<00:00,  5.05s/it]\n"
     ]
    },
    {
     "name": "stdout",
     "output_type": "stream",
     "text": [
      " - Accuracy: 0.92625\n",
      " - Time: 15.15 sec\n",
      "\n",
      "# Best Model:  0.935\n",
      " - Hypers: [[900, 160, 2], 6, 0.5533333333333333]\n",
      " - Accuracy: 0.935\n",
      " - Time: 16.16\n",
      "# Current Model (60/125)\n",
      " - Hypers: [[900, 213, 2], 13, 0.83]\n",
      " - Trial 0/1\n"
     ]
    },
    {
     "name": "stderr",
     "output_type": "stream",
     "text": [
      "100%|██████████| 3/3 [00:14<00:00,  4.94s/it]\n"
     ]
    },
    {
     "name": "stdout",
     "output_type": "stream",
     "text": [
      " - Accuracy: 0.92125\n",
      " - Time: 14.82 sec\n",
      "\n",
      "# Best Model:  0.935\n",
      " - Hypers: [[900, 160, 2], 6, 0.5533333333333333]\n",
      " - Accuracy: 0.935\n",
      " - Time: 16.16\n",
      "# Current Model (61/125)\n",
      " - Hypers: [[900, 213, 2], 13, 0.5533333333333333]\n",
      " - Trial 0/1\n"
     ]
    },
    {
     "name": "stderr",
     "output_type": "stream",
     "text": [
      "100%|██████████| 3/3 [00:14<00:00,  4.90s/it]\n"
     ]
    },
    {
     "name": "stdout",
     "output_type": "stream",
     "text": [
      " - Accuracy: 0.91875\n",
      " - Time: 14.72 sec\n",
      "\n",
      "# Best Model:  0.935\n",
      " - Hypers: [[900, 160, 2], 6, 0.5533333333333333]\n",
      " - Accuracy: 0.935\n",
      " - Time: 16.16\n",
      "# Current Model (62/125)\n",
      " - Hypers: [[900, 213, 2], 13, 1.1066666666666665]\n",
      " - Trial 0/1\n"
     ]
    },
    {
     "name": "stderr",
     "output_type": "stream",
     "text": [
      "100%|██████████| 3/3 [00:14<00:00,  4.93s/it]\n"
     ]
    },
    {
     "name": "stdout",
     "output_type": "stream",
     "text": [
      " - Accuracy: 0.9125\n",
      " - Time: 14.8 sec\n",
      "\n",
      "# Best Model:  0.935\n",
      " - Hypers: [[900, 160, 2], 6, 0.5533333333333333]\n",
      " - Accuracy: 0.935\n",
      " - Time: 16.16\n",
      "# Current Model (63/125)\n",
      " - Hypers: [[900, 213, 2], 13, 0.2766666666666667]\n",
      " - Trial 0/1\n"
     ]
    },
    {
     "name": "stderr",
     "output_type": "stream",
     "text": [
      "100%|██████████| 3/3 [00:14<00:00,  4.96s/it]\n"
     ]
    },
    {
     "name": "stdout",
     "output_type": "stream",
     "text": [
      " - Accuracy: 0.91375\n",
      " - Time: 14.88 sec\n",
      "\n",
      "# Best Model:  0.935\n",
      " - Hypers: [[900, 160, 2], 6, 0.5533333333333333]\n",
      " - Accuracy: 0.935\n",
      " - Time: 16.16\n",
      "# Current Model (64/125)\n",
      " - Hypers: [[900, 213, 2], 13, 1.3833333333333333]\n",
      " - Trial 0/1\n"
     ]
    },
    {
     "name": "stderr",
     "output_type": "stream",
     "text": [
      "100%|██████████| 3/3 [00:15<00:00,  5.10s/it]\n"
     ]
    },
    {
     "name": "stdout",
     "output_type": "stream",
     "text": [
      " - Accuracy: 0.9125\n",
      " - Time: 15.3 sec\n",
      "\n",
      "# Best Model:  0.935\n",
      " - Hypers: [[900, 160, 2], 6, 0.5533333333333333]\n",
      " - Accuracy: 0.935\n",
      " - Time: 16.16\n",
      "# Current Model (65/125)\n",
      " - Hypers: [[900, 213, 2], 3, 0.83]\n",
      " - Trial 0/1\n"
     ]
    },
    {
     "name": "stderr",
     "output_type": "stream",
     "text": [
      "100%|██████████| 3/3 [00:16<00:00,  5.45s/it]\n"
     ]
    },
    {
     "name": "stdout",
     "output_type": "stream",
     "text": [
      " - Accuracy: 0.925\n",
      " - Time: 16.35 sec\n",
      "\n",
      "# Best Model:  0.935\n",
      " - Hypers: [[900, 160, 2], 6, 0.5533333333333333]\n",
      " - Accuracy: 0.935\n",
      " - Time: 16.16\n",
      "# Current Model (66/125)\n",
      " - Hypers: [[900, 213, 2], 3, 0.5533333333333333]\n",
      " - Trial 0/1\n"
     ]
    },
    {
     "name": "stderr",
     "output_type": "stream",
     "text": [
      "100%|██████████| 3/3 [00:15<00:00,  5.22s/it]\n"
     ]
    },
    {
     "name": "stdout",
     "output_type": "stream",
     "text": [
      " - Accuracy: 0.91\n",
      " - Time: 15.65 sec\n",
      "\n",
      "# Best Model:  0.935\n",
      " - Hypers: [[900, 160, 2], 6, 0.5533333333333333]\n",
      " - Accuracy: 0.935\n",
      " - Time: 16.16\n",
      "# Current Model (67/125)\n",
      " - Hypers: [[900, 213, 2], 3, 1.1066666666666665]\n",
      " - Trial 0/1\n"
     ]
    },
    {
     "name": "stderr",
     "output_type": "stream",
     "text": [
      "100%|██████████| 3/3 [00:16<00:00,  5.61s/it]\n"
     ]
    },
    {
     "name": "stdout",
     "output_type": "stream",
     "text": [
      " - Accuracy: 0.92\n",
      " - Time: 16.82 sec\n",
      "\n",
      "# Best Model:  0.935\n",
      " - Hypers: [[900, 160, 2], 6, 0.5533333333333333]\n",
      " - Accuracy: 0.935\n",
      " - Time: 16.16\n",
      "# Current Model (68/125)\n",
      " - Hypers: [[900, 213, 2], 3, 0.2766666666666667]\n",
      " - Trial 0/1\n"
     ]
    },
    {
     "name": "stderr",
     "output_type": "stream",
     "text": [
      "100%|██████████| 3/3 [00:16<00:00,  5.45s/it]\n"
     ]
    },
    {
     "name": "stdout",
     "output_type": "stream",
     "text": [
      " - Accuracy: 0.91375\n",
      " - Time: 16.34 sec\n",
      "\n",
      "# Best Model:  0.935\n",
      " - Hypers: [[900, 160, 2], 6, 0.5533333333333333]\n",
      " - Accuracy: 0.935\n",
      " - Time: 16.16\n",
      "# Current Model (69/125)\n",
      " - Hypers: [[900, 213, 2], 3, 1.3833333333333333]\n",
      " - Trial 0/1\n"
     ]
    },
    {
     "name": "stderr",
     "output_type": "stream",
     "text": [
      "100%|██████████| 3/3 [00:16<00:00,  5.49s/it]\n"
     ]
    },
    {
     "name": "stdout",
     "output_type": "stream",
     "text": [
      " - Accuracy: 0.91375\n",
      " - Time: 16.46 sec\n",
      "\n",
      "# Best Model:  0.935\n",
      " - Hypers: [[900, 160, 2], 6, 0.5533333333333333]\n",
      " - Accuracy: 0.935\n",
      " - Time: 16.16\n",
      "# Current Model (70/125)\n",
      " - Hypers: [[900, 213, 2], 16, 0.83]\n",
      " - Trial 0/1\n"
     ]
    },
    {
     "name": "stderr",
     "output_type": "stream",
     "text": [
      "100%|██████████| 3/3 [00:14<00:00,  5.00s/it]\n"
     ]
    },
    {
     "name": "stdout",
     "output_type": "stream",
     "text": [
      " - Accuracy: 0.92125\n",
      " - Time: 15.0 sec\n",
      "\n",
      "# Best Model:  0.935\n",
      " - Hypers: [[900, 160, 2], 6, 0.5533333333333333]\n",
      " - Accuracy: 0.935\n",
      " - Time: 16.16\n",
      "# Current Model (71/125)\n",
      " - Hypers: [[900, 213, 2], 16, 0.5533333333333333]\n",
      " - Trial 0/1\n"
     ]
    },
    {
     "name": "stderr",
     "output_type": "stream",
     "text": [
      "100%|██████████| 3/3 [00:14<00:00,  4.92s/it]\n"
     ]
    },
    {
     "name": "stdout",
     "output_type": "stream",
     "text": [
      " - Accuracy: 0.91375\n",
      " - Time: 14.75 sec\n",
      "\n",
      "# Best Model:  0.935\n",
      " - Hypers: [[900, 160, 2], 6, 0.5533333333333333]\n",
      " - Accuracy: 0.935\n",
      " - Time: 16.16\n",
      "# Current Model (72/125)\n",
      " - Hypers: [[900, 213, 2], 16, 1.1066666666666665]\n",
      " - Trial 0/1\n"
     ]
    },
    {
     "name": "stderr",
     "output_type": "stream",
     "text": [
      "100%|██████████| 3/3 [00:14<00:00,  4.99s/it]\n"
     ]
    },
    {
     "name": "stdout",
     "output_type": "stream",
     "text": [
      " - Accuracy: 0.90875\n",
      " - Time: 14.98 sec\n",
      "\n",
      "# Best Model:  0.935\n",
      " - Hypers: [[900, 160, 2], 6, 0.5533333333333333]\n",
      " - Accuracy: 0.935\n",
      " - Time: 16.16\n",
      "# Current Model (73/125)\n",
      " - Hypers: [[900, 213, 2], 16, 0.2766666666666667]\n",
      " - Trial 0/1\n"
     ]
    },
    {
     "name": "stderr",
     "output_type": "stream",
     "text": [
      "100%|██████████| 3/3 [00:15<00:00,  5.07s/it]\n"
     ]
    },
    {
     "name": "stdout",
     "output_type": "stream",
     "text": [
      " - Accuracy: 0.8975\n",
      " - Time: 15.22 sec\n",
      "\n",
      "# Best Model:  0.935\n",
      " - Hypers: [[900, 160, 2], 6, 0.5533333333333333]\n",
      " - Accuracy: 0.935\n",
      " - Time: 16.16\n",
      "# Current Model (74/125)\n",
      " - Hypers: [[900, 213, 2], 16, 1.3833333333333333]\n",
      " - Trial 0/1\n"
     ]
    },
    {
     "name": "stderr",
     "output_type": "stream",
     "text": [
      "100%|██████████| 3/3 [00:14<00:00,  4.99s/it]\n"
     ]
    },
    {
     "name": "stdout",
     "output_type": "stream",
     "text": [
      " - Accuracy: 0.92125\n",
      " - Time: 14.97 sec\n",
      "\n",
      "# Best Model:  0.935\n",
      " - Hypers: [[900, 160, 2], 6, 0.5533333333333333]\n",
      " - Accuracy: 0.935\n",
      " - Time: 16.16\n",
      "# Current Model (75/125)\n",
      " - Hypers: [[900, 53, 2], 10, 0.83]\n",
      " - Trial 0/1\n"
     ]
    },
    {
     "name": "stderr",
     "output_type": "stream",
     "text": [
      "100%|██████████| 3/3 [00:15<00:00,  5.17s/it]\n"
     ]
    },
    {
     "name": "stdout",
     "output_type": "stream",
     "text": [
      " - Accuracy: 0.9125\n",
      " - Time: 15.5 sec\n",
      "\n",
      "# Best Model:  0.935\n",
      " - Hypers: [[900, 160, 2], 6, 0.5533333333333333]\n",
      " - Accuracy: 0.935\n",
      " - Time: 16.16\n",
      "# Current Model (76/125)\n",
      " - Hypers: [[900, 53, 2], 10, 0.5533333333333333]\n",
      " - Trial 0/1\n"
     ]
    },
    {
     "name": "stderr",
     "output_type": "stream",
     "text": [
      "100%|██████████| 3/3 [00:16<00:00,  5.39s/it]\n"
     ]
    },
    {
     "name": "stdout",
     "output_type": "stream",
     "text": [
      " - Accuracy: 0.92375\n",
      " - Time: 16.19 sec\n",
      "\n",
      "# Best Model:  0.935\n",
      " - Hypers: [[900, 160, 2], 6, 0.5533333333333333]\n",
      " - Accuracy: 0.935\n",
      " - Time: 16.16\n",
      "# Current Model (77/125)\n",
      " - Hypers: [[900, 53, 2], 10, 1.1066666666666665]\n",
      " - Trial 0/1\n"
     ]
    },
    {
     "name": "stderr",
     "output_type": "stream",
     "text": [
      "100%|██████████| 3/3 [00:15<00:00,  5.32s/it]\n"
     ]
    },
    {
     "name": "stdout",
     "output_type": "stream",
     "text": [
      " - Accuracy: 0.91125\n",
      " - Time: 15.96 sec\n",
      "\n",
      "# Best Model:  0.935\n",
      " - Hypers: [[900, 160, 2], 6, 0.5533333333333333]\n",
      " - Accuracy: 0.935\n",
      " - Time: 16.16\n",
      "# Current Model (78/125)\n",
      " - Hypers: [[900, 53, 2], 10, 0.2766666666666667]\n",
      " - Trial 0/1\n"
     ]
    },
    {
     "name": "stderr",
     "output_type": "stream",
     "text": [
      "100%|██████████| 3/3 [00:15<00:00,  5.21s/it]\n"
     ]
    },
    {
     "name": "stdout",
     "output_type": "stream",
     "text": [
      " - Accuracy: 0.89625\n",
      " - Time: 15.62 sec\n",
      "\n",
      "# Best Model:  0.935\n",
      " - Hypers: [[900, 160, 2], 6, 0.5533333333333333]\n",
      " - Accuracy: 0.935\n",
      " - Time: 16.16\n",
      "# Current Model (79/125)\n",
      " - Hypers: [[900, 53, 2], 10, 1.3833333333333333]\n",
      " - Trial 0/1\n"
     ]
    },
    {
     "name": "stderr",
     "output_type": "stream",
     "text": [
      "100%|██████████| 3/3 [00:15<00:00,  5.13s/it]\n"
     ]
    },
    {
     "name": "stdout",
     "output_type": "stream",
     "text": [
      " - Accuracy: 0.9225\n",
      " - Time: 15.4 sec\n",
      "\n",
      "# Best Model:  0.935\n",
      " - Hypers: [[900, 160, 2], 6, 0.5533333333333333]\n",
      " - Accuracy: 0.935\n",
      " - Time: 16.16\n",
      "# Current Model (80/125)\n",
      " - Hypers: [[900, 53, 2], 6, 0.83]\n",
      " - Trial 0/1\n"
     ]
    },
    {
     "name": "stderr",
     "output_type": "stream",
     "text": [
      "100%|██████████| 3/3 [00:15<00:00,  5.17s/it]\n"
     ]
    },
    {
     "name": "stdout",
     "output_type": "stream",
     "text": [
      " - Accuracy: 0.92\n",
      " - Time: 15.53 sec\n",
      "\n",
      "# Best Model:  0.935\n",
      " - Hypers: [[900, 160, 2], 6, 0.5533333333333333]\n",
      " - Accuracy: 0.935\n",
      " - Time: 16.16\n",
      "# Current Model (81/125)\n",
      " - Hypers: [[900, 53, 2], 6, 0.5533333333333333]\n",
      " - Trial 0/1\n"
     ]
    },
    {
     "name": "stderr",
     "output_type": "stream",
     "text": [
      "100%|██████████| 3/3 [00:14<00:00,  4.95s/it]\n"
     ]
    },
    {
     "name": "stdout",
     "output_type": "stream",
     "text": [
      " - Accuracy: 0.93\n",
      " - Time: 14.85 sec\n",
      "\n",
      "# Best Model:  0.935\n",
      " - Hypers: [[900, 160, 2], 6, 0.5533333333333333]\n",
      " - Accuracy: 0.935\n",
      " - Time: 16.16\n",
      "# Current Model (82/125)\n",
      " - Hypers: [[900, 53, 2], 6, 1.1066666666666665]\n",
      " - Trial 0/1\n"
     ]
    },
    {
     "name": "stderr",
     "output_type": "stream",
     "text": [
      "100%|██████████| 3/3 [00:15<00:00,  5.06s/it]\n"
     ]
    },
    {
     "name": "stdout",
     "output_type": "stream",
     "text": [
      " - Accuracy: 0.9225\n",
      " - Time: 15.18 sec\n",
      "\n",
      "# Best Model:  0.935\n",
      " - Hypers: [[900, 160, 2], 6, 0.5533333333333333]\n",
      " - Accuracy: 0.935\n",
      " - Time: 16.16\n",
      "# Current Model (83/125)\n",
      " - Hypers: [[900, 53, 2], 6, 0.2766666666666667]\n",
      " - Trial 0/1\n"
     ]
    },
    {
     "name": "stderr",
     "output_type": "stream",
     "text": [
      "100%|██████████| 3/3 [00:14<00:00,  4.95s/it]\n"
     ]
    },
    {
     "name": "stdout",
     "output_type": "stream",
     "text": [
      " - Accuracy: 0.92375\n",
      " - Time: 14.86 sec\n",
      "\n",
      "# Best Model:  0.935\n",
      " - Hypers: [[900, 160, 2], 6, 0.5533333333333333]\n",
      " - Accuracy: 0.935\n",
      " - Time: 16.16\n",
      "# Current Model (84/125)\n",
      " - Hypers: [[900, 53, 2], 6, 1.3833333333333333]\n",
      " - Trial 0/1\n"
     ]
    },
    {
     "name": "stderr",
     "output_type": "stream",
     "text": [
      "100%|██████████| 3/3 [00:14<00:00,  4.94s/it]\n"
     ]
    },
    {
     "name": "stdout",
     "output_type": "stream",
     "text": [
      " - Accuracy: 0.9225\n",
      " - Time: 14.83 sec\n",
      "\n",
      "# Best Model:  0.935\n",
      " - Hypers: [[900, 160, 2], 6, 0.5533333333333333]\n",
      " - Accuracy: 0.935\n",
      " - Time: 16.16\n",
      "# Current Model (85/125)\n",
      " - Hypers: [[900, 53, 2], 13, 0.83]\n",
      " - Trial 0/1\n"
     ]
    },
    {
     "name": "stderr",
     "output_type": "stream",
     "text": [
      "100%|██████████| 3/3 [00:14<00:00,  4.84s/it]\n"
     ]
    },
    {
     "name": "stdout",
     "output_type": "stream",
     "text": [
      " - Accuracy: 0.9075\n",
      " - Time: 14.51 sec\n",
      "\n",
      "# Best Model:  0.935\n",
      " - Hypers: [[900, 160, 2], 6, 0.5533333333333333]\n",
      " - Accuracy: 0.935\n",
      " - Time: 16.16\n",
      "# Current Model (86/125)\n",
      " - Hypers: [[900, 53, 2], 13, 0.5533333333333333]\n",
      " - Trial 0/1\n"
     ]
    },
    {
     "name": "stderr",
     "output_type": "stream",
     "text": [
      "100%|██████████| 3/3 [00:14<00:00,  4.85s/it]\n"
     ]
    },
    {
     "name": "stdout",
     "output_type": "stream",
     "text": [
      " - Accuracy: 0.8975\n",
      " - Time: 14.55 sec\n",
      "\n",
      "# Best Model:  0.935\n",
      " - Hypers: [[900, 160, 2], 6, 0.5533333333333333]\n",
      " - Accuracy: 0.935\n",
      " - Time: 16.16\n",
      "# Current Model (87/125)\n",
      " - Hypers: [[900, 53, 2], 13, 1.1066666666666665]\n",
      " - Trial 0/1\n"
     ]
    },
    {
     "name": "stderr",
     "output_type": "stream",
     "text": [
      "100%|██████████| 3/3 [00:14<00:00,  4.86s/it]\n"
     ]
    },
    {
     "name": "stdout",
     "output_type": "stream",
     "text": [
      " - Accuracy: 0.9175\n",
      " - Time: 14.57 sec\n",
      "\n",
      "# Best Model:  0.935\n",
      " - Hypers: [[900, 160, 2], 6, 0.5533333333333333]\n",
      " - Accuracy: 0.935\n",
      " - Time: 16.16\n",
      "# Current Model (88/125)\n",
      " - Hypers: [[900, 53, 2], 13, 0.2766666666666667]\n",
      " - Trial 0/1\n"
     ]
    },
    {
     "name": "stderr",
     "output_type": "stream",
     "text": [
      "100%|██████████| 3/3 [00:14<00:00,  4.93s/it]\n"
     ]
    },
    {
     "name": "stdout",
     "output_type": "stream",
     "text": [
      " - Accuracy: 0.89125\n",
      " - Time: 14.8 sec\n",
      "\n",
      "# Best Model:  0.935\n",
      " - Hypers: [[900, 160, 2], 6, 0.5533333333333333]\n",
      " - Accuracy: 0.935\n",
      " - Time: 16.16\n",
      "# Current Model (89/125)\n",
      " - Hypers: [[900, 53, 2], 13, 1.3833333333333333]\n",
      " - Trial 0/1\n"
     ]
    },
    {
     "name": "stderr",
     "output_type": "stream",
     "text": [
      "100%|██████████| 3/3 [00:14<00:00,  4.81s/it]\n"
     ]
    },
    {
     "name": "stdout",
     "output_type": "stream",
     "text": [
      " - Accuracy: 0.915\n",
      " - Time: 14.43 sec\n",
      "\n",
      "# Best Model:  0.935\n",
      " - Hypers: [[900, 160, 2], 6, 0.5533333333333333]\n",
      " - Accuracy: 0.935\n",
      " - Time: 16.16\n",
      "# Current Model (90/125)\n",
      " - Hypers: [[900, 53, 2], 3, 0.83]\n",
      " - Trial 0/1\n"
     ]
    },
    {
     "name": "stderr",
     "output_type": "stream",
     "text": [
      "100%|██████████| 3/3 [00:15<00:00,  5.12s/it]\n"
     ]
    },
    {
     "name": "stdout",
     "output_type": "stream",
     "text": [
      " - Accuracy: 0.92875\n",
      " - Time: 15.37 sec\n",
      "\n",
      "# Best Model:  0.935\n",
      " - Hypers: [[900, 160, 2], 6, 0.5533333333333333]\n",
      " - Accuracy: 0.935\n",
      " - Time: 16.16\n",
      "# Current Model (91/125)\n",
      " - Hypers: [[900, 53, 2], 3, 0.5533333333333333]\n",
      " - Trial 0/1\n"
     ]
    },
    {
     "name": "stderr",
     "output_type": "stream",
     "text": [
      "100%|██████████| 3/3 [00:15<00:00,  5.12s/it]\n"
     ]
    },
    {
     "name": "stdout",
     "output_type": "stream",
     "text": [
      " - Accuracy: 0.89625\n",
      " - Time: 15.35 sec\n",
      "\n",
      "# Best Model:  0.935\n",
      " - Hypers: [[900, 160, 2], 6, 0.5533333333333333]\n",
      " - Accuracy: 0.935\n",
      " - Time: 16.16\n",
      "# Current Model (92/125)\n",
      " - Hypers: [[900, 53, 2], 3, 1.1066666666666665]\n",
      " - Trial 0/1\n"
     ]
    },
    {
     "name": "stderr",
     "output_type": "stream",
     "text": [
      "100%|██████████| 3/3 [00:15<00:00,  5.12s/it]\n"
     ]
    },
    {
     "name": "stdout",
     "output_type": "stream",
     "text": [
      " - Accuracy: 0.91125\n",
      " - Time: 15.36 sec\n",
      "\n",
      "# Best Model:  0.935\n",
      " - Hypers: [[900, 160, 2], 6, 0.5533333333333333]\n",
      " - Accuracy: 0.935\n",
      " - Time: 16.16\n",
      "# Current Model (93/125)\n",
      " - Hypers: [[900, 53, 2], 3, 0.2766666666666667]\n",
      " - Trial 0/1\n"
     ]
    },
    {
     "name": "stderr",
     "output_type": "stream",
     "text": [
      "100%|██████████| 3/3 [00:15<00:00,  5.11s/it]\n"
     ]
    },
    {
     "name": "stdout",
     "output_type": "stream",
     "text": [
      " - Accuracy: 0.9225\n",
      " - Time: 15.34 sec\n",
      "\n",
      "# Best Model:  0.935\n",
      " - Hypers: [[900, 160, 2], 6, 0.5533333333333333]\n",
      " - Accuracy: 0.935\n",
      " - Time: 16.16\n",
      "# Current Model (94/125)\n",
      " - Hypers: [[900, 53, 2], 3, 1.3833333333333333]\n",
      " - Trial 0/1\n"
     ]
    },
    {
     "name": "stderr",
     "output_type": "stream",
     "text": [
      "100%|██████████| 3/3 [00:15<00:00,  5.23s/it]\n"
     ]
    },
    {
     "name": "stdout",
     "output_type": "stream",
     "text": [
      " - Accuracy: 0.9275\n",
      " - Time: 15.69 sec\n",
      "\n",
      "# Best Model:  0.935\n",
      " - Hypers: [[900, 160, 2], 6, 0.5533333333333333]\n",
      " - Accuracy: 0.935\n",
      " - Time: 16.16\n",
      "# Current Model (95/125)\n",
      " - Hypers: [[900, 53, 2], 16, 0.83]\n",
      " - Trial 0/1\n"
     ]
    },
    {
     "name": "stderr",
     "output_type": "stream",
     "text": [
      "100%|██████████| 3/3 [00:14<00:00,  4.81s/it]\n"
     ]
    },
    {
     "name": "stdout",
     "output_type": "stream",
     "text": [
      " - Accuracy: 0.91\n",
      " - Time: 14.44 sec\n",
      "\n",
      "# Best Model:  0.935\n",
      " - Hypers: [[900, 160, 2], 6, 0.5533333333333333]\n",
      " - Accuracy: 0.935\n",
      " - Time: 16.16\n",
      "# Current Model (96/125)\n",
      " - Hypers: [[900, 53, 2], 16, 0.5533333333333333]\n",
      " - Trial 0/1\n"
     ]
    },
    {
     "name": "stderr",
     "output_type": "stream",
     "text": [
      "100%|██████████| 3/3 [00:14<00:00,  4.80s/it]\n"
     ]
    },
    {
     "name": "stdout",
     "output_type": "stream",
     "text": [
      " - Accuracy: 0.90375\n",
      " - Time: 14.41 sec\n",
      "\n",
      "# Best Model:  0.935\n",
      " - Hypers: [[900, 160, 2], 6, 0.5533333333333333]\n",
      " - Accuracy: 0.935\n",
      " - Time: 16.16\n",
      "# Current Model (97/125)\n",
      " - Hypers: [[900, 53, 2], 16, 1.1066666666666665]\n",
      " - Trial 0/1\n"
     ]
    },
    {
     "name": "stderr",
     "output_type": "stream",
     "text": [
      "100%|██████████| 3/3 [00:14<00:00,  4.83s/it]\n"
     ]
    },
    {
     "name": "stdout",
     "output_type": "stream",
     "text": [
      " - Accuracy: 0.91\n",
      " - Time: 14.48 sec\n",
      "\n",
      "# Best Model:  0.935\n",
      " - Hypers: [[900, 160, 2], 6, 0.5533333333333333]\n",
      " - Accuracy: 0.935\n",
      " - Time: 16.16\n",
      "# Current Model (98/125)\n",
      " - Hypers: [[900, 53, 2], 16, 0.2766666666666667]\n",
      " - Trial 0/1\n"
     ]
    },
    {
     "name": "stderr",
     "output_type": "stream",
     "text": [
      "100%|██████████| 3/3 [00:14<00:00,  4.82s/it]\n"
     ]
    },
    {
     "name": "stdout",
     "output_type": "stream",
     "text": [
      " - Accuracy: 0.90375\n",
      " - Time: 14.47 sec\n",
      "\n",
      "# Best Model:  0.935\n",
      " - Hypers: [[900, 160, 2], 6, 0.5533333333333333]\n",
      " - Accuracy: 0.935\n",
      " - Time: 16.16\n",
      "# Current Model (99/125)\n",
      " - Hypers: [[900, 53, 2], 16, 1.3833333333333333]\n",
      " - Trial 0/1\n"
     ]
    },
    {
     "name": "stderr",
     "output_type": "stream",
     "text": [
      "100%|██████████| 3/3 [00:14<00:00,  4.81s/it]\n"
     ]
    },
    {
     "name": "stdout",
     "output_type": "stream",
     "text": [
      " - Accuracy: 0.91\n",
      " - Time: 14.42 sec\n",
      "\n",
      "# Best Model:  0.935\n",
      " - Hypers: [[900, 160, 2], 6, 0.5533333333333333]\n",
      " - Accuracy: 0.935\n",
      " - Time: 16.16\n",
      "# Current Model (100/125)\n",
      " - Hypers: [[900, 266, 2], 10, 0.83]\n",
      " - Trial 0/1\n"
     ]
    },
    {
     "name": "stderr",
     "output_type": "stream",
     "text": [
      "100%|██████████| 3/3 [00:14<00:00,  4.98s/it]\n"
     ]
    },
    {
     "name": "stdout",
     "output_type": "stream",
     "text": [
      " - Accuracy: 0.92125\n",
      " - Time: 14.94 sec\n",
      "\n",
      "# Best Model:  0.935\n",
      " - Hypers: [[900, 160, 2], 6, 0.5533333333333333]\n",
      " - Accuracy: 0.935\n",
      " - Time: 16.16\n",
      "# Current Model (101/125)\n",
      " - Hypers: [[900, 266, 2], 10, 0.5533333333333333]\n",
      " - Trial 0/1\n"
     ]
    },
    {
     "name": "stderr",
     "output_type": "stream",
     "text": [
      "100%|██████████| 3/3 [00:14<00:00,  4.92s/it]\n"
     ]
    },
    {
     "name": "stdout",
     "output_type": "stream",
     "text": [
      " - Accuracy: 0.92375\n",
      " - Time: 14.77 sec\n",
      "\n",
      "# Best Model:  0.935\n",
      " - Hypers: [[900, 160, 2], 6, 0.5533333333333333]\n",
      " - Accuracy: 0.935\n",
      " - Time: 16.16\n",
      "# Current Model (102/125)\n",
      " - Hypers: [[900, 266, 2], 10, 1.1066666666666665]\n",
      " - Trial 0/1\n"
     ]
    },
    {
     "name": "stderr",
     "output_type": "stream",
     "text": [
      "100%|██████████| 3/3 [00:14<00:00,  4.89s/it]\n"
     ]
    },
    {
     "name": "stdout",
     "output_type": "stream",
     "text": [
      " - Accuracy: 0.925\n",
      " - Time: 14.67 sec\n",
      "\n",
      "# Best Model:  0.935\n",
      " - Hypers: [[900, 160, 2], 6, 0.5533333333333333]\n",
      " - Accuracy: 0.935\n",
      " - Time: 16.16\n",
      "# Current Model (103/125)\n",
      " - Hypers: [[900, 266, 2], 10, 0.2766666666666667]\n",
      " - Trial 0/1\n"
     ]
    },
    {
     "name": "stderr",
     "output_type": "stream",
     "text": [
      "100%|██████████| 3/3 [00:14<00:00,  4.96s/it]\n"
     ]
    },
    {
     "name": "stdout",
     "output_type": "stream",
     "text": [
      " - Accuracy: 0.91125\n",
      " - Time: 14.89 sec\n",
      "\n",
      "# Best Model:  0.935\n",
      " - Hypers: [[900, 160, 2], 6, 0.5533333333333333]\n",
      " - Accuracy: 0.935\n",
      " - Time: 16.16\n",
      "# Current Model (104/125)\n",
      " - Hypers: [[900, 266, 2], 10, 1.3833333333333333]\n",
      " - Trial 0/1\n"
     ]
    },
    {
     "name": "stderr",
     "output_type": "stream",
     "text": [
      "100%|██████████| 3/3 [00:14<00:00,  4.91s/it]\n"
     ]
    },
    {
     "name": "stdout",
     "output_type": "stream",
     "text": [
      " - Accuracy: 0.92125\n",
      " - Time: 14.74 sec\n",
      "\n",
      "# Best Model:  0.935\n",
      " - Hypers: [[900, 160, 2], 6, 0.5533333333333333]\n",
      " - Accuracy: 0.935\n",
      " - Time: 16.16\n",
      "# Current Model (105/125)\n",
      " - Hypers: [[900, 266, 2], 6, 0.83]\n",
      " - Trial 0/1\n"
     ]
    },
    {
     "name": "stderr",
     "output_type": "stream",
     "text": [
      "100%|██████████| 3/3 [00:15<00:00,  5.01s/it]\n"
     ]
    },
    {
     "name": "stdout",
     "output_type": "stream",
     "text": [
      " - Accuracy: 0.91875\n",
      " - Time: 15.04 sec\n",
      "\n",
      "# Best Model:  0.935\n",
      " - Hypers: [[900, 160, 2], 6, 0.5533333333333333]\n",
      " - Accuracy: 0.935\n",
      " - Time: 16.16\n",
      "# Current Model (106/125)\n",
      " - Hypers: [[900, 266, 2], 6, 0.5533333333333333]\n",
      " - Trial 0/1\n"
     ]
    },
    {
     "name": "stderr",
     "output_type": "stream",
     "text": [
      "100%|██████████| 3/3 [00:15<00:00,  5.03s/it]\n"
     ]
    },
    {
     "name": "stdout",
     "output_type": "stream",
     "text": [
      " - Accuracy: 0.92\n",
      " - Time: 15.08 sec\n",
      "\n",
      "# Best Model:  0.935\n",
      " - Hypers: [[900, 160, 2], 6, 0.5533333333333333]\n",
      " - Accuracy: 0.935\n",
      " - Time: 16.16\n",
      "# Current Model (107/125)\n",
      " - Hypers: [[900, 266, 2], 6, 1.1066666666666665]\n",
      " - Trial 0/1\n"
     ]
    },
    {
     "name": "stderr",
     "output_type": "stream",
     "text": [
      "100%|██████████| 3/3 [00:15<00:00,  5.06s/it]\n"
     ]
    },
    {
     "name": "stdout",
     "output_type": "stream",
     "text": [
      " - Accuracy: 0.925\n",
      " - Time: 15.2 sec\n",
      "\n",
      "# Best Model:  0.935\n",
      " - Hypers: [[900, 160, 2], 6, 0.5533333333333333]\n",
      " - Accuracy: 0.935\n",
      " - Time: 16.16\n",
      "# Current Model (108/125)\n",
      " - Hypers: [[900, 266, 2], 6, 0.2766666666666667]\n",
      " - Trial 0/1\n"
     ]
    },
    {
     "name": "stderr",
     "output_type": "stream",
     "text": [
      "100%|██████████| 3/3 [00:15<00:00,  5.01s/it]\n"
     ]
    },
    {
     "name": "stdout",
     "output_type": "stream",
     "text": [
      " - Accuracy: 0.91\n",
      " - Time: 15.02 sec\n",
      "\n",
      "# Best Model:  0.935\n",
      " - Hypers: [[900, 160, 2], 6, 0.5533333333333333]\n",
      " - Accuracy: 0.935\n",
      " - Time: 16.16\n",
      "# Current Model (109/125)\n",
      " - Hypers: [[900, 266, 2], 6, 1.3833333333333333]\n",
      " - Trial 0/1\n"
     ]
    },
    {
     "name": "stderr",
     "output_type": "stream",
     "text": [
      "100%|██████████| 3/3 [00:15<00:00,  5.03s/it]\n"
     ]
    },
    {
     "name": "stdout",
     "output_type": "stream",
     "text": [
      " - Accuracy: 0.92125\n",
      " - Time: 15.11 sec\n",
      "\n",
      "# Best Model:  0.935\n",
      " - Hypers: [[900, 160, 2], 6, 0.5533333333333333]\n",
      " - Accuracy: 0.935\n",
      " - Time: 16.16\n",
      "# Current Model (110/125)\n",
      " - Hypers: [[900, 266, 2], 13, 0.83]\n",
      " - Trial 0/1\n"
     ]
    },
    {
     "name": "stderr",
     "output_type": "stream",
     "text": [
      "100%|██████████| 3/3 [00:14<00:00,  4.90s/it]\n"
     ]
    },
    {
     "name": "stdout",
     "output_type": "stream",
     "text": [
      " - Accuracy: 0.90625\n",
      " - Time: 14.69 sec\n",
      "\n",
      "# Best Model:  0.935\n",
      " - Hypers: [[900, 160, 2], 6, 0.5533333333333333]\n",
      " - Accuracy: 0.935\n",
      " - Time: 16.16\n",
      "# Current Model (111/125)\n",
      " - Hypers: [[900, 266, 2], 13, 0.5533333333333333]\n",
      " - Trial 0/1\n"
     ]
    },
    {
     "name": "stderr",
     "output_type": "stream",
     "text": [
      "100%|██████████| 3/3 [00:14<00:00,  4.93s/it]\n"
     ]
    },
    {
     "name": "stdout",
     "output_type": "stream",
     "text": [
      " - Accuracy: 0.91\n",
      " - Time: 14.8 sec\n",
      "\n",
      "# Best Model:  0.935\n",
      " - Hypers: [[900, 160, 2], 6, 0.5533333333333333]\n",
      " - Accuracy: 0.935\n",
      " - Time: 16.16\n",
      "# Current Model (112/125)\n",
      " - Hypers: [[900, 266, 2], 13, 1.1066666666666665]\n",
      " - Trial 0/1\n"
     ]
    },
    {
     "name": "stderr",
     "output_type": "stream",
     "text": [
      "100%|██████████| 3/3 [00:14<00:00,  4.93s/it]\n"
     ]
    },
    {
     "name": "stdout",
     "output_type": "stream",
     "text": [
      " - Accuracy: 0.92125\n",
      " - Time: 14.79 sec\n",
      "\n",
      "# Best Model:  0.935\n",
      " - Hypers: [[900, 160, 2], 6, 0.5533333333333333]\n",
      " - Accuracy: 0.935\n",
      " - Time: 16.16\n",
      "# Current Model (113/125)\n",
      " - Hypers: [[900, 266, 2], 13, 0.2766666666666667]\n",
      " - Trial 0/1\n"
     ]
    },
    {
     "name": "stderr",
     "output_type": "stream",
     "text": [
      "100%|██████████| 3/3 [00:14<00:00,  4.91s/it]\n"
     ]
    },
    {
     "name": "stdout",
     "output_type": "stream",
     "text": [
      " - Accuracy: 0.895\n",
      " - Time: 14.73 sec\n",
      "\n",
      "# Best Model:  0.935\n",
      " - Hypers: [[900, 160, 2], 6, 0.5533333333333333]\n",
      " - Accuracy: 0.935\n",
      " - Time: 16.16\n",
      "# Current Model (114/125)\n",
      " - Hypers: [[900, 266, 2], 13, 1.3833333333333333]\n",
      " - Trial 0/1\n"
     ]
    },
    {
     "name": "stderr",
     "output_type": "stream",
     "text": [
      "100%|██████████| 3/3 [00:15<00:00,  5.10s/it]\n"
     ]
    },
    {
     "name": "stdout",
     "output_type": "stream",
     "text": [
      " - Accuracy: 0.92625\n",
      " - Time: 15.29 sec\n",
      "\n",
      "# Best Model:  0.935\n",
      " - Hypers: [[900, 160, 2], 6, 0.5533333333333333]\n",
      " - Accuracy: 0.935\n",
      " - Time: 16.16\n",
      "# Current Model (115/125)\n",
      " - Hypers: [[900, 266, 2], 3, 0.83]\n",
      " - Trial 0/1\n"
     ]
    },
    {
     "name": "stderr",
     "output_type": "stream",
     "text": [
      "100%|██████████| 3/3 [00:16<00:00,  5.46s/it]\n"
     ]
    },
    {
     "name": "stdout",
     "output_type": "stream",
     "text": [
      " - Accuracy: 0.92125\n",
      " - Time: 16.4 sec\n",
      "\n",
      "# Best Model:  0.935\n",
      " - Hypers: [[900, 160, 2], 6, 0.5533333333333333]\n",
      " - Accuracy: 0.935\n",
      " - Time: 16.16\n",
      "# Current Model (116/125)\n",
      " - Hypers: [[900, 266, 2], 3, 0.5533333333333333]\n",
      " - Trial 0/1\n"
     ]
    },
    {
     "name": "stderr",
     "output_type": "stream",
     "text": [
      "100%|██████████| 3/3 [00:16<00:00,  5.43s/it]\n"
     ]
    },
    {
     "name": "stdout",
     "output_type": "stream",
     "text": [
      " - Accuracy: 0.9375\n",
      " - Time: 16.28 sec\n",
      "\n",
      "# Best Model:  0.9375\n",
      " - Hypers: [[900, 266, 2], 3, 0.5533333333333333]\n",
      " - Accuracy: 0.9375\n",
      " - Time: 16.28\n",
      "# Current Model (117/125)\n",
      " - Hypers: [[900, 266, 2], 3, 1.1066666666666665]\n",
      " - Trial 0/1\n"
     ]
    },
    {
     "name": "stderr",
     "output_type": "stream",
     "text": [
      "100%|██████████| 3/3 [00:15<00:00,  5.26s/it]\n"
     ]
    },
    {
     "name": "stdout",
     "output_type": "stream",
     "text": [
      " - Accuracy: 0.90625\n",
      " - Time: 15.79 sec\n",
      "\n",
      "# Best Model:  0.9375\n",
      " - Hypers: [[900, 266, 2], 3, 0.5533333333333333]\n",
      " - Accuracy: 0.9375\n",
      " - Time: 16.28\n",
      "# Current Model (118/125)\n",
      " - Hypers: [[900, 266, 2], 3, 0.2766666666666667]\n",
      " - Trial 0/1\n"
     ]
    },
    {
     "name": "stderr",
     "output_type": "stream",
     "text": [
      "100%|██████████| 3/3 [00:15<00:00,  5.25s/it]\n"
     ]
    },
    {
     "name": "stdout",
     "output_type": "stream",
     "text": [
      " - Accuracy: 0.915\n",
      " - Time: 15.75 sec\n",
      "\n",
      "# Best Model:  0.9375\n",
      " - Hypers: [[900, 266, 2], 3, 0.5533333333333333]\n",
      " - Accuracy: 0.9375\n",
      " - Time: 16.28\n",
      "# Current Model (119/125)\n",
      " - Hypers: [[900, 266, 2], 3, 1.3833333333333333]\n",
      " - Trial 0/1\n"
     ]
    },
    {
     "name": "stderr",
     "output_type": "stream",
     "text": [
      "100%|██████████| 3/3 [00:15<00:00,  5.26s/it]\n"
     ]
    },
    {
     "name": "stdout",
     "output_type": "stream",
     "text": [
      " - Accuracy: 0.9175\n",
      " - Time: 15.77 sec\n",
      "\n",
      "# Best Model:  0.9375\n",
      " - Hypers: [[900, 266, 2], 3, 0.5533333333333333]\n",
      " - Accuracy: 0.9375\n",
      " - Time: 16.28\n",
      "# Current Model (120/125)\n",
      " - Hypers: [[900, 266, 2], 16, 0.83]\n",
      " - Trial 0/1\n"
     ]
    },
    {
     "name": "stderr",
     "output_type": "stream",
     "text": [
      "100%|██████████| 3/3 [00:15<00:00,  5.02s/it]\n"
     ]
    },
    {
     "name": "stdout",
     "output_type": "stream",
     "text": [
      " - Accuracy: 0.91\n",
      " - Time: 15.06 sec\n",
      "\n",
      "# Best Model:  0.9375\n",
      " - Hypers: [[900, 266, 2], 3, 0.5533333333333333]\n",
      " - Accuracy: 0.9375\n",
      " - Time: 16.28\n",
      "# Current Model (121/125)\n",
      " - Hypers: [[900, 266, 2], 16, 0.5533333333333333]\n",
      " - Trial 0/1\n"
     ]
    },
    {
     "name": "stderr",
     "output_type": "stream",
     "text": [
      "100%|██████████| 3/3 [00:15<00:00,  5.08s/it]\n"
     ]
    },
    {
     "name": "stdout",
     "output_type": "stream",
     "text": [
      " - Accuracy: 0.92375\n",
      " - Time: 15.25 sec\n",
      "\n",
      "# Best Model:  0.9375\n",
      " - Hypers: [[900, 266, 2], 3, 0.5533333333333333]\n",
      " - Accuracy: 0.9375\n",
      " - Time: 16.28\n",
      "# Current Model (122/125)\n",
      " - Hypers: [[900, 266, 2], 16, 1.1066666666666665]\n",
      " - Trial 0/1\n"
     ]
    },
    {
     "name": "stderr",
     "output_type": "stream",
     "text": [
      "100%|██████████| 3/3 [00:15<00:00,  5.09s/it]\n"
     ]
    },
    {
     "name": "stdout",
     "output_type": "stream",
     "text": [
      " - Accuracy: 0.9275\n",
      " - Time: 15.27 sec\n",
      "\n",
      "# Best Model:  0.9375\n",
      " - Hypers: [[900, 266, 2], 3, 0.5533333333333333]\n",
      " - Accuracy: 0.9375\n",
      " - Time: 16.28\n",
      "# Current Model (123/125)\n",
      " - Hypers: [[900, 266, 2], 16, 0.2766666666666667]\n",
      " - Trial 0/1\n"
     ]
    },
    {
     "name": "stderr",
     "output_type": "stream",
     "text": [
      "100%|██████████| 3/3 [00:15<00:00,  5.05s/it]\n"
     ]
    },
    {
     "name": "stdout",
     "output_type": "stream",
     "text": [
      " - Accuracy: 0.90125\n",
      " - Time: 15.15 sec\n",
      "\n",
      "# Best Model:  0.9375\n",
      " - Hypers: [[900, 266, 2], 3, 0.5533333333333333]\n",
      " - Accuracy: 0.9375\n",
      " - Time: 16.28\n",
      "# Current Model (124/125)\n",
      " - Hypers: [[900, 266, 2], 16, 1.3833333333333333]\n",
      " - Trial 0/1\n"
     ]
    },
    {
     "name": "stderr",
     "output_type": "stream",
     "text": [
      "100%|██████████| 3/3 [00:15<00:00,  5.12s/it]\n"
     ]
    },
    {
     "name": "stdout",
     "output_type": "stream",
     "text": [
      " - Accuracy: 0.91375\n",
      " - Time: 15.37 sec\n",
      "================================================================================\n",
      "# Epochs:  9\n",
      "# Network Configurations\n",
      "\t[900, 266, 2]\n",
      "\t[900, 177, 2]\n",
      "\t[900, 354, 2]\n",
      "\t[900, 88, 2]\n",
      "\t[900, 443, 2]\n",
      "# Batch Sizes\n",
      "\t3\n",
      "\t2\n",
      "\t4\n",
      "\t1\n",
      "\t5\n",
      "# Learning Rates\n",
      "\t0.5533333333333333\n",
      "\t0.36888888888888893\n",
      "\t0.7377777777777778\n",
      "\t0.18444444444444447\n",
      "\t0.9222222222222223\n",
      "\n",
      "# Best Model:  0.9375\n",
      " - Hypers: [[900, 266, 2], 3, 0.5533333333333333]\n",
      " - Accuracy: 0.9375\n",
      " - Time: 16.28\n",
      "# Current Model (0/125)\n",
      " - Hypers: [[900, 266, 2], 3, 0.5533333333333333]\n",
      " - Trial 0/1\n"
     ]
    },
    {
     "name": "stderr",
     "output_type": "stream",
     "text": [
      "100%|██████████| 9/9 [00:48<00:00,  5.35s/it]\n"
     ]
    },
    {
     "name": "stdout",
     "output_type": "stream",
     "text": [
      " - Accuracy: 0.93125\n",
      " - Time: 48.18 sec\n",
      "\n",
      "# Best Model:  0.9375\n",
      " - Hypers: [[900, 266, 2], 3, 0.5533333333333333]\n",
      " - Accuracy: 0.9375\n",
      " - Time: 16.28\n",
      "# Current Model (1/125)\n",
      " - Hypers: [[900, 266, 2], 3, 0.36888888888888893]\n",
      " - Trial 0/1\n"
     ]
    },
    {
     "name": "stderr",
     "output_type": "stream",
     "text": [
      "100%|██████████| 9/9 [00:47<00:00,  5.32s/it]\n"
     ]
    },
    {
     "name": "stdout",
     "output_type": "stream",
     "text": [
      " - Accuracy: 0.93125\n",
      " - Time: 47.89 sec\n",
      "\n",
      "# Best Model:  0.9375\n",
      " - Hypers: [[900, 266, 2], 3, 0.5533333333333333]\n",
      " - Accuracy: 0.9375\n",
      " - Time: 16.28\n",
      "# Current Model (2/125)\n",
      " - Hypers: [[900, 266, 2], 3, 0.7377777777777778]\n",
      " - Trial 0/1\n"
     ]
    },
    {
     "name": "stderr",
     "output_type": "stream",
     "text": [
      "100%|██████████| 9/9 [00:48<00:00,  5.41s/it]\n"
     ]
    },
    {
     "name": "stdout",
     "output_type": "stream",
     "text": [
      " - Accuracy: 0.935\n",
      " - Time: 48.66 sec\n",
      "\n",
      "# Best Model:  0.9375\n",
      " - Hypers: [[900, 266, 2], 3, 0.5533333333333333]\n",
      " - Accuracy: 0.9375\n",
      " - Time: 16.28\n",
      "# Current Model (3/125)\n",
      " - Hypers: [[900, 266, 2], 3, 0.18444444444444447]\n",
      " - Trial 0/1\n"
     ]
    },
    {
     "name": "stderr",
     "output_type": "stream",
     "text": [
      "100%|██████████| 9/9 [00:48<00:00,  5.34s/it]\n"
     ]
    },
    {
     "name": "stdout",
     "output_type": "stream",
     "text": [
      " - Accuracy: 0.91375\n",
      " - Time: 48.03 sec\n",
      "\n",
      "# Best Model:  0.9375\n",
      " - Hypers: [[900, 266, 2], 3, 0.5533333333333333]\n",
      " - Accuracy: 0.9375\n",
      " - Time: 16.28\n",
      "# Current Model (4/125)\n",
      " - Hypers: [[900, 266, 2], 3, 0.9222222222222223]\n",
      " - Trial 0/1\n"
     ]
    },
    {
     "name": "stderr",
     "output_type": "stream",
     "text": [
      "100%|██████████| 9/9 [00:49<00:00,  5.47s/it]\n"
     ]
    },
    {
     "name": "stdout",
     "output_type": "stream",
     "text": [
      " - Accuracy: 0.93125\n",
      " - Time: 49.25 sec\n",
      "\n",
      "# Best Model:  0.9375\n",
      " - Hypers: [[900, 266, 2], 3, 0.5533333333333333]\n",
      " - Accuracy: 0.9375\n",
      " - Time: 16.28\n",
      "# Current Model (5/125)\n",
      " - Hypers: [[900, 266, 2], 2, 0.5533333333333333]\n",
      " - Trial 0/1\n"
     ]
    },
    {
     "name": "stderr",
     "output_type": "stream",
     "text": [
      "100%|██████████| 9/9 [00:50<00:00,  5.63s/it]\n"
     ]
    },
    {
     "name": "stdout",
     "output_type": "stream",
     "text": [
      " - Accuracy: 0.92375\n",
      " - Time: 50.7 sec\n",
      "\n",
      "# Best Model:  0.9375\n",
      " - Hypers: [[900, 266, 2], 3, 0.5533333333333333]\n",
      " - Accuracy: 0.9375\n",
      " - Time: 16.28\n",
      "# Current Model (6/125)\n",
      " - Hypers: [[900, 266, 2], 2, 0.36888888888888893]\n",
      " - Trial 0/1\n"
     ]
    },
    {
     "name": "stderr",
     "output_type": "stream",
     "text": [
      "100%|██████████| 9/9 [00:50<00:00,  5.65s/it]\n"
     ]
    },
    {
     "name": "stdout",
     "output_type": "stream",
     "text": [
      " - Accuracy: 0.93625\n",
      " - Time: 50.81 sec\n",
      "\n",
      "# Best Model:  0.9375\n",
      " - Hypers: [[900, 266, 2], 3, 0.5533333333333333]\n",
      " - Accuracy: 0.9375\n",
      " - Time: 16.28\n",
      "# Current Model (7/125)\n",
      " - Hypers: [[900, 266, 2], 2, 0.7377777777777778]\n",
      " - Trial 0/1\n"
     ]
    },
    {
     "name": "stderr",
     "output_type": "stream",
     "text": [
      "100%|██████████| 9/9 [00:50<00:00,  5.56s/it]\n"
     ]
    },
    {
     "name": "stdout",
     "output_type": "stream",
     "text": [
      " - Accuracy: 0.925\n",
      " - Time: 50.05 sec\n",
      "\n",
      "# Best Model:  0.9375\n",
      " - Hypers: [[900, 266, 2], 3, 0.5533333333333333]\n",
      " - Accuracy: 0.9375\n",
      " - Time: 16.28\n",
      "# Current Model (8/125)\n",
      " - Hypers: [[900, 266, 2], 2, 0.18444444444444447]\n",
      " - Trial 0/1\n"
     ]
    },
    {
     "name": "stderr",
     "output_type": "stream",
     "text": [
      "100%|██████████| 9/9 [00:48<00:00,  5.39s/it]\n"
     ]
    },
    {
     "name": "stdout",
     "output_type": "stream",
     "text": [
      " - Accuracy: 0.93\n",
      " - Time: 48.55 sec\n",
      "\n",
      "# Best Model:  0.9375\n",
      " - Hypers: [[900, 266, 2], 3, 0.5533333333333333]\n",
      " - Accuracy: 0.9375\n",
      " - Time: 16.28\n",
      "# Current Model (9/125)\n",
      " - Hypers: [[900, 266, 2], 2, 0.9222222222222223]\n",
      " - Trial 0/1\n"
     ]
    },
    {
     "name": "stderr",
     "output_type": "stream",
     "text": [
      "100%|██████████| 9/9 [00:47<00:00,  5.33s/it]\n"
     ]
    },
    {
     "name": "stdout",
     "output_type": "stream",
     "text": [
      " - Accuracy: 0.9325\n",
      " - Time: 47.95 sec\n",
      "\n",
      "# Best Model:  0.9375\n",
      " - Hypers: [[900, 266, 2], 3, 0.5533333333333333]\n",
      " - Accuracy: 0.9375\n",
      " - Time: 16.28\n",
      "# Current Model (10/125)\n",
      " - Hypers: [[900, 266, 2], 4, 0.5533333333333333]\n",
      " - Trial 0/1\n"
     ]
    },
    {
     "name": "stderr",
     "output_type": "stream",
     "text": [
      "100%|██████████| 9/9 [00:45<00:00,  5.11s/it]\n"
     ]
    },
    {
     "name": "stdout",
     "output_type": "stream",
     "text": [
      " - Accuracy: 0.92125\n",
      " - Time: 45.96 sec\n",
      "\n",
      "# Best Model:  0.9375\n",
      " - Hypers: [[900, 266, 2], 3, 0.5533333333333333]\n",
      " - Accuracy: 0.9375\n",
      " - Time: 16.28\n",
      "# Current Model (11/125)\n",
      " - Hypers: [[900, 266, 2], 4, 0.36888888888888893]\n",
      " - Trial 0/1\n"
     ]
    },
    {
     "name": "stderr",
     "output_type": "stream",
     "text": [
      "100%|██████████| 9/9 [00:45<00:00,  5.06s/it]\n"
     ]
    },
    {
     "name": "stdout",
     "output_type": "stream",
     "text": [
      " - Accuracy: 0.93125\n",
      " - Time: 45.58 sec\n",
      "\n",
      "# Best Model:  0.9375\n",
      " - Hypers: [[900, 266, 2], 3, 0.5533333333333333]\n",
      " - Accuracy: 0.9375\n",
      " - Time: 16.28\n",
      "# Current Model (12/125)\n",
      " - Hypers: [[900, 266, 2], 4, 0.7377777777777778]\n",
      " - Trial 0/1\n"
     ]
    },
    {
     "name": "stderr",
     "output_type": "stream",
     "text": [
      "100%|██████████| 9/9 [00:45<00:00,  5.09s/it]\n"
     ]
    },
    {
     "name": "stdout",
     "output_type": "stream",
     "text": [
      " - Accuracy: 0.93\n",
      " - Time: 45.77 sec\n",
      "\n",
      "# Best Model:  0.9375\n",
      " - Hypers: [[900, 266, 2], 3, 0.5533333333333333]\n",
      " - Accuracy: 0.9375\n",
      " - Time: 16.28\n",
      "# Current Model (13/125)\n",
      " - Hypers: [[900, 266, 2], 4, 0.18444444444444447]\n",
      " - Trial 0/1\n"
     ]
    },
    {
     "name": "stderr",
     "output_type": "stream",
     "text": [
      "100%|██████████| 9/9 [00:45<00:00,  5.09s/it]\n"
     ]
    },
    {
     "name": "stdout",
     "output_type": "stream",
     "text": [
      " - Accuracy: 0.925\n",
      " - Time: 45.8 sec\n",
      "\n",
      "# Best Model:  0.9375\n",
      " - Hypers: [[900, 266, 2], 3, 0.5533333333333333]\n",
      " - Accuracy: 0.9375\n",
      " - Time: 16.28\n",
      "# Current Model (14/125)\n",
      " - Hypers: [[900, 266, 2], 4, 0.9222222222222223]\n",
      " - Trial 0/1\n"
     ]
    },
    {
     "name": "stderr",
     "output_type": "stream",
     "text": [
      "100%|██████████| 9/9 [00:45<00:00,  5.09s/it]\n"
     ]
    },
    {
     "name": "stdout",
     "output_type": "stream",
     "text": [
      " - Accuracy: 0.93875\n",
      " - Time: 45.77 sec\n",
      "\n",
      "# Best Model:  0.93875\n",
      " - Hypers: [[900, 266, 2], 4, 0.9222222222222223]\n",
      " - Accuracy: 0.93875\n",
      " - Time: 45.77\n",
      "# Current Model (15/125)\n",
      " - Hypers: [[900, 266, 2], 1, 0.5533333333333333]\n",
      " - Trial 0/1\n"
     ]
    },
    {
     "name": "stderr",
     "output_type": "stream",
     "text": [
      "100%|██████████| 9/9 [00:52<00:00,  5.86s/it]\n"
     ]
    },
    {
     "name": "stdout",
     "output_type": "stream",
     "text": [
      " - Accuracy: 0.89375\n",
      " - Time: 52.71 sec\n",
      "\n",
      "# Best Model:  0.93875\n",
      " - Hypers: [[900, 266, 2], 4, 0.9222222222222223]\n",
      " - Accuracy: 0.93875\n",
      " - Time: 45.77\n",
      "# Current Model (16/125)\n",
      " - Hypers: [[900, 266, 2], 1, 0.36888888888888893]\n",
      " - Trial 0/1\n"
     ]
    },
    {
     "name": "stderr",
     "output_type": "stream",
     "text": [
      "100%|██████████| 9/9 [00:53<00:00,  5.90s/it]\n"
     ]
    },
    {
     "name": "stdout",
     "output_type": "stream",
     "text": [
      " - Accuracy: 0.93375\n",
      " - Time: 53.13 sec\n",
      "\n",
      "# Best Model:  0.93875\n",
      " - Hypers: [[900, 266, 2], 4, 0.9222222222222223]\n",
      " - Accuracy: 0.93875\n",
      " - Time: 45.77\n",
      "# Current Model (17/125)\n",
      " - Hypers: [[900, 266, 2], 1, 0.7377777777777778]\n",
      " - Trial 0/1\n"
     ]
    },
    {
     "name": "stderr",
     "output_type": "stream",
     "text": [
      "100%|██████████| 9/9 [00:52<00:00,  5.89s/it]\n"
     ]
    },
    {
     "name": "stdout",
     "output_type": "stream",
     "text": [
      " - Accuracy: 0.9175\n",
      " - Time: 52.98 sec\n",
      "\n",
      "# Best Model:  0.93875\n",
      " - Hypers: [[900, 266, 2], 4, 0.9222222222222223]\n",
      " - Accuracy: 0.93875\n",
      " - Time: 45.77\n",
      "# Current Model (18/125)\n",
      " - Hypers: [[900, 266, 2], 1, 0.18444444444444447]\n",
      " - Trial 0/1\n"
     ]
    },
    {
     "name": "stderr",
     "output_type": "stream",
     "text": [
      "100%|██████████| 9/9 [00:53<00:00,  5.92s/it]\n"
     ]
    },
    {
     "name": "stdout",
     "output_type": "stream",
     "text": [
      " - Accuracy: 0.92375\n",
      " - Time: 53.28 sec\n",
      "\n",
      "# Best Model:  0.93875\n",
      " - Hypers: [[900, 266, 2], 4, 0.9222222222222223]\n",
      " - Accuracy: 0.93875\n",
      " - Time: 45.77\n",
      "# Current Model (19/125)\n",
      " - Hypers: [[900, 266, 2], 1, 0.9222222222222223]\n",
      " - Trial 0/1\n"
     ]
    },
    {
     "name": "stderr",
     "output_type": "stream",
     "text": [
      "100%|██████████| 9/9 [00:52<00:00,  5.87s/it]\n"
     ]
    },
    {
     "name": "stdout",
     "output_type": "stream",
     "text": [
      " - Accuracy: 0.91875\n",
      " - Time: 52.82 sec\n",
      "\n",
      "# Best Model:  0.93875\n",
      " - Hypers: [[900, 266, 2], 4, 0.9222222222222223]\n",
      " - Accuracy: 0.93875\n",
      " - Time: 45.77\n",
      "# Current Model (20/125)\n",
      " - Hypers: [[900, 266, 2], 5, 0.5533333333333333]\n",
      " - Trial 0/1\n"
     ]
    },
    {
     "name": "stderr",
     "output_type": "stream",
     "text": [
      "100%|██████████| 9/9 [00:45<00:00,  5.03s/it]\n"
     ]
    },
    {
     "name": "stdout",
     "output_type": "stream",
     "text": [
      " - Accuracy: 0.925\n",
      " - Time: 45.26 sec\n",
      "\n",
      "# Best Model:  0.93875\n",
      " - Hypers: [[900, 266, 2], 4, 0.9222222222222223]\n",
      " - Accuracy: 0.93875\n",
      " - Time: 45.77\n",
      "# Current Model (21/125)\n",
      " - Hypers: [[900, 266, 2], 5, 0.36888888888888893]\n",
      " - Trial 0/1\n"
     ]
    },
    {
     "name": "stderr",
     "output_type": "stream",
     "text": [
      "100%|██████████| 9/9 [00:45<00:00,  5.04s/it]\n"
     ]
    },
    {
     "name": "stdout",
     "output_type": "stream",
     "text": [
      " - Accuracy: 0.915\n",
      " - Time: 45.39 sec\n",
      "\n",
      "# Best Model:  0.93875\n",
      " - Hypers: [[900, 266, 2], 4, 0.9222222222222223]\n",
      " - Accuracy: 0.93875\n",
      " - Time: 45.77\n",
      "# Current Model (22/125)\n",
      " - Hypers: [[900, 266, 2], 5, 0.7377777777777778]\n",
      " - Trial 0/1\n"
     ]
    },
    {
     "name": "stderr",
     "output_type": "stream",
     "text": [
      "100%|██████████| 9/9 [00:45<00:00,  5.08s/it]\n"
     ]
    },
    {
     "name": "stdout",
     "output_type": "stream",
     "text": [
      " - Accuracy: 0.93\n",
      " - Time: 45.73 sec\n",
      "\n",
      "# Best Model:  0.93875\n",
      " - Hypers: [[900, 266, 2], 4, 0.9222222222222223]\n",
      " - Accuracy: 0.93875\n",
      " - Time: 45.77\n",
      "# Current Model (23/125)\n",
      " - Hypers: [[900, 266, 2], 5, 0.18444444444444447]\n",
      " - Trial 0/1\n"
     ]
    },
    {
     "name": "stderr",
     "output_type": "stream",
     "text": [
      "100%|██████████| 9/9 [00:45<00:00,  5.06s/it]\n"
     ]
    },
    {
     "name": "stdout",
     "output_type": "stream",
     "text": [
      " - Accuracy: 0.915\n",
      " - Time: 45.5 sec\n",
      "\n",
      "# Best Model:  0.93875\n",
      " - Hypers: [[900, 266, 2], 4, 0.9222222222222223]\n",
      " - Accuracy: 0.93875\n",
      " - Time: 45.77\n",
      "# Current Model (24/125)\n",
      " - Hypers: [[900, 266, 2], 5, 0.9222222222222223]\n",
      " - Trial 0/1\n"
     ]
    },
    {
     "name": "stderr",
     "output_type": "stream",
     "text": [
      "100%|██████████| 9/9 [00:45<00:00,  5.06s/it]\n"
     ]
    },
    {
     "name": "stdout",
     "output_type": "stream",
     "text": [
      " - Accuracy: 0.935\n",
      " - Time: 45.53 sec\n",
      "\n",
      "# Best Model:  0.93875\n",
      " - Hypers: [[900, 266, 2], 4, 0.9222222222222223]\n",
      " - Accuracy: 0.93875\n",
      " - Time: 45.77\n",
      "# Current Model (25/125)\n",
      " - Hypers: [[900, 177, 2], 3, 0.5533333333333333]\n",
      " - Trial 0/1\n"
     ]
    },
    {
     "name": "stderr",
     "output_type": "stream",
     "text": [
      "100%|██████████| 9/9 [00:46<00:00,  5.14s/it]\n"
     ]
    },
    {
     "name": "stdout",
     "output_type": "stream",
     "text": [
      " - Accuracy: 0.92625\n",
      " - Time: 46.29 sec\n",
      "\n",
      "# Best Model:  0.93875\n",
      " - Hypers: [[900, 266, 2], 4, 0.9222222222222223]\n",
      " - Accuracy: 0.93875\n",
      " - Time: 45.77\n",
      "# Current Model (26/125)\n",
      " - Hypers: [[900, 177, 2], 3, 0.36888888888888893]\n",
      " - Trial 0/1\n"
     ]
    },
    {
     "name": "stderr",
     "output_type": "stream",
     "text": [
      "100%|██████████| 9/9 [00:49<00:00,  5.49s/it]\n"
     ]
    },
    {
     "name": "stdout",
     "output_type": "stream",
     "text": [
      " - Accuracy: 0.9275\n",
      " - Time: 49.42 sec\n",
      "\n",
      "# Best Model:  0.93875\n",
      " - Hypers: [[900, 266, 2], 4, 0.9222222222222223]\n",
      " - Accuracy: 0.93875\n",
      " - Time: 45.77\n",
      "# Current Model (27/125)\n",
      " - Hypers: [[900, 177, 2], 3, 0.7377777777777778]\n",
      " - Trial 0/1\n"
     ]
    },
    {
     "name": "stderr",
     "output_type": "stream",
     "text": [
      "100%|██████████| 9/9 [00:49<00:00,  5.49s/it]\n"
     ]
    },
    {
     "name": "stdout",
     "output_type": "stream",
     "text": [
      " - Accuracy: 0.92375\n",
      " - Time: 49.4 sec\n",
      "\n",
      "# Best Model:  0.93875\n",
      " - Hypers: [[900, 266, 2], 4, 0.9222222222222223]\n",
      " - Accuracy: 0.93875\n",
      " - Time: 45.77\n",
      "# Current Model (28/125)\n",
      " - Hypers: [[900, 177, 2], 3, 0.18444444444444447]\n",
      " - Trial 0/1\n"
     ]
    },
    {
     "name": "stderr",
     "output_type": "stream",
     "text": [
      "100%|██████████| 9/9 [00:47<00:00,  5.25s/it]\n"
     ]
    },
    {
     "name": "stdout",
     "output_type": "stream",
     "text": [
      " - Accuracy: 0.915\n",
      " - Time: 47.23 sec\n",
      "\n",
      "# Best Model:  0.93875\n",
      " - Hypers: [[900, 266, 2], 4, 0.9222222222222223]\n",
      " - Accuracy: 0.93875\n",
      " - Time: 45.77\n",
      "# Current Model (29/125)\n",
      " - Hypers: [[900, 177, 2], 3, 0.9222222222222223]\n",
      " - Trial 0/1\n"
     ]
    },
    {
     "name": "stderr",
     "output_type": "stream",
     "text": [
      "100%|██████████| 9/9 [00:46<00:00,  5.11s/it]\n"
     ]
    },
    {
     "name": "stdout",
     "output_type": "stream",
     "text": [
      " - Accuracy: 0.93125\n",
      " - Time: 46.01 sec\n",
      "\n",
      "# Best Model:  0.93875\n",
      " - Hypers: [[900, 266, 2], 4, 0.9222222222222223]\n",
      " - Accuracy: 0.93875\n",
      " - Time: 45.77\n",
      "# Current Model (30/125)\n",
      " - Hypers: [[900, 177, 2], 2, 0.5533333333333333]\n",
      " - Trial 0/1\n"
     ]
    },
    {
     "name": "stderr",
     "output_type": "stream",
     "text": [
      "100%|██████████| 9/9 [00:47<00:00,  5.30s/it]\n"
     ]
    },
    {
     "name": "stdout",
     "output_type": "stream",
     "text": [
      " - Accuracy: 0.925\n",
      " - Time: 47.73 sec\n",
      "\n",
      "# Best Model:  0.93875\n",
      " - Hypers: [[900, 266, 2], 4, 0.9222222222222223]\n",
      " - Accuracy: 0.93875\n",
      " - Time: 45.77\n",
      "# Current Model (31/125)\n",
      " - Hypers: [[900, 177, 2], 2, 0.36888888888888893]\n",
      " - Trial 0/1\n"
     ]
    },
    {
     "name": "stderr",
     "output_type": "stream",
     "text": [
      "100%|██████████| 9/9 [00:47<00:00,  5.27s/it]\n"
     ]
    },
    {
     "name": "stdout",
     "output_type": "stream",
     "text": [
      " - Accuracy: 0.92875\n",
      " - Time: 47.47 sec\n",
      "\n",
      "# Best Model:  0.93875\n",
      " - Hypers: [[900, 266, 2], 4, 0.9222222222222223]\n",
      " - Accuracy: 0.93875\n",
      " - Time: 45.77\n",
      "# Current Model (32/125)\n",
      " - Hypers: [[900, 177, 2], 2, 0.7377777777777778]\n",
      " - Trial 0/1\n"
     ]
    },
    {
     "name": "stderr",
     "output_type": "stream",
     "text": [
      "100%|██████████| 9/9 [00:47<00:00,  5.33s/it]\n"
     ]
    },
    {
     "name": "stdout",
     "output_type": "stream",
     "text": [
      " - Accuracy: 0.92\n",
      " - Time: 47.94 sec\n",
      "\n",
      "# Best Model:  0.93875\n",
      " - Hypers: [[900, 266, 2], 4, 0.9222222222222223]\n",
      " - Accuracy: 0.93875\n",
      " - Time: 45.77\n",
      "# Current Model (33/125)\n",
      " - Hypers: [[900, 177, 2], 2, 0.18444444444444447]\n",
      " - Trial 0/1\n"
     ]
    },
    {
     "name": "stderr",
     "output_type": "stream",
     "text": [
      "100%|██████████| 9/9 [00:47<00:00,  5.31s/it]\n"
     ]
    },
    {
     "name": "stdout",
     "output_type": "stream",
     "text": [
      " - Accuracy: 0.925\n",
      " - Time: 47.76 sec\n",
      "\n",
      "# Best Model:  0.93875\n",
      " - Hypers: [[900, 266, 2], 4, 0.9222222222222223]\n",
      " - Accuracy: 0.93875\n",
      " - Time: 45.77\n",
      "# Current Model (34/125)\n",
      " - Hypers: [[900, 177, 2], 2, 0.9222222222222223]\n",
      " - Trial 0/1\n"
     ]
    },
    {
     "name": "stderr",
     "output_type": "stream",
     "text": [
      "100%|██████████| 9/9 [00:48<00:00,  5.34s/it]\n"
     ]
    },
    {
     "name": "stdout",
     "output_type": "stream",
     "text": [
      " - Accuracy: 0.92375\n",
      " - Time: 48.04 sec\n",
      "\n",
      "# Best Model:  0.93875\n",
      " - Hypers: [[900, 266, 2], 4, 0.9222222222222223]\n",
      " - Accuracy: 0.93875\n",
      " - Time: 45.77\n",
      "# Current Model (35/125)\n",
      " - Hypers: [[900, 177, 2], 4, 0.5533333333333333]\n",
      " - Trial 0/1\n"
     ]
    },
    {
     "name": "stderr",
     "output_type": "stream",
     "text": [
      "100%|██████████| 9/9 [00:45<00:00,  5.03s/it]\n"
     ]
    },
    {
     "name": "stdout",
     "output_type": "stream",
     "text": [
      " - Accuracy: 0.91\n",
      " - Time: 45.28 sec\n",
      "\n",
      "# Best Model:  0.93875\n",
      " - Hypers: [[900, 266, 2], 4, 0.9222222222222223]\n",
      " - Accuracy: 0.93875\n",
      " - Time: 45.77\n",
      "# Current Model (36/125)\n",
      " - Hypers: [[900, 177, 2], 4, 0.36888888888888893]\n",
      " - Trial 0/1\n"
     ]
    },
    {
     "name": "stderr",
     "output_type": "stream",
     "text": [
      "100%|██████████| 9/9 [00:45<00:00,  5.04s/it]\n"
     ]
    },
    {
     "name": "stdout",
     "output_type": "stream",
     "text": [
      " - Accuracy: 0.93375\n",
      " - Time: 45.32 sec\n",
      "\n",
      "# Best Model:  0.93875\n",
      " - Hypers: [[900, 266, 2], 4, 0.9222222222222223]\n",
      " - Accuracy: 0.93875\n",
      " - Time: 45.77\n",
      "# Current Model (37/125)\n",
      " - Hypers: [[900, 177, 2], 4, 0.7377777777777778]\n",
      " - Trial 0/1\n"
     ]
    },
    {
     "name": "stderr",
     "output_type": "stream",
     "text": [
      "100%|██████████| 9/9 [00:45<00:00,  5.02s/it]\n"
     ]
    },
    {
     "name": "stdout",
     "output_type": "stream",
     "text": [
      " - Accuracy: 0.9425\n",
      " - Time: 45.22 sec\n",
      "\n",
      "# Best Model:  0.9425\n",
      " - Hypers: [[900, 177, 2], 4, 0.7377777777777778]\n",
      " - Accuracy: 0.9425\n",
      " - Time: 45.22\n",
      "# Current Model (38/125)\n",
      " - Hypers: [[900, 177, 2], 4, 0.18444444444444447]\n",
      " - Trial 0/1\n"
     ]
    },
    {
     "name": "stderr",
     "output_type": "stream",
     "text": [
      "100%|██████████| 9/9 [00:45<00:00,  5.07s/it]\n"
     ]
    },
    {
     "name": "stdout",
     "output_type": "stream",
     "text": [
      " - Accuracy: 0.91625\n",
      " - Time: 45.67 sec\n",
      "\n",
      "# Best Model:  0.9425\n",
      " - Hypers: [[900, 177, 2], 4, 0.7377777777777778]\n",
      " - Accuracy: 0.9425\n",
      " - Time: 45.22\n",
      "# Current Model (39/125)\n",
      " - Hypers: [[900, 177, 2], 4, 0.9222222222222223]\n",
      " - Trial 0/1\n"
     ]
    },
    {
     "name": "stderr",
     "output_type": "stream",
     "text": [
      "100%|██████████| 9/9 [00:45<00:00,  5.01s/it]\n"
     ]
    },
    {
     "name": "stdout",
     "output_type": "stream",
     "text": [
      " - Accuracy: 0.93625\n",
      " - Time: 45.13 sec\n",
      "\n",
      "# Best Model:  0.9425\n",
      " - Hypers: [[900, 177, 2], 4, 0.7377777777777778]\n",
      " - Accuracy: 0.9425\n",
      " - Time: 45.22\n",
      "# Current Model (40/125)\n",
      " - Hypers: [[900, 177, 2], 1, 0.5533333333333333]\n",
      " - Trial 0/1\n"
     ]
    },
    {
     "name": "stderr",
     "output_type": "stream",
     "text": [
      "100%|██████████| 9/9 [00:52<00:00,  5.88s/it]\n"
     ]
    },
    {
     "name": "stdout",
     "output_type": "stream",
     "text": [
      " - Accuracy: 0.92875\n",
      " - Time: 52.9 sec\n",
      "\n",
      "# Best Model:  0.9425\n",
      " - Hypers: [[900, 177, 2], 4, 0.7377777777777778]\n",
      " - Accuracy: 0.9425\n",
      " - Time: 45.22\n",
      "# Current Model (41/125)\n",
      " - Hypers: [[900, 177, 2], 1, 0.36888888888888893]\n",
      " - Trial 0/1\n"
     ]
    },
    {
     "name": "stderr",
     "output_type": "stream",
     "text": [
      "100%|██████████| 9/9 [00:53<00:00,  5.97s/it]\n"
     ]
    },
    {
     "name": "stdout",
     "output_type": "stream",
     "text": [
      " - Accuracy: 0.8975\n",
      " - Time: 53.78 sec\n",
      "\n",
      "# Best Model:  0.9425\n",
      " - Hypers: [[900, 177, 2], 4, 0.7377777777777778]\n",
      " - Accuracy: 0.9425\n",
      " - Time: 45.22\n",
      "# Current Model (42/125)\n",
      " - Hypers: [[900, 177, 2], 1, 0.7377777777777778]\n",
      " - Trial 0/1\n"
     ]
    },
    {
     "name": "stderr",
     "output_type": "stream",
     "text": [
      "100%|██████████| 9/9 [00:54<00:00,  6.02s/it]\n"
     ]
    },
    {
     "name": "stdout",
     "output_type": "stream",
     "text": [
      " - Accuracy: 0.9025\n",
      " - Time: 54.21 sec\n",
      "\n",
      "# Best Model:  0.9425\n",
      " - Hypers: [[900, 177, 2], 4, 0.7377777777777778]\n",
      " - Accuracy: 0.9425\n",
      " - Time: 45.22\n",
      "# Current Model (43/125)\n",
      " - Hypers: [[900, 177, 2], 1, 0.18444444444444447]\n",
      " - Trial 0/1\n"
     ]
    },
    {
     "name": "stderr",
     "output_type": "stream",
     "text": [
      "100%|██████████| 9/9 [00:55<00:00,  6.12s/it]\n"
     ]
    },
    {
     "name": "stdout",
     "output_type": "stream",
     "text": [
      " - Accuracy: 0.93125\n",
      " - Time: 55.11 sec\n",
      "\n",
      "# Best Model:  0.9425\n",
      " - Hypers: [[900, 177, 2], 4, 0.7377777777777778]\n",
      " - Accuracy: 0.9425\n",
      " - Time: 45.22\n",
      "# Current Model (44/125)\n",
      " - Hypers: [[900, 177, 2], 1, 0.9222222222222223]\n",
      " - Trial 0/1\n"
     ]
    },
    {
     "name": "stderr",
     "output_type": "stream",
     "text": [
      "100%|██████████| 9/9 [00:55<00:00,  6.16s/it]\n"
     ]
    },
    {
     "name": "stdout",
     "output_type": "stream",
     "text": [
      " - Accuracy: 0.91625\n",
      " - Time: 55.46 sec\n",
      "\n",
      "# Best Model:  0.9425\n",
      " - Hypers: [[900, 177, 2], 4, 0.7377777777777778]\n",
      " - Accuracy: 0.9425\n",
      " - Time: 45.22\n",
      "# Current Model (45/125)\n",
      " - Hypers: [[900, 177, 2], 5, 0.5533333333333333]\n",
      " - Trial 0/1\n"
     ]
    },
    {
     "name": "stderr",
     "output_type": "stream",
     "text": [
      "100%|██████████| 9/9 [00:46<00:00,  5.21s/it]\n"
     ]
    },
    {
     "name": "stdout",
     "output_type": "stream",
     "text": [
      " - Accuracy: 0.9225\n",
      " - Time: 46.93 sec\n",
      "\n",
      "# Best Model:  0.9425\n",
      " - Hypers: [[900, 177, 2], 4, 0.7377777777777778]\n",
      " - Accuracy: 0.9425\n",
      " - Time: 45.22\n",
      "# Current Model (46/125)\n",
      " - Hypers: [[900, 177, 2], 5, 0.36888888888888893]\n",
      " - Trial 0/1\n"
     ]
    },
    {
     "name": "stderr",
     "output_type": "stream",
     "text": [
      "100%|██████████| 9/9 [00:47<00:00,  5.26s/it]\n"
     ]
    },
    {
     "name": "stdout",
     "output_type": "stream",
     "text": [
      " - Accuracy: 0.935\n",
      " - Time: 47.37 sec\n",
      "\n",
      "# Best Model:  0.9425\n",
      " - Hypers: [[900, 177, 2], 4, 0.7377777777777778]\n",
      " - Accuracy: 0.9425\n",
      " - Time: 45.22\n",
      "# Current Model (47/125)\n",
      " - Hypers: [[900, 177, 2], 5, 0.7377777777777778]\n",
      " - Trial 0/1\n"
     ]
    },
    {
     "name": "stderr",
     "output_type": "stream",
     "text": [
      "100%|██████████| 9/9 [00:47<00:00,  5.23s/it]\n"
     ]
    },
    {
     "name": "stdout",
     "output_type": "stream",
     "text": [
      " - Accuracy: 0.93125\n",
      " - Time: 47.1 sec\n",
      "\n",
      "# Best Model:  0.9425\n",
      " - Hypers: [[900, 177, 2], 4, 0.7377777777777778]\n",
      " - Accuracy: 0.9425\n",
      " - Time: 45.22\n",
      "# Current Model (48/125)\n",
      " - Hypers: [[900, 177, 2], 5, 0.18444444444444447]\n",
      " - Trial 0/1\n"
     ]
    },
    {
     "name": "stderr",
     "output_type": "stream",
     "text": [
      "100%|██████████| 9/9 [00:45<00:00,  5.06s/it]\n"
     ]
    },
    {
     "name": "stdout",
     "output_type": "stream",
     "text": [
      " - Accuracy: 0.9125\n",
      " - Time: 45.51 sec\n",
      "\n",
      "# Best Model:  0.9425\n",
      " - Hypers: [[900, 177, 2], 4, 0.7377777777777778]\n",
      " - Accuracy: 0.9425\n",
      " - Time: 45.22\n",
      "# Current Model (49/125)\n",
      " - Hypers: [[900, 177, 2], 5, 0.9222222222222223]\n",
      " - Trial 0/1\n"
     ]
    },
    {
     "name": "stderr",
     "output_type": "stream",
     "text": [
      "100%|██████████| 9/9 [00:44<00:00,  4.96s/it]\n"
     ]
    },
    {
     "name": "stdout",
     "output_type": "stream",
     "text": [
      " - Accuracy: 0.9325\n",
      " - Time: 44.66 sec\n",
      "\n",
      "# Best Model:  0.9425\n",
      " - Hypers: [[900, 177, 2], 4, 0.7377777777777778]\n",
      " - Accuracy: 0.9425\n",
      " - Time: 45.22\n",
      "# Current Model (50/125)\n",
      " - Hypers: [[900, 354, 2], 3, 0.5533333333333333]\n",
      " - Trial 0/1\n"
     ]
    },
    {
     "name": "stderr",
     "output_type": "stream",
     "text": [
      "100%|██████████| 9/9 [00:46<00:00,  5.17s/it]\n"
     ]
    },
    {
     "name": "stdout",
     "output_type": "stream",
     "text": [
      " - Accuracy: 0.9375\n",
      " - Time: 46.49 sec\n",
      "\n",
      "# Best Model:  0.9425\n",
      " - Hypers: [[900, 177, 2], 4, 0.7377777777777778]\n",
      " - Accuracy: 0.9425\n",
      " - Time: 45.22\n",
      "# Current Model (51/125)\n",
      " - Hypers: [[900, 354, 2], 3, 0.36888888888888893]\n",
      " - Trial 0/1\n"
     ]
    },
    {
     "name": "stderr",
     "output_type": "stream",
     "text": [
      "100%|██████████| 9/9 [00:46<00:00,  5.16s/it]\n"
     ]
    },
    {
     "name": "stdout",
     "output_type": "stream",
     "text": [
      " - Accuracy: 0.9325\n",
      " - Time: 46.44 sec\n",
      "\n",
      "# Best Model:  0.9425\n",
      " - Hypers: [[900, 177, 2], 4, 0.7377777777777778]\n",
      " - Accuracy: 0.9425\n",
      " - Time: 45.22\n",
      "# Current Model (52/125)\n",
      " - Hypers: [[900, 354, 2], 3, 0.7377777777777778]\n",
      " - Trial 0/1\n"
     ]
    },
    {
     "name": "stderr",
     "output_type": "stream",
     "text": [
      "100%|██████████| 9/9 [00:46<00:00,  5.16s/it]\n"
     ]
    },
    {
     "name": "stdout",
     "output_type": "stream",
     "text": [
      " - Accuracy: 0.9275\n",
      " - Time: 46.48 sec\n",
      "\n",
      "# Best Model:  0.9425\n",
      " - Hypers: [[900, 177, 2], 4, 0.7377777777777778]\n",
      " - Accuracy: 0.9425\n",
      " - Time: 45.22\n",
      "# Current Model (53/125)\n",
      " - Hypers: [[900, 354, 2], 3, 0.18444444444444447]\n",
      " - Trial 0/1\n"
     ]
    },
    {
     "name": "stderr",
     "output_type": "stream",
     "text": [
      "100%|██████████| 9/9 [00:46<00:00,  5.18s/it]\n"
     ]
    },
    {
     "name": "stdout",
     "output_type": "stream",
     "text": [
      " - Accuracy: 0.91625\n",
      " - Time: 46.61 sec\n",
      "\n",
      "# Best Model:  0.9425\n",
      " - Hypers: [[900, 177, 2], 4, 0.7377777777777778]\n",
      " - Accuracy: 0.9425\n",
      " - Time: 45.22\n",
      "# Current Model (54/125)\n",
      " - Hypers: [[900, 354, 2], 3, 0.9222222222222223]\n",
      " - Trial 0/1\n"
     ]
    },
    {
     "name": "stderr",
     "output_type": "stream",
     "text": [
      "100%|██████████| 9/9 [00:46<00:00,  5.15s/it]\n"
     ]
    },
    {
     "name": "stdout",
     "output_type": "stream",
     "text": [
      " - Accuracy: 0.92625\n",
      " - Time: 46.33 sec\n",
      "\n",
      "# Best Model:  0.9425\n",
      " - Hypers: [[900, 177, 2], 4, 0.7377777777777778]\n",
      " - Accuracy: 0.9425\n",
      " - Time: 45.22\n",
      "# Current Model (55/125)\n",
      " - Hypers: [[900, 354, 2], 2, 0.5533333333333333]\n",
      " - Trial 0/1\n"
     ]
    },
    {
     "name": "stderr",
     "output_type": "stream",
     "text": [
      "100%|██████████| 9/9 [00:48<00:00,  5.34s/it]\n"
     ]
    },
    {
     "name": "stdout",
     "output_type": "stream",
     "text": [
      " - Accuracy: 0.935\n",
      " - Time: 48.08 sec\n",
      "\n",
      "# Best Model:  0.9425\n",
      " - Hypers: [[900, 177, 2], 4, 0.7377777777777778]\n",
      " - Accuracy: 0.9425\n",
      " - Time: 45.22\n",
      "# Current Model (56/125)\n",
      " - Hypers: [[900, 354, 2], 2, 0.36888888888888893]\n",
      " - Trial 0/1\n"
     ]
    },
    {
     "name": "stderr",
     "output_type": "stream",
     "text": [
      "100%|██████████| 9/9 [00:48<00:00,  5.40s/it]\n"
     ]
    },
    {
     "name": "stdout",
     "output_type": "stream",
     "text": [
      " - Accuracy: 0.9325\n",
      " - Time: 48.59 sec\n",
      "\n",
      "# Best Model:  0.9425\n",
      " - Hypers: [[900, 177, 2], 4, 0.7377777777777778]\n",
      " - Accuracy: 0.9425\n",
      " - Time: 45.22\n",
      "# Current Model (57/125)\n",
      " - Hypers: [[900, 354, 2], 2, 0.7377777777777778]\n",
      " - Trial 0/1\n"
     ]
    },
    {
     "name": "stderr",
     "output_type": "stream",
     "text": [
      "100%|██████████| 9/9 [00:48<00:00,  5.35s/it]\n"
     ]
    },
    {
     "name": "stdout",
     "output_type": "stream",
     "text": [
      " - Accuracy: 0.92125\n",
      " - Time: 48.13 sec\n",
      "\n",
      "# Best Model:  0.9425\n",
      " - Hypers: [[900, 177, 2], 4, 0.7377777777777778]\n",
      " - Accuracy: 0.9425\n",
      " - Time: 45.22\n",
      "# Current Model (58/125)\n",
      " - Hypers: [[900, 354, 2], 2, 0.18444444444444447]\n",
      " - Trial 0/1\n"
     ]
    },
    {
     "name": "stderr",
     "output_type": "stream",
     "text": [
      "100%|██████████| 9/9 [00:49<00:00,  5.50s/it]\n"
     ]
    },
    {
     "name": "stdout",
     "output_type": "stream",
     "text": [
      " - Accuracy: 0.93125\n",
      " - Time: 49.5 sec\n",
      "\n",
      "# Best Model:  0.9425\n",
      " - Hypers: [[900, 177, 2], 4, 0.7377777777777778]\n",
      " - Accuracy: 0.9425\n",
      " - Time: 45.22\n",
      "# Current Model (59/125)\n",
      " - Hypers: [[900, 354, 2], 2, 0.9222222222222223]\n",
      " - Trial 0/1\n"
     ]
    },
    {
     "name": "stderr",
     "output_type": "stream",
     "text": [
      "100%|██████████| 9/9 [00:48<00:00,  5.36s/it]\n"
     ]
    },
    {
     "name": "stdout",
     "output_type": "stream",
     "text": [
      " - Accuracy: 0.9325\n",
      " - Time: 48.22 sec\n",
      "\n",
      "# Best Model:  0.9425\n",
      " - Hypers: [[900, 177, 2], 4, 0.7377777777777778]\n",
      " - Accuracy: 0.9425\n",
      " - Time: 45.22\n",
      "# Current Model (60/125)\n",
      " - Hypers: [[900, 354, 2], 4, 0.5533333333333333]\n",
      " - Trial 0/1\n"
     ]
    },
    {
     "name": "stderr",
     "output_type": "stream",
     "text": [
      "100%|██████████| 9/9 [00:45<00:00,  5.07s/it]\n"
     ]
    },
    {
     "name": "stdout",
     "output_type": "stream",
     "text": [
      " - Accuracy: 0.93625\n",
      " - Time: 45.61 sec\n",
      "\n",
      "# Best Model:  0.9425\n",
      " - Hypers: [[900, 177, 2], 4, 0.7377777777777778]\n",
      " - Accuracy: 0.9425\n",
      " - Time: 45.22\n",
      "# Current Model (61/125)\n",
      " - Hypers: [[900, 354, 2], 4, 0.36888888888888893]\n",
      " - Trial 0/1\n"
     ]
    },
    {
     "name": "stderr",
     "output_type": "stream",
     "text": [
      "100%|██████████| 9/9 [00:45<00:00,  5.09s/it]\n"
     ]
    },
    {
     "name": "stdout",
     "output_type": "stream",
     "text": [
      " - Accuracy: 0.92625\n",
      " - Time: 45.8 sec\n",
      "\n",
      "# Best Model:  0.9425\n",
      " - Hypers: [[900, 177, 2], 4, 0.7377777777777778]\n",
      " - Accuracy: 0.9425\n",
      " - Time: 45.22\n",
      "# Current Model (62/125)\n",
      " - Hypers: [[900, 354, 2], 4, 0.7377777777777778]\n",
      " - Trial 0/1\n"
     ]
    },
    {
     "name": "stderr",
     "output_type": "stream",
     "text": [
      "100%|██████████| 9/9 [00:45<00:00,  5.08s/it]\n"
     ]
    },
    {
     "name": "stdout",
     "output_type": "stream",
     "text": [
      " - Accuracy: 0.93125\n",
      " - Time: 45.77 sec\n",
      "\n",
      "# Best Model:  0.9425\n",
      " - Hypers: [[900, 177, 2], 4, 0.7377777777777778]\n",
      " - Accuracy: 0.9425\n",
      " - Time: 45.22\n",
      "# Current Model (63/125)\n",
      " - Hypers: [[900, 354, 2], 4, 0.18444444444444447]\n",
      " - Trial 0/1\n"
     ]
    },
    {
     "name": "stderr",
     "output_type": "stream",
     "text": [
      "100%|██████████| 9/9 [00:45<00:00,  5.09s/it]\n"
     ]
    },
    {
     "name": "stdout",
     "output_type": "stream",
     "text": [
      " - Accuracy: 0.9125\n",
      " - Time: 45.79 sec\n",
      "\n",
      "# Best Model:  0.9425\n",
      " - Hypers: [[900, 177, 2], 4, 0.7377777777777778]\n",
      " - Accuracy: 0.9425\n",
      " - Time: 45.22\n",
      "# Current Model (64/125)\n",
      " - Hypers: [[900, 354, 2], 4, 0.9222222222222223]\n",
      " - Trial 0/1\n"
     ]
    },
    {
     "name": "stderr",
     "output_type": "stream",
     "text": [
      "100%|██████████| 9/9 [00:45<00:00,  5.09s/it]\n"
     ]
    },
    {
     "name": "stdout",
     "output_type": "stream",
     "text": [
      " - Accuracy: 0.9375\n",
      " - Time: 45.82 sec\n",
      "\n",
      "# Best Model:  0.9425\n",
      " - Hypers: [[900, 177, 2], 4, 0.7377777777777778]\n",
      " - Accuracy: 0.9425\n",
      " - Time: 45.22\n",
      "# Current Model (65/125)\n",
      " - Hypers: [[900, 354, 2], 1, 0.5533333333333333]\n",
      " - Trial 0/1\n"
     ]
    },
    {
     "name": "stderr",
     "output_type": "stream",
     "text": [
      "100%|██████████| 9/9 [00:53<00:00,  5.97s/it]\n"
     ]
    },
    {
     "name": "stdout",
     "output_type": "stream",
     "text": [
      " - Accuracy: 0.9275\n",
      " - Time: 53.7 sec\n",
      "\n",
      "# Best Model:  0.9425\n",
      " - Hypers: [[900, 177, 2], 4, 0.7377777777777778]\n",
      " - Accuracy: 0.9425\n",
      " - Time: 45.22\n",
      "# Current Model (66/125)\n",
      " - Hypers: [[900, 354, 2], 1, 0.36888888888888893]\n",
      " - Trial 0/1\n"
     ]
    },
    {
     "name": "stderr",
     "output_type": "stream",
     "text": [
      "100%|██████████| 9/9 [00:53<00:00,  5.92s/it]\n"
     ]
    },
    {
     "name": "stdout",
     "output_type": "stream",
     "text": [
      " - Accuracy: 0.92375\n",
      " - Time: 53.29 sec\n",
      "\n",
      "# Best Model:  0.9425\n",
      " - Hypers: [[900, 177, 2], 4, 0.7377777777777778]\n",
      " - Accuracy: 0.9425\n",
      " - Time: 45.22\n",
      "# Current Model (67/125)\n",
      " - Hypers: [[900, 354, 2], 1, 0.7377777777777778]\n",
      " - Trial 0/1\n"
     ]
    },
    {
     "name": "stderr",
     "output_type": "stream",
     "text": [
      "100%|██████████| 9/9 [00:53<00:00,  5.91s/it]\n"
     ]
    },
    {
     "name": "stdout",
     "output_type": "stream",
     "text": [
      " - Accuracy: 0.92375\n",
      " - Time: 53.17 sec\n",
      "\n",
      "# Best Model:  0.9425\n",
      " - Hypers: [[900, 177, 2], 4, 0.7377777777777778]\n",
      " - Accuracy: 0.9425\n",
      " - Time: 45.22\n",
      "# Current Model (68/125)\n",
      " - Hypers: [[900, 354, 2], 1, 0.18444444444444447]\n",
      " - Trial 0/1\n"
     ]
    },
    {
     "name": "stderr",
     "output_type": "stream",
     "text": [
      "100%|██████████| 9/9 [00:52<00:00,  5.88s/it]\n"
     ]
    },
    {
     "name": "stdout",
     "output_type": "stream",
     "text": [
      " - Accuracy: 0.94\n",
      " - Time: 52.95 sec\n",
      "\n",
      "# Best Model:  0.9425\n",
      " - Hypers: [[900, 177, 2], 4, 0.7377777777777778]\n",
      " - Accuracy: 0.9425\n",
      " - Time: 45.22\n",
      "# Current Model (69/125)\n",
      " - Hypers: [[900, 354, 2], 1, 0.9222222222222223]\n",
      " - Trial 0/1\n"
     ]
    },
    {
     "name": "stderr",
     "output_type": "stream",
     "text": [
      "100%|██████████| 9/9 [00:52<00:00,  5.88s/it]\n"
     ]
    },
    {
     "name": "stdout",
     "output_type": "stream",
     "text": [
      " - Accuracy: 0.89625\n",
      " - Time: 52.93 sec\n",
      "\n",
      "# Best Model:  0.9425\n",
      " - Hypers: [[900, 177, 2], 4, 0.7377777777777778]\n",
      " - Accuracy: 0.9425\n",
      " - Time: 45.22\n",
      "# Current Model (70/125)\n",
      " - Hypers: [[900, 354, 2], 5, 0.5533333333333333]\n",
      " - Trial 0/1\n"
     ]
    },
    {
     "name": "stderr",
     "output_type": "stream",
     "text": [
      "100%|██████████| 9/9 [00:45<00:00,  5.01s/it]\n"
     ]
    },
    {
     "name": "stdout",
     "output_type": "stream",
     "text": [
      " - Accuracy: 0.92625\n",
      " - Time: 45.12 sec\n",
      "\n",
      "# Best Model:  0.9425\n",
      " - Hypers: [[900, 177, 2], 4, 0.7377777777777778]\n",
      " - Accuracy: 0.9425\n",
      " - Time: 45.22\n",
      "# Current Model (71/125)\n",
      " - Hypers: [[900, 354, 2], 5, 0.36888888888888893]\n",
      " - Trial 0/1\n"
     ]
    },
    {
     "name": "stderr",
     "output_type": "stream",
     "text": [
      "100%|██████████| 9/9 [00:45<00:00,  5.02s/it]\n"
     ]
    },
    {
     "name": "stdout",
     "output_type": "stream",
     "text": [
      " - Accuracy: 0.925\n",
      " - Time: 45.21 sec\n",
      "\n",
      "# Best Model:  0.9425\n",
      " - Hypers: [[900, 177, 2], 4, 0.7377777777777778]\n",
      " - Accuracy: 0.9425\n",
      " - Time: 45.22\n",
      "# Current Model (72/125)\n",
      " - Hypers: [[900, 354, 2], 5, 0.7377777777777778]\n",
      " - Trial 0/1\n"
     ]
    },
    {
     "name": "stderr",
     "output_type": "stream",
     "text": [
      "100%|██████████| 9/9 [00:45<00:00,  5.02s/it]\n"
     ]
    },
    {
     "name": "stdout",
     "output_type": "stream",
     "text": [
      " - Accuracy: 0.92875\n",
      " - Time: 45.14 sec\n",
      "\n",
      "# Best Model:  0.9425\n",
      " - Hypers: [[900, 177, 2], 4, 0.7377777777777778]\n",
      " - Accuracy: 0.9425\n",
      " - Time: 45.22\n",
      "# Current Model (73/125)\n",
      " - Hypers: [[900, 354, 2], 5, 0.18444444444444447]\n",
      " - Trial 0/1\n"
     ]
    },
    {
     "name": "stderr",
     "output_type": "stream",
     "text": [
      "100%|██████████| 9/9 [00:45<00:00,  5.05s/it]\n"
     ]
    },
    {
     "name": "stdout",
     "output_type": "stream",
     "text": [
      " - Accuracy: 0.90875\n",
      " - Time: 45.49 sec\n",
      "\n",
      "# Best Model:  0.9425\n",
      " - Hypers: [[900, 177, 2], 4, 0.7377777777777778]\n",
      " - Accuracy: 0.9425\n",
      " - Time: 45.22\n",
      "# Current Model (74/125)\n",
      " - Hypers: [[900, 354, 2], 5, 0.9222222222222223]\n",
      " - Trial 0/1\n"
     ]
    },
    {
     "name": "stderr",
     "output_type": "stream",
     "text": [
      "100%|██████████| 9/9 [00:47<00:00,  5.27s/it]\n"
     ]
    },
    {
     "name": "stdout",
     "output_type": "stream",
     "text": [
      " - Accuracy: 0.9275\n",
      " - Time: 47.44 sec\n",
      "\n",
      "# Best Model:  0.9425\n",
      " - Hypers: [[900, 177, 2], 4, 0.7377777777777778]\n",
      " - Accuracy: 0.9425\n",
      " - Time: 45.22\n",
      "# Current Model (75/125)\n",
      " - Hypers: [[900, 88, 2], 3, 0.5533333333333333]\n",
      " - Trial 0/1\n"
     ]
    },
    {
     "name": "stderr",
     "output_type": "stream",
     "text": [
      "100%|██████████| 9/9 [00:48<00:00,  5.43s/it]\n"
     ]
    },
    {
     "name": "stdout",
     "output_type": "stream",
     "text": [
      " - Accuracy: 0.93\n",
      " - Time: 48.85 sec\n",
      "\n",
      "# Best Model:  0.9425\n",
      " - Hypers: [[900, 177, 2], 4, 0.7377777777777778]\n",
      " - Accuracy: 0.9425\n",
      " - Time: 45.22\n",
      "# Current Model (76/125)\n",
      " - Hypers: [[900, 88, 2], 3, 0.36888888888888893]\n",
      " - Trial 0/1\n"
     ]
    },
    {
     "name": "stderr",
     "output_type": "stream",
     "text": [
      "100%|██████████| 9/9 [00:49<00:00,  5.44s/it]\n"
     ]
    },
    {
     "name": "stdout",
     "output_type": "stream",
     "text": [
      " - Accuracy: 0.925\n",
      " - Time: 49.0 sec\n",
      "\n",
      "# Best Model:  0.9425\n",
      " - Hypers: [[900, 177, 2], 4, 0.7377777777777778]\n",
      " - Accuracy: 0.9425\n",
      " - Time: 45.22\n",
      "# Current Model (77/125)\n",
      " - Hypers: [[900, 88, 2], 3, 0.7377777777777778]\n",
      " - Trial 0/1\n"
     ]
    },
    {
     "name": "stderr",
     "output_type": "stream",
     "text": [
      "100%|██████████| 9/9 [00:46<00:00,  5.18s/it]\n"
     ]
    },
    {
     "name": "stdout",
     "output_type": "stream",
     "text": [
      " - Accuracy: 0.93125\n",
      " - Time: 46.62 sec\n",
      "\n",
      "# Best Model:  0.9425\n",
      " - Hypers: [[900, 177, 2], 4, 0.7377777777777778]\n",
      " - Accuracy: 0.9425\n",
      " - Time: 45.22\n",
      "# Current Model (78/125)\n",
      " - Hypers: [[900, 88, 2], 3, 0.18444444444444447]\n",
      " - Trial 0/1\n"
     ]
    },
    {
     "name": "stderr",
     "output_type": "stream",
     "text": [
      "100%|██████████| 9/9 [00:46<00:00,  5.17s/it]\n"
     ]
    },
    {
     "name": "stdout",
     "output_type": "stream",
     "text": [
      " - Accuracy: 0.92875\n",
      " - Time: 46.55 sec\n",
      "\n",
      "# Best Model:  0.9425\n",
      " - Hypers: [[900, 177, 2], 4, 0.7377777777777778]\n",
      " - Accuracy: 0.9425\n",
      " - Time: 45.22\n",
      "# Current Model (79/125)\n",
      " - Hypers: [[900, 88, 2], 3, 0.9222222222222223]\n",
      " - Trial 0/1\n"
     ]
    },
    {
     "name": "stderr",
     "output_type": "stream",
     "text": [
      "100%|██████████| 9/9 [00:46<00:00,  5.20s/it]\n"
     ]
    },
    {
     "name": "stdout",
     "output_type": "stream",
     "text": [
      " - Accuracy: 0.92\n",
      " - Time: 46.82 sec\n",
      "\n",
      "# Best Model:  0.9425\n",
      " - Hypers: [[900, 177, 2], 4, 0.7377777777777778]\n",
      " - Accuracy: 0.9425\n",
      " - Time: 45.22\n",
      "# Current Model (80/125)\n",
      " - Hypers: [[900, 88, 2], 2, 0.5533333333333333]\n",
      " - Trial 0/1\n"
     ]
    },
    {
     "name": "stderr",
     "output_type": "stream",
     "text": [
      "100%|██████████| 9/9 [00:48<00:00,  5.38s/it]\n"
     ]
    },
    {
     "name": "stdout",
     "output_type": "stream",
     "text": [
      " - Accuracy: 0.92625\n",
      " - Time: 48.42 sec\n",
      "\n",
      "# Best Model:  0.9425\n",
      " - Hypers: [[900, 177, 2], 4, 0.7377777777777778]\n",
      " - Accuracy: 0.9425\n",
      " - Time: 45.22\n",
      "# Current Model (81/125)\n",
      " - Hypers: [[900, 88, 2], 2, 0.36888888888888893]\n",
      " - Trial 0/1\n"
     ]
    },
    {
     "name": "stderr",
     "output_type": "stream",
     "text": [
      "100%|██████████| 9/9 [00:48<00:00,  5.39s/it]\n"
     ]
    },
    {
     "name": "stdout",
     "output_type": "stream",
     "text": [
      " - Accuracy: 0.9375\n",
      " - Time: 48.54 sec\n",
      "\n",
      "# Best Model:  0.9425\n",
      " - Hypers: [[900, 177, 2], 4, 0.7377777777777778]\n",
      " - Accuracy: 0.9425\n",
      " - Time: 45.22\n",
      "# Current Model (82/125)\n",
      " - Hypers: [[900, 88, 2], 2, 0.7377777777777778]\n",
      " - Trial 0/1\n"
     ]
    },
    {
     "name": "stderr",
     "output_type": "stream",
     "text": [
      "100%|██████████| 9/9 [00:50<00:00,  5.58s/it]\n"
     ]
    },
    {
     "name": "stdout",
     "output_type": "stream",
     "text": [
      " - Accuracy: 0.93375\n",
      " - Time: 50.19 sec\n",
      "\n",
      "# Best Model:  0.9425\n",
      " - Hypers: [[900, 177, 2], 4, 0.7377777777777778]\n",
      " - Accuracy: 0.9425\n",
      " - Time: 45.22\n",
      "# Current Model (83/125)\n",
      " - Hypers: [[900, 88, 2], 2, 0.18444444444444447]\n",
      " - Trial 0/1\n"
     ]
    },
    {
     "name": "stderr",
     "output_type": "stream",
     "text": [
      "100%|██████████| 9/9 [00:50<00:00,  5.62s/it]\n"
     ]
    },
    {
     "name": "stdout",
     "output_type": "stream",
     "text": [
      " - Accuracy: 0.9325\n",
      " - Time: 50.61 sec\n",
      "\n",
      "# Best Model:  0.9425\n",
      " - Hypers: [[900, 177, 2], 4, 0.7377777777777778]\n",
      " - Accuracy: 0.9425\n",
      " - Time: 45.22\n",
      "# Current Model (84/125)\n",
      " - Hypers: [[900, 88, 2], 2, 0.9222222222222223]\n",
      " - Trial 0/1\n"
     ]
    },
    {
     "name": "stderr",
     "output_type": "stream",
     "text": [
      "100%|██████████| 9/9 [00:49<00:00,  5.47s/it]\n"
     ]
    },
    {
     "name": "stdout",
     "output_type": "stream",
     "text": [
      " - Accuracy: 0.92875\n",
      " - Time: 49.24 sec\n",
      "\n",
      "# Best Model:  0.9425\n",
      " - Hypers: [[900, 177, 2], 4, 0.7377777777777778]\n",
      " - Accuracy: 0.9425\n",
      " - Time: 45.22\n",
      "# Current Model (85/125)\n",
      " - Hypers: [[900, 88, 2], 4, 0.5533333333333333]\n",
      " - Trial 0/1\n"
     ]
    },
    {
     "name": "stderr",
     "output_type": "stream",
     "text": [
      "100%|██████████| 9/9 [00:45<00:00,  5.09s/it]\n"
     ]
    },
    {
     "name": "stdout",
     "output_type": "stream",
     "text": [
      " - Accuracy: 0.92125\n",
      " - Time: 45.8 sec\n",
      "\n",
      "# Best Model:  0.9425\n",
      " - Hypers: [[900, 177, 2], 4, 0.7377777777777778]\n",
      " - Accuracy: 0.9425\n",
      " - Time: 45.22\n",
      "# Current Model (86/125)\n",
      " - Hypers: [[900, 88, 2], 4, 0.36888888888888893]\n",
      " - Trial 0/1\n"
     ]
    },
    {
     "name": "stderr",
     "output_type": "stream",
     "text": [
      "100%|██████████| 9/9 [00:45<00:00,  5.10s/it]\n"
     ]
    },
    {
     "name": "stdout",
     "output_type": "stream",
     "text": [
      " - Accuracy: 0.925\n",
      " - Time: 45.89 sec\n",
      "\n",
      "# Best Model:  0.9425\n",
      " - Hypers: [[900, 177, 2], 4, 0.7377777777777778]\n",
      " - Accuracy: 0.9425\n",
      " - Time: 45.22\n",
      "# Current Model (87/125)\n",
      " - Hypers: [[900, 88, 2], 4, 0.7377777777777778]\n",
      " - Trial 0/1\n"
     ]
    },
    {
     "name": "stderr",
     "output_type": "stream",
     "text": [
      "100%|██████████| 9/9 [00:46<00:00,  5.11s/it]\n"
     ]
    },
    {
     "name": "stdout",
     "output_type": "stream",
     "text": [
      " - Accuracy: 0.93625\n",
      " - Time: 46.03 sec\n",
      "\n",
      "# Best Model:  0.9425\n",
      " - Hypers: [[900, 177, 2], 4, 0.7377777777777778]\n",
      " - Accuracy: 0.9425\n",
      " - Time: 45.22\n",
      "# Current Model (88/125)\n",
      " - Hypers: [[900, 88, 2], 4, 0.18444444444444447]\n",
      " - Trial 0/1\n"
     ]
    },
    {
     "name": "stderr",
     "output_type": "stream",
     "text": [
      "100%|██████████| 9/9 [00:45<00:00,  5.07s/it]\n"
     ]
    },
    {
     "name": "stdout",
     "output_type": "stream",
     "text": [
      " - Accuracy: 0.9175\n",
      " - Time: 45.61 sec\n",
      "\n",
      "# Best Model:  0.9425\n",
      " - Hypers: [[900, 177, 2], 4, 0.7377777777777778]\n",
      " - Accuracy: 0.9425\n",
      " - Time: 45.22\n",
      "# Current Model (89/125)\n",
      " - Hypers: [[900, 88, 2], 4, 0.9222222222222223]\n",
      " - Trial 0/1\n"
     ]
    },
    {
     "name": "stderr",
     "output_type": "stream",
     "text": [
      "100%|██████████| 9/9 [00:45<00:00,  5.09s/it]\n"
     ]
    },
    {
     "name": "stdout",
     "output_type": "stream",
     "text": [
      " - Accuracy: 0.93125\n",
      " - Time: 45.82 sec\n",
      "\n",
      "# Best Model:  0.9425\n",
      " - Hypers: [[900, 177, 2], 4, 0.7377777777777778]\n",
      " - Accuracy: 0.9425\n",
      " - Time: 45.22\n",
      "# Current Model (90/125)\n",
      " - Hypers: [[900, 88, 2], 1, 0.5533333333333333]\n",
      " - Trial 0/1\n"
     ]
    },
    {
     "name": "stderr",
     "output_type": "stream",
     "text": [
      "100%|██████████| 9/9 [00:52<00:00,  5.89s/it]\n"
     ]
    },
    {
     "name": "stdout",
     "output_type": "stream",
     "text": [
      " - Accuracy: 0.9225\n",
      " - Time: 52.99 sec\n",
      "\n",
      "# Best Model:  0.9425\n",
      " - Hypers: [[900, 177, 2], 4, 0.7377777777777778]\n",
      " - Accuracy: 0.9425\n",
      " - Time: 45.22\n",
      "# Current Model (91/125)\n",
      " - Hypers: [[900, 88, 2], 1, 0.36888888888888893]\n",
      " - Trial 0/1\n"
     ]
    },
    {
     "name": "stderr",
     "output_type": "stream",
     "text": [
      "100%|██████████| 9/9 [00:52<00:00,  5.89s/it]\n"
     ]
    },
    {
     "name": "stdout",
     "output_type": "stream",
     "text": [
      " - Accuracy: 0.9175\n",
      " - Time: 52.98 sec\n",
      "\n",
      "# Best Model:  0.9425\n",
      " - Hypers: [[900, 177, 2], 4, 0.7377777777777778]\n",
      " - Accuracy: 0.9425\n",
      " - Time: 45.22\n",
      "# Current Model (92/125)\n",
      " - Hypers: [[900, 88, 2], 1, 0.7377777777777778]\n",
      " - Trial 0/1\n"
     ]
    },
    {
     "name": "stderr",
     "output_type": "stream",
     "text": [
      "100%|██████████| 9/9 [00:52<00:00,  5.88s/it]\n"
     ]
    },
    {
     "name": "stdout",
     "output_type": "stream",
     "text": [
      " - Accuracy: 0.91125\n",
      " - Time: 52.88 sec\n",
      "\n",
      "# Best Model:  0.9425\n",
      " - Hypers: [[900, 177, 2], 4, 0.7377777777777778]\n",
      " - Accuracy: 0.9425\n",
      " - Time: 45.22\n",
      "# Current Model (93/125)\n",
      " - Hypers: [[900, 88, 2], 1, 0.18444444444444447]\n",
      " - Trial 0/1\n"
     ]
    },
    {
     "name": "stderr",
     "output_type": "stream",
     "text": [
      "100%|██████████| 9/9 [00:53<00:00,  5.94s/it]\n"
     ]
    },
    {
     "name": "stdout",
     "output_type": "stream",
     "text": [
      " - Accuracy: 0.93\n",
      " - Time: 53.42 sec\n",
      "\n",
      "# Best Model:  0.9425\n",
      " - Hypers: [[900, 177, 2], 4, 0.7377777777777778]\n",
      " - Accuracy: 0.9425\n",
      " - Time: 45.22\n",
      "# Current Model (94/125)\n",
      " - Hypers: [[900, 88, 2], 1, 0.9222222222222223]\n",
      " - Trial 0/1\n"
     ]
    },
    {
     "name": "stderr",
     "output_type": "stream",
     "text": [
      "100%|██████████| 9/9 [00:53<00:00,  5.91s/it]\n"
     ]
    },
    {
     "name": "stdout",
     "output_type": "stream",
     "text": [
      " - Accuracy: 0.86625\n",
      " - Time: 53.15 sec\n",
      "\n",
      "# Best Model:  0.9425\n",
      " - Hypers: [[900, 177, 2], 4, 0.7377777777777778]\n",
      " - Accuracy: 0.9425\n",
      " - Time: 45.22\n",
      "# Current Model (95/125)\n",
      " - Hypers: [[900, 88, 2], 5, 0.5533333333333333]\n",
      " - Trial 0/1\n"
     ]
    },
    {
     "name": "stderr",
     "output_type": "stream",
     "text": [
      "100%|██████████| 9/9 [00:45<00:00,  5.04s/it]\n"
     ]
    },
    {
     "name": "stdout",
     "output_type": "stream",
     "text": [
      " - Accuracy: 0.93\n",
      " - Time: 45.38 sec\n",
      "\n",
      "# Best Model:  0.9425\n",
      " - Hypers: [[900, 177, 2], 4, 0.7377777777777778]\n",
      " - Accuracy: 0.9425\n",
      " - Time: 45.22\n",
      "# Current Model (96/125)\n",
      " - Hypers: [[900, 88, 2], 5, 0.36888888888888893]\n",
      " - Trial 0/1\n"
     ]
    },
    {
     "name": "stderr",
     "output_type": "stream",
     "text": [
      "100%|██████████| 9/9 [00:45<00:00,  5.03s/it]\n"
     ]
    },
    {
     "name": "stdout",
     "output_type": "stream",
     "text": [
      " - Accuracy: 0.9175\n",
      " - Time: 45.27 sec\n",
      "\n",
      "# Best Model:  0.9425\n",
      " - Hypers: [[900, 177, 2], 4, 0.7377777777777778]\n",
      " - Accuracy: 0.9425\n",
      " - Time: 45.22\n",
      "# Current Model (97/125)\n",
      " - Hypers: [[900, 88, 2], 5, 0.7377777777777778]\n",
      " - Trial 0/1\n"
     ]
    },
    {
     "name": "stderr",
     "output_type": "stream",
     "text": [
      "100%|██████████| 9/9 [00:45<00:00,  5.04s/it]\n"
     ]
    },
    {
     "name": "stdout",
     "output_type": "stream",
     "text": [
      " - Accuracy: 0.92625\n",
      " - Time: 45.38 sec\n",
      "\n",
      "# Best Model:  0.9425\n",
      " - Hypers: [[900, 177, 2], 4, 0.7377777777777778]\n",
      " - Accuracy: 0.9425\n",
      " - Time: 45.22\n",
      "# Current Model (98/125)\n",
      " - Hypers: [[900, 88, 2], 5, 0.18444444444444447]\n",
      " - Trial 0/1\n"
     ]
    },
    {
     "name": "stderr",
     "output_type": "stream",
     "text": [
      "100%|██████████| 9/9 [00:45<00:00,  5.04s/it]\n"
     ]
    },
    {
     "name": "stdout",
     "output_type": "stream",
     "text": [
      " - Accuracy: 0.91125\n",
      " - Time: 45.37 sec\n",
      "\n",
      "# Best Model:  0.9425\n",
      " - Hypers: [[900, 177, 2], 4, 0.7377777777777778]\n",
      " - Accuracy: 0.9425\n",
      " - Time: 45.22\n",
      "# Current Model (99/125)\n",
      " - Hypers: [[900, 88, 2], 5, 0.9222222222222223]\n",
      " - Trial 0/1\n"
     ]
    },
    {
     "name": "stderr",
     "output_type": "stream",
     "text": [
      "100%|██████████| 9/9 [00:45<00:00,  5.05s/it]\n"
     ]
    },
    {
     "name": "stdout",
     "output_type": "stream",
     "text": [
      " - Accuracy: 0.93375\n",
      " - Time: 45.42 sec\n",
      "\n",
      "# Best Model:  0.9425\n",
      " - Hypers: [[900, 177, 2], 4, 0.7377777777777778]\n",
      " - Accuracy: 0.9425\n",
      " - Time: 45.22\n",
      "# Current Model (100/125)\n",
      " - Hypers: [[900, 443, 2], 3, 0.5533333333333333]\n",
      " - Trial 0/1\n"
     ]
    },
    {
     "name": "stderr",
     "output_type": "stream",
     "text": [
      "100%|██████████| 9/9 [00:46<00:00,  5.20s/it]\n"
     ]
    },
    {
     "name": "stdout",
     "output_type": "stream",
     "text": [
      " - Accuracy: 0.925\n",
      " - Time: 46.79 sec\n",
      "\n",
      "# Best Model:  0.9425\n",
      " - Hypers: [[900, 177, 2], 4, 0.7377777777777778]\n",
      " - Accuracy: 0.9425\n",
      " - Time: 45.22\n",
      "# Current Model (101/125)\n",
      " - Hypers: [[900, 443, 2], 3, 0.36888888888888893]\n",
      " - Trial 0/1\n"
     ]
    },
    {
     "name": "stderr",
     "output_type": "stream",
     "text": [
      "100%|██████████| 9/9 [00:46<00:00,  5.16s/it]\n"
     ]
    },
    {
     "name": "stdout",
     "output_type": "stream",
     "text": [
      " - Accuracy: 0.93375\n",
      " - Time: 46.45 sec\n",
      "\n",
      "# Best Model:  0.9425\n",
      " - Hypers: [[900, 177, 2], 4, 0.7377777777777778]\n",
      " - Accuracy: 0.9425\n",
      " - Time: 45.22\n",
      "# Current Model (102/125)\n",
      " - Hypers: [[900, 443, 2], 3, 0.7377777777777778]\n",
      " - Trial 0/1\n"
     ]
    },
    {
     "name": "stderr",
     "output_type": "stream",
     "text": [
      "100%|██████████| 9/9 [00:46<00:00,  5.14s/it]\n"
     ]
    },
    {
     "name": "stdout",
     "output_type": "stream",
     "text": [
      " - Accuracy: 0.92625\n",
      " - Time: 46.29 sec\n",
      "\n",
      "# Best Model:  0.9425\n",
      " - Hypers: [[900, 177, 2], 4, 0.7377777777777778]\n",
      " - Accuracy: 0.9425\n",
      " - Time: 45.22\n",
      "# Current Model (103/125)\n",
      " - Hypers: [[900, 443, 2], 3, 0.18444444444444447]\n",
      " - Trial 0/1\n"
     ]
    },
    {
     "name": "stderr",
     "output_type": "stream",
     "text": [
      "100%|██████████| 9/9 [00:46<00:00,  5.17s/it]\n"
     ]
    },
    {
     "name": "stdout",
     "output_type": "stream",
     "text": [
      " - Accuracy: 0.92875\n",
      " - Time: 46.51 sec\n",
      "\n",
      "# Best Model:  0.9425\n",
      " - Hypers: [[900, 177, 2], 4, 0.7377777777777778]\n",
      " - Accuracy: 0.9425\n",
      " - Time: 45.22\n",
      "# Current Model (104/125)\n",
      " - Hypers: [[900, 443, 2], 3, 0.9222222222222223]\n",
      " - Trial 0/1\n"
     ]
    },
    {
     "name": "stderr",
     "output_type": "stream",
     "text": [
      "100%|██████████| 9/9 [00:46<00:00,  5.18s/it]\n"
     ]
    },
    {
     "name": "stdout",
     "output_type": "stream",
     "text": [
      " - Accuracy: 0.93875\n",
      " - Time: 46.65 sec\n",
      "\n",
      "# Best Model:  0.9425\n",
      " - Hypers: [[900, 177, 2], 4, 0.7377777777777778]\n",
      " - Accuracy: 0.9425\n",
      " - Time: 45.22\n",
      "# Current Model (105/125)\n",
      " - Hypers: [[900, 443, 2], 2, 0.5533333333333333]\n",
      " - Trial 0/1\n"
     ]
    },
    {
     "name": "stderr",
     "output_type": "stream",
     "text": [
      "100%|██████████| 9/9 [00:48<00:00,  5.37s/it]\n"
     ]
    },
    {
     "name": "stdout",
     "output_type": "stream",
     "text": [
      " - Accuracy: 0.93875\n",
      " - Time: 48.32 sec\n",
      "\n",
      "# Best Model:  0.9425\n",
      " - Hypers: [[900, 177, 2], 4, 0.7377777777777778]\n",
      " - Accuracy: 0.9425\n",
      " - Time: 45.22\n",
      "# Current Model (106/125)\n",
      " - Hypers: [[900, 443, 2], 2, 0.36888888888888893]\n",
      " - Trial 0/1\n"
     ]
    },
    {
     "name": "stderr",
     "output_type": "stream",
     "text": [
      "100%|██████████| 9/9 [00:48<00:00,  5.34s/it]\n"
     ]
    },
    {
     "name": "stdout",
     "output_type": "stream",
     "text": [
      " - Accuracy: 0.9275\n",
      " - Time: 48.07 sec\n",
      "\n",
      "# Best Model:  0.9425\n",
      " - Hypers: [[900, 177, 2], 4, 0.7377777777777778]\n",
      " - Accuracy: 0.9425\n",
      " - Time: 45.22\n",
      "# Current Model (107/125)\n",
      " - Hypers: [[900, 443, 2], 2, 0.7377777777777778]\n",
      " - Trial 0/1\n"
     ]
    },
    {
     "name": "stderr",
     "output_type": "stream",
     "text": [
      "100%|██████████| 9/9 [00:47<00:00,  5.32s/it]\n"
     ]
    },
    {
     "name": "stdout",
     "output_type": "stream",
     "text": [
      " - Accuracy: 0.93375\n",
      " - Time: 47.92 sec\n",
      "\n",
      "# Best Model:  0.9425\n",
      " - Hypers: [[900, 177, 2], 4, 0.7377777777777778]\n",
      " - Accuracy: 0.9425\n",
      " - Time: 45.22\n",
      "# Current Model (108/125)\n",
      " - Hypers: [[900, 443, 2], 2, 0.18444444444444447]\n",
      " - Trial 0/1\n"
     ]
    },
    {
     "name": "stderr",
     "output_type": "stream",
     "text": [
      "100%|██████████| 9/9 [00:48<00:00,  5.36s/it]\n"
     ]
    },
    {
     "name": "stdout",
     "output_type": "stream",
     "text": [
      " - Accuracy: 0.91375\n",
      " - Time: 48.26 sec\n",
      "\n",
      "# Best Model:  0.9425\n",
      " - Hypers: [[900, 177, 2], 4, 0.7377777777777778]\n",
      " - Accuracy: 0.9425\n",
      " - Time: 45.22\n",
      "# Current Model (109/125)\n",
      " - Hypers: [[900, 443, 2], 2, 0.9222222222222223]\n",
      " - Trial 0/1\n"
     ]
    },
    {
     "name": "stderr",
     "output_type": "stream",
     "text": [
      "100%|██████████| 9/9 [00:47<00:00,  5.33s/it]\n"
     ]
    },
    {
     "name": "stdout",
     "output_type": "stream",
     "text": [
      " - Accuracy: 0.92125\n",
      " - Time: 48.0 sec\n",
      "\n",
      "# Best Model:  0.9425\n",
      " - Hypers: [[900, 177, 2], 4, 0.7377777777777778]\n",
      " - Accuracy: 0.9425\n",
      " - Time: 45.22\n",
      "# Current Model (110/125)\n",
      " - Hypers: [[900, 443, 2], 4, 0.5533333333333333]\n",
      " - Trial 0/1\n"
     ]
    },
    {
     "name": "stderr",
     "output_type": "stream",
     "text": [
      "100%|██████████| 9/9 [00:45<00:00,  5.09s/it]\n"
     ]
    },
    {
     "name": "stdout",
     "output_type": "stream",
     "text": [
      " - Accuracy: 0.93625\n",
      " - Time: 45.78 sec\n",
      "\n",
      "# Best Model:  0.9425\n",
      " - Hypers: [[900, 177, 2], 4, 0.7377777777777778]\n",
      " - Accuracy: 0.9425\n",
      " - Time: 45.22\n",
      "# Current Model (111/125)\n",
      " - Hypers: [[900, 443, 2], 4, 0.36888888888888893]\n",
      " - Trial 0/1\n"
     ]
    },
    {
     "name": "stderr",
     "output_type": "stream",
     "text": [
      "100%|██████████| 9/9 [00:45<00:00,  5.05s/it]\n"
     ]
    },
    {
     "name": "stdout",
     "output_type": "stream",
     "text": [
      " - Accuracy: 0.91375\n",
      " - Time: 45.49 sec\n",
      "\n",
      "# Best Model:  0.9425\n",
      " - Hypers: [[900, 177, 2], 4, 0.7377777777777778]\n",
      " - Accuracy: 0.9425\n",
      " - Time: 45.22\n",
      "# Current Model (112/125)\n",
      " - Hypers: [[900, 443, 2], 4, 0.7377777777777778]\n",
      " - Trial 0/1\n"
     ]
    },
    {
     "name": "stderr",
     "output_type": "stream",
     "text": [
      "100%|██████████| 9/9 [00:45<00:00,  5.08s/it]\n"
     ]
    },
    {
     "name": "stdout",
     "output_type": "stream",
     "text": [
      " - Accuracy: 0.94\n",
      " - Time: 45.7 sec\n",
      "\n",
      "# Best Model:  0.9425\n",
      " - Hypers: [[900, 177, 2], 4, 0.7377777777777778]\n",
      " - Accuracy: 0.9425\n",
      " - Time: 45.22\n",
      "# Current Model (113/125)\n",
      " - Hypers: [[900, 443, 2], 4, 0.18444444444444447]\n",
      " - Trial 0/1\n"
     ]
    },
    {
     "name": "stderr",
     "output_type": "stream",
     "text": [
      "100%|██████████| 9/9 [00:45<00:00,  5.07s/it]\n"
     ]
    },
    {
     "name": "stdout",
     "output_type": "stream",
     "text": [
      " - Accuracy: 0.91875\n",
      " - Time: 45.61 sec\n",
      "\n",
      "# Best Model:  0.9425\n",
      " - Hypers: [[900, 177, 2], 4, 0.7377777777777778]\n",
      " - Accuracy: 0.9425\n",
      " - Time: 45.22\n",
      "# Current Model (114/125)\n",
      " - Hypers: [[900, 443, 2], 4, 0.9222222222222223]\n",
      " - Trial 0/1\n"
     ]
    },
    {
     "name": "stderr",
     "output_type": "stream",
     "text": [
      "100%|██████████| 9/9 [00:45<00:00,  5.10s/it]\n"
     ]
    },
    {
     "name": "stdout",
     "output_type": "stream",
     "text": [
      " - Accuracy: 0.8975\n",
      " - Time: 45.92 sec\n",
      "\n",
      "# Best Model:  0.9425\n",
      " - Hypers: [[900, 177, 2], 4, 0.7377777777777778]\n",
      " - Accuracy: 0.9425\n",
      " - Time: 45.22\n",
      "# Current Model (115/125)\n",
      " - Hypers: [[900, 443, 2], 1, 0.5533333333333333]\n",
      " - Trial 0/1\n"
     ]
    },
    {
     "name": "stderr",
     "output_type": "stream",
     "text": [
      "100%|██████████| 9/9 [00:52<00:00,  5.86s/it]\n"
     ]
    },
    {
     "name": "stdout",
     "output_type": "stream",
     "text": [
      " - Accuracy: 0.84625\n",
      " - Time: 52.78 sec\n",
      "\n",
      "# Best Model:  0.9425\n",
      " - Hypers: [[900, 177, 2], 4, 0.7377777777777778]\n",
      " - Accuracy: 0.9425\n",
      " - Time: 45.22\n",
      "# Current Model (116/125)\n",
      " - Hypers: [[900, 443, 2], 1, 0.36888888888888893]\n",
      " - Trial 0/1\n"
     ]
    },
    {
     "name": "stderr",
     "output_type": "stream",
     "text": [
      "100%|██████████| 9/9 [00:52<00:00,  5.86s/it]\n"
     ]
    },
    {
     "name": "stdout",
     "output_type": "stream",
     "text": [
      " - Accuracy: 0.93875\n",
      " - Time: 52.75 sec\n",
      "\n",
      "# Best Model:  0.9425\n",
      " - Hypers: [[900, 177, 2], 4, 0.7377777777777778]\n",
      " - Accuracy: 0.9425\n",
      " - Time: 45.22\n",
      "# Current Model (117/125)\n",
      " - Hypers: [[900, 443, 2], 1, 0.7377777777777778]\n",
      " - Trial 0/1\n"
     ]
    },
    {
     "name": "stderr",
     "output_type": "stream",
     "text": [
      "100%|██████████| 9/9 [00:52<00:00,  5.86s/it]\n"
     ]
    },
    {
     "name": "stdout",
     "output_type": "stream",
     "text": [
      " - Accuracy: 0.88625\n",
      " - Time: 52.73 sec\n",
      "\n",
      "# Best Model:  0.9425\n",
      " - Hypers: [[900, 177, 2], 4, 0.7377777777777778]\n",
      " - Accuracy: 0.9425\n",
      " - Time: 45.22\n",
      "# Current Model (118/125)\n",
      " - Hypers: [[900, 443, 2], 1, 0.18444444444444447]\n",
      " - Trial 0/1\n"
     ]
    },
    {
     "name": "stderr",
     "output_type": "stream",
     "text": [
      "100%|██████████| 9/9 [00:53<00:00,  5.92s/it]\n"
     ]
    },
    {
     "name": "stdout",
     "output_type": "stream",
     "text": [
      " - Accuracy: 0.92625\n",
      " - Time: 53.28 sec\n",
      "\n",
      "# Best Model:  0.9425\n",
      " - Hypers: [[900, 177, 2], 4, 0.7377777777777778]\n",
      " - Accuracy: 0.9425\n",
      " - Time: 45.22\n",
      "# Current Model (119/125)\n",
      " - Hypers: [[900, 443, 2], 1, 0.9222222222222223]\n",
      " - Trial 0/1\n"
     ]
    },
    {
     "name": "stderr",
     "output_type": "stream",
     "text": [
      "100%|██████████| 9/9 [00:54<00:00,  6.06s/it]\n"
     ]
    },
    {
     "name": "stdout",
     "output_type": "stream",
     "text": [
      " - Accuracy: 0.88875\n",
      " - Time: 54.52 sec\n",
      "\n",
      "# Best Model:  0.9425\n",
      " - Hypers: [[900, 177, 2], 4, 0.7377777777777778]\n",
      " - Accuracy: 0.9425\n",
      " - Time: 45.22\n",
      "# Current Model (120/125)\n",
      " - Hypers: [[900, 443, 2], 5, 0.5533333333333333]\n",
      " - Trial 0/1\n"
     ]
    },
    {
     "name": "stderr",
     "output_type": "stream",
     "text": [
      "100%|██████████| 9/9 [00:46<00:00,  5.16s/it]\n"
     ]
    },
    {
     "name": "stdout",
     "output_type": "stream",
     "text": [
      " - Accuracy: 0.9325\n",
      " - Time: 46.43 sec\n",
      "\n",
      "# Best Model:  0.9425\n",
      " - Hypers: [[900, 177, 2], 4, 0.7377777777777778]\n",
      " - Accuracy: 0.9425\n",
      " - Time: 45.22\n",
      "# Current Model (121/125)\n",
      " - Hypers: [[900, 443, 2], 5, 0.36888888888888893]\n",
      " - Trial 0/1\n"
     ]
    },
    {
     "name": "stderr",
     "output_type": "stream",
     "text": [
      "100%|██████████| 9/9 [00:46<00:00,  5.15s/it]\n"
     ]
    },
    {
     "name": "stdout",
     "output_type": "stream",
     "text": [
      " - Accuracy: 0.92125\n",
      " - Time: 46.35 sec\n",
      "\n",
      "# Best Model:  0.9425\n",
      " - Hypers: [[900, 177, 2], 4, 0.7377777777777778]\n",
      " - Accuracy: 0.9425\n",
      " - Time: 45.22\n",
      "# Current Model (122/125)\n",
      " - Hypers: [[900, 443, 2], 5, 0.7377777777777778]\n",
      " - Trial 0/1\n"
     ]
    },
    {
     "name": "stderr",
     "output_type": "stream",
     "text": [
      "100%|██████████| 9/9 [00:46<00:00,  5.19s/it]\n"
     ]
    },
    {
     "name": "stdout",
     "output_type": "stream",
     "text": [
      " - Accuracy: 0.925\n",
      " - Time: 46.67 sec\n",
      "\n",
      "# Best Model:  0.9425\n",
      " - Hypers: [[900, 177, 2], 4, 0.7377777777777778]\n",
      " - Accuracy: 0.9425\n",
      " - Time: 45.22\n",
      "# Current Model (123/125)\n",
      " - Hypers: [[900, 443, 2], 5, 0.18444444444444447]\n",
      " - Trial 0/1\n"
     ]
    },
    {
     "name": "stderr",
     "output_type": "stream",
     "text": [
      "100%|██████████| 9/9 [00:46<00:00,  5.18s/it]\n"
     ]
    },
    {
     "name": "stdout",
     "output_type": "stream",
     "text": [
      " - Accuracy: 0.92125\n",
      " - Time: 46.63 sec\n",
      "\n",
      "# Best Model:  0.9425\n",
      " - Hypers: [[900, 177, 2], 4, 0.7377777777777778]\n",
      " - Accuracy: 0.9425\n",
      " - Time: 45.22\n",
      "# Current Model (124/125)\n",
      " - Hypers: [[900, 443, 2], 5, 0.9222222222222223]\n",
      " - Trial 0/1\n"
     ]
    },
    {
     "name": "stderr",
     "output_type": "stream",
     "text": [
      "100%|██████████| 9/9 [00:48<00:00,  5.34s/it]\n"
     ]
    },
    {
     "name": "stdout",
     "output_type": "stream",
     "text": [
      " - Accuracy: 0.9425\n",
      " - Time: 48.06 sec\n",
      "================================================================================\n",
      "# Epochs:  27\n",
      "# Network Configurations\n",
      "\t[900, 177, 2]\n",
      "\t[900, 118, 2]\n",
      "\t[900, 236, 2]\n",
      "\t[900, 59, 2]\n",
      "\t[900, 295, 2]\n",
      "# Batch Sizes\n",
      "\t4\n",
      "\t2\n",
      "\t5\n",
      "\t1\n",
      "\t6\n",
      "# Learning Rates\n",
      "\t0.7377777777777778\n",
      "\t0.4918518518518519\n",
      "\t0.9837037037037036\n",
      "\t0.24592592592592594\n",
      "\t1.2296296296296296\n",
      "\n",
      "# Best Model:  0.9425\n",
      " - Hypers: [[900, 177, 2], 4, 0.7377777777777778]\n",
      " - Accuracy: 0.9425\n",
      " - Time: 45.22\n",
      "# Current Model (0/125)\n",
      " - Hypers: [[900, 177, 2], 4, 0.7377777777777778]\n",
      " - Trial 0/1\n"
     ]
    },
    {
     "name": "stderr",
     "output_type": "stream",
     "text": [
      "100%|██████████| 27/27 [02:25<00:00,  5.37s/it]\n"
     ]
    },
    {
     "name": "stdout",
     "output_type": "stream",
     "text": [
      " - Accuracy: 0.92875\n",
      " - Time: 145.11 sec\n",
      "\n",
      "# Best Model:  0.9425\n",
      " - Hypers: [[900, 177, 2], 4, 0.7377777777777778]\n",
      " - Accuracy: 0.9425\n",
      " - Time: 45.22\n",
      "# Current Model (1/125)\n",
      " - Hypers: [[900, 177, 2], 4, 0.4918518518518519]\n",
      " - Trial 0/1\n"
     ]
    },
    {
     "name": "stderr",
     "output_type": "stream",
     "text": [
      "100%|██████████| 27/27 [02:26<00:00,  5.42s/it]\n"
     ]
    },
    {
     "name": "stdout",
     "output_type": "stream",
     "text": [
      " - Accuracy: 0.9325\n",
      " - Time: 146.44 sec\n",
      "\n",
      "# Best Model:  0.9425\n",
      " - Hypers: [[900, 177, 2], 4, 0.7377777777777778]\n",
      " - Accuracy: 0.9425\n",
      " - Time: 45.22\n",
      "# Current Model (2/125)\n",
      " - Hypers: [[900, 177, 2], 4, 0.9837037037037036]\n",
      " - Trial 0/1\n"
     ]
    },
    {
     "name": "stderr",
     "output_type": "stream",
     "text": [
      "100%|██████████| 27/27 [02:24<00:00,  5.37s/it]\n"
     ]
    },
    {
     "name": "stdout",
     "output_type": "stream",
     "text": [
      " - Accuracy: 0.9425\n",
      " - Time: 144.88 sec\n",
      "\n",
      "# Best Model:  0.9425\n",
      " - Hypers: [[900, 177, 2], 4, 0.7377777777777778]\n",
      " - Accuracy: 0.9425\n",
      " - Time: 45.22\n",
      "# Current Model (3/125)\n",
      " - Hypers: [[900, 177, 2], 4, 0.24592592592592594]\n",
      " - Trial 0/1\n"
     ]
    },
    {
     "name": "stderr",
     "output_type": "stream",
     "text": [
      "100%|██████████| 27/27 [02:25<00:00,  5.41s/it]\n"
     ]
    },
    {
     "name": "stdout",
     "output_type": "stream",
     "text": [
      " - Accuracy: 0.91125\n",
      " - Time: 145.97 sec\n",
      "\n",
      "# Best Model:  0.9425\n",
      " - Hypers: [[900, 177, 2], 4, 0.7377777777777778]\n",
      " - Accuracy: 0.9425\n",
      " - Time: 45.22\n",
      "# Current Model (4/125)\n",
      " - Hypers: [[900, 177, 2], 4, 1.2296296296296296]\n",
      " - Trial 0/1\n"
     ]
    },
    {
     "name": "stderr",
     "output_type": "stream",
     "text": [
      "100%|██████████| 27/27 [02:25<00:00,  5.38s/it]\n"
     ]
    },
    {
     "name": "stdout",
     "output_type": "stream",
     "text": [
      " - Accuracy: 0.93\n",
      " - Time: 145.13 sec\n",
      "\n",
      "# Best Model:  0.9425\n",
      " - Hypers: [[900, 177, 2], 4, 0.7377777777777778]\n",
      " - Accuracy: 0.9425\n",
      " - Time: 45.22\n",
      "# Current Model (5/125)\n",
      " - Hypers: [[900, 177, 2], 2, 0.7377777777777778]\n",
      " - Trial 0/1\n"
     ]
    },
    {
     "name": "stderr",
     "output_type": "stream",
     "text": [
      "100%|██████████| 27/27 [02:33<00:00,  5.67s/it]\n"
     ]
    },
    {
     "name": "stdout",
     "output_type": "stream",
     "text": [
      " - Accuracy: 0.9175\n",
      " - Time: 153.22 sec\n",
      "\n",
      "# Best Model:  0.9425\n",
      " - Hypers: [[900, 177, 2], 4, 0.7377777777777778]\n",
      " - Accuracy: 0.9425\n",
      " - Time: 45.22\n",
      "# Current Model (6/125)\n",
      " - Hypers: [[900, 177, 2], 2, 0.4918518518518519]\n",
      " - Trial 0/1\n"
     ]
    },
    {
     "name": "stderr",
     "output_type": "stream",
     "text": [
      "100%|██████████| 27/27 [02:32<00:00,  5.66s/it]\n"
     ]
    },
    {
     "name": "stdout",
     "output_type": "stream",
     "text": [
      " - Accuracy: 0.9375\n",
      " - Time: 152.94 sec\n",
      "\n",
      "# Best Model:  0.9425\n",
      " - Hypers: [[900, 177, 2], 4, 0.7377777777777778]\n",
      " - Accuracy: 0.9425\n",
      " - Time: 45.22\n",
      "# Current Model (7/125)\n",
      " - Hypers: [[900, 177, 2], 2, 0.9837037037037036]\n",
      " - Trial 0/1\n"
     ]
    },
    {
     "name": "stderr",
     "output_type": "stream",
     "text": [
      "100%|██████████| 27/27 [02:31<00:00,  5.62s/it]\n"
     ]
    },
    {
     "name": "stdout",
     "output_type": "stream",
     "text": [
      " - Accuracy: 0.9375\n",
      " - Time: 151.83 sec\n",
      "\n",
      "# Best Model:  0.9425\n",
      " - Hypers: [[900, 177, 2], 4, 0.7377777777777778]\n",
      " - Accuracy: 0.9425\n",
      " - Time: 45.22\n",
      "# Current Model (8/125)\n",
      " - Hypers: [[900, 177, 2], 2, 0.24592592592592594]\n",
      " - Trial 0/1\n"
     ]
    },
    {
     "name": "stderr",
     "output_type": "stream",
     "text": [
      "100%|██████████| 27/27 [02:28<00:00,  5.49s/it]\n"
     ]
    },
    {
     "name": "stdout",
     "output_type": "stream",
     "text": [
      " - Accuracy: 0.92125\n",
      " - Time: 148.32 sec\n",
      "\n",
      "# Best Model:  0.9425\n",
      " - Hypers: [[900, 177, 2], 4, 0.7377777777777778]\n",
      " - Accuracy: 0.9425\n",
      " - Time: 45.22\n",
      "# Current Model (9/125)\n",
      " - Hypers: [[900, 177, 2], 2, 1.2296296296296296]\n",
      " - Trial 0/1\n"
     ]
    },
    {
     "name": "stderr",
     "output_type": "stream",
     "text": [
      "100%|██████████| 27/27 [02:34<00:00,  5.72s/it]\n"
     ]
    },
    {
     "name": "stdout",
     "output_type": "stream",
     "text": [
      " - Accuracy: 0.88125\n",
      " - Time: 154.51 sec\n",
      "\n",
      "# Best Model:  0.9425\n",
      " - Hypers: [[900, 177, 2], 4, 0.7377777777777778]\n",
      " - Accuracy: 0.9425\n",
      " - Time: 45.22\n",
      "# Current Model (10/125)\n",
      " - Hypers: [[900, 177, 2], 5, 0.7377777777777778]\n",
      " - Trial 0/1\n"
     ]
    },
    {
     "name": "stderr",
     "output_type": "stream",
     "text": [
      "100%|██████████| 27/27 [02:23<00:00,  5.32s/it]\n"
     ]
    },
    {
     "name": "stdout",
     "output_type": "stream",
     "text": [
      " - Accuracy: 0.9275\n",
      " - Time: 143.55 sec\n",
      "\n",
      "# Best Model:  0.9425\n",
      " - Hypers: [[900, 177, 2], 4, 0.7377777777777778]\n",
      " - Accuracy: 0.9425\n",
      " - Time: 45.22\n",
      "# Current Model (11/125)\n",
      " - Hypers: [[900, 177, 2], 5, 0.4918518518518519]\n",
      " - Trial 0/1\n"
     ]
    },
    {
     "name": "stderr",
     "output_type": "stream",
     "text": [
      "100%|██████████| 27/27 [02:23<00:00,  5.33s/it]\n"
     ]
    },
    {
     "name": "stdout",
     "output_type": "stream",
     "text": [
      " - Accuracy: 0.92875\n",
      " - Time: 143.88 sec\n",
      "\n",
      "# Best Model:  0.9425\n",
      " - Hypers: [[900, 177, 2], 4, 0.7377777777777778]\n",
      " - Accuracy: 0.9425\n",
      " - Time: 45.22\n",
      "# Current Model (12/125)\n",
      " - Hypers: [[900, 177, 2], 5, 0.9837037037037036]\n",
      " - Trial 0/1\n"
     ]
    },
    {
     "name": "stderr",
     "output_type": "stream",
     "text": [
      "100%|██████████| 27/27 [02:22<00:00,  5.29s/it]\n"
     ]
    },
    {
     "name": "stdout",
     "output_type": "stream",
     "text": [
      " - Accuracy: 0.93375\n",
      " - Time: 142.92 sec\n",
      "\n",
      "# Best Model:  0.9425\n",
      " - Hypers: [[900, 177, 2], 4, 0.7377777777777778]\n",
      " - Accuracy: 0.9425\n",
      " - Time: 45.22\n",
      "# Current Model (13/125)\n",
      " - Hypers: [[900, 177, 2], 5, 0.24592592592592594]\n",
      " - Trial 0/1\n"
     ]
    },
    {
     "name": "stderr",
     "output_type": "stream",
     "text": [
      "100%|██████████| 27/27 [02:23<00:00,  5.30s/it]\n"
     ]
    },
    {
     "name": "stdout",
     "output_type": "stream",
     "text": [
      " - Accuracy: 0.92\n",
      " - Time: 143.22 sec\n",
      "\n",
      "# Best Model:  0.9425\n",
      " - Hypers: [[900, 177, 2], 4, 0.7377777777777778]\n",
      " - Accuracy: 0.9425\n",
      " - Time: 45.22\n",
      "# Current Model (14/125)\n",
      " - Hypers: [[900, 177, 2], 5, 1.2296296296296296]\n",
      " - Trial 0/1\n"
     ]
    },
    {
     "name": "stderr",
     "output_type": "stream",
     "text": [
      "100%|██████████| 27/27 [02:23<00:00,  5.33s/it]\n"
     ]
    },
    {
     "name": "stdout",
     "output_type": "stream",
     "text": [
      " - Accuracy: 0.93875\n",
      " - Time: 144.0 sec\n",
      "\n",
      "# Best Model:  0.9425\n",
      " - Hypers: [[900, 177, 2], 4, 0.7377777777777778]\n",
      " - Accuracy: 0.9425\n",
      " - Time: 45.22\n",
      "# Current Model (15/125)\n",
      " - Hypers: [[900, 177, 2], 1, 0.7377777777777778]\n",
      " - Trial 0/1\n"
     ]
    },
    {
     "name": "stderr",
     "output_type": "stream",
     "text": [
      "100%|██████████| 27/27 [02:48<00:00,  6.22s/it]\n"
     ]
    },
    {
     "name": "stdout",
     "output_type": "stream",
     "text": [
      " - Accuracy: 0.9025\n",
      " - Time: 168.01 sec\n",
      "\n",
      "# Best Model:  0.9425\n",
      " - Hypers: [[900, 177, 2], 4, 0.7377777777777778]\n",
      " - Accuracy: 0.9425\n",
      " - Time: 45.22\n",
      "# Current Model (16/125)\n",
      " - Hypers: [[900, 177, 2], 1, 0.4918518518518519]\n",
      " - Trial 0/1\n"
     ]
    },
    {
     "name": "stderr",
     "output_type": "stream",
     "text": [
      "100%|██████████| 27/27 [02:44<00:00,  6.09s/it]\n"
     ]
    },
    {
     "name": "stdout",
     "output_type": "stream",
     "text": [
      " - Accuracy: 0.9125\n",
      " - Time: 164.47 sec\n",
      "\n",
      "# Best Model:  0.9425\n",
      " - Hypers: [[900, 177, 2], 4, 0.7377777777777778]\n",
      " - Accuracy: 0.9425\n",
      " - Time: 45.22\n",
      "# Current Model (17/125)\n",
      " - Hypers: [[900, 177, 2], 1, 0.9837037037037036]\n",
      " - Trial 0/1\n"
     ]
    },
    {
     "name": "stderr",
     "output_type": "stream",
     "text": [
      "100%|██████████| 27/27 [02:40<00:00,  5.95s/it]\n"
     ]
    },
    {
     "name": "stdout",
     "output_type": "stream",
     "text": [
      " - Accuracy: 0.92\n",
      " - Time: 160.64 sec\n",
      "\n",
      "# Best Model:  0.9425\n",
      " - Hypers: [[900, 177, 2], 4, 0.7377777777777778]\n",
      " - Accuracy: 0.9425\n",
      " - Time: 45.22\n",
      "# Current Model (18/125)\n",
      " - Hypers: [[900, 177, 2], 1, 0.24592592592592594]\n",
      " - Trial 0/1\n"
     ]
    },
    {
     "name": "stderr",
     "output_type": "stream",
     "text": [
      "100%|██████████| 27/27 [02:41<00:00,  5.99s/it]\n"
     ]
    },
    {
     "name": "stdout",
     "output_type": "stream",
     "text": [
      " - Accuracy: 0.93375\n",
      " - Time: 161.84 sec\n",
      "\n",
      "# Best Model:  0.9425\n",
      " - Hypers: [[900, 177, 2], 4, 0.7377777777777778]\n",
      " - Accuracy: 0.9425\n",
      " - Time: 45.22\n",
      "# Current Model (19/125)\n",
      " - Hypers: [[900, 177, 2], 1, 1.2296296296296296]\n",
      " - Trial 0/1\n"
     ]
    },
    {
     "name": "stderr",
     "output_type": "stream",
     "text": [
      "100%|██████████| 27/27 [02:46<00:00,  6.17s/it]\n"
     ]
    },
    {
     "name": "stdout",
     "output_type": "stream",
     "text": [
      " - Accuracy: 0.8825\n",
      " - Time: 166.51 sec\n",
      "\n",
      "# Best Model:  0.9425\n",
      " - Hypers: [[900, 177, 2], 4, 0.7377777777777778]\n",
      " - Accuracy: 0.9425\n",
      " - Time: 45.22\n",
      "# Current Model (20/125)\n",
      " - Hypers: [[900, 177, 2], 6, 0.7377777777777778]\n",
      " - Trial 0/1\n"
     ]
    },
    {
     "name": "stderr",
     "output_type": "stream",
     "text": [
      "100%|██████████| 27/27 [02:13<00:00,  4.96s/it]\n"
     ]
    },
    {
     "name": "stdout",
     "output_type": "stream",
     "text": [
      " - Accuracy: 0.93375\n",
      " - Time: 133.97 sec\n",
      "\n",
      "# Best Model:  0.9425\n",
      " - Hypers: [[900, 177, 2], 4, 0.7377777777777778]\n",
      " - Accuracy: 0.9425\n",
      " - Time: 45.22\n",
      "# Current Model (21/125)\n",
      " - Hypers: [[900, 177, 2], 6, 0.4918518518518519]\n",
      " - Trial 0/1\n"
     ]
    },
    {
     "name": "stderr",
     "output_type": "stream",
     "text": [
      "100%|██████████| 27/27 [02:14<00:00,  4.97s/it]\n"
     ]
    },
    {
     "name": "stdout",
     "output_type": "stream",
     "text": [
      " - Accuracy: 0.91625\n",
      " - Time: 134.11 sec\n",
      "\n",
      "# Best Model:  0.9425\n",
      " - Hypers: [[900, 177, 2], 4, 0.7377777777777778]\n",
      " - Accuracy: 0.9425\n",
      " - Time: 45.22\n",
      "# Current Model (22/125)\n",
      " - Hypers: [[900, 177, 2], 6, 0.9837037037037036]\n",
      " - Trial 0/1\n"
     ]
    },
    {
     "name": "stderr",
     "output_type": "stream",
     "text": [
      "100%|██████████| 27/27 [02:13<00:00,  4.94s/it]\n"
     ]
    },
    {
     "name": "stdout",
     "output_type": "stream",
     "text": [
      " - Accuracy: 0.93125\n",
      " - Time: 133.28 sec\n",
      "\n",
      "# Best Model:  0.9425\n",
      " - Hypers: [[900, 177, 2], 4, 0.7377777777777778]\n",
      " - Accuracy: 0.9425\n",
      " - Time: 45.22\n",
      "# Current Model (23/125)\n",
      " - Hypers: [[900, 177, 2], 6, 0.24592592592592594]\n",
      " - Trial 0/1\n"
     ]
    },
    {
     "name": "stderr",
     "output_type": "stream",
     "text": [
      "100%|██████████| 27/27 [02:14<00:00,  4.98s/it]\n"
     ]
    },
    {
     "name": "stdout",
     "output_type": "stream",
     "text": [
      " - Accuracy: 0.92375\n",
      " - Time: 134.54 sec\n",
      "\n",
      "# Best Model:  0.9425\n",
      " - Hypers: [[900, 177, 2], 4, 0.7377777777777778]\n",
      " - Accuracy: 0.9425\n",
      " - Time: 45.22\n",
      "# Current Model (24/125)\n",
      " - Hypers: [[900, 177, 2], 6, 1.2296296296296296]\n",
      " - Trial 0/1\n"
     ]
    },
    {
     "name": "stderr",
     "output_type": "stream",
     "text": [
      "100%|██████████| 27/27 [02:14<00:00,  4.96s/it]\n"
     ]
    },
    {
     "name": "stdout",
     "output_type": "stream",
     "text": [
      " - Accuracy: 0.93125\n",
      " - Time: 134.01 sec\n",
      "\n",
      "# Best Model:  0.9425\n",
      " - Hypers: [[900, 177, 2], 4, 0.7377777777777778]\n",
      " - Accuracy: 0.9425\n",
      " - Time: 45.22\n",
      "# Current Model (25/125)\n",
      " - Hypers: [[900, 118, 2], 4, 0.7377777777777778]\n",
      " - Trial 0/1\n"
     ]
    },
    {
     "name": "stderr",
     "output_type": "stream",
     "text": [
      "100%|██████████| 27/27 [02:22<00:00,  5.27s/it]\n"
     ]
    },
    {
     "name": "stdout",
     "output_type": "stream",
     "text": [
      " - Accuracy: 0.9275\n",
      " - Time: 142.24 sec\n",
      "\n",
      "# Best Model:  0.9425\n",
      " - Hypers: [[900, 177, 2], 4, 0.7377777777777778]\n",
      " - Accuracy: 0.9425\n",
      " - Time: 45.22\n",
      "# Current Model (26/125)\n",
      " - Hypers: [[900, 118, 2], 4, 0.4918518518518519]\n",
      " - Trial 0/1\n"
     ]
    },
    {
     "name": "stderr",
     "output_type": "stream",
     "text": [
      "100%|██████████| 27/27 [02:27<00:00,  5.45s/it]\n"
     ]
    },
    {
     "name": "stdout",
     "output_type": "stream",
     "text": [
      " - Accuracy: 0.92375\n",
      " - Time: 147.18 sec\n",
      "\n",
      "# Best Model:  0.9425\n",
      " - Hypers: [[900, 177, 2], 4, 0.7377777777777778]\n",
      " - Accuracy: 0.9425\n",
      " - Time: 45.22\n",
      "# Current Model (27/125)\n",
      " - Hypers: [[900, 118, 2], 4, 0.9837037037037036]\n",
      " - Trial 0/1\n"
     ]
    },
    {
     "name": "stderr",
     "output_type": "stream",
     "text": [
      "100%|██████████| 27/27 [02:22<00:00,  5.29s/it]\n"
     ]
    },
    {
     "name": "stdout",
     "output_type": "stream",
     "text": [
      " - Accuracy: 0.94125\n",
      " - Time: 142.91 sec\n",
      "\n",
      "# Best Model:  0.9425\n",
      " - Hypers: [[900, 177, 2], 4, 0.7377777777777778]\n",
      " - Accuracy: 0.9425\n",
      " - Time: 45.22\n",
      "# Current Model (28/125)\n",
      " - Hypers: [[900, 118, 2], 4, 0.24592592592592594]\n",
      " - Trial 0/1\n"
     ]
    },
    {
     "name": "stderr",
     "output_type": "stream",
     "text": [
      "100%|██████████| 27/27 [02:17<00:00,  5.10s/it]\n"
     ]
    },
    {
     "name": "stdout",
     "output_type": "stream",
     "text": [
      " - Accuracy: 0.9175\n",
      " - Time: 137.7 sec\n",
      "\n",
      "# Best Model:  0.9425\n",
      " - Hypers: [[900, 177, 2], 4, 0.7377777777777778]\n",
      " - Accuracy: 0.9425\n",
      " - Time: 45.22\n",
      "# Current Model (29/125)\n",
      " - Hypers: [[900, 118, 2], 4, 1.2296296296296296]\n",
      " - Trial 0/1\n"
     ]
    },
    {
     "name": "stderr",
     "output_type": "stream",
     "text": [
      "100%|██████████| 27/27 [02:17<00:00,  5.11s/it]\n"
     ]
    },
    {
     "name": "stdout",
     "output_type": "stream",
     "text": [
      " - Accuracy: 0.945\n",
      " - Time: 137.98 sec\n",
      "\n",
      "# Best Model:  0.945\n",
      " - Hypers: [[900, 118, 2], 4, 1.2296296296296296]\n",
      " - Accuracy: 0.945\n",
      " - Time: 137.98\n",
      "# Current Model (30/125)\n",
      " - Hypers: [[900, 118, 2], 2, 0.7377777777777778]\n",
      " - Trial 0/1\n"
     ]
    },
    {
     "name": "stderr",
     "output_type": "stream",
     "text": [
      "100%|██████████| 27/27 [02:24<00:00,  5.35s/it]\n"
     ]
    },
    {
     "name": "stdout",
     "output_type": "stream",
     "text": [
      " - Accuracy: 0.92625\n",
      " - Time: 144.34 sec\n",
      "\n",
      "# Best Model:  0.945\n",
      " - Hypers: [[900, 118, 2], 4, 1.2296296296296296]\n",
      " - Accuracy: 0.945\n",
      " - Time: 137.98\n",
      "# Current Model (31/125)\n",
      " - Hypers: [[900, 118, 2], 2, 0.4918518518518519]\n",
      " - Trial 0/1\n"
     ]
    },
    {
     "name": "stderr",
     "output_type": "stream",
     "text": [
      "100%|██████████| 27/27 [02:25<00:00,  5.38s/it]\n"
     ]
    },
    {
     "name": "stdout",
     "output_type": "stream",
     "text": [
      " - Accuracy: 0.93625\n",
      " - Time: 145.31 sec\n",
      "\n",
      "# Best Model:  0.945\n",
      " - Hypers: [[900, 118, 2], 4, 1.2296296296296296]\n",
      " - Accuracy: 0.945\n",
      " - Time: 137.98\n",
      "# Current Model (32/125)\n",
      " - Hypers: [[900, 118, 2], 2, 0.9837037037037036]\n",
      " - Trial 0/1\n"
     ]
    },
    {
     "name": "stderr",
     "output_type": "stream",
     "text": [
      "100%|██████████| 27/27 [02:24<00:00,  5.35s/it]\n"
     ]
    },
    {
     "name": "stdout",
     "output_type": "stream",
     "text": [
      " - Accuracy: 0.92\n",
      " - Time: 144.37 sec\n",
      "\n",
      "# Best Model:  0.945\n",
      " - Hypers: [[900, 118, 2], 4, 1.2296296296296296]\n",
      " - Accuracy: 0.945\n",
      " - Time: 137.98\n",
      "# Current Model (33/125)\n",
      " - Hypers: [[900, 118, 2], 2, 0.24592592592592594]\n",
      " - Trial 0/1\n"
     ]
    },
    {
     "name": "stderr",
     "output_type": "stream",
     "text": [
      "100%|██████████| 27/27 [02:24<00:00,  5.37s/it]\n"
     ]
    },
    {
     "name": "stdout",
     "output_type": "stream",
     "text": [
      " - Accuracy: 0.9075\n",
      " - Time: 144.97 sec\n",
      "\n",
      "# Best Model:  0.945\n",
      " - Hypers: [[900, 118, 2], 4, 1.2296296296296296]\n",
      " - Accuracy: 0.945\n",
      " - Time: 137.98\n",
      "# Current Model (34/125)\n",
      " - Hypers: [[900, 118, 2], 2, 1.2296296296296296]\n",
      " - Trial 0/1\n"
     ]
    },
    {
     "name": "stderr",
     "output_type": "stream",
     "text": [
      "100%|██████████| 27/27 [02:24<00:00,  5.34s/it]\n"
     ]
    },
    {
     "name": "stdout",
     "output_type": "stream",
     "text": [
      " - Accuracy: 0.9175\n",
      " - Time: 144.29 sec\n",
      "\n",
      "# Best Model:  0.945\n",
      " - Hypers: [[900, 118, 2], 4, 1.2296296296296296]\n",
      " - Accuracy: 0.945\n",
      " - Time: 137.98\n",
      "# Current Model (35/125)\n",
      " - Hypers: [[900, 118, 2], 5, 0.7377777777777778]\n",
      " - Trial 0/1\n"
     ]
    },
    {
     "name": "stderr",
     "output_type": "stream",
     "text": [
      "100%|██████████| 27/27 [02:19<00:00,  5.15s/it]\n"
     ]
    },
    {
     "name": "stdout",
     "output_type": "stream",
     "text": [
      " - Accuracy: 0.94\n",
      " - Time: 139.07 sec\n",
      "\n",
      "# Best Model:  0.945\n",
      " - Hypers: [[900, 118, 2], 4, 1.2296296296296296]\n",
      " - Accuracy: 0.945\n",
      " - Time: 137.98\n",
      "# Current Model (36/125)\n",
      " - Hypers: [[900, 118, 2], 5, 0.4918518518518519]\n",
      " - Trial 0/1\n"
     ]
    },
    {
     "name": "stderr",
     "output_type": "stream",
     "text": [
      "100%|██████████| 27/27 [02:16<00:00,  5.05s/it]\n"
     ]
    },
    {
     "name": "stdout",
     "output_type": "stream",
     "text": [
      " - Accuracy: 0.93125\n",
      " - Time: 136.39 sec\n",
      "\n",
      "# Best Model:  0.945\n",
      " - Hypers: [[900, 118, 2], 4, 1.2296296296296296]\n",
      " - Accuracy: 0.945\n",
      " - Time: 137.98\n",
      "# Current Model (37/125)\n",
      " - Hypers: [[900, 118, 2], 5, 0.9837037037037036]\n",
      " - Trial 0/1\n"
     ]
    },
    {
     "name": "stderr",
     "output_type": "stream",
     "text": [
      "100%|██████████| 27/27 [02:15<00:00,  5.02s/it]\n"
     ]
    },
    {
     "name": "stdout",
     "output_type": "stream",
     "text": [
      " - Accuracy: 0.92375\n",
      " - Time: 135.42 sec\n",
      "\n",
      "# Best Model:  0.945\n",
      " - Hypers: [[900, 118, 2], 4, 1.2296296296296296]\n",
      " - Accuracy: 0.945\n",
      " - Time: 137.98\n",
      "# Current Model (38/125)\n",
      " - Hypers: [[900, 118, 2], 5, 0.24592592592592594]\n",
      " - Trial 0/1\n"
     ]
    },
    {
     "name": "stderr",
     "output_type": "stream",
     "text": [
      "100%|██████████| 27/27 [02:15<00:00,  5.04s/it]\n"
     ]
    },
    {
     "name": "stdout",
     "output_type": "stream",
     "text": [
      " - Accuracy: 0.915\n",
      " - Time: 135.95 sec\n",
      "\n",
      "# Best Model:  0.945\n",
      " - Hypers: [[900, 118, 2], 4, 1.2296296296296296]\n",
      " - Accuracy: 0.945\n",
      " - Time: 137.98\n",
      "# Current Model (39/125)\n",
      " - Hypers: [[900, 118, 2], 5, 1.2296296296296296]\n",
      " - Trial 0/1\n"
     ]
    },
    {
     "name": "stderr",
     "output_type": "stream",
     "text": [
      "100%|██████████| 27/27 [02:15<00:00,  5.02s/it]\n"
     ]
    },
    {
     "name": "stdout",
     "output_type": "stream",
     "text": [
      " - Accuracy: 0.9325\n",
      " - Time: 135.55 sec\n",
      "\n",
      "# Best Model:  0.945\n",
      " - Hypers: [[900, 118, 2], 4, 1.2296296296296296]\n",
      " - Accuracy: 0.945\n",
      " - Time: 137.98\n",
      "# Current Model (40/125)\n",
      " - Hypers: [[900, 118, 2], 1, 0.7377777777777778]\n",
      " - Trial 0/1\n"
     ]
    },
    {
     "name": "stderr",
     "output_type": "stream",
     "text": [
      "100%|██████████| 27/27 [02:38<00:00,  5.86s/it]\n"
     ]
    },
    {
     "name": "stdout",
     "output_type": "stream",
     "text": [
      " - Accuracy: 0.9125\n",
      " - Time: 158.21 sec\n",
      "\n",
      "# Best Model:  0.945\n",
      " - Hypers: [[900, 118, 2], 4, 1.2296296296296296]\n",
      " - Accuracy: 0.945\n",
      " - Time: 137.98\n",
      "# Current Model (41/125)\n",
      " - Hypers: [[900, 118, 2], 1, 0.4918518518518519]\n",
      " - Trial 0/1\n"
     ]
    },
    {
     "name": "stderr",
     "output_type": "stream",
     "text": [
      "100%|██████████| 27/27 [02:39<00:00,  5.90s/it]\n"
     ]
    },
    {
     "name": "stdout",
     "output_type": "stream",
     "text": [
      " - Accuracy: 0.91875\n",
      " - Time: 159.19 sec\n",
      "\n",
      "# Best Model:  0.945\n",
      " - Hypers: [[900, 118, 2], 4, 1.2296296296296296]\n",
      " - Accuracy: 0.945\n",
      " - Time: 137.98\n",
      "# Current Model (42/125)\n",
      " - Hypers: [[900, 118, 2], 1, 0.9837037037037036]\n",
      " - Trial 0/1\n"
     ]
    },
    {
     "name": "stderr",
     "output_type": "stream",
     "text": [
      "100%|██████████| 27/27 [02:38<00:00,  5.85s/it]\n"
     ]
    },
    {
     "name": "stdout",
     "output_type": "stream",
     "text": [
      " - Accuracy: 0.9\n",
      " - Time: 158.04 sec\n",
      "\n",
      "# Best Model:  0.945\n",
      " - Hypers: [[900, 118, 2], 4, 1.2296296296296296]\n",
      " - Accuracy: 0.945\n",
      " - Time: 137.98\n",
      "# Current Model (43/125)\n",
      " - Hypers: [[900, 118, 2], 1, 0.24592592592592594]\n",
      " - Trial 0/1\n"
     ]
    },
    {
     "name": "stderr",
     "output_type": "stream",
     "text": [
      "100%|██████████| 27/27 [02:38<00:00,  5.88s/it]\n"
     ]
    },
    {
     "name": "stdout",
     "output_type": "stream",
     "text": [
      " - Accuracy: 0.9325\n",
      " - Time: 158.79 sec\n",
      "\n",
      "# Best Model:  0.945\n",
      " - Hypers: [[900, 118, 2], 4, 1.2296296296296296]\n",
      " - Accuracy: 0.945\n",
      " - Time: 137.98\n",
      "# Current Model (44/125)\n",
      " - Hypers: [[900, 118, 2], 1, 1.2296296296296296]\n",
      " - Trial 0/1\n"
     ]
    },
    {
     "name": "stderr",
     "output_type": "stream",
     "text": [
      "100%|██████████| 27/27 [02:37<00:00,  5.85s/it]\n"
     ]
    },
    {
     "name": "stdout",
     "output_type": "stream",
     "text": [
      " - Accuracy: 0.9025\n",
      " - Time: 157.85 sec\n",
      "\n",
      "# Best Model:  0.945\n",
      " - Hypers: [[900, 118, 2], 4, 1.2296296296296296]\n",
      " - Accuracy: 0.945\n",
      " - Time: 137.98\n",
      "# Current Model (45/125)\n",
      " - Hypers: [[900, 118, 2], 6, 0.7377777777777778]\n",
      " - Trial 0/1\n"
     ]
    },
    {
     "name": "stderr",
     "output_type": "stream",
     "text": [
      "100%|██████████| 27/27 [02:15<00:00,  5.01s/it]\n"
     ]
    },
    {
     "name": "stdout",
     "output_type": "stream",
     "text": [
      " - Accuracy: 0.9225\n",
      " - Time: 135.28 sec\n",
      "\n",
      "# Best Model:  0.945\n",
      " - Hypers: [[900, 118, 2], 4, 1.2296296296296296]\n",
      " - Accuracy: 0.945\n",
      " - Time: 137.98\n",
      "# Current Model (46/125)\n",
      " - Hypers: [[900, 118, 2], 6, 0.4918518518518519]\n",
      " - Trial 0/1\n"
     ]
    },
    {
     "name": "stderr",
     "output_type": "stream",
     "text": [
      "100%|██████████| 27/27 [02:15<00:00,  5.02s/it]\n"
     ]
    },
    {
     "name": "stdout",
     "output_type": "stream",
     "text": [
      " - Accuracy: 0.9225\n",
      " - Time: 135.48 sec\n",
      "\n",
      "# Best Model:  0.945\n",
      " - Hypers: [[900, 118, 2], 4, 1.2296296296296296]\n",
      " - Accuracy: 0.945\n",
      " - Time: 137.98\n",
      "# Current Model (47/125)\n",
      " - Hypers: [[900, 118, 2], 6, 0.9837037037037036]\n",
      " - Trial 0/1\n"
     ]
    },
    {
     "name": "stderr",
     "output_type": "stream",
     "text": [
      "100%|██████████| 27/27 [02:15<00:00,  5.01s/it]\n"
     ]
    },
    {
     "name": "stdout",
     "output_type": "stream",
     "text": [
      " - Accuracy: 0.93\n",
      " - Time: 135.19 sec\n",
      "\n",
      "# Best Model:  0.945\n",
      " - Hypers: [[900, 118, 2], 4, 1.2296296296296296]\n",
      " - Accuracy: 0.945\n",
      " - Time: 137.98\n",
      "# Current Model (48/125)\n",
      " - Hypers: [[900, 118, 2], 6, 0.24592592592592594]\n",
      " - Trial 0/1\n"
     ]
    },
    {
     "name": "stderr",
     "output_type": "stream",
     "text": [
      "100%|██████████| 27/27 [02:17<00:00,  5.09s/it]\n"
     ]
    },
    {
     "name": "stdout",
     "output_type": "stream",
     "text": [
      " - Accuracy: 0.92625\n",
      " - Time: 137.53 sec\n",
      "\n",
      "# Best Model:  0.945\n",
      " - Hypers: [[900, 118, 2], 4, 1.2296296296296296]\n",
      " - Accuracy: 0.945\n",
      " - Time: 137.98\n",
      "# Current Model (49/125)\n",
      " - Hypers: [[900, 118, 2], 6, 1.2296296296296296]\n",
      " - Trial 0/1\n"
     ]
    },
    {
     "name": "stderr",
     "output_type": "stream",
     "text": [
      "100%|██████████| 27/27 [02:21<00:00,  5.25s/it]\n"
     ]
    },
    {
     "name": "stdout",
     "output_type": "stream",
     "text": [
      " - Accuracy: 0.9275\n",
      " - Time: 141.8 sec\n",
      "\n",
      "# Best Model:  0.945\n",
      " - Hypers: [[900, 118, 2], 4, 1.2296296296296296]\n",
      " - Accuracy: 0.945\n",
      " - Time: 137.98\n",
      "# Current Model (50/125)\n",
      " - Hypers: [[900, 236, 2], 4, 0.7377777777777778]\n",
      " - Trial 0/1\n"
     ]
    },
    {
     "name": "stderr",
     "output_type": "stream",
     "text": [
      "100%|██████████| 27/27 [02:26<00:00,  5.41s/it]\n"
     ]
    },
    {
     "name": "stdout",
     "output_type": "stream",
     "text": [
      " - Accuracy: 0.93375\n",
      " - Time: 146.01 sec\n",
      "\n",
      "# Best Model:  0.945\n",
      " - Hypers: [[900, 118, 2], 4, 1.2296296296296296]\n",
      " - Accuracy: 0.945\n",
      " - Time: 137.98\n",
      "# Current Model (51/125)\n",
      " - Hypers: [[900, 236, 2], 4, 0.4918518518518519]\n",
      " - Trial 0/1\n"
     ]
    },
    {
     "name": "stderr",
     "output_type": "stream",
     "text": [
      "100%|██████████| 27/27 [02:19<00:00,  5.15s/it]\n"
     ]
    },
    {
     "name": "stdout",
     "output_type": "stream",
     "text": [
      " - Accuracy: 0.93375\n",
      " - Time: 139.06 sec\n",
      "\n",
      "# Best Model:  0.945\n",
      " - Hypers: [[900, 118, 2], 4, 1.2296296296296296]\n",
      " - Accuracy: 0.945\n",
      " - Time: 137.98\n",
      "# Current Model (52/125)\n",
      " - Hypers: [[900, 236, 2], 4, 0.9837037037037036]\n",
      " - Trial 0/1\n"
     ]
    },
    {
     "name": "stderr",
     "output_type": "stream",
     "text": [
      "100%|██████████| 27/27 [02:16<00:00,  5.06s/it]\n"
     ]
    },
    {
     "name": "stdout",
     "output_type": "stream",
     "text": [
      " - Accuracy: 0.93\n",
      " - Time: 136.53 sec\n",
      "\n",
      "# Best Model:  0.945\n",
      " - Hypers: [[900, 118, 2], 4, 1.2296296296296296]\n",
      " - Accuracy: 0.945\n",
      " - Time: 137.98\n",
      "# Current Model (53/125)\n",
      " - Hypers: [[900, 236, 2], 4, 0.24592592592592594]\n",
      " - Trial 0/1\n"
     ]
    },
    {
     "name": "stderr",
     "output_type": "stream",
     "text": [
      "100%|██████████| 27/27 [02:17<00:00,  5.08s/it]\n"
     ]
    },
    {
     "name": "stdout",
     "output_type": "stream",
     "text": [
      " - Accuracy: 0.92375\n",
      " - Time: 137.14 sec\n",
      "\n",
      "# Best Model:  0.945\n",
      " - Hypers: [[900, 118, 2], 4, 1.2296296296296296]\n",
      " - Accuracy: 0.945\n",
      " - Time: 137.98\n",
      "# Current Model (54/125)\n",
      " - Hypers: [[900, 236, 2], 4, 1.2296296296296296]\n",
      " - Trial 0/1\n"
     ]
    },
    {
     "name": "stderr",
     "output_type": "stream",
     "text": [
      "100%|██████████| 27/27 [02:16<00:00,  5.04s/it]\n"
     ]
    },
    {
     "name": "stdout",
     "output_type": "stream",
     "text": [
      " - Accuracy: 0.925\n",
      " - Time: 136.17 sec\n",
      "\n",
      "# Best Model:  0.945\n",
      " - Hypers: [[900, 118, 2], 4, 1.2296296296296296]\n",
      " - Accuracy: 0.945\n",
      " - Time: 137.98\n",
      "# Current Model (55/125)\n",
      " - Hypers: [[900, 236, 2], 2, 0.7377777777777778]\n",
      " - Trial 0/1\n"
     ]
    },
    {
     "name": "stderr",
     "output_type": "stream",
     "text": [
      "100%|██████████| 27/27 [02:24<00:00,  5.34s/it]\n"
     ]
    },
    {
     "name": "stdout",
     "output_type": "stream",
     "text": [
      " - Accuracy: 0.94375\n",
      " - Time: 144.25 sec\n",
      "\n",
      "# Best Model:  0.945\n",
      " - Hypers: [[900, 118, 2], 4, 1.2296296296296296]\n",
      " - Accuracy: 0.945\n",
      " - Time: 137.98\n",
      "# Current Model (56/125)\n",
      " - Hypers: [[900, 236, 2], 2, 0.4918518518518519]\n",
      " - Trial 0/1\n"
     ]
    },
    {
     "name": "stderr",
     "output_type": "stream",
     "text": [
      "100%|██████████| 27/27 [02:24<00:00,  5.34s/it]\n"
     ]
    },
    {
     "name": "stdout",
     "output_type": "stream",
     "text": [
      " - Accuracy: 0.93\n",
      " - Time: 144.18 sec\n",
      "\n",
      "# Best Model:  0.945\n",
      " - Hypers: [[900, 118, 2], 4, 1.2296296296296296]\n",
      " - Accuracy: 0.945\n",
      " - Time: 137.98\n",
      "# Current Model (57/125)\n",
      " - Hypers: [[900, 236, 2], 2, 0.9837037037037036]\n",
      " - Trial 0/1\n"
     ]
    },
    {
     "name": "stderr",
     "output_type": "stream",
     "text": [
      "100%|██████████| 27/27 [02:25<00:00,  5.39s/it]\n"
     ]
    },
    {
     "name": "stdout",
     "output_type": "stream",
     "text": [
      " - Accuracy: 0.9125\n",
      " - Time: 145.43 sec\n",
      "\n",
      "# Best Model:  0.945\n",
      " - Hypers: [[900, 118, 2], 4, 1.2296296296296296]\n",
      " - Accuracy: 0.945\n",
      " - Time: 137.98\n",
      "# Current Model (58/125)\n",
      " - Hypers: [[900, 236, 2], 2, 0.24592592592592594]\n",
      " - Trial 0/1\n"
     ]
    },
    {
     "name": "stderr",
     "output_type": "stream",
     "text": [
      "100%|██████████| 27/27 [02:24<00:00,  5.35s/it]\n"
     ]
    },
    {
     "name": "stdout",
     "output_type": "stream",
     "text": [
      " - Accuracy: 0.93375\n",
      " - Time: 144.45 sec\n",
      "\n",
      "# Best Model:  0.945\n",
      " - Hypers: [[900, 118, 2], 4, 1.2296296296296296]\n",
      " - Accuracy: 0.945\n",
      " - Time: 137.98\n",
      "# Current Model (59/125)\n",
      " - Hypers: [[900, 236, 2], 2, 1.2296296296296296]\n",
      " - Trial 0/1\n"
     ]
    },
    {
     "name": "stderr",
     "output_type": "stream",
     "text": [
      "100%|██████████| 27/27 [02:25<00:00,  5.39s/it]\n"
     ]
    },
    {
     "name": "stdout",
     "output_type": "stream",
     "text": [
      " - Accuracy: 0.92625\n",
      " - Time: 145.66 sec\n",
      "\n",
      "# Best Model:  0.945\n",
      " - Hypers: [[900, 118, 2], 4, 1.2296296296296296]\n",
      " - Accuracy: 0.945\n",
      " - Time: 137.98\n",
      "# Current Model (60/125)\n",
      " - Hypers: [[900, 236, 2], 5, 0.7377777777777778]\n",
      " - Trial 0/1\n"
     ]
    },
    {
     "name": "stderr",
     "output_type": "stream",
     "text": [
      "100%|██████████| 27/27 [02:15<00:00,  5.03s/it]\n"
     ]
    },
    {
     "name": "stdout",
     "output_type": "stream",
     "text": [
      " - Accuracy: 0.92875\n",
      " - Time: 135.7 sec\n",
      "\n",
      "# Best Model:  0.945\n",
      " - Hypers: [[900, 118, 2], 4, 1.2296296296296296]\n",
      " - Accuracy: 0.945\n",
      " - Time: 137.98\n",
      "# Current Model (61/125)\n",
      " - Hypers: [[900, 236, 2], 5, 0.4918518518518519]\n",
      " - Trial 0/1\n"
     ]
    },
    {
     "name": "stderr",
     "output_type": "stream",
     "text": [
      "100%|██████████| 27/27 [02:17<00:00,  5.08s/it]\n"
     ]
    },
    {
     "name": "stdout",
     "output_type": "stream",
     "text": [
      " - Accuracy: 0.9325\n",
      " - Time: 137.27 sec\n",
      "\n",
      "# Best Model:  0.945\n",
      " - Hypers: [[900, 118, 2], 4, 1.2296296296296296]\n",
      " - Accuracy: 0.945\n",
      " - Time: 137.98\n",
      "# Current Model (62/125)\n",
      " - Hypers: [[900, 236, 2], 5, 0.9837037037037036]\n",
      " - Trial 0/1\n"
     ]
    },
    {
     "name": "stderr",
     "output_type": "stream",
     "text": [
      "100%|██████████| 27/27 [02:16<00:00,  5.05s/it]\n"
     ]
    },
    {
     "name": "stdout",
     "output_type": "stream",
     "text": [
      " - Accuracy: 0.92375\n",
      " - Time: 136.46 sec\n",
      "\n",
      "# Best Model:  0.945\n",
      " - Hypers: [[900, 118, 2], 4, 1.2296296296296296]\n",
      " - Accuracy: 0.945\n",
      " - Time: 137.98\n",
      "# Current Model (63/125)\n",
      " - Hypers: [[900, 236, 2], 5, 0.24592592592592594]\n",
      " - Trial 0/1\n"
     ]
    },
    {
     "name": "stderr",
     "output_type": "stream",
     "text": [
      "100%|██████████| 27/27 [02:16<00:00,  5.06s/it]\n"
     ]
    },
    {
     "name": "stdout",
     "output_type": "stream",
     "text": [
      " - Accuracy: 0.9275\n",
      " - Time: 136.55 sec\n",
      "\n",
      "# Best Model:  0.945\n",
      " - Hypers: [[900, 118, 2], 4, 1.2296296296296296]\n",
      " - Accuracy: 0.945\n",
      " - Time: 137.98\n",
      "# Current Model (64/125)\n",
      " - Hypers: [[900, 236, 2], 5, 1.2296296296296296]\n",
      " - Trial 0/1\n"
     ]
    },
    {
     "name": "stderr",
     "output_type": "stream",
     "text": [
      "100%|██████████| 27/27 [02:15<00:00,  5.03s/it]\n"
     ]
    },
    {
     "name": "stdout",
     "output_type": "stream",
     "text": [
      " - Accuracy: 0.9325\n",
      " - Time: 135.82 sec\n",
      "\n",
      "# Best Model:  0.945\n",
      " - Hypers: [[900, 118, 2], 4, 1.2296296296296296]\n",
      " - Accuracy: 0.945\n",
      " - Time: 137.98\n",
      "# Current Model (65/125)\n",
      " - Hypers: [[900, 236, 2], 1, 0.7377777777777778]\n",
      " - Trial 0/1\n"
     ]
    },
    {
     "name": "stderr",
     "output_type": "stream",
     "text": [
      "100%|██████████| 27/27 [02:39<00:00,  5.91s/it]\n"
     ]
    },
    {
     "name": "stdout",
     "output_type": "stream",
     "text": [
      " - Accuracy: 0.90875\n",
      " - Time: 159.48 sec\n",
      "\n",
      "# Best Model:  0.945\n",
      " - Hypers: [[900, 118, 2], 4, 1.2296296296296296]\n",
      " - Accuracy: 0.945\n",
      " - Time: 137.98\n",
      "# Current Model (66/125)\n",
      " - Hypers: [[900, 236, 2], 1, 0.4918518518518519]\n",
      " - Trial 0/1\n"
     ]
    },
    {
     "name": "stderr",
     "output_type": "stream",
     "text": [
      "100%|██████████| 27/27 [02:39<00:00,  5.89s/it]\n"
     ]
    },
    {
     "name": "stdout",
     "output_type": "stream",
     "text": [
      " - Accuracy: 0.94125\n",
      " - Time: 159.08 sec\n",
      "\n",
      "# Best Model:  0.945\n",
      " - Hypers: [[900, 118, 2], 4, 1.2296296296296296]\n",
      " - Accuracy: 0.945\n",
      " - Time: 137.98\n",
      "# Current Model (67/125)\n",
      " - Hypers: [[900, 236, 2], 1, 0.9837037037037036]\n",
      " - Trial 0/1\n"
     ]
    },
    {
     "name": "stderr",
     "output_type": "stream",
     "text": [
      "100%|██████████| 27/27 [02:39<00:00,  5.91s/it]\n"
     ]
    },
    {
     "name": "stdout",
     "output_type": "stream",
     "text": [
      " - Accuracy: 0.825\n",
      " - Time: 159.44 sec\n",
      "\n",
      "# Best Model:  0.945\n",
      " - Hypers: [[900, 118, 2], 4, 1.2296296296296296]\n",
      " - Accuracy: 0.945\n",
      " - Time: 137.98\n",
      "# Current Model (68/125)\n",
      " - Hypers: [[900, 236, 2], 1, 0.24592592592592594]\n",
      " - Trial 0/1\n"
     ]
    },
    {
     "name": "stderr",
     "output_type": "stream",
     "text": [
      "100%|██████████| 27/27 [02:38<00:00,  5.88s/it]\n"
     ]
    },
    {
     "name": "stdout",
     "output_type": "stream",
     "text": [
      " - Accuracy: 0.94\n",
      " - Time: 158.77 sec\n",
      "\n",
      "# Best Model:  0.945\n",
      " - Hypers: [[900, 118, 2], 4, 1.2296296296296296]\n",
      " - Accuracy: 0.945\n",
      " - Time: 137.98\n",
      "# Current Model (69/125)\n",
      " - Hypers: [[900, 236, 2], 1, 1.2296296296296296]\n",
      " - Trial 0/1\n"
     ]
    },
    {
     "name": "stderr",
     "output_type": "stream",
     "text": [
      "100%|██████████| 27/27 [02:39<00:00,  5.91s/it]\n"
     ]
    },
    {
     "name": "stdout",
     "output_type": "stream",
     "text": [
      " - Accuracy: 0.89625\n",
      " - Time: 159.68 sec\n",
      "\n",
      "# Best Model:  0.945\n",
      " - Hypers: [[900, 118, 2], 4, 1.2296296296296296]\n",
      " - Accuracy: 0.945\n",
      " - Time: 137.98\n",
      "# Current Model (70/125)\n",
      " - Hypers: [[900, 236, 2], 6, 0.7377777777777778]\n",
      " - Trial 0/1\n"
     ]
    },
    {
     "name": "stderr",
     "output_type": "stream",
     "text": [
      "100%|██████████| 27/27 [02:14<00:00,  4.98s/it]\n"
     ]
    },
    {
     "name": "stdout",
     "output_type": "stream",
     "text": [
      " - Accuracy: 0.9275\n",
      " - Time: 134.48 sec\n",
      "\n",
      "# Best Model:  0.945\n",
      " - Hypers: [[900, 118, 2], 4, 1.2296296296296296]\n",
      " - Accuracy: 0.945\n",
      " - Time: 137.98\n",
      "# Current Model (71/125)\n",
      " - Hypers: [[900, 236, 2], 6, 0.4918518518518519]\n",
      " - Trial 0/1\n"
     ]
    },
    {
     "name": "stderr",
     "output_type": "stream",
     "text": [
      "100%|██████████| 27/27 [02:15<00:00,  5.01s/it]\n"
     ]
    },
    {
     "name": "stdout",
     "output_type": "stream",
     "text": [
      " - Accuracy: 0.9275\n",
      " - Time: 135.37 sec\n",
      "\n",
      "# Best Model:  0.945\n",
      " - Hypers: [[900, 118, 2], 4, 1.2296296296296296]\n",
      " - Accuracy: 0.945\n",
      " - Time: 137.98\n",
      "# Current Model (72/125)\n",
      " - Hypers: [[900, 236, 2], 6, 0.9837037037037036]\n",
      " - Trial 0/1\n"
     ]
    },
    {
     "name": "stderr",
     "output_type": "stream",
     "text": [
      "100%|██████████| 27/27 [02:14<00:00,  4.99s/it]\n"
     ]
    },
    {
     "name": "stdout",
     "output_type": "stream",
     "text": [
      " - Accuracy: 0.925\n",
      " - Time: 134.63 sec\n",
      "\n",
      "# Best Model:  0.945\n",
      " - Hypers: [[900, 118, 2], 4, 1.2296296296296296]\n",
      " - Accuracy: 0.945\n",
      " - Time: 137.98\n",
      "# Current Model (73/125)\n",
      " - Hypers: [[900, 236, 2], 6, 0.24592592592592594]\n",
      " - Trial 0/1\n"
     ]
    },
    {
     "name": "stderr",
     "output_type": "stream",
     "text": [
      "100%|██████████| 27/27 [02:15<00:00,  5.02s/it]\n"
     ]
    },
    {
     "name": "stdout",
     "output_type": "stream",
     "text": [
      " - Accuracy: 0.9225\n",
      " - Time: 135.6 sec\n",
      "\n",
      "# Best Model:  0.945\n",
      " - Hypers: [[900, 118, 2], 4, 1.2296296296296296]\n",
      " - Accuracy: 0.945\n",
      " - Time: 137.98\n",
      "# Current Model (74/125)\n",
      " - Hypers: [[900, 236, 2], 6, 1.2296296296296296]\n",
      " - Trial 0/1\n"
     ]
    },
    {
     "name": "stderr",
     "output_type": "stream",
     "text": [
      "100%|██████████| 27/27 [02:19<00:00,  5.17s/it]\n"
     ]
    },
    {
     "name": "stdout",
     "output_type": "stream",
     "text": [
      " - Accuracy: 0.9325\n",
      " - Time: 139.6 sec\n",
      "\n",
      "# Best Model:  0.945\n",
      " - Hypers: [[900, 118, 2], 4, 1.2296296296296296]\n",
      " - Accuracy: 0.945\n",
      " - Time: 137.98\n",
      "# Current Model (75/125)\n",
      " - Hypers: [[900, 59, 2], 4, 0.7377777777777778]\n",
      " - Trial 0/1\n"
     ]
    },
    {
     "name": "stderr",
     "output_type": "stream",
     "text": [
      "100%|██████████| 27/27 [02:18<00:00,  5.12s/it]\n"
     ]
    },
    {
     "name": "stdout",
     "output_type": "stream",
     "text": [
      " - Accuracy: 0.925\n",
      " - Time: 138.16 sec\n",
      "\n",
      "# Best Model:  0.945\n",
      " - Hypers: [[900, 118, 2], 4, 1.2296296296296296]\n",
      " - Accuracy: 0.945\n",
      " - Time: 137.98\n",
      "# Current Model (76/125)\n",
      " - Hypers: [[900, 59, 2], 4, 0.4918518518518519]\n",
      " - Trial 0/1\n"
     ]
    },
    {
     "name": "stderr",
     "output_type": "stream",
     "text": [
      "100%|██████████| 27/27 [02:15<00:00,  5.01s/it]\n"
     ]
    },
    {
     "name": "stdout",
     "output_type": "stream",
     "text": [
      " - Accuracy: 0.935\n",
      " - Time: 135.3 sec\n",
      "\n",
      "# Best Model:  0.945\n",
      " - Hypers: [[900, 118, 2], 4, 1.2296296296296296]\n",
      " - Accuracy: 0.945\n",
      " - Time: 137.98\n",
      "# Current Model (77/125)\n",
      " - Hypers: [[900, 59, 2], 4, 0.9837037037037036]\n",
      " - Trial 0/1\n"
     ]
    },
    {
     "name": "stderr",
     "output_type": "stream",
     "text": [
      "100%|██████████| 27/27 [02:14<00:00,  5.00s/it]\n"
     ]
    },
    {
     "name": "stdout",
     "output_type": "stream",
     "text": [
      " - Accuracy: 0.925\n",
      " - Time: 134.97 sec\n",
      "\n",
      "# Best Model:  0.945\n",
      " - Hypers: [[900, 118, 2], 4, 1.2296296296296296]\n",
      " - Accuracy: 0.945\n",
      " - Time: 137.98\n",
      "# Current Model (78/125)\n",
      " - Hypers: [[900, 59, 2], 4, 0.24592592592592594]\n",
      " - Trial 0/1\n"
     ]
    },
    {
     "name": "stderr",
     "output_type": "stream",
     "text": [
      "100%|██████████| 27/27 [02:15<00:00,  5.02s/it]\n"
     ]
    },
    {
     "name": "stdout",
     "output_type": "stream",
     "text": [
      " - Accuracy: 0.92375\n",
      " - Time: 135.58 sec\n",
      "\n",
      "# Best Model:  0.945\n",
      " - Hypers: [[900, 118, 2], 4, 1.2296296296296296]\n",
      " - Accuracy: 0.945\n",
      " - Time: 137.98\n",
      "# Current Model (79/125)\n",
      " - Hypers: [[900, 59, 2], 4, 1.2296296296296296]\n",
      " - Trial 0/1\n"
     ]
    },
    {
     "name": "stderr",
     "output_type": "stream",
     "text": [
      "100%|██████████| 27/27 [02:14<00:00,  4.99s/it]\n"
     ]
    },
    {
     "name": "stdout",
     "output_type": "stream",
     "text": [
      " - Accuracy: 0.92875\n",
      " - Time: 134.81 sec\n",
      "\n",
      "# Best Model:  0.945\n",
      " - Hypers: [[900, 118, 2], 4, 1.2296296296296296]\n",
      " - Accuracy: 0.945\n",
      " - Time: 137.98\n",
      "# Current Model (80/125)\n",
      " - Hypers: [[900, 59, 2], 2, 0.7377777777777778]\n",
      " - Trial 0/1\n"
     ]
    },
    {
     "name": "stderr",
     "output_type": "stream",
     "text": [
      "100%|██████████| 27/27 [02:22<00:00,  5.29s/it]\n"
     ]
    },
    {
     "name": "stdout",
     "output_type": "stream",
     "text": [
      " - Accuracy: 0.91\n",
      " - Time: 142.79 sec\n",
      "\n",
      "# Best Model:  0.945\n",
      " - Hypers: [[900, 118, 2], 4, 1.2296296296296296]\n",
      " - Accuracy: 0.945\n",
      " - Time: 137.98\n",
      "# Current Model (81/125)\n",
      " - Hypers: [[900, 59, 2], 2, 0.4918518518518519]\n",
      " - Trial 0/1\n"
     ]
    },
    {
     "name": "stderr",
     "output_type": "stream",
     "text": [
      "100%|██████████| 27/27 [02:26<00:00,  5.41s/it]\n"
     ]
    },
    {
     "name": "stdout",
     "output_type": "stream",
     "text": [
      " - Accuracy: 0.9325\n",
      " - Time: 146.12 sec\n",
      "\n",
      "# Best Model:  0.945\n",
      " - Hypers: [[900, 118, 2], 4, 1.2296296296296296]\n",
      " - Accuracy: 0.945\n",
      " - Time: 137.98\n",
      "# Current Model (82/125)\n",
      " - Hypers: [[900, 59, 2], 2, 0.9837037037037036]\n",
      " - Trial 0/1\n"
     ]
    },
    {
     "name": "stderr",
     "output_type": "stream",
     "text": [
      "100%|██████████| 27/27 [02:26<00:00,  5.43s/it]\n"
     ]
    },
    {
     "name": "stdout",
     "output_type": "stream",
     "text": [
      " - Accuracy: 0.9175\n",
      " - Time: 146.52 sec\n",
      "\n",
      "# Best Model:  0.945\n",
      " - Hypers: [[900, 118, 2], 4, 1.2296296296296296]\n",
      " - Accuracy: 0.945\n",
      " - Time: 137.98\n",
      "# Current Model (83/125)\n",
      " - Hypers: [[900, 59, 2], 2, 0.24592592592592594]\n",
      " - Trial 0/1\n"
     ]
    },
    {
     "name": "stderr",
     "output_type": "stream",
     "text": [
      "100%|██████████| 27/27 [02:26<00:00,  5.42s/it]\n"
     ]
    },
    {
     "name": "stdout",
     "output_type": "stream",
     "text": [
      " - Accuracy: 0.91625\n",
      " - Time: 146.35 sec\n",
      "\n",
      "# Best Model:  0.945\n",
      " - Hypers: [[900, 118, 2], 4, 1.2296296296296296]\n",
      " - Accuracy: 0.945\n",
      " - Time: 137.98\n",
      "# Current Model (84/125)\n",
      " - Hypers: [[900, 59, 2], 2, 1.2296296296296296]\n",
      " - Trial 0/1\n"
     ]
    },
    {
     "name": "stderr",
     "output_type": "stream",
     "text": [
      "100%|██████████| 27/27 [02:26<00:00,  5.44s/it]\n"
     ]
    },
    {
     "name": "stdout",
     "output_type": "stream",
     "text": [
      " - Accuracy: 0.905\n",
      " - Time: 146.99 sec\n",
      "\n",
      "# Best Model:  0.945\n",
      " - Hypers: [[900, 118, 2], 4, 1.2296296296296296]\n",
      " - Accuracy: 0.945\n",
      " - Time: 137.98\n",
      "# Current Model (85/125)\n",
      " - Hypers: [[900, 59, 2], 5, 0.7377777777777778]\n",
      " - Trial 0/1\n"
     ]
    },
    {
     "name": "stderr",
     "output_type": "stream",
     "text": [
      "100%|██████████| 27/27 [02:15<00:00,  5.02s/it]\n"
     ]
    },
    {
     "name": "stdout",
     "output_type": "stream",
     "text": [
      " - Accuracy: 0.93\n",
      " - Time: 135.57 sec\n",
      "\n",
      "# Best Model:  0.945\n",
      " - Hypers: [[900, 118, 2], 4, 1.2296296296296296]\n",
      " - Accuracy: 0.945\n",
      " - Time: 137.98\n",
      "# Current Model (86/125)\n",
      " - Hypers: [[900, 59, 2], 5, 0.4918518518518519]\n",
      " - Trial 0/1\n"
     ]
    },
    {
     "name": "stderr",
     "output_type": "stream",
     "text": [
      "100%|██████████| 27/27 [02:13<00:00,  4.95s/it]\n"
     ]
    },
    {
     "name": "stdout",
     "output_type": "stream",
     "text": [
      " - Accuracy: 0.92625\n",
      " - Time: 133.7 sec\n",
      "\n",
      "# Best Model:  0.945\n",
      " - Hypers: [[900, 118, 2], 4, 1.2296296296296296]\n",
      " - Accuracy: 0.945\n",
      " - Time: 137.98\n",
      "# Current Model (87/125)\n",
      " - Hypers: [[900, 59, 2], 5, 0.9837037037037036]\n",
      " - Trial 0/1\n"
     ]
    },
    {
     "name": "stderr",
     "output_type": "stream",
     "text": [
      "100%|██████████| 27/27 [02:13<00:00,  4.96s/it]\n"
     ]
    },
    {
     "name": "stdout",
     "output_type": "stream",
     "text": [
      " - Accuracy: 0.93375\n",
      " - Time: 133.96 sec\n",
      "\n",
      "# Best Model:  0.945\n",
      " - Hypers: [[900, 118, 2], 4, 1.2296296296296296]\n",
      " - Accuracy: 0.945\n",
      " - Time: 137.98\n",
      "# Current Model (88/125)\n",
      " - Hypers: [[900, 59, 2], 5, 0.24592592592592594]\n",
      " - Trial 0/1\n"
     ]
    },
    {
     "name": "stderr",
     "output_type": "stream",
     "text": [
      "100%|██████████| 27/27 [02:14<00:00,  4.98s/it]\n"
     ]
    },
    {
     "name": "stdout",
     "output_type": "stream",
     "text": [
      " - Accuracy: 0.93\n",
      " - Time: 134.48 sec\n",
      "\n",
      "# Best Model:  0.945\n",
      " - Hypers: [[900, 118, 2], 4, 1.2296296296296296]\n",
      " - Accuracy: 0.945\n",
      " - Time: 137.98\n",
      "# Current Model (89/125)\n",
      " - Hypers: [[900, 59, 2], 5, 1.2296296296296296]\n",
      " - Trial 0/1\n"
     ]
    },
    {
     "name": "stderr",
     "output_type": "stream",
     "text": [
      "100%|██████████| 27/27 [02:13<00:00,  4.96s/it]\n"
     ]
    },
    {
     "name": "stdout",
     "output_type": "stream",
     "text": [
      " - Accuracy: 0.92375\n",
      " - Time: 133.9 sec\n",
      "\n",
      "# Best Model:  0.945\n",
      " - Hypers: [[900, 118, 2], 4, 1.2296296296296296]\n",
      " - Accuracy: 0.945\n",
      " - Time: 137.98\n",
      "# Current Model (90/125)\n",
      " - Hypers: [[900, 59, 2], 1, 0.7377777777777778]\n",
      " - Trial 0/1\n"
     ]
    },
    {
     "name": "stderr",
     "output_type": "stream",
     "text": [
      "100%|██████████| 27/27 [02:37<00:00,  5.83s/it]\n"
     ]
    },
    {
     "name": "stdout",
     "output_type": "stream",
     "text": [
      " - Accuracy: 0.74\n",
      " - Time: 157.39 sec\n",
      "\n",
      "# Best Model:  0.945\n",
      " - Hypers: [[900, 118, 2], 4, 1.2296296296296296]\n",
      " - Accuracy: 0.945\n",
      " - Time: 137.98\n",
      "# Current Model (91/125)\n",
      " - Hypers: [[900, 59, 2], 1, 0.4918518518518519]\n",
      " - Trial 0/1\n"
     ]
    },
    {
     "name": "stderr",
     "output_type": "stream",
     "text": [
      "100%|██████████| 27/27 [02:36<00:00,  5.80s/it]\n"
     ]
    },
    {
     "name": "stdout",
     "output_type": "stream",
     "text": [
      " - Accuracy: 0.9125\n",
      " - Time: 156.7 sec\n",
      "\n",
      "# Best Model:  0.945\n",
      " - Hypers: [[900, 118, 2], 4, 1.2296296296296296]\n",
      " - Accuracy: 0.945\n",
      " - Time: 137.98\n",
      "# Current Model (92/125)\n",
      " - Hypers: [[900, 59, 2], 1, 0.9837037037037036]\n",
      " - Trial 0/1\n"
     ]
    },
    {
     "name": "stderr",
     "output_type": "stream",
     "text": [
      "100%|██████████| 27/27 [02:37<00:00,  5.84s/it]\n"
     ]
    },
    {
     "name": "stdout",
     "output_type": "stream",
     "text": [
      " - Accuracy: 0.91375\n",
      " - Time: 157.58 sec\n",
      "\n",
      "# Best Model:  0.945\n",
      " - Hypers: [[900, 118, 2], 4, 1.2296296296296296]\n",
      " - Accuracy: 0.945\n",
      " - Time: 137.98\n",
      "# Current Model (93/125)\n",
      " - Hypers: [[900, 59, 2], 1, 0.24592592592592594]\n",
      " - Trial 0/1\n"
     ]
    },
    {
     "name": "stderr",
     "output_type": "stream",
     "text": [
      "100%|██████████| 27/27 [02:35<00:00,  5.76s/it]\n"
     ]
    },
    {
     "name": "stdout",
     "output_type": "stream",
     "text": [
      " - Accuracy: 0.93125\n",
      " - Time: 155.65 sec\n",
      "\n",
      "# Best Model:  0.945\n",
      " - Hypers: [[900, 118, 2], 4, 1.2296296296296296]\n",
      " - Accuracy: 0.945\n",
      " - Time: 137.98\n",
      "# Current Model (94/125)\n",
      " - Hypers: [[900, 59, 2], 1, 1.2296296296296296]\n",
      " - Trial 0/1\n"
     ]
    },
    {
     "name": "stderr",
     "output_type": "stream",
     "text": [
      "100%|██████████| 27/27 [02:36<00:00,  5.79s/it]\n"
     ]
    },
    {
     "name": "stdout",
     "output_type": "stream",
     "text": [
      " - Accuracy: 0.8925\n",
      " - Time: 156.29 sec\n",
      "\n",
      "# Best Model:  0.945\n",
      " - Hypers: [[900, 118, 2], 4, 1.2296296296296296]\n",
      " - Accuracy: 0.945\n",
      " - Time: 137.98\n",
      "# Current Model (95/125)\n",
      " - Hypers: [[900, 59, 2], 6, 0.7377777777777778]\n",
      " - Trial 0/1\n"
     ]
    },
    {
     "name": "stderr",
     "output_type": "stream",
     "text": [
      "100%|██████████| 27/27 [02:16<00:00,  5.05s/it]\n"
     ]
    },
    {
     "name": "stdout",
     "output_type": "stream",
     "text": [
      " - Accuracy: 0.93875\n",
      " - Time: 136.39 sec\n",
      "\n",
      "# Best Model:  0.945\n",
      " - Hypers: [[900, 118, 2], 4, 1.2296296296296296]\n",
      " - Accuracy: 0.945\n",
      " - Time: 137.98\n",
      "# Current Model (96/125)\n",
      " - Hypers: [[900, 59, 2], 6, 0.4918518518518519]\n",
      " - Trial 0/1\n"
     ]
    },
    {
     "name": "stderr",
     "output_type": "stream",
     "text": [
      "100%|██████████| 27/27 [02:17<00:00,  5.09s/it]\n"
     ]
    },
    {
     "name": "stdout",
     "output_type": "stream",
     "text": [
      " - Accuracy: 0.91875\n",
      " - Time: 137.37 sec\n",
      "\n",
      "# Best Model:  0.945\n",
      " - Hypers: [[900, 118, 2], 4, 1.2296296296296296]\n",
      " - Accuracy: 0.945\n",
      " - Time: 137.98\n",
      "# Current Model (97/125)\n",
      " - Hypers: [[900, 59, 2], 6, 0.9837037037037036]\n",
      " - Trial 0/1\n"
     ]
    },
    {
     "name": "stderr",
     "output_type": "stream",
     "text": [
      "100%|██████████| 27/27 [02:16<00:00,  5.07s/it]\n"
     ]
    },
    {
     "name": "stdout",
     "output_type": "stream",
     "text": [
      " - Accuracy: 0.93375\n",
      " - Time: 136.97 sec\n",
      "\n",
      "# Best Model:  0.945\n",
      " - Hypers: [[900, 118, 2], 4, 1.2296296296296296]\n",
      " - Accuracy: 0.945\n",
      " - Time: 137.98\n",
      "# Current Model (98/125)\n",
      " - Hypers: [[900, 59, 2], 6, 0.24592592592592594]\n",
      " - Trial 0/1\n"
     ]
    },
    {
     "name": "stderr",
     "output_type": "stream",
     "text": [
      "100%|██████████| 27/27 [02:15<00:00,  5.03s/it]\n"
     ]
    },
    {
     "name": "stdout",
     "output_type": "stream",
     "text": [
      " - Accuracy: 0.9275\n",
      " - Time: 135.86 sec\n",
      "\n",
      "# Best Model:  0.945\n",
      " - Hypers: [[900, 118, 2], 4, 1.2296296296296296]\n",
      " - Accuracy: 0.945\n",
      " - Time: 137.98\n",
      "# Current Model (99/125)\n",
      " - Hypers: [[900, 59, 2], 6, 1.2296296296296296]\n",
      " - Trial 0/1\n"
     ]
    },
    {
     "name": "stderr",
     "output_type": "stream",
     "text": [
      "100%|██████████| 27/27 [02:16<00:00,  5.04s/it]\n"
     ]
    },
    {
     "name": "stdout",
     "output_type": "stream",
     "text": [
      " - Accuracy: 0.945\n",
      " - Time: 136.12 sec\n",
      "\n",
      "# Best Model:  0.945\n",
      " - Hypers: [[900, 118, 2], 4, 1.2296296296296296]\n",
      " - Accuracy: 0.945\n",
      " - Time: 137.98\n",
      "# Current Model (100/125)\n",
      " - Hypers: [[900, 295, 2], 4, 0.7377777777777778]\n",
      " - Trial 0/1\n"
     ]
    },
    {
     "name": "stderr",
     "output_type": "stream",
     "text": [
      "100%|██████████| 27/27 [02:20<00:00,  5.22s/it]\n"
     ]
    },
    {
     "name": "stdout",
     "output_type": "stream",
     "text": [
      " - Accuracy: 0.94125\n",
      " - Time: 141.0 sec\n",
      "\n",
      "# Best Model:  0.945\n",
      " - Hypers: [[900, 118, 2], 4, 1.2296296296296296]\n",
      " - Accuracy: 0.945\n",
      " - Time: 137.98\n",
      "# Current Model (101/125)\n",
      " - Hypers: [[900, 295, 2], 4, 0.4918518518518519]\n",
      " - Trial 0/1\n"
     ]
    },
    {
     "name": "stderr",
     "output_type": "stream",
     "text": [
      "100%|██████████| 27/27 [02:21<00:00,  5.25s/it]\n"
     ]
    },
    {
     "name": "stdout",
     "output_type": "stream",
     "text": [
      " - Accuracy: 0.92375\n",
      " - Time: 141.77 sec\n",
      "\n",
      "# Best Model:  0.945\n",
      " - Hypers: [[900, 118, 2], 4, 1.2296296296296296]\n",
      " - Accuracy: 0.945\n",
      " - Time: 137.98\n",
      "# Current Model (102/125)\n",
      " - Hypers: [[900, 295, 2], 4, 0.9837037037037036]\n",
      " - Trial 0/1\n"
     ]
    },
    {
     "name": "stderr",
     "output_type": "stream",
     "text": [
      "100%|██████████| 27/27 [02:21<00:00,  5.25s/it]\n"
     ]
    },
    {
     "name": "stdout",
     "output_type": "stream",
     "text": [
      " - Accuracy: 0.93375\n",
      " - Time: 141.67 sec\n",
      "\n",
      "# Best Model:  0.945\n",
      " - Hypers: [[900, 118, 2], 4, 1.2296296296296296]\n",
      " - Accuracy: 0.945\n",
      " - Time: 137.98\n",
      "# Current Model (103/125)\n",
      " - Hypers: [[900, 295, 2], 4, 0.24592592592592594]\n",
      " - Trial 0/1\n"
     ]
    },
    {
     "name": "stderr",
     "output_type": "stream",
     "text": [
      "100%|██████████| 27/27 [02:20<00:00,  5.22s/it]\n"
     ]
    },
    {
     "name": "stdout",
     "output_type": "stream",
     "text": [
      " - Accuracy: 0.9175\n",
      " - Time: 140.95 sec\n",
      "\n",
      "# Best Model:  0.945\n",
      " - Hypers: [[900, 118, 2], 4, 1.2296296296296296]\n",
      " - Accuracy: 0.945\n",
      " - Time: 137.98\n",
      "# Current Model (104/125)\n",
      " - Hypers: [[900, 295, 2], 4, 1.2296296296296296]\n",
      " - Trial 0/1\n"
     ]
    },
    {
     "name": "stderr",
     "output_type": "stream",
     "text": [
      "100%|██████████| 27/27 [02:20<00:00,  5.22s/it]\n"
     ]
    },
    {
     "name": "stdout",
     "output_type": "stream",
     "text": [
      " - Accuracy: 0.9375\n",
      " - Time: 140.85 sec\n",
      "\n",
      "# Best Model:  0.945\n",
      " - Hypers: [[900, 118, 2], 4, 1.2296296296296296]\n",
      " - Accuracy: 0.945\n",
      " - Time: 137.98\n",
      "# Current Model (105/125)\n",
      " - Hypers: [[900, 295, 2], 2, 0.7377777777777778]\n",
      " - Trial 0/1\n"
     ]
    },
    {
     "name": "stderr",
     "output_type": "stream",
     "text": [
      "100%|██████████| 27/27 [02:24<00:00,  5.36s/it]\n"
     ]
    },
    {
     "name": "stdout",
     "output_type": "stream",
     "text": [
      " - Accuracy: 0.93875\n",
      " - Time: 144.84 sec\n",
      "\n",
      "# Best Model:  0.945\n",
      " - Hypers: [[900, 118, 2], 4, 1.2296296296296296]\n",
      " - Accuracy: 0.945\n",
      " - Time: 137.98\n",
      "# Current Model (106/125)\n",
      " - Hypers: [[900, 295, 2], 2, 0.4918518518518519]\n",
      " - Trial 0/1\n"
     ]
    },
    {
     "name": "stderr",
     "output_type": "stream",
     "text": [
      "100%|██████████| 27/27 [02:24<00:00,  5.36s/it]\n"
     ]
    },
    {
     "name": "stdout",
     "output_type": "stream",
     "text": [
      " - Accuracy: 0.9375\n",
      " - Time: 144.65 sec\n",
      "\n",
      "# Best Model:  0.945\n",
      " - Hypers: [[900, 118, 2], 4, 1.2296296296296296]\n",
      " - Accuracy: 0.945\n",
      " - Time: 137.98\n",
      "# Current Model (107/125)\n",
      " - Hypers: [[900, 295, 2], 2, 0.9837037037037036]\n",
      " - Trial 0/1\n"
     ]
    },
    {
     "name": "stderr",
     "output_type": "stream",
     "text": [
      "100%|██████████| 27/27 [02:24<00:00,  5.37s/it]\n"
     ]
    },
    {
     "name": "stdout",
     "output_type": "stream",
     "text": [
      " - Accuracy: 0.91875\n",
      " - Time: 144.93 sec\n",
      "\n",
      "# Best Model:  0.945\n",
      " - Hypers: [[900, 118, 2], 4, 1.2296296296296296]\n",
      " - Accuracy: 0.945\n",
      " - Time: 137.98\n",
      "# Current Model (108/125)\n",
      " - Hypers: [[900, 295, 2], 2, 0.24592592592592594]\n",
      " - Trial 0/1\n"
     ]
    },
    {
     "name": "stderr",
     "output_type": "stream",
     "text": [
      "100%|██████████| 27/27 [02:25<00:00,  5.39s/it]\n"
     ]
    },
    {
     "name": "stdout",
     "output_type": "stream",
     "text": [
      " - Accuracy: 0.9225\n",
      " - Time: 145.49 sec\n",
      "\n",
      "# Best Model:  0.945\n",
      " - Hypers: [[900, 118, 2], 4, 1.2296296296296296]\n",
      " - Accuracy: 0.945\n",
      " - Time: 137.98\n",
      "# Current Model (109/125)\n",
      " - Hypers: [[900, 295, 2], 2, 1.2296296296296296]\n",
      " - Trial 0/1\n"
     ]
    },
    {
     "name": "stderr",
     "output_type": "stream",
     "text": [
      "100%|██████████| 27/27 [02:25<00:00,  5.39s/it]\n"
     ]
    },
    {
     "name": "stdout",
     "output_type": "stream",
     "text": [
      " - Accuracy: 0.93\n",
      " - Time: 145.58 sec\n",
      "\n",
      "# Best Model:  0.945\n",
      " - Hypers: [[900, 118, 2], 4, 1.2296296296296296]\n",
      " - Accuracy: 0.945\n",
      " - Time: 137.98\n",
      "# Current Model (110/125)\n",
      " - Hypers: [[900, 295, 2], 5, 0.7377777777777778]\n",
      " - Trial 0/1\n"
     ]
    },
    {
     "name": "stderr",
     "output_type": "stream",
     "text": [
      "100%|██████████| 27/27 [02:16<00:00,  5.04s/it]\n"
     ]
    },
    {
     "name": "stdout",
     "output_type": "stream",
     "text": [
      " - Accuracy: 0.93875\n",
      " - Time: 136.18 sec\n",
      "\n",
      "# Best Model:  0.945\n",
      " - Hypers: [[900, 118, 2], 4, 1.2296296296296296]\n",
      " - Accuracy: 0.945\n",
      " - Time: 137.98\n",
      "# Current Model (111/125)\n",
      " - Hypers: [[900, 295, 2], 5, 0.4918518518518519]\n",
      " - Trial 0/1\n"
     ]
    },
    {
     "name": "stderr",
     "output_type": "stream",
     "text": [
      "100%|██████████| 27/27 [02:16<00:00,  5.05s/it]\n"
     ]
    },
    {
     "name": "stdout",
     "output_type": "stream",
     "text": [
      " - Accuracy: 0.9175\n",
      " - Time: 136.25 sec\n",
      "\n",
      "# Best Model:  0.945\n",
      " - Hypers: [[900, 118, 2], 4, 1.2296296296296296]\n",
      " - Accuracy: 0.945\n",
      " - Time: 137.98\n",
      "# Current Model (112/125)\n",
      " - Hypers: [[900, 295, 2], 5, 0.9837037037037036]\n",
      " - Trial 0/1\n"
     ]
    },
    {
     "name": "stderr",
     "output_type": "stream",
     "text": [
      "100%|██████████| 27/27 [02:15<00:00,  5.02s/it]\n"
     ]
    },
    {
     "name": "stdout",
     "output_type": "stream",
     "text": [
      " - Accuracy: 0.9325\n",
      " - Time: 135.55 sec\n",
      "\n",
      "# Best Model:  0.945\n",
      " - Hypers: [[900, 118, 2], 4, 1.2296296296296296]\n",
      " - Accuracy: 0.945\n",
      " - Time: 137.98\n",
      "# Current Model (113/125)\n",
      " - Hypers: [[900, 295, 2], 5, 0.24592592592592594]\n",
      " - Trial 0/1\n"
     ]
    },
    {
     "name": "stderr",
     "output_type": "stream",
     "text": [
      "100%|██████████| 27/27 [02:15<00:00,  5.03s/it]\n"
     ]
    },
    {
     "name": "stdout",
     "output_type": "stream",
     "text": [
      " - Accuracy: 0.925\n",
      " - Time: 135.8 sec\n",
      "\n",
      "# Best Model:  0.945\n",
      " - Hypers: [[900, 118, 2], 4, 1.2296296296296296]\n",
      " - Accuracy: 0.945\n",
      " - Time: 137.98\n",
      "# Current Model (114/125)\n",
      " - Hypers: [[900, 295, 2], 5, 1.2296296296296296]\n",
      " - Trial 0/1\n"
     ]
    },
    {
     "name": "stderr",
     "output_type": "stream",
     "text": [
      "100%|██████████| 27/27 [02:15<00:00,  5.03s/it]\n"
     ]
    },
    {
     "name": "stdout",
     "output_type": "stream",
     "text": [
      " - Accuracy: 0.9325\n",
      " - Time: 135.9 sec\n",
      "\n",
      "# Best Model:  0.945\n",
      " - Hypers: [[900, 118, 2], 4, 1.2296296296296296]\n",
      " - Accuracy: 0.945\n",
      " - Time: 137.98\n",
      "# Current Model (115/125)\n",
      " - Hypers: [[900, 295, 2], 1, 0.7377777777777778]\n",
      " - Trial 0/1\n"
     ]
    },
    {
     "name": "stderr",
     "output_type": "stream",
     "text": [
      "100%|██████████| 27/27 [02:41<00:00,  6.00s/it]\n"
     ]
    },
    {
     "name": "stdout",
     "output_type": "stream",
     "text": [
      " - Accuracy: 0.89375\n",
      " - Time: 161.91 sec\n",
      "\n",
      "# Best Model:  0.945\n",
      " - Hypers: [[900, 118, 2], 4, 1.2296296296296296]\n",
      " - Accuracy: 0.945\n",
      " - Time: 137.98\n",
      "# Current Model (116/125)\n",
      " - Hypers: [[900, 295, 2], 1, 0.4918518518518519]\n",
      " - Trial 0/1\n"
     ]
    },
    {
     "name": "stderr",
     "output_type": "stream",
     "text": [
      "100%|██████████| 27/27 [02:38<00:00,  5.86s/it]\n"
     ]
    },
    {
     "name": "stdout",
     "output_type": "stream",
     "text": [
      " - Accuracy: 0.925\n",
      " - Time: 158.29 sec\n",
      "\n",
      "# Best Model:  0.945\n",
      " - Hypers: [[900, 118, 2], 4, 1.2296296296296296]\n",
      " - Accuracy: 0.945\n",
      " - Time: 137.98\n",
      "# Current Model (117/125)\n",
      " - Hypers: [[900, 295, 2], 1, 0.9837037037037036]\n",
      " - Trial 0/1\n"
     ]
    },
    {
     "name": "stderr",
     "output_type": "stream",
     "text": [
      "100%|██████████| 27/27 [02:39<00:00,  5.91s/it]\n"
     ]
    },
    {
     "name": "stdout",
     "output_type": "stream",
     "text": [
      " - Accuracy: 0.92\n",
      " - Time: 159.51 sec\n",
      "\n",
      "# Best Model:  0.945\n",
      " - Hypers: [[900, 118, 2], 4, 1.2296296296296296]\n",
      " - Accuracy: 0.945\n",
      " - Time: 137.98\n",
      "# Current Model (118/125)\n",
      " - Hypers: [[900, 295, 2], 1, 0.24592592592592594]\n",
      " - Trial 0/1\n"
     ]
    },
    {
     "name": "stderr",
     "output_type": "stream",
     "text": [
      "100%|██████████| 27/27 [02:38<00:00,  5.87s/it]\n"
     ]
    },
    {
     "name": "stdout",
     "output_type": "stream",
     "text": [
      " - Accuracy: 0.9325\n",
      " - Time: 158.41 sec\n",
      "\n",
      "# Best Model:  0.945\n",
      " - Hypers: [[900, 118, 2], 4, 1.2296296296296296]\n",
      " - Accuracy: 0.945\n",
      " - Time: 137.98\n",
      "# Current Model (119/125)\n",
      " - Hypers: [[900, 295, 2], 1, 1.2296296296296296]\n",
      " - Trial 0/1\n"
     ]
    },
    {
     "name": "stderr",
     "output_type": "stream",
     "text": [
      "100%|██████████| 27/27 [02:45<00:00,  6.13s/it]\n"
     ]
    },
    {
     "name": "stdout",
     "output_type": "stream",
     "text": [
      " - Accuracy: 0.90625\n",
      " - Time: 165.55 sec\n",
      "\n",
      "# Best Model:  0.945\n",
      " - Hypers: [[900, 118, 2], 4, 1.2296296296296296]\n",
      " - Accuracy: 0.945\n",
      " - Time: 137.98\n",
      "# Current Model (120/125)\n",
      " - Hypers: [[900, 295, 2], 6, 0.7377777777777778]\n",
      " - Trial 0/1\n"
     ]
    },
    {
     "name": "stderr",
     "output_type": "stream",
     "text": [
      "100%|██████████| 27/27 [02:20<00:00,  5.19s/it]\n"
     ]
    },
    {
     "name": "stdout",
     "output_type": "stream",
     "text": [
      " - Accuracy: 0.935\n",
      " - Time: 140.1 sec\n",
      "\n",
      "# Best Model:  0.945\n",
      " - Hypers: [[900, 118, 2], 4, 1.2296296296296296]\n",
      " - Accuracy: 0.945\n",
      " - Time: 137.98\n",
      "# Current Model (121/125)\n",
      " - Hypers: [[900, 295, 2], 6, 0.4918518518518519]\n",
      " - Trial 0/1\n"
     ]
    },
    {
     "name": "stderr",
     "output_type": "stream",
     "text": [
      "100%|██████████| 27/27 [02:14<00:00,  4.98s/it]\n"
     ]
    },
    {
     "name": "stdout",
     "output_type": "stream",
     "text": [
      " - Accuracy: 0.93125\n",
      " - Time: 134.52 sec\n",
      "\n",
      "# Best Model:  0.945\n",
      " - Hypers: [[900, 118, 2], 4, 1.2296296296296296]\n",
      " - Accuracy: 0.945\n",
      " - Time: 137.98\n",
      "# Current Model (122/125)\n",
      " - Hypers: [[900, 295, 2], 6, 0.9837037037037036]\n",
      " - Trial 0/1\n"
     ]
    },
    {
     "name": "stderr",
     "output_type": "stream",
     "text": [
      "100%|██████████| 27/27 [02:14<00:00,  4.97s/it]\n"
     ]
    },
    {
     "name": "stdout",
     "output_type": "stream",
     "text": [
      " - Accuracy: 0.9225\n",
      " - Time: 134.25 sec\n",
      "\n",
      "# Best Model:  0.945\n",
      " - Hypers: [[900, 118, 2], 4, 1.2296296296296296]\n",
      " - Accuracy: 0.945\n",
      " - Time: 137.98\n",
      "# Current Model (123/125)\n",
      " - Hypers: [[900, 295, 2], 6, 0.24592592592592594]\n",
      " - Trial 0/1\n"
     ]
    },
    {
     "name": "stderr",
     "output_type": "stream",
     "text": [
      "100%|██████████| 27/27 [02:14<00:00,  5.00s/it]\n"
     ]
    },
    {
     "name": "stdout",
     "output_type": "stream",
     "text": [
      " - Accuracy: 0.91125\n",
      " - Time: 134.95 sec\n",
      "\n",
      "# Best Model:  0.945\n",
      " - Hypers: [[900, 118, 2], 4, 1.2296296296296296]\n",
      " - Accuracy: 0.945\n",
      " - Time: 137.98\n",
      "# Current Model (124/125)\n",
      " - Hypers: [[900, 295, 2], 6, 1.2296296296296296]\n",
      " - Trial 0/1\n"
     ]
    },
    {
     "name": "stderr",
     "output_type": "stream",
     "text": [
      "100%|██████████| 27/27 [02:14<00:00,  4.97s/it]\n"
     ]
    },
    {
     "name": "stdout",
     "output_type": "stream",
     "text": [
      " - Accuracy: 0.93375\n",
      " - Time: 134.11 sec\n",
      "================================================================================\n",
      "# Epochs:  81\n",
      "# Network Configurations\n",
      "\t[900, 118, 2]\n",
      "\t[900, 78, 2]\n",
      "\t[900, 157, 2]\n",
      "\t[900, 39, 2]\n",
      "\t[900, 196, 2]\n",
      "# Batch Sizes\n",
      "\t4\n",
      "\t2\n",
      "\t5\n",
      "\t1\n",
      "\t6\n",
      "# Learning Rates\n",
      "\t1.2296296296296296\n",
      "\t0.8197530864197531\n",
      "\t1.6395061728395062\n",
      "\t0.40987654320987654\n",
      "\t2.049382716049383\n",
      "\n",
      "# Best Model:  0.945\n",
      " - Hypers: [[900, 118, 2], 4, 1.2296296296296296]\n",
      " - Accuracy: 0.945\n",
      " - Time: 137.98\n",
      "# Current Model (0/125)\n",
      " - Hypers: [[900, 118, 2], 4, 1.2296296296296296]\n",
      " - Trial 0/1\n"
     ]
    },
    {
     "name": "stderr",
     "output_type": "stream",
     "text": [
      "100%|██████████| 81/81 [06:52<00:00,  5.09s/it]\n"
     ]
    },
    {
     "name": "stdout",
     "output_type": "stream",
     "text": [
      " - Accuracy: 0.925\n",
      " - Time: 412.01 sec\n",
      "\n",
      "# Best Model:  0.945\n",
      " - Hypers: [[900, 118, 2], 4, 1.2296296296296296]\n",
      " - Accuracy: 0.945\n",
      " - Time: 137.98\n",
      "# Current Model (1/125)\n",
      " - Hypers: [[900, 118, 2], 4, 0.8197530864197531]\n",
      " - Trial 0/1\n"
     ]
    },
    {
     "name": "stderr",
     "output_type": "stream",
     "text": [
      "100%|██████████| 81/81 [06:53<00:00,  5.10s/it]\n"
     ]
    },
    {
     "name": "stdout",
     "output_type": "stream",
     "text": [
      " - Accuracy: 0.92875\n",
      " - Time: 413.16 sec\n",
      "\n",
      "# Best Model:  0.945\n",
      " - Hypers: [[900, 118, 2], 4, 1.2296296296296296]\n",
      " - Accuracy: 0.945\n",
      " - Time: 137.98\n",
      "# Current Model (2/125)\n",
      " - Hypers: [[900, 118, 2], 4, 1.6395061728395062]\n",
      " - Trial 0/1\n"
     ]
    },
    {
     "name": "stderr",
     "output_type": "stream",
     "text": [
      "100%|██████████| 81/81 [07:03<00:00,  5.23s/it]\n"
     ]
    },
    {
     "name": "stdout",
     "output_type": "stream",
     "text": [
      " - Accuracy: 0.90875\n",
      " - Time: 423.95 sec\n",
      "\n",
      "# Best Model:  0.945\n",
      " - Hypers: [[900, 118, 2], 4, 1.2296296296296296]\n",
      " - Accuracy: 0.945\n",
      " - Time: 137.98\n",
      "# Current Model (3/125)\n",
      " - Hypers: [[900, 118, 2], 4, 0.40987654320987654]\n",
      " - Trial 0/1\n"
     ]
    },
    {
     "name": "stderr",
     "output_type": "stream",
     "text": [
      "100%|██████████| 81/81 [07:22<00:00,  5.46s/it]\n"
     ]
    },
    {
     "name": "stdout",
     "output_type": "stream",
     "text": [
      " - Accuracy: 0.9275\n",
      " - Time: 442.44 sec\n",
      "\n",
      "# Best Model:  0.945\n",
      " - Hypers: [[900, 118, 2], 4, 1.2296296296296296]\n",
      " - Accuracy: 0.945\n",
      " - Time: 137.98\n",
      "# Current Model (4/125)\n",
      " - Hypers: [[900, 118, 2], 4, 2.049382716049383]\n",
      " - Trial 0/1\n"
     ]
    },
    {
     "name": "stderr",
     "output_type": "stream",
     "text": [
      "100%|██████████| 81/81 [07:17<00:00,  5.40s/it]\n"
     ]
    },
    {
     "name": "stdout",
     "output_type": "stream",
     "text": [
      " - Accuracy: 0.925\n",
      " - Time: 437.34 sec\n",
      "\n",
      "# Best Model:  0.945\n",
      " - Hypers: [[900, 118, 2], 4, 1.2296296296296296]\n",
      " - Accuracy: 0.945\n",
      " - Time: 137.98\n",
      "# Current Model (5/125)\n",
      " - Hypers: [[900, 118, 2], 2, 1.2296296296296296]\n",
      " - Trial 0/1\n"
     ]
    },
    {
     "name": "stderr",
     "output_type": "stream",
     "text": [
      "100%|██████████| 81/81 [07:35<00:00,  5.62s/it]\n"
     ]
    },
    {
     "name": "stdout",
     "output_type": "stream",
     "text": [
      " - Accuracy: 0.925\n",
      " - Time: 455.16 sec\n",
      "\n",
      "# Best Model:  0.945\n",
      " - Hypers: [[900, 118, 2], 4, 1.2296296296296296]\n",
      " - Accuracy: 0.945\n",
      " - Time: 137.98\n",
      "# Current Model (6/125)\n",
      " - Hypers: [[900, 118, 2], 2, 0.8197530864197531]\n",
      " - Trial 0/1\n"
     ]
    },
    {
     "name": "stderr",
     "output_type": "stream",
     "text": [
      "100%|██████████| 81/81 [07:36<00:00,  5.64s/it]\n"
     ]
    },
    {
     "name": "stdout",
     "output_type": "stream",
     "text": [
      " - Accuracy: 0.91125\n",
      " - Time: 456.63 sec\n",
      "\n",
      "# Best Model:  0.945\n",
      " - Hypers: [[900, 118, 2], 4, 1.2296296296296296]\n",
      " - Accuracy: 0.945\n",
      " - Time: 137.98\n",
      "# Current Model (7/125)\n",
      " - Hypers: [[900, 118, 2], 2, 1.6395061728395062]\n",
      " - Trial 0/1\n"
     ]
    },
    {
     "name": "stderr",
     "output_type": "stream",
     "text": [
      "100%|██████████| 81/81 [07:32<00:00,  5.59s/it]\n"
     ]
    },
    {
     "name": "stdout",
     "output_type": "stream",
     "text": [
      " - Accuracy: 0.92\n",
      " - Time: 452.47 sec\n",
      "\n",
      "# Best Model:  0.945\n",
      " - Hypers: [[900, 118, 2], 4, 1.2296296296296296]\n",
      " - Accuracy: 0.945\n",
      " - Time: 137.98\n",
      "# Current Model (8/125)\n",
      " - Hypers: [[900, 118, 2], 2, 0.40987654320987654]\n",
      " - Trial 0/1\n"
     ]
    },
    {
     "name": "stderr",
     "output_type": "stream",
     "text": [
      "100%|██████████| 81/81 [07:13<00:00,  5.36s/it]\n"
     ]
    },
    {
     "name": "stdout",
     "output_type": "stream",
     "text": [
      " - Accuracy: 0.93375\n",
      " - Time: 433.97 sec\n",
      "\n",
      "# Best Model:  0.945\n",
      " - Hypers: [[900, 118, 2], 4, 1.2296296296296296]\n",
      " - Accuracy: 0.945\n",
      " - Time: 137.98\n",
      "# Current Model (9/125)\n",
      " - Hypers: [[900, 118, 2], 2, 2.049382716049383]\n",
      " - Trial 0/1\n"
     ]
    },
    {
     "name": "stderr",
     "output_type": "stream",
     "text": [
      "100%|██████████| 81/81 [07:15<00:00,  5.38s/it]\n"
     ]
    },
    {
     "name": "stdout",
     "output_type": "stream",
     "text": [
      " - Accuracy: 0.91375\n",
      " - Time: 435.68 sec\n",
      "\n",
      "# Best Model:  0.945\n",
      " - Hypers: [[900, 118, 2], 4, 1.2296296296296296]\n",
      " - Accuracy: 0.945\n",
      " - Time: 137.98\n",
      "# Current Model (10/125)\n",
      " - Hypers: [[900, 118, 2], 5, 1.2296296296296296]\n",
      " - Trial 0/1\n"
     ]
    },
    {
     "name": "stderr",
     "output_type": "stream",
     "text": [
      "100%|██████████| 81/81 [06:54<00:00,  5.12s/it]\n"
     ]
    },
    {
     "name": "stdout",
     "output_type": "stream",
     "text": [
      " - Accuracy: 0.93875\n",
      " - Time: 414.35 sec\n",
      "\n",
      "# Best Model:  0.945\n",
      " - Hypers: [[900, 118, 2], 4, 1.2296296296296296]\n",
      " - Accuracy: 0.945\n",
      " - Time: 137.98\n",
      "# Current Model (11/125)\n",
      " - Hypers: [[900, 118, 2], 5, 0.8197530864197531]\n",
      " - Trial 0/1\n"
     ]
    },
    {
     "name": "stderr",
     "output_type": "stream",
     "text": [
      "100%|██████████| 81/81 [07:14<00:00,  5.37s/it]\n"
     ]
    },
    {
     "name": "stdout",
     "output_type": "stream",
     "text": [
      " - Accuracy: 0.93375\n",
      " - Time: 434.7 sec\n",
      "\n",
      "# Best Model:  0.945\n",
      " - Hypers: [[900, 118, 2], 4, 1.2296296296296296]\n",
      " - Accuracy: 0.945\n",
      " - Time: 137.98\n",
      "# Current Model (12/125)\n",
      " - Hypers: [[900, 118, 2], 5, 1.6395061728395062]\n",
      " - Trial 0/1\n"
     ]
    },
    {
     "name": "stderr",
     "output_type": "stream",
     "text": [
      "100%|██████████| 81/81 [07:12<00:00,  5.34s/it]\n"
     ]
    },
    {
     "name": "stdout",
     "output_type": "stream",
     "text": [
      " - Accuracy: 0.94125\n",
      " - Time: 432.17 sec\n",
      "\n",
      "# Best Model:  0.945\n",
      " - Hypers: [[900, 118, 2], 4, 1.2296296296296296]\n",
      " - Accuracy: 0.945\n",
      " - Time: 137.98\n",
      "# Current Model (13/125)\n",
      " - Hypers: [[900, 118, 2], 5, 0.40987654320987654]\n",
      " - Trial 0/1\n"
     ]
    },
    {
     "name": "stderr",
     "output_type": "stream",
     "text": [
      "100%|██████████| 81/81 [06:52<00:00,  5.10s/it]\n"
     ]
    },
    {
     "name": "stdout",
     "output_type": "stream",
     "text": [
      " - Accuracy: 0.9175\n",
      " - Time: 412.93 sec\n",
      "\n",
      "# Best Model:  0.945\n",
      " - Hypers: [[900, 118, 2], 4, 1.2296296296296296]\n",
      " - Accuracy: 0.945\n",
      " - Time: 137.98\n",
      "# Current Model (14/125)\n",
      " - Hypers: [[900, 118, 2], 5, 2.049382716049383]\n",
      " - Trial 0/1\n"
     ]
    },
    {
     "name": "stderr",
     "output_type": "stream",
     "text": [
      "100%|██████████| 81/81 [06:48<00:00,  5.04s/it]\n"
     ]
    },
    {
     "name": "stdout",
     "output_type": "stream",
     "text": [
      " - Accuracy: 0.91875\n",
      " - Time: 408.13 sec\n",
      "\n",
      "# Best Model:  0.945\n",
      " - Hypers: [[900, 118, 2], 4, 1.2296296296296296]\n",
      " - Accuracy: 0.945\n",
      " - Time: 137.98\n",
      "# Current Model (15/125)\n",
      " - Hypers: [[900, 118, 2], 1, 1.2296296296296296]\n",
      " - Trial 0/1\n"
     ]
    },
    {
     "name": "stderr",
     "output_type": "stream",
     "text": [
      "100%|██████████| 81/81 [08:04<00:00,  5.98s/it]\n"
     ]
    },
    {
     "name": "stdout",
     "output_type": "stream",
     "text": [
      " - Accuracy: 0.90875\n",
      " - Time: 484.48 sec\n",
      "\n",
      "# Best Model:  0.945\n",
      " - Hypers: [[900, 118, 2], 4, 1.2296296296296296]\n",
      " - Accuracy: 0.945\n",
      " - Time: 137.98\n",
      "# Current Model (16/125)\n",
      " - Hypers: [[900, 118, 2], 1, 0.8197530864197531]\n",
      " - Trial 0/1\n"
     ]
    },
    {
     "name": "stderr",
     "output_type": "stream",
     "text": [
      "100%|██████████| 81/81 [08:00<00:00,  5.93s/it]\n"
     ]
    },
    {
     "name": "stdout",
     "output_type": "stream",
     "text": [
      " - Accuracy: 0.8525\n",
      " - Time: 480.65 sec\n",
      "\n",
      "# Best Model:  0.945\n",
      " - Hypers: [[900, 118, 2], 4, 1.2296296296296296]\n",
      " - Accuracy: 0.945\n",
      " - Time: 137.98\n",
      "# Current Model (17/125)\n",
      " - Hypers: [[900, 118, 2], 1, 1.6395061728395062]\n",
      " - Trial 0/1\n"
     ]
    },
    {
     "name": "stderr",
     "output_type": "stream",
     "text": [
      "100%|██████████| 81/81 [07:57<00:00,  5.90s/it]\n"
     ]
    },
    {
     "name": "stdout",
     "output_type": "stream",
     "text": [
      " - Accuracy: 0.89875\n",
      " - Time: 477.73 sec\n",
      "\n",
      "# Best Model:  0.945\n",
      " - Hypers: [[900, 118, 2], 4, 1.2296296296296296]\n",
      " - Accuracy: 0.945\n",
      " - Time: 137.98\n",
      "# Current Model (18/125)\n",
      " - Hypers: [[900, 118, 2], 1, 0.40987654320987654]\n",
      " - Trial 0/1\n"
     ]
    },
    {
     "name": "stderr",
     "output_type": "stream",
     "text": [
      "100%|██████████| 81/81 [08:11<00:00,  6.06s/it]\n"
     ]
    },
    {
     "name": "stdout",
     "output_type": "stream",
     "text": [
      " - Accuracy: 0.92375\n",
      " - Time: 491.05 sec\n",
      "\n",
      "# Best Model:  0.945\n",
      " - Hypers: [[900, 118, 2], 4, 1.2296296296296296]\n",
      " - Accuracy: 0.945\n",
      " - Time: 137.98\n",
      "# Current Model (19/125)\n",
      " - Hypers: [[900, 118, 2], 1, 2.049382716049383]\n",
      " - Trial 0/1\n"
     ]
    },
    {
     "name": "stderr",
     "output_type": "stream",
     "text": [
      "100%|██████████| 81/81 [08:04<00:00,  5.98s/it]\n"
     ]
    },
    {
     "name": "stdout",
     "output_type": "stream",
     "text": [
      " - Accuracy: 0.91375\n",
      " - Time: 484.72 sec\n",
      "\n",
      "# Best Model:  0.945\n",
      " - Hypers: [[900, 118, 2], 4, 1.2296296296296296]\n",
      " - Accuracy: 0.945\n",
      " - Time: 137.98\n",
      "# Current Model (20/125)\n",
      " - Hypers: [[900, 118, 2], 6, 1.2296296296296296]\n",
      " - Trial 0/1\n"
     ]
    },
    {
     "name": "stderr",
     "output_type": "stream",
     "text": [
      "100%|██████████| 81/81 [07:02<00:00,  5.22s/it]\n"
     ]
    },
    {
     "name": "stdout",
     "output_type": "stream",
     "text": [
      " - Accuracy: 0.93625\n",
      " - Time: 422.68 sec\n",
      "\n",
      "# Best Model:  0.945\n",
      " - Hypers: [[900, 118, 2], 4, 1.2296296296296296]\n",
      " - Accuracy: 0.945\n",
      " - Time: 137.98\n",
      "# Current Model (21/125)\n",
      " - Hypers: [[900, 118, 2], 6, 0.8197530864197531]\n",
      " - Trial 0/1\n"
     ]
    },
    {
     "name": "stderr",
     "output_type": "stream",
     "text": [
      "100%|██████████| 81/81 [06:48<00:00,  5.05s/it]\n"
     ]
    },
    {
     "name": "stdout",
     "output_type": "stream",
     "text": [
      " - Accuracy: 0.91875\n",
      " - Time: 408.94 sec\n",
      "\n",
      "# Best Model:  0.945\n",
      " - Hypers: [[900, 118, 2], 4, 1.2296296296296296]\n",
      " - Accuracy: 0.945\n",
      " - Time: 137.98\n",
      "# Current Model (22/125)\n",
      " - Hypers: [[900, 118, 2], 6, 1.6395061728395062]\n",
      " - Trial 0/1\n"
     ]
    },
    {
     "name": "stderr",
     "output_type": "stream",
     "text": [
      "100%|██████████| 81/81 [06:45<00:00,  5.01s/it]\n"
     ]
    },
    {
     "name": "stdout",
     "output_type": "stream",
     "text": [
      " - Accuracy: 0.94375\n",
      " - Time: 405.58 sec\n",
      "\n",
      "# Best Model:  0.945\n",
      " - Hypers: [[900, 118, 2], 4, 1.2296296296296296]\n",
      " - Accuracy: 0.945\n",
      " - Time: 137.98\n",
      "# Current Model (23/125)\n",
      " - Hypers: [[900, 118, 2], 6, 0.40987654320987654]\n",
      " - Trial 0/1\n"
     ]
    },
    {
     "name": "stderr",
     "output_type": "stream",
     "text": [
      "100%|██████████| 81/81 [06:44<00:00,  5.00s/it]\n"
     ]
    },
    {
     "name": "stdout",
     "output_type": "stream",
     "text": [
      " - Accuracy: 0.91875\n",
      " - Time: 404.99 sec\n",
      "\n",
      "# Best Model:  0.945\n",
      " - Hypers: [[900, 118, 2], 4, 1.2296296296296296]\n",
      " - Accuracy: 0.945\n",
      " - Time: 137.98\n",
      "# Current Model (24/125)\n",
      " - Hypers: [[900, 118, 2], 6, 2.049382716049383]\n",
      " - Trial 0/1\n"
     ]
    },
    {
     "name": "stderr",
     "output_type": "stream",
     "text": [
      "100%|██████████| 81/81 [06:45<00:00,  5.01s/it]\n"
     ]
    },
    {
     "name": "stdout",
     "output_type": "stream",
     "text": [
      " - Accuracy: 0.9325\n",
      " - Time: 405.73 sec\n",
      "\n",
      "# Best Model:  0.945\n",
      " - Hypers: [[900, 118, 2], 4, 1.2296296296296296]\n",
      " - Accuracy: 0.945\n",
      " - Time: 137.98\n",
      "# Current Model (25/125)\n",
      " - Hypers: [[900, 78, 2], 4, 1.2296296296296296]\n",
      " - Trial 0/1\n"
     ]
    },
    {
     "name": "stderr",
     "output_type": "stream",
     "text": [
      "100%|██████████| 81/81 [06:59<00:00,  5.18s/it]\n"
     ]
    },
    {
     "name": "stdout",
     "output_type": "stream",
     "text": [
      " - Accuracy: 0.9525\n",
      " - Time: 419.82 sec\n",
      "\n",
      "# Best Model:  0.9525\n",
      " - Hypers: [[900, 78, 2], 4, 1.2296296296296296]\n",
      " - Accuracy: 0.9525\n",
      " - Time: 419.82\n",
      "# Current Model (26/125)\n",
      " - Hypers: [[900, 78, 2], 4, 0.8197530864197531]\n",
      " - Trial 0/1\n"
     ]
    },
    {
     "name": "stderr",
     "output_type": "stream",
     "text": [
      "100%|██████████| 81/81 [07:00<00:00,  5.20s/it]\n"
     ]
    },
    {
     "name": "stdout",
     "output_type": "stream",
     "text": [
      " - Accuracy: 0.92125\n",
      " - Time: 420.85 sec\n",
      "\n",
      "# Best Model:  0.9525\n",
      " - Hypers: [[900, 78, 2], 4, 1.2296296296296296]\n",
      " - Accuracy: 0.9525\n",
      " - Time: 419.82\n",
      "# Current Model (27/125)\n",
      " - Hypers: [[900, 78, 2], 4, 1.6395061728395062]\n",
      " - Trial 0/1\n"
     ]
    },
    {
     "name": "stderr",
     "output_type": "stream",
     "text": [
      "100%|██████████| 81/81 [06:53<00:00,  5.11s/it]\n"
     ]
    },
    {
     "name": "stdout",
     "output_type": "stream",
     "text": [
      " - Accuracy: 0.9275\n",
      " - Time: 413.98 sec\n",
      "\n",
      "# Best Model:  0.9525\n",
      " - Hypers: [[900, 78, 2], 4, 1.2296296296296296]\n",
      " - Accuracy: 0.9525\n",
      " - Time: 419.82\n",
      "# Current Model (28/125)\n",
      " - Hypers: [[900, 78, 2], 4, 0.40987654320987654]\n",
      " - Trial 0/1\n"
     ]
    },
    {
     "name": "stderr",
     "output_type": "stream",
     "text": [
      "100%|██████████| 81/81 [06:54<00:00,  5.11s/it]\n"
     ]
    },
    {
     "name": "stdout",
     "output_type": "stream",
     "text": [
      " - Accuracy: 0.92875\n",
      " - Time: 414.31 sec\n",
      "\n",
      "# Best Model:  0.9525\n",
      " - Hypers: [[900, 78, 2], 4, 1.2296296296296296]\n",
      " - Accuracy: 0.9525\n",
      " - Time: 419.82\n",
      "# Current Model (29/125)\n",
      " - Hypers: [[900, 78, 2], 4, 2.049382716049383]\n",
      " - Trial 0/1\n"
     ]
    },
    {
     "name": "stderr",
     "output_type": "stream",
     "text": [
      "100%|██████████| 81/81 [06:55<00:00,  5.12s/it]\n"
     ]
    },
    {
     "name": "stdout",
     "output_type": "stream",
     "text": [
      " - Accuracy: 0.87\n",
      " - Time: 415.02 sec\n",
      "\n",
      "# Best Model:  0.9525\n",
      " - Hypers: [[900, 78, 2], 4, 1.2296296296296296]\n",
      " - Accuracy: 0.9525\n",
      " - Time: 419.82\n",
      "# Current Model (30/125)\n",
      " - Hypers: [[900, 78, 2], 2, 1.2296296296296296]\n",
      " - Trial 0/1\n"
     ]
    },
    {
     "name": "stderr",
     "output_type": "stream",
     "text": [
      "100%|██████████| 81/81 [07:17<00:00,  5.40s/it]\n"
     ]
    },
    {
     "name": "stdout",
     "output_type": "stream",
     "text": [
      " - Accuracy: 0.895\n",
      " - Time: 437.05 sec\n",
      "\n",
      "# Best Model:  0.9525\n",
      " - Hypers: [[900, 78, 2], 4, 1.2296296296296296]\n",
      " - Accuracy: 0.9525\n",
      " - Time: 419.82\n",
      "# Current Model (31/125)\n",
      " - Hypers: [[900, 78, 2], 2, 0.8197530864197531]\n",
      " - Trial 0/1\n"
     ]
    },
    {
     "name": "stderr",
     "output_type": "stream",
     "text": [
      "100%|██████████| 81/81 [07:20<00:00,  5.44s/it]\n"
     ]
    },
    {
     "name": "stdout",
     "output_type": "stream",
     "text": [
      " - Accuracy: 0.9325\n",
      " - Time: 440.69 sec\n",
      "\n",
      "# Best Model:  0.9525\n",
      " - Hypers: [[900, 78, 2], 4, 1.2296296296296296]\n",
      " - Accuracy: 0.9525\n",
      " - Time: 419.82\n",
      "# Current Model (32/125)\n",
      " - Hypers: [[900, 78, 2], 2, 1.6395061728395062]\n",
      " - Trial 0/1\n"
     ]
    },
    {
     "name": "stderr",
     "output_type": "stream",
     "text": [
      "100%|██████████| 81/81 [07:19<00:00,  5.42s/it]\n"
     ]
    },
    {
     "name": "stdout",
     "output_type": "stream",
     "text": [
      " - Accuracy: 0.91125\n",
      " - Time: 439.14 sec\n",
      "\n",
      "# Best Model:  0.9525\n",
      " - Hypers: [[900, 78, 2], 4, 1.2296296296296296]\n",
      " - Accuracy: 0.9525\n",
      " - Time: 419.82\n",
      "# Current Model (33/125)\n",
      " - Hypers: [[900, 78, 2], 2, 0.40987654320987654]\n",
      " - Trial 0/1\n"
     ]
    },
    {
     "name": "stderr",
     "output_type": "stream",
     "text": [
      "100%|██████████| 81/81 [07:25<00:00,  5.50s/it]\n"
     ]
    },
    {
     "name": "stdout",
     "output_type": "stream",
     "text": [
      " - Accuracy: 0.93125\n",
      " - Time: 445.84 sec\n",
      "\n",
      "# Best Model:  0.9525\n",
      " - Hypers: [[900, 78, 2], 4, 1.2296296296296296]\n",
      " - Accuracy: 0.9525\n",
      " - Time: 419.82\n",
      "# Current Model (34/125)\n",
      " - Hypers: [[900, 78, 2], 2, 2.049382716049383]\n",
      " - Trial 0/1\n"
     ]
    },
    {
     "name": "stderr",
     "output_type": "stream",
     "text": [
      "100%|██████████| 81/81 [07:28<00:00,  5.54s/it]\n"
     ]
    },
    {
     "name": "stdout",
     "output_type": "stream",
     "text": [
      " - Accuracy: 0.895\n",
      " - Time: 448.96 sec\n",
      "\n",
      "# Best Model:  0.9525\n",
      " - Hypers: [[900, 78, 2], 4, 1.2296296296296296]\n",
      " - Accuracy: 0.9525\n",
      " - Time: 419.82\n",
      "# Current Model (35/125)\n",
      " - Hypers: [[900, 78, 2], 5, 1.2296296296296296]\n",
      " - Trial 0/1\n"
     ]
    },
    {
     "name": "stderr",
     "output_type": "stream",
     "text": [
      "100%|██████████| 81/81 [07:05<00:00,  5.25s/it]\n"
     ]
    },
    {
     "name": "stdout",
     "output_type": "stream",
     "text": [
      " - Accuracy: 0.92875\n",
      " - Time: 425.02 sec\n",
      "\n",
      "# Best Model:  0.9525\n",
      " - Hypers: [[900, 78, 2], 4, 1.2296296296296296]\n",
      " - Accuracy: 0.9525\n",
      " - Time: 419.82\n",
      "# Current Model (36/125)\n",
      " - Hypers: [[900, 78, 2], 5, 0.8197530864197531]\n",
      " - Trial 0/1\n"
     ]
    },
    {
     "name": "stderr",
     "output_type": "stream",
     "text": [
      "100%|██████████| 81/81 [06:48<00:00,  5.04s/it]\n"
     ]
    },
    {
     "name": "stdout",
     "output_type": "stream",
     "text": [
      " - Accuracy: 0.93125\n",
      " - Time: 408.24 sec\n",
      "\n",
      "# Best Model:  0.9525\n",
      " - Hypers: [[900, 78, 2], 4, 1.2296296296296296]\n",
      " - Accuracy: 0.9525\n",
      " - Time: 419.82\n",
      "# Current Model (37/125)\n",
      " - Hypers: [[900, 78, 2], 5, 1.6395061728395062]\n",
      " - Trial 0/1\n"
     ]
    },
    {
     "name": "stderr",
     "output_type": "stream",
     "text": [
      "100%|██████████| 81/81 [06:57<00:00,  5.16s/it]\n"
     ]
    },
    {
     "name": "stdout",
     "output_type": "stream",
     "text": [
      " - Accuracy: 0.94875\n",
      " - Time: 417.81 sec\n",
      "\n",
      "# Best Model:  0.9525\n",
      " - Hypers: [[900, 78, 2], 4, 1.2296296296296296]\n",
      " - Accuracy: 0.9525\n",
      " - Time: 419.82\n",
      "# Current Model (38/125)\n",
      " - Hypers: [[900, 78, 2], 5, 0.40987654320987654]\n",
      " - Trial 0/1\n"
     ]
    },
    {
     "name": "stderr",
     "output_type": "stream",
     "text": [
      "100%|██████████| 81/81 [06:49<00:00,  5.05s/it]\n"
     ]
    },
    {
     "name": "stdout",
     "output_type": "stream",
     "text": [
      " - Accuracy: 0.91875\n",
      " - Time: 409.26 sec\n",
      "\n",
      "# Best Model:  0.9525\n",
      " - Hypers: [[900, 78, 2], 4, 1.2296296296296296]\n",
      " - Accuracy: 0.9525\n",
      " - Time: 419.82\n",
      "# Current Model (39/125)\n",
      " - Hypers: [[900, 78, 2], 5, 2.049382716049383]\n",
      " - Trial 0/1\n"
     ]
    },
    {
     "name": "stderr",
     "output_type": "stream",
     "text": [
      "100%|██████████| 81/81 [07:00<00:00,  5.19s/it]\n"
     ]
    },
    {
     "name": "stdout",
     "output_type": "stream",
     "text": [
      " - Accuracy: 0.9025\n",
      " - Time: 420.54 sec\n",
      "\n",
      "# Best Model:  0.9525\n",
      " - Hypers: [[900, 78, 2], 4, 1.2296296296296296]\n",
      " - Accuracy: 0.9525\n",
      " - Time: 419.82\n",
      "# Current Model (40/125)\n",
      " - Hypers: [[900, 78, 2], 1, 1.2296296296296296]\n",
      " - Trial 0/1\n"
     ]
    },
    {
     "name": "stderr",
     "output_type": "stream",
     "text": [
      "100%|██████████| 81/81 [08:30<00:00,  6.31s/it]\n"
     ]
    },
    {
     "name": "stdout",
     "output_type": "stream",
     "text": [
      " - Accuracy: 0.92375\n",
      " - Time: 510.98 sec\n",
      "\n",
      "# Best Model:  0.9525\n",
      " - Hypers: [[900, 78, 2], 4, 1.2296296296296296]\n",
      " - Accuracy: 0.9525\n",
      " - Time: 419.82\n",
      "# Current Model (41/125)\n",
      " - Hypers: [[900, 78, 2], 1, 0.8197530864197531]\n",
      " - Trial 0/1\n"
     ]
    },
    {
     "name": "stderr",
     "output_type": "stream",
     "text": [
      "100%|██████████| 81/81 [08:18<00:00,  6.16s/it]\n"
     ]
    },
    {
     "name": "stdout",
     "output_type": "stream",
     "text": [
      " - Accuracy: 0.915\n",
      " - Time: 498.69 sec\n",
      "\n",
      "# Best Model:  0.9525\n",
      " - Hypers: [[900, 78, 2], 4, 1.2296296296296296]\n",
      " - Accuracy: 0.9525\n",
      " - Time: 419.82\n",
      "# Current Model (42/125)\n",
      " - Hypers: [[900, 78, 2], 1, 1.6395061728395062]\n",
      " - Trial 0/1\n"
     ]
    },
    {
     "name": "stderr",
     "output_type": "stream",
     "text": [
      "100%|██████████| 81/81 [08:06<00:00,  6.01s/it]\n"
     ]
    },
    {
     "name": "stdout",
     "output_type": "stream",
     "text": [
      " - Accuracy: 0.915\n",
      " - Time: 486.8 sec\n",
      "\n",
      "# Best Model:  0.9525\n",
      " - Hypers: [[900, 78, 2], 4, 1.2296296296296296]\n",
      " - Accuracy: 0.9525\n",
      " - Time: 419.82\n",
      "# Current Model (43/125)\n",
      " - Hypers: [[900, 78, 2], 1, 0.40987654320987654]\n",
      " - Trial 0/1\n"
     ]
    },
    {
     "name": "stderr",
     "output_type": "stream",
     "text": [
      "100%|██████████| 81/81 [08:00<00:00,  5.93s/it]\n"
     ]
    },
    {
     "name": "stdout",
     "output_type": "stream",
     "text": [
      " - Accuracy: 0.92375\n",
      " - Time: 480.74 sec\n",
      "\n",
      "# Best Model:  0.9525\n",
      " - Hypers: [[900, 78, 2], 4, 1.2296296296296296]\n",
      " - Accuracy: 0.9525\n",
      " - Time: 419.82\n",
      "# Current Model (44/125)\n",
      " - Hypers: [[900, 78, 2], 1, 2.049382716049383]\n",
      " - Trial 0/1\n"
     ]
    },
    {
     "name": "stderr",
     "output_type": "stream",
     "text": [
      "100%|██████████| 81/81 [08:12<00:00,  6.08s/it]\n"
     ]
    },
    {
     "name": "stdout",
     "output_type": "stream",
     "text": [
      " - Accuracy: 0.8975\n",
      " - Time: 492.76 sec\n",
      "\n",
      "# Best Model:  0.9525\n",
      " - Hypers: [[900, 78, 2], 4, 1.2296296296296296]\n",
      " - Accuracy: 0.9525\n",
      " - Time: 419.82\n",
      "# Current Model (45/125)\n",
      " - Hypers: [[900, 78, 2], 6, 1.2296296296296296]\n",
      " - Trial 0/1\n"
     ]
    },
    {
     "name": "stderr",
     "output_type": "stream",
     "text": [
      "100%|██████████| 81/81 [06:47<00:00,  5.03s/it]\n"
     ]
    },
    {
     "name": "stdout",
     "output_type": "stream",
     "text": [
      " - Accuracy: 0.92375\n",
      " - Time: 407.81 sec\n",
      "\n",
      "# Best Model:  0.9525\n",
      " - Hypers: [[900, 78, 2], 4, 1.2296296296296296]\n",
      " - Accuracy: 0.9525\n",
      " - Time: 419.82\n",
      "# Current Model (46/125)\n",
      " - Hypers: [[900, 78, 2], 6, 0.8197530864197531]\n",
      " - Trial 0/1\n"
     ]
    },
    {
     "name": "stderr",
     "output_type": "stream",
     "text": [
      "100%|██████████| 81/81 [07:02<00:00,  5.21s/it]\n"
     ]
    },
    {
     "name": "stdout",
     "output_type": "stream",
     "text": [
      " - Accuracy: 0.9325\n",
      " - Time: 422.32 sec\n",
      "\n",
      "# Best Model:  0.9525\n",
      " - Hypers: [[900, 78, 2], 4, 1.2296296296296296]\n",
      " - Accuracy: 0.9525\n",
      " - Time: 419.82\n",
      "# Current Model (47/125)\n",
      " - Hypers: [[900, 78, 2], 6, 1.6395061728395062]\n",
      " - Trial 0/1\n"
     ]
    },
    {
     "name": "stderr",
     "output_type": "stream",
     "text": [
      "100%|██████████| 81/81 [07:03<00:00,  5.23s/it]\n"
     ]
    },
    {
     "name": "stdout",
     "output_type": "stream",
     "text": [
      " - Accuracy: 0.9325\n",
      " - Time: 423.58 sec\n",
      "\n",
      "# Best Model:  0.9525\n",
      " - Hypers: [[900, 78, 2], 4, 1.2296296296296296]\n",
      " - Accuracy: 0.9525\n",
      " - Time: 419.82\n",
      "# Current Model (48/125)\n",
      " - Hypers: [[900, 78, 2], 6, 0.40987654320987654]\n",
      " - Trial 0/1\n"
     ]
    },
    {
     "name": "stderr",
     "output_type": "stream",
     "text": [
      "100%|██████████| 81/81 [07:02<00:00,  5.22s/it]\n"
     ]
    },
    {
     "name": "stdout",
     "output_type": "stream",
     "text": [
      " - Accuracy: 0.91625\n",
      " - Time: 422.59 sec\n",
      "\n",
      "# Best Model:  0.9525\n",
      " - Hypers: [[900, 78, 2], 4, 1.2296296296296296]\n",
      " - Accuracy: 0.9525\n",
      " - Time: 419.82\n",
      "# Current Model (49/125)\n",
      " - Hypers: [[900, 78, 2], 6, 2.049382716049383]\n",
      " - Trial 0/1\n"
     ]
    },
    {
     "name": "stderr",
     "output_type": "stream",
     "text": [
      "100%|██████████| 81/81 [07:03<00:00,  5.23s/it]\n"
     ]
    },
    {
     "name": "stdout",
     "output_type": "stream",
     "text": [
      " - Accuracy: 0.93125\n",
      " - Time: 423.8 sec\n",
      "\n",
      "# Best Model:  0.9525\n",
      " - Hypers: [[900, 78, 2], 4, 1.2296296296296296]\n",
      " - Accuracy: 0.9525\n",
      " - Time: 419.82\n",
      "# Current Model (50/125)\n",
      " - Hypers: [[900, 157, 2], 4, 1.2296296296296296]\n",
      " - Trial 0/1\n"
     ]
    },
    {
     "name": "stderr",
     "output_type": "stream",
     "text": [
      "100%|██████████| 81/81 [07:03<00:00,  5.23s/it]\n"
     ]
    },
    {
     "name": "stdout",
     "output_type": "stream",
     "text": [
      " - Accuracy: 0.9375\n",
      " - Time: 423.84 sec\n",
      "\n",
      "# Best Model:  0.9525\n",
      " - Hypers: [[900, 78, 2], 4, 1.2296296296296296]\n",
      " - Accuracy: 0.9525\n",
      " - Time: 419.82\n",
      "# Current Model (51/125)\n",
      " - Hypers: [[900, 157, 2], 4, 0.8197530864197531]\n",
      " - Trial 0/1\n"
     ]
    },
    {
     "name": "stderr",
     "output_type": "stream",
     "text": [
      "100%|██████████| 81/81 [06:44<00:00,  4.99s/it]\n"
     ]
    },
    {
     "name": "stdout",
     "output_type": "stream",
     "text": [
      " - Accuracy: 0.94125\n",
      " - Time: 404.46 sec\n",
      "\n",
      "# Best Model:  0.9525\n",
      " - Hypers: [[900, 78, 2], 4, 1.2296296296296296]\n",
      " - Accuracy: 0.9525\n",
      " - Time: 419.82\n",
      "# Current Model (52/125)\n",
      " - Hypers: [[900, 157, 2], 4, 1.6395061728395062]\n",
      " - Trial 0/1\n"
     ]
    },
    {
     "name": "stderr",
     "output_type": "stream",
     "text": [
      "100%|██████████| 81/81 [06:56<00:00,  5.14s/it]\n"
     ]
    },
    {
     "name": "stdout",
     "output_type": "stream",
     "text": [
      " - Accuracy: 0.91875\n",
      " - Time: 416.45 sec\n",
      "\n",
      "# Best Model:  0.9525\n",
      " - Hypers: [[900, 78, 2], 4, 1.2296296296296296]\n",
      " - Accuracy: 0.9525\n",
      " - Time: 419.82\n",
      "# Current Model (53/125)\n",
      " - Hypers: [[900, 157, 2], 4, 0.40987654320987654]\n",
      " - Trial 0/1\n"
     ]
    },
    {
     "name": "stderr",
     "output_type": "stream",
     "text": [
      "100%|██████████| 81/81 [06:44<00:00,  5.00s/it]\n"
     ]
    },
    {
     "name": "stdout",
     "output_type": "stream",
     "text": [
      " - Accuracy: 0.9325\n",
      " - Time: 404.68 sec\n",
      "\n",
      "# Best Model:  0.9525\n",
      " - Hypers: [[900, 78, 2], 4, 1.2296296296296296]\n",
      " - Accuracy: 0.9525\n",
      " - Time: 419.82\n",
      "# Current Model (54/125)\n",
      " - Hypers: [[900, 157, 2], 4, 2.049382716049383]\n",
      " - Trial 0/1\n"
     ]
    },
    {
     "name": "stderr",
     "output_type": "stream",
     "text": [
      "100%|██████████| 81/81 [06:58<00:00,  5.16s/it]\n"
     ]
    },
    {
     "name": "stdout",
     "output_type": "stream",
     "text": [
      " - Accuracy: 0.89\n",
      " - Time: 418.19 sec\n",
      "\n",
      "# Best Model:  0.9525\n",
      " - Hypers: [[900, 78, 2], 4, 1.2296296296296296]\n",
      " - Accuracy: 0.9525\n",
      " - Time: 419.82\n",
      "# Current Model (55/125)\n",
      " - Hypers: [[900, 157, 2], 2, 1.2296296296296296]\n",
      " - Trial 0/1\n"
     ]
    },
    {
     "name": "stderr",
     "output_type": "stream",
     "text": [
      "100%|██████████| 81/81 [07:15<00:00,  5.37s/it]\n"
     ]
    },
    {
     "name": "stdout",
     "output_type": "stream",
     "text": [
      " - Accuracy: 0.91625\n",
      " - Time: 435.15 sec\n",
      "\n",
      "# Best Model:  0.9525\n",
      " - Hypers: [[900, 78, 2], 4, 1.2296296296296296]\n",
      " - Accuracy: 0.9525\n",
      " - Time: 419.82\n",
      "# Current Model (56/125)\n",
      " - Hypers: [[900, 157, 2], 2, 0.8197530864197531]\n",
      " - Trial 0/1\n"
     ]
    },
    {
     "name": "stderr",
     "output_type": "stream",
     "text": [
      "100%|██████████| 81/81 [07:27<00:00,  5.52s/it]\n"
     ]
    },
    {
     "name": "stdout",
     "output_type": "stream",
     "text": [
      " - Accuracy: 0.935\n",
      " - Time: 447.31 sec\n",
      "\n",
      "# Best Model:  0.9525\n",
      " - Hypers: [[900, 78, 2], 4, 1.2296296296296296]\n",
      " - Accuracy: 0.9525\n",
      " - Time: 419.82\n",
      "# Current Model (57/125)\n",
      " - Hypers: [[900, 157, 2], 2, 1.6395061728395062]\n",
      " - Trial 0/1\n"
     ]
    },
    {
     "name": "stderr",
     "output_type": "stream",
     "text": [
      "100%|██████████| 81/81 [07:10<00:00,  5.32s/it]\n"
     ]
    },
    {
     "name": "stdout",
     "output_type": "stream",
     "text": [
      " - Accuracy: 0.89125\n",
      " - Time: 430.77 sec\n",
      "\n",
      "# Best Model:  0.9525\n",
      " - Hypers: [[900, 78, 2], 4, 1.2296296296296296]\n",
      " - Accuracy: 0.9525\n",
      " - Time: 419.82\n",
      "# Current Model (58/125)\n",
      " - Hypers: [[900, 157, 2], 2, 0.40987654320987654]\n",
      " - Trial 0/1\n"
     ]
    },
    {
     "name": "stderr",
     "output_type": "stream",
     "text": [
      "100%|██████████| 81/81 [07:12<00:00,  5.34s/it]\n"
     ]
    },
    {
     "name": "stdout",
     "output_type": "stream",
     "text": [
      " - Accuracy: 0.9225\n",
      " - Time: 432.65 sec\n",
      "\n",
      "# Best Model:  0.9525\n",
      " - Hypers: [[900, 78, 2], 4, 1.2296296296296296]\n",
      " - Accuracy: 0.9525\n",
      " - Time: 419.82\n",
      "# Current Model (59/125)\n",
      " - Hypers: [[900, 157, 2], 2, 2.049382716049383]\n",
      " - Trial 0/1\n"
     ]
    },
    {
     "name": "stderr",
     "output_type": "stream",
     "text": [
      "100%|██████████| 81/81 [07:14<00:00,  5.37s/it]\n"
     ]
    },
    {
     "name": "stdout",
     "output_type": "stream",
     "text": [
      " - Accuracy: 0.91375\n",
      " - Time: 434.95 sec\n",
      "\n",
      "# Best Model:  0.9525\n",
      " - Hypers: [[900, 78, 2], 4, 1.2296296296296296]\n",
      " - Accuracy: 0.9525\n",
      " - Time: 419.82\n",
      "# Current Model (60/125)\n",
      " - Hypers: [[900, 157, 2], 5, 1.2296296296296296]\n",
      " - Trial 0/1\n"
     ]
    },
    {
     "name": "stderr",
     "output_type": "stream",
     "text": [
      "100%|██████████| 81/81 [06:55<00:00,  5.13s/it]\n"
     ]
    },
    {
     "name": "stdout",
     "output_type": "stream",
     "text": [
      " - Accuracy: 0.9325\n",
      " - Time: 415.23 sec\n",
      "\n",
      "# Best Model:  0.9525\n",
      " - Hypers: [[900, 78, 2], 4, 1.2296296296296296]\n",
      " - Accuracy: 0.9525\n",
      " - Time: 419.82\n",
      "# Current Model (61/125)\n",
      " - Hypers: [[900, 157, 2], 5, 0.8197530864197531]\n",
      " - Trial 0/1\n"
     ]
    },
    {
     "name": "stderr",
     "output_type": "stream",
     "text": [
      "100%|██████████| 81/81 [06:49<00:00,  5.06s/it]\n"
     ]
    },
    {
     "name": "stdout",
     "output_type": "stream",
     "text": [
      " - Accuracy: 0.93\n",
      " - Time: 409.54 sec\n",
      "\n",
      "# Best Model:  0.9525\n",
      " - Hypers: [[900, 78, 2], 4, 1.2296296296296296]\n",
      " - Accuracy: 0.9525\n",
      " - Time: 419.82\n",
      "# Current Model (62/125)\n",
      " - Hypers: [[900, 157, 2], 5, 1.6395061728395062]\n",
      " - Trial 0/1\n"
     ]
    },
    {
     "name": "stderr",
     "output_type": "stream",
     "text": [
      "100%|██████████| 81/81 [06:51<00:00,  5.08s/it]\n"
     ]
    },
    {
     "name": "stdout",
     "output_type": "stream",
     "text": [
      " - Accuracy: 0.94\n",
      " - Time: 411.44 sec\n",
      "\n",
      "# Best Model:  0.9525\n",
      " - Hypers: [[900, 78, 2], 4, 1.2296296296296296]\n",
      " - Accuracy: 0.9525\n",
      " - Time: 419.82\n",
      "# Current Model (63/125)\n",
      " - Hypers: [[900, 157, 2], 5, 0.40987654320987654]\n",
      " - Trial 0/1\n"
     ]
    },
    {
     "name": "stderr",
     "output_type": "stream",
     "text": [
      "100%|██████████| 81/81 [07:02<00:00,  5.22s/it]\n"
     ]
    },
    {
     "name": "stdout",
     "output_type": "stream",
     "text": [
      " - Accuracy: 0.91875\n",
      " - Time: 422.56 sec\n",
      "\n",
      "# Best Model:  0.9525\n",
      " - Hypers: [[900, 78, 2], 4, 1.2296296296296296]\n",
      " - Accuracy: 0.9525\n",
      " - Time: 419.82\n",
      "# Current Model (64/125)\n",
      " - Hypers: [[900, 157, 2], 5, 2.049382716049383]\n",
      " - Trial 0/1\n"
     ]
    },
    {
     "name": "stderr",
     "output_type": "stream",
     "text": [
      "100%|██████████| 81/81 [07:04<00:00,  5.24s/it]\n"
     ]
    },
    {
     "name": "stdout",
     "output_type": "stream",
     "text": [
      " - Accuracy: 0.925\n",
      " - Time: 424.56 sec\n",
      "\n",
      "# Best Model:  0.9525\n",
      " - Hypers: [[900, 78, 2], 4, 1.2296296296296296]\n",
      " - Accuracy: 0.9525\n",
      " - Time: 419.82\n",
      "# Current Model (65/125)\n",
      " - Hypers: [[900, 157, 2], 1, 1.2296296296296296]\n",
      " - Trial 0/1\n"
     ]
    },
    {
     "name": "stderr",
     "output_type": "stream",
     "text": [
      "100%|██████████| 81/81 [07:56<00:00,  5.88s/it]\n"
     ]
    },
    {
     "name": "stdout",
     "output_type": "stream",
     "text": [
      " - Accuracy: 0.89125\n",
      " - Time: 476.05 sec\n",
      "\n",
      "# Best Model:  0.9525\n",
      " - Hypers: [[900, 78, 2], 4, 1.2296296296296296]\n",
      " - Accuracy: 0.9525\n",
      " - Time: 419.82\n",
      "# Current Model (66/125)\n",
      " - Hypers: [[900, 157, 2], 1, 0.8197530864197531]\n",
      " - Trial 0/1\n"
     ]
    },
    {
     "name": "stderr",
     "output_type": "stream",
     "text": [
      "100%|██████████| 81/81 [08:06<00:00,  6.00s/it]\n"
     ]
    },
    {
     "name": "stdout",
     "output_type": "stream",
     "text": [
      " - Accuracy: 0.91\n",
      " - Time: 486.25 sec\n",
      "\n",
      "# Best Model:  0.9525\n",
      " - Hypers: [[900, 78, 2], 4, 1.2296296296296296]\n",
      " - Accuracy: 0.9525\n",
      " - Time: 419.82\n",
      "# Current Model (67/125)\n",
      " - Hypers: [[900, 157, 2], 1, 1.6395061728395062]\n",
      " - Trial 0/1\n"
     ]
    },
    {
     "name": "stderr",
     "output_type": "stream",
     "text": [
      "100%|██████████| 81/81 [07:47<00:00,  5.77s/it]\n"
     ]
    },
    {
     "name": "stdout",
     "output_type": "stream",
     "text": [
      " - Accuracy: 0.88625\n",
      " - Time: 467.15 sec\n",
      "\n",
      "# Best Model:  0.9525\n",
      " - Hypers: [[900, 78, 2], 4, 1.2296296296296296]\n",
      " - Accuracy: 0.9525\n",
      " - Time: 419.82\n",
      "# Current Model (68/125)\n",
      " - Hypers: [[900, 157, 2], 1, 0.40987654320987654]\n",
      " - Trial 0/1\n"
     ]
    },
    {
     "name": "stderr",
     "output_type": "stream",
     "text": [
      "100%|██████████| 81/81 [07:51<00:00,  5.82s/it]\n"
     ]
    },
    {
     "name": "stdout",
     "output_type": "stream",
     "text": [
      " - Accuracy: 0.91875\n",
      " - Time: 471.14 sec\n",
      "\n",
      "# Best Model:  0.9525\n",
      " - Hypers: [[900, 78, 2], 4, 1.2296296296296296]\n",
      " - Accuracy: 0.9525\n",
      " - Time: 419.82\n",
      "# Current Model (69/125)\n",
      " - Hypers: [[900, 157, 2], 1, 2.049382716049383]\n",
      " - Trial 0/1\n"
     ]
    },
    {
     "name": "stderr",
     "output_type": "stream",
     "text": [
      "100%|██████████| 81/81 [07:42<00:00,  5.71s/it]\n"
     ]
    },
    {
     "name": "stdout",
     "output_type": "stream",
     "text": [
      " - Accuracy: 0.8775\n",
      " - Time: 462.52 sec\n",
      "\n",
      "# Best Model:  0.9525\n",
      " - Hypers: [[900, 78, 2], 4, 1.2296296296296296]\n",
      " - Accuracy: 0.9525\n",
      " - Time: 419.82\n",
      "# Current Model (70/125)\n",
      " - Hypers: [[900, 157, 2], 6, 1.2296296296296296]\n",
      " - Trial 0/1\n"
     ]
    },
    {
     "name": "stderr",
     "output_type": "stream",
     "text": [
      "100%|██████████| 81/81 [07:03<00:00,  5.23s/it]\n"
     ]
    },
    {
     "name": "stdout",
     "output_type": "stream",
     "text": [
      " - Accuracy: 0.925\n",
      " - Time: 423.87 sec\n",
      "\n",
      "# Best Model:  0.9525\n",
      " - Hypers: [[900, 78, 2], 4, 1.2296296296296296]\n",
      " - Accuracy: 0.9525\n",
      " - Time: 419.82\n",
      "# Current Model (71/125)\n",
      " - Hypers: [[900, 157, 2], 6, 0.8197530864197531]\n",
      " - Trial 0/1\n"
     ]
    },
    {
     "name": "stderr",
     "output_type": "stream",
     "text": [
      "100%|██████████| 81/81 [06:35<00:00,  4.88s/it]\n"
     ]
    },
    {
     "name": "stdout",
     "output_type": "stream",
     "text": [
      " - Accuracy: 0.915\n",
      " - Time: 395.37 sec\n",
      "\n",
      "# Best Model:  0.9525\n",
      " - Hypers: [[900, 78, 2], 4, 1.2296296296296296]\n",
      " - Accuracy: 0.9525\n",
      " - Time: 419.82\n",
      "# Current Model (72/125)\n",
      " - Hypers: [[900, 157, 2], 6, 1.6395061728395062]\n",
      " - Trial 0/1\n"
     ]
    },
    {
     "name": "stderr",
     "output_type": "stream",
     "text": [
      "100%|██████████| 81/81 [06:40<00:00,  4.95s/it]\n"
     ]
    },
    {
     "name": "stdout",
     "output_type": "stream",
     "text": [
      " - Accuracy: 0.935\n",
      " - Time: 400.71 sec\n",
      "\n",
      "# Best Model:  0.9525\n",
      " - Hypers: [[900, 78, 2], 4, 1.2296296296296296]\n",
      " - Accuracy: 0.9525\n",
      " - Time: 419.82\n",
      "# Current Model (73/125)\n",
      " - Hypers: [[900, 157, 2], 6, 0.40987654320987654]\n",
      " - Trial 0/1\n"
     ]
    },
    {
     "name": "stderr",
     "output_type": "stream",
     "text": [
      "100%|██████████| 81/81 [06:41<00:00,  4.96s/it]\n"
     ]
    },
    {
     "name": "stdout",
     "output_type": "stream",
     "text": [
      " - Accuracy: 0.915\n",
      " - Time: 401.83 sec\n",
      "\n",
      "# Best Model:  0.9525\n",
      " - Hypers: [[900, 78, 2], 4, 1.2296296296296296]\n",
      " - Accuracy: 0.9525\n",
      " - Time: 419.82\n",
      "# Current Model (74/125)\n",
      " - Hypers: [[900, 157, 2], 6, 2.049382716049383]\n",
      " - Trial 0/1\n"
     ]
    },
    {
     "name": "stderr",
     "output_type": "stream",
     "text": [
      "100%|██████████| 81/81 [07:02<00:00,  5.21s/it]\n"
     ]
    },
    {
     "name": "stdout",
     "output_type": "stream",
     "text": [
      " - Accuracy: 0.92625\n",
      " - Time: 422.3 sec\n",
      "\n",
      "# Best Model:  0.9525\n",
      " - Hypers: [[900, 78, 2], 4, 1.2296296296296296]\n",
      " - Accuracy: 0.9525\n",
      " - Time: 419.82\n",
      "# Current Model (75/125)\n",
      " - Hypers: [[900, 39, 2], 4, 1.2296296296296296]\n",
      " - Trial 0/1\n"
     ]
    },
    {
     "name": "stderr",
     "output_type": "stream",
     "text": [
      "100%|██████████| 81/81 [06:58<00:00,  5.16s/it]\n"
     ]
    },
    {
     "name": "stdout",
     "output_type": "stream",
     "text": [
      " - Accuracy: 0.92625\n",
      " - Time: 418.05 sec\n",
      "\n",
      "# Best Model:  0.9525\n",
      " - Hypers: [[900, 78, 2], 4, 1.2296296296296296]\n",
      " - Accuracy: 0.9525\n",
      " - Time: 419.82\n",
      "# Current Model (76/125)\n",
      " - Hypers: [[900, 39, 2], 4, 0.8197530864197531]\n",
      " - Trial 0/1\n"
     ]
    },
    {
     "name": "stderr",
     "output_type": "stream",
     "text": [
      "100%|██████████| 81/81 [06:42<00:00,  4.97s/it]\n"
     ]
    },
    {
     "name": "stdout",
     "output_type": "stream",
     "text": [
      " - Accuracy: 0.93875\n",
      " - Time: 402.72 sec\n",
      "\n",
      "# Best Model:  0.9525\n",
      " - Hypers: [[900, 78, 2], 4, 1.2296296296296296]\n",
      " - Accuracy: 0.9525\n",
      " - Time: 419.82\n",
      "# Current Model (77/125)\n",
      " - Hypers: [[900, 39, 2], 4, 1.6395061728395062]\n",
      " - Trial 0/1\n"
     ]
    },
    {
     "name": "stderr",
     "output_type": "stream",
     "text": [
      "100%|██████████| 81/81 [06:57<00:00,  5.16s/it]\n"
     ]
    },
    {
     "name": "stdout",
     "output_type": "stream",
     "text": [
      " - Accuracy: 0.93625\n",
      " - Time: 417.66 sec\n",
      "\n",
      "# Best Model:  0.9525\n",
      " - Hypers: [[900, 78, 2], 4, 1.2296296296296296]\n",
      " - Accuracy: 0.9525\n",
      " - Time: 419.82\n",
      "# Current Model (78/125)\n",
      " - Hypers: [[900, 39, 2], 4, 0.40987654320987654]\n",
      " - Trial 0/1\n"
     ]
    },
    {
     "name": "stderr",
     "output_type": "stream",
     "text": [
      "100%|██████████| 81/81 [07:03<00:00,  5.23s/it]\n"
     ]
    },
    {
     "name": "stdout",
     "output_type": "stream",
     "text": [
      " - Accuracy: 0.9125\n",
      " - Time: 423.36 sec\n",
      "\n",
      "# Best Model:  0.9525\n",
      " - Hypers: [[900, 78, 2], 4, 1.2296296296296296]\n",
      " - Accuracy: 0.9525\n",
      " - Time: 419.82\n",
      "# Current Model (79/125)\n",
      " - Hypers: [[900, 39, 2], 4, 2.049382716049383]\n",
      " - Trial 0/1\n"
     ]
    },
    {
     "name": "stderr",
     "output_type": "stream",
     "text": [
      "100%|██████████| 81/81 [07:06<00:00,  5.26s/it]\n"
     ]
    },
    {
     "name": "stdout",
     "output_type": "stream",
     "text": [
      " - Accuracy: 0.93375\n",
      " - Time: 426.4 sec\n",
      "\n",
      "# Best Model:  0.9525\n",
      " - Hypers: [[900, 78, 2], 4, 1.2296296296296296]\n",
      " - Accuracy: 0.9525\n",
      " - Time: 419.82\n",
      "# Current Model (80/125)\n",
      " - Hypers: [[900, 39, 2], 2, 1.2296296296296296]\n",
      " - Trial 0/1\n"
     ]
    },
    {
     "name": "stderr",
     "output_type": "stream",
     "text": [
      "100%|██████████| 81/81 [07:09<00:00,  5.30s/it]\n"
     ]
    },
    {
     "name": "stdout",
     "output_type": "stream",
     "text": [
      " - Accuracy: 0.92\n",
      " - Time: 429.26 sec\n",
      "\n",
      "# Best Model:  0.9525\n",
      " - Hypers: [[900, 78, 2], 4, 1.2296296296296296]\n",
      " - Accuracy: 0.9525\n",
      " - Time: 419.82\n",
      "# Current Model (81/125)\n",
      " - Hypers: [[900, 39, 2], 2, 0.8197530864197531]\n",
      " - Trial 0/1\n"
     ]
    },
    {
     "name": "stderr",
     "output_type": "stream",
     "text": [
      "100%|██████████| 81/81 [07:05<00:00,  5.25s/it]\n"
     ]
    },
    {
     "name": "stdout",
     "output_type": "stream",
     "text": [
      " - Accuracy: 0.93125\n",
      " - Time: 425.38 sec\n",
      "\n",
      "# Best Model:  0.9525\n",
      " - Hypers: [[900, 78, 2], 4, 1.2296296296296296]\n",
      " - Accuracy: 0.9525\n",
      " - Time: 419.82\n",
      "# Current Model (82/125)\n",
      " - Hypers: [[900, 39, 2], 2, 1.6395061728395062]\n",
      " - Trial 0/1\n"
     ]
    },
    {
     "name": "stderr",
     "output_type": "stream",
     "text": [
      "100%|██████████| 81/81 [07:04<00:00,  5.24s/it]\n"
     ]
    },
    {
     "name": "stdout",
     "output_type": "stream",
     "text": [
      " - Accuracy: 0.9325\n",
      " - Time: 424.24 sec\n",
      "\n",
      "# Best Model:  0.9525\n",
      " - Hypers: [[900, 78, 2], 4, 1.2296296296296296]\n",
      " - Accuracy: 0.9525\n",
      " - Time: 419.82\n",
      "# Current Model (83/125)\n",
      " - Hypers: [[900, 39, 2], 2, 0.40987654320987654]\n",
      " - Trial 0/1\n"
     ]
    },
    {
     "name": "stderr",
     "output_type": "stream",
     "text": [
      "100%|██████████| 81/81 [07:07<00:00,  5.28s/it]\n"
     ]
    },
    {
     "name": "stdout",
     "output_type": "stream",
     "text": [
      " - Accuracy: 0.92375\n",
      " - Time: 427.53 sec\n",
      "\n",
      "# Best Model:  0.9525\n",
      " - Hypers: [[900, 78, 2], 4, 1.2296296296296296]\n",
      " - Accuracy: 0.9525\n",
      " - Time: 419.82\n",
      "# Current Model (84/125)\n",
      " - Hypers: [[900, 39, 2], 2, 2.049382716049383]\n",
      " - Trial 0/1\n"
     ]
    },
    {
     "name": "stderr",
     "output_type": "stream",
     "text": [
      "100%|██████████| 81/81 [07:05<00:00,  5.26s/it]\n"
     ]
    },
    {
     "name": "stdout",
     "output_type": "stream",
     "text": [
      " - Accuracy: 0.90375\n",
      " - Time: 425.94 sec\n",
      "\n",
      "# Best Model:  0.9525\n",
      " - Hypers: [[900, 78, 2], 4, 1.2296296296296296]\n",
      " - Accuracy: 0.9525\n",
      " - Time: 419.82\n",
      "# Current Model (85/125)\n",
      " - Hypers: [[900, 39, 2], 5, 1.2296296296296296]\n",
      " - Trial 0/1\n"
     ]
    },
    {
     "name": "stderr",
     "output_type": "stream",
     "text": [
      "100%|██████████| 81/81 [06:42<00:00,  4.96s/it]\n"
     ]
    },
    {
     "name": "stdout",
     "output_type": "stream",
     "text": [
      " - Accuracy: 0.9375\n",
      " - Time: 402.09 sec\n",
      "\n",
      "# Best Model:  0.9525\n",
      " - Hypers: [[900, 78, 2], 4, 1.2296296296296296]\n",
      " - Accuracy: 0.9525\n",
      " - Time: 419.82\n",
      "# Current Model (86/125)\n",
      " - Hypers: [[900, 39, 2], 5, 0.8197530864197531]\n",
      " - Trial 0/1\n"
     ]
    },
    {
     "name": "stderr",
     "output_type": "stream",
     "text": [
      "100%|██████████| 81/81 [06:39<00:00,  4.94s/it]\n"
     ]
    },
    {
     "name": "stdout",
     "output_type": "stream",
     "text": [
      " - Accuracy: 0.92625\n",
      " - Time: 399.74 sec\n",
      "\n",
      "# Best Model:  0.9525\n",
      " - Hypers: [[900, 78, 2], 4, 1.2296296296296296]\n",
      " - Accuracy: 0.9525\n",
      " - Time: 419.82\n",
      "# Current Model (87/125)\n",
      " - Hypers: [[900, 39, 2], 5, 1.6395061728395062]\n",
      " - Trial 0/1\n"
     ]
    },
    {
     "name": "stderr",
     "output_type": "stream",
     "text": [
      "100%|██████████| 81/81 [07:11<00:00,  5.32s/it]\n"
     ]
    },
    {
     "name": "stdout",
     "output_type": "stream",
     "text": [
      " - Accuracy: 0.9425\n",
      " - Time: 431.03 sec\n",
      "\n",
      "# Best Model:  0.9525\n",
      " - Hypers: [[900, 78, 2], 4, 1.2296296296296296]\n",
      " - Accuracy: 0.9525\n",
      " - Time: 419.82\n",
      "# Current Model (88/125)\n",
      " - Hypers: [[900, 39, 2], 5, 0.40987654320987654]\n",
      " - Trial 0/1\n"
     ]
    },
    {
     "name": "stderr",
     "output_type": "stream",
     "text": [
      "100%|██████████| 81/81 [07:51<00:00,  5.83s/it]\n"
     ]
    },
    {
     "name": "stdout",
     "output_type": "stream",
     "text": [
      " - Accuracy: 0.91375\n",
      " - Time: 471.9 sec\n",
      "\n",
      "# Best Model:  0.9525\n",
      " - Hypers: [[900, 78, 2], 4, 1.2296296296296296]\n",
      " - Accuracy: 0.9525\n",
      " - Time: 419.82\n",
      "# Current Model (89/125)\n",
      " - Hypers: [[900, 39, 2], 5, 2.049382716049383]\n",
      " - Trial 0/1\n"
     ]
    },
    {
     "name": "stderr",
     "output_type": "stream",
     "text": [
      "100%|██████████| 81/81 [07:50<00:00,  5.81s/it]\n"
     ]
    },
    {
     "name": "stdout",
     "output_type": "stream",
     "text": [
      " - Accuracy: 0.945\n",
      " - Time: 470.38 sec\n",
      "\n",
      "# Best Model:  0.9525\n",
      " - Hypers: [[900, 78, 2], 4, 1.2296296296296296]\n",
      " - Accuracy: 0.9525\n",
      " - Time: 419.82\n",
      "# Current Model (90/125)\n",
      " - Hypers: [[900, 39, 2], 1, 1.2296296296296296]\n",
      " - Trial 0/1\n"
     ]
    },
    {
     "name": "stderr",
     "output_type": "stream",
     "text": [
      "100%|██████████| 81/81 [09:12<00:00,  6.82s/it]\n"
     ]
    },
    {
     "name": "stdout",
     "output_type": "stream",
     "text": [
      " - Accuracy: 0.90625\n",
      " - Time: 552.03 sec\n",
      "\n",
      "# Best Model:  0.9525\n",
      " - Hypers: [[900, 78, 2], 4, 1.2296296296296296]\n",
      " - Accuracy: 0.9525\n",
      " - Time: 419.82\n",
      "# Current Model (91/125)\n",
      " - Hypers: [[900, 39, 2], 1, 0.8197530864197531]\n",
      " - Trial 0/1\n"
     ]
    },
    {
     "name": "stderr",
     "output_type": "stream",
     "text": [
      "100%|██████████| 81/81 [09:02<00:00,  6.70s/it]\n"
     ]
    },
    {
     "name": "stdout",
     "output_type": "stream",
     "text": [
      " - Accuracy: 0.92375\n",
      " - Time: 542.95 sec\n",
      "\n",
      "# Best Model:  0.9525\n",
      " - Hypers: [[900, 78, 2], 4, 1.2296296296296296]\n",
      " - Accuracy: 0.9525\n",
      " - Time: 419.82\n",
      "# Current Model (92/125)\n",
      " - Hypers: [[900, 39, 2], 1, 1.6395061728395062]\n",
      " - Trial 0/1\n"
     ]
    },
    {
     "name": "stderr",
     "output_type": "stream",
     "text": [
      "100%|██████████| 81/81 [09:03<00:00,  6.71s/it]\n"
     ]
    },
    {
     "name": "stdout",
     "output_type": "stream",
     "text": [
      " - Accuracy: 0.91125\n",
      " - Time: 543.3 sec\n",
      "\n",
      "# Best Model:  0.9525\n",
      " - Hypers: [[900, 78, 2], 4, 1.2296296296296296]\n",
      " - Accuracy: 0.9525\n",
      " - Time: 419.82\n",
      "# Current Model (93/125)\n",
      " - Hypers: [[900, 39, 2], 1, 0.40987654320987654]\n",
      " - Trial 0/1\n"
     ]
    },
    {
     "name": "stderr",
     "output_type": "stream",
     "text": [
      "100%|██████████| 81/81 [09:05<00:00,  6.73s/it]\n"
     ]
    },
    {
     "name": "stdout",
     "output_type": "stream",
     "text": [
      " - Accuracy: 0.93875\n",
      " - Time: 545.4 sec\n",
      "\n",
      "# Best Model:  0.9525\n",
      " - Hypers: [[900, 78, 2], 4, 1.2296296296296296]\n",
      " - Accuracy: 0.9525\n",
      " - Time: 419.82\n",
      "# Current Model (94/125)\n",
      " - Hypers: [[900, 39, 2], 1, 2.049382716049383]\n",
      " - Trial 0/1\n"
     ]
    },
    {
     "name": "stderr",
     "output_type": "stream",
     "text": [
      "100%|██████████| 81/81 [09:08<00:00,  6.77s/it]\n"
     ]
    },
    {
     "name": "stdout",
     "output_type": "stream",
     "text": [
      " - Accuracy: 0.91625\n",
      " - Time: 548.5 sec\n",
      "\n",
      "# Best Model:  0.9525\n",
      " - Hypers: [[900, 78, 2], 4, 1.2296296296296296]\n",
      " - Accuracy: 0.9525\n",
      " - Time: 419.82\n",
      "# Current Model (95/125)\n",
      " - Hypers: [[900, 39, 2], 6, 1.2296296296296296]\n",
      " - Trial 0/1\n"
     ]
    },
    {
     "name": "stderr",
     "output_type": "stream",
     "text": [
      "100%|██████████| 81/81 [07:49<00:00,  5.80s/it]\n"
     ]
    },
    {
     "name": "stdout",
     "output_type": "stream",
     "text": [
      " - Accuracy: 0.93\n",
      " - Time: 469.88 sec\n",
      "\n",
      "# Best Model:  0.9525\n",
      " - Hypers: [[900, 78, 2], 4, 1.2296296296296296]\n",
      " - Accuracy: 0.9525\n",
      " - Time: 419.82\n",
      "# Current Model (96/125)\n",
      " - Hypers: [[900, 39, 2], 6, 0.8197530864197531]\n",
      " - Trial 0/1\n"
     ]
    },
    {
     "name": "stderr",
     "output_type": "stream",
     "text": [
      "100%|██████████| 81/81 [07:55<00:00,  5.87s/it]\n"
     ]
    },
    {
     "name": "stdout",
     "output_type": "stream",
     "text": [
      " - Accuracy: 0.92\n",
      " - Time: 475.85 sec\n",
      "\n",
      "# Best Model:  0.9525\n",
      " - Hypers: [[900, 78, 2], 4, 1.2296296296296296]\n",
      " - Accuracy: 0.9525\n",
      " - Time: 419.82\n",
      "# Current Model (97/125)\n",
      " - Hypers: [[900, 39, 2], 6, 1.6395061728395062]\n",
      " - Trial 0/1\n"
     ]
    },
    {
     "name": "stderr",
     "output_type": "stream",
     "text": [
      "100%|██████████| 81/81 [07:54<00:00,  5.86s/it]\n"
     ]
    },
    {
     "name": "stdout",
     "output_type": "stream",
     "text": [
      " - Accuracy: 0.93\n",
      " - Time: 474.43 sec\n",
      "\n",
      "# Best Model:  0.9525\n",
      " - Hypers: [[900, 78, 2], 4, 1.2296296296296296]\n",
      " - Accuracy: 0.9525\n",
      " - Time: 419.82\n",
      "# Current Model (98/125)\n",
      " - Hypers: [[900, 39, 2], 6, 0.40987654320987654]\n",
      " - Trial 0/1\n"
     ]
    },
    {
     "name": "stderr",
     "output_type": "stream",
     "text": [
      "100%|██████████| 81/81 [07:54<00:00,  5.86s/it]\n"
     ]
    },
    {
     "name": "stdout",
     "output_type": "stream",
     "text": [
      " - Accuracy: 0.91875\n",
      " - Time: 474.7 sec\n",
      "\n",
      "# Best Model:  0.9525\n",
      " - Hypers: [[900, 78, 2], 4, 1.2296296296296296]\n",
      " - Accuracy: 0.9525\n",
      " - Time: 419.82\n",
      "# Current Model (99/125)\n",
      " - Hypers: [[900, 39, 2], 6, 2.049382716049383]\n",
      " - Trial 0/1\n"
     ]
    },
    {
     "name": "stderr",
     "output_type": "stream",
     "text": [
      "100%|██████████| 81/81 [07:43<00:00,  5.72s/it]\n"
     ]
    },
    {
     "name": "stdout",
     "output_type": "stream",
     "text": [
      " - Accuracy: 0.93375\n",
      " - Time: 463.39 sec\n",
      "\n",
      "# Best Model:  0.9525\n",
      " - Hypers: [[900, 78, 2], 4, 1.2296296296296296]\n",
      " - Accuracy: 0.9525\n",
      " - Time: 419.82\n",
      "# Current Model (100/125)\n",
      " - Hypers: [[900, 196, 2], 4, 1.2296296296296296]\n",
      " - Trial 0/1\n"
     ]
    },
    {
     "name": "stderr",
     "output_type": "stream",
     "text": [
      "100%|██████████| 81/81 [07:53<00:00,  5.85s/it]\n"
     ]
    },
    {
     "name": "stdout",
     "output_type": "stream",
     "text": [
      " - Accuracy: 0.925\n",
      " - Time: 473.45 sec\n",
      "\n",
      "# Best Model:  0.9525\n",
      " - Hypers: [[900, 78, 2], 4, 1.2296296296296296]\n",
      " - Accuracy: 0.9525\n",
      " - Time: 419.82\n",
      "# Current Model (101/125)\n",
      " - Hypers: [[900, 196, 2], 4, 0.8197530864197531]\n",
      " - Trial 0/1\n"
     ]
    },
    {
     "name": "stderr",
     "output_type": "stream",
     "text": [
      "100%|██████████| 81/81 [07:47<00:00,  5.78s/it]\n"
     ]
    },
    {
     "name": "stdout",
     "output_type": "stream",
     "text": [
      " - Accuracy: 0.945\n",
      " - Time: 467.89 sec\n",
      "\n",
      "# Best Model:  0.9525\n",
      " - Hypers: [[900, 78, 2], 4, 1.2296296296296296]\n",
      " - Accuracy: 0.9525\n",
      " - Time: 419.82\n",
      "# Current Model (102/125)\n",
      " - Hypers: [[900, 196, 2], 4, 1.6395061728395062]\n",
      " - Trial 0/1\n"
     ]
    },
    {
     "name": "stderr",
     "output_type": "stream",
     "text": [
      "100%|██████████| 81/81 [07:39<00:00,  5.67s/it]\n"
     ]
    },
    {
     "name": "stdout",
     "output_type": "stream",
     "text": [
      " - Accuracy: 0.94125\n",
      " - Time: 459.3 sec\n",
      "\n",
      "# Best Model:  0.9525\n",
      " - Hypers: [[900, 78, 2], 4, 1.2296296296296296]\n",
      " - Accuracy: 0.9525\n",
      " - Time: 419.82\n",
      "# Current Model (103/125)\n",
      " - Hypers: [[900, 196, 2], 4, 0.40987654320987654]\n",
      " - Trial 0/1\n"
     ]
    },
    {
     "name": "stderr",
     "output_type": "stream",
     "text": [
      "100%|██████████| 81/81 [07:48<00:00,  5.78s/it]\n"
     ]
    },
    {
     "name": "stdout",
     "output_type": "stream",
     "text": [
      " - Accuracy: 0.92625\n",
      " - Time: 468.47 sec\n",
      "\n",
      "# Best Model:  0.9525\n",
      " - Hypers: [[900, 78, 2], 4, 1.2296296296296296]\n",
      " - Accuracy: 0.9525\n",
      " - Time: 419.82\n",
      "# Current Model (104/125)\n",
      " - Hypers: [[900, 196, 2], 4, 2.049382716049383]\n",
      " - Trial 0/1\n"
     ]
    },
    {
     "name": "stderr",
     "output_type": "stream",
     "text": [
      "100%|██████████| 81/81 [07:46<00:00,  5.75s/it]\n"
     ]
    },
    {
     "name": "stdout",
     "output_type": "stream",
     "text": [
      " - Accuracy: 0.8775\n",
      " - Time: 466.08 sec\n",
      "\n",
      "# Best Model:  0.9525\n",
      " - Hypers: [[900, 78, 2], 4, 1.2296296296296296]\n",
      " - Accuracy: 0.9525\n",
      " - Time: 419.82\n",
      "# Current Model (105/125)\n",
      " - Hypers: [[900, 196, 2], 2, 1.2296296296296296]\n",
      " - Trial 0/1\n"
     ]
    },
    {
     "name": "stderr",
     "output_type": "stream",
     "text": [
      "100%|██████████| 81/81 [08:14<00:00,  6.11s/it]\n"
     ]
    },
    {
     "name": "stdout",
     "output_type": "stream",
     "text": [
      " - Accuracy: 0.91125\n",
      " - Time: 494.54 sec\n",
      "\n",
      "# Best Model:  0.9525\n",
      " - Hypers: [[900, 78, 2], 4, 1.2296296296296296]\n",
      " - Accuracy: 0.9525\n",
      " - Time: 419.82\n",
      "# Current Model (106/125)\n",
      " - Hypers: [[900, 196, 2], 2, 0.8197530864197531]\n",
      " - Trial 0/1\n"
     ]
    },
    {
     "name": "stderr",
     "output_type": "stream",
     "text": [
      "100%|██████████| 81/81 [08:12<00:00,  6.09s/it]\n"
     ]
    },
    {
     "name": "stdout",
     "output_type": "stream",
     "text": [
      " - Accuracy: 0.9275\n",
      " - Time: 492.98 sec\n",
      "\n",
      "# Best Model:  0.9525\n",
      " - Hypers: [[900, 78, 2], 4, 1.2296296296296296]\n",
      " - Accuracy: 0.9525\n",
      " - Time: 419.82\n",
      "# Current Model (107/125)\n",
      " - Hypers: [[900, 196, 2], 2, 1.6395061728395062]\n",
      " - Trial 0/1\n"
     ]
    },
    {
     "name": "stderr",
     "output_type": "stream",
     "text": [
      "100%|██████████| 81/81 [08:16<00:00,  6.14s/it]\n"
     ]
    },
    {
     "name": "stdout",
     "output_type": "stream",
     "text": [
      " - Accuracy: 0.905\n",
      " - Time: 496.98 sec\n",
      "\n",
      "# Best Model:  0.9525\n",
      " - Hypers: [[900, 78, 2], 4, 1.2296296296296296]\n",
      " - Accuracy: 0.9525\n",
      " - Time: 419.82\n",
      "# Current Model (108/125)\n",
      " - Hypers: [[900, 196, 2], 2, 0.40987654320987654]\n",
      " - Trial 0/1\n"
     ]
    },
    {
     "name": "stderr",
     "output_type": "stream",
     "text": [
      " 57%|█████▋    | 46/81 [04:33<03:28,  5.95s/it]\n"
     ]
    },
    {
     "ename": "KeyboardInterrupt",
     "evalue": "",
     "output_type": "error",
     "traceback": [
      "\u001b[0;31m---------------------------------------------------------------------------\u001b[0m",
      "\u001b[0;31mKeyboardInterrupt\u001b[0m                         Traceback (most recent call last)",
      "\u001b[0;32m/tmp/ipykernel_790056/4182852216.py\u001b[0m in \u001b[0;36m<module>\u001b[0;34m\u001b[0m\n\u001b[1;32m     13\u001b[0m \u001b[0;34m\u001b[0m\u001b[0m\n\u001b[1;32m     14\u001b[0m \u001b[0;34m\u001b[0m\u001b[0m\n\u001b[0;32m---> 15\u001b[0;31m \u001b[0mrun_hyperband_tuning\u001b[0m\u001b[0;34m(\u001b[0m\u001b[0;34m)\u001b[0m\u001b[0;34m\u001b[0m\u001b[0;34m\u001b[0m\u001b[0m\n\u001b[0m",
      "\u001b[0;32m/tmp/ipykernel_790056/4182852216.py\u001b[0m in \u001b[0;36mrun_hyperband_tuning\u001b[0;34m()\u001b[0m\n\u001b[1;32m      8\u001b[0m     \u001b[0mht\u001b[0m \u001b[0;34m=\u001b[0m \u001b[0mHyperbandTuner\u001b[0m\u001b[0;34m(\u001b[0m\u001b[0mBPNN\u001b[0m\u001b[0;34m,\u001b[0m \u001b[0mnum_trials\u001b[0m\u001b[0;34m=\u001b[0m\u001b[0;36m1\u001b[0m\u001b[0;34m,\u001b[0m \u001b[0mmax_epochs\u001b[0m\u001b[0;34m=\u001b[0m\u001b[0;36m100\u001b[0m\u001b[0;34m,\u001b[0m \u001b[0meta\u001b[0m\u001b[0;34m=\u001b[0m\u001b[0;36m3\u001b[0m\u001b[0;34m)\u001b[0m\u001b[0;34m\u001b[0m\u001b[0;34m\u001b[0m\u001b[0m\n\u001b[1;32m      9\u001b[0m \u001b[0;34m\u001b[0m\u001b[0m\n\u001b[0;32m---> 10\u001b[0;31m     \u001b[0mht\u001b[0m\u001b[0;34m.\u001b[0m\u001b[0mtune\u001b[0m\u001b[0;34m(\u001b[0m\u001b[0;34m[\u001b[0m\u001b[0mndimen\u001b[0m\u001b[0;34m,\u001b[0m \u001b[0;36m160\u001b[0m\u001b[0;34m,\u001b[0m \u001b[0;36m2\u001b[0m\u001b[0;34m]\u001b[0m\u001b[0;34m,\u001b[0m \u001b[0;36m10\u001b[0m\u001b[0;34m,\u001b[0m \u001b[0;36m0.83\u001b[0m\u001b[0;34m)\u001b[0m\u001b[0;34m\u001b[0m\u001b[0;34m\u001b[0m\u001b[0m\n\u001b[0m\u001b[1;32m     11\u001b[0m \u001b[0;34m\u001b[0m\u001b[0m\n\u001b[1;32m     12\u001b[0m     \u001b[0;31m# print(ht.get_best_hyperparameters())\u001b[0m\u001b[0;34m\u001b[0m\u001b[0;34m\u001b[0m\u001b[0;34m\u001b[0m\u001b[0m\n",
      "\u001b[0;32m/mnt/D/GitHub/classes/CS522/CS522-TeamProject/HyperbandTuner.py\u001b[0m in \u001b[0;36mtune\u001b[0;34m(self, init_nc, init_b, init_lr)\u001b[0m\n\u001b[1;32m    116\u001b[0m \u001b[0;34m\u001b[0m\u001b[0m\n\u001b[1;32m    117\u001b[0m                 \u001b[0;31m# Run the trials\u001b[0m\u001b[0;34m\u001b[0m\u001b[0;34m\u001b[0m\u001b[0;34m\u001b[0m\u001b[0m\n\u001b[0;32m--> 118\u001b[0;31m                 final_score, epoch_scores, conv_time = self.run_trials(\n\u001b[0m\u001b[1;32m    119\u001b[0m                     tr, va, hyper[0], hyper[1], hyper[2], epochs)\n\u001b[1;32m    120\u001b[0m \u001b[0;34m\u001b[0m\u001b[0m\n",
      "\u001b[0;32m/mnt/D/GitHub/classes/CS522/CS522-TeamProject/HyperbandTuner.py\u001b[0m in \u001b[0;36mrun_trials\u001b[0;34m(self, tr, va, nc, b, lr, epochs)\u001b[0m\n\u001b[1;32m     64\u001b[0m             \u001b[0;31m# Get data and train the network\u001b[0m\u001b[0;34m\u001b[0m\u001b[0;34m\u001b[0m\u001b[0;34m\u001b[0m\u001b[0m\n\u001b[1;32m     65\u001b[0m             \u001b[0mnn\u001b[0m \u001b[0;34m=\u001b[0m \u001b[0mBPNN\u001b[0m\u001b[0;34m(\u001b[0m\u001b[0mnc\u001b[0m\u001b[0;34m,\u001b[0m \u001b[0mverbose\u001b[0m\u001b[0;34m=\u001b[0m\u001b[0;32mFalse\u001b[0m\u001b[0;34m)\u001b[0m\u001b[0;34m\u001b[0m\u001b[0;34m\u001b[0m\u001b[0m\n\u001b[0;32m---> 66\u001b[0;31m             final_score, eval_scores, eval_scores_deltas, conv_time = nn.train(tr,\n\u001b[0m\u001b[1;32m     67\u001b[0m                                                                                \u001b[0mmax_epochs\u001b[0m\u001b[0;34m=\u001b[0m\u001b[0mepochs\u001b[0m\u001b[0;34m,\u001b[0m\u001b[0;34m\u001b[0m\u001b[0;34m\u001b[0m\u001b[0m\n\u001b[1;32m     68\u001b[0m                                                                                \u001b[0mbatch_size\u001b[0m\u001b[0;34m=\u001b[0m\u001b[0mb\u001b[0m\u001b[0;34m,\u001b[0m\u001b[0;34m\u001b[0m\u001b[0;34m\u001b[0m\u001b[0m\n",
      "\u001b[0;32m/mnt/D/GitHub/classes/CS522/CS522-TeamProject/bpnn_cuda.py\u001b[0m in \u001b[0;36mtrain\u001b[0;34m(self, training_data, max_epochs, batch_size, learning_rate, evaluation_data, evaluation_treshold)\u001b[0m\n\u001b[1;32m     98\u001b[0m             \u001b[0;31m# For each mini batch run the update function\u001b[0m\u001b[0;34m\u001b[0m\u001b[0;34m\u001b[0m\u001b[0;34m\u001b[0m\u001b[0m\n\u001b[1;32m     99\u001b[0m             \u001b[0;32mfor\u001b[0m \u001b[0mbatch\u001b[0m \u001b[0;32min\u001b[0m \u001b[0mbatches\u001b[0m\u001b[0;34m:\u001b[0m\u001b[0;34m\u001b[0m\u001b[0;34m\u001b[0m\u001b[0m\n\u001b[0;32m--> 100\u001b[0;31m                 \u001b[0mself\u001b[0m\u001b[0;34m.\u001b[0m\u001b[0mupdate_batch\u001b[0m\u001b[0;34m(\u001b[0m\u001b[0mbatch\u001b[0m\u001b[0;34m,\u001b[0m \u001b[0mlearning_rate\u001b[0m\u001b[0;34m)\u001b[0m\u001b[0;34m\u001b[0m\u001b[0;34m\u001b[0m\u001b[0m\n\u001b[0m\u001b[1;32m    101\u001b[0m \u001b[0;34m\u001b[0m\u001b[0m\n\u001b[1;32m    102\u001b[0m             \u001b[0;31m# Print mini-batch evalutaion on testing data\u001b[0m\u001b[0;34m\u001b[0m\u001b[0;34m\u001b[0m\u001b[0;34m\u001b[0m\u001b[0m\n",
      "\u001b[0;32m/mnt/D/GitHub/classes/CS522/CS522-TeamProject/bpnn_cuda.py\u001b[0m in \u001b[0;36mupdate_batch\u001b[0;34m(self, batch, learning_rate)\u001b[0m\n\u001b[1;32m    148\u001b[0m         \u001b[0;32mfor\u001b[0m \u001b[0mx\u001b[0m\u001b[0;34m,\u001b[0m \u001b[0my\u001b[0m \u001b[0;32min\u001b[0m \u001b[0mbatch\u001b[0m\u001b[0;34m:\u001b[0m\u001b[0;34m\u001b[0m\u001b[0;34m\u001b[0m\u001b[0m\n\u001b[1;32m    149\u001b[0m             \u001b[0;31m# Use back propagation to get the change in weights and biases\u001b[0m\u001b[0;34m\u001b[0m\u001b[0;34m\u001b[0m\u001b[0;34m\u001b[0m\u001b[0m\n\u001b[0;32m--> 150\u001b[0;31m             \u001b[0mdelta_nabla_b\u001b[0m\u001b[0;34m,\u001b[0m \u001b[0mdelta_nabla_w\u001b[0m \u001b[0;34m=\u001b[0m \u001b[0mself\u001b[0m\u001b[0;34m.\u001b[0m\u001b[0mbackprop\u001b[0m\u001b[0;34m(\u001b[0m\u001b[0mx\u001b[0m\u001b[0;34m,\u001b[0m \u001b[0my\u001b[0m\u001b[0;34m)\u001b[0m\u001b[0;34m\u001b[0m\u001b[0;34m\u001b[0m\u001b[0m\n\u001b[0m\u001b[1;32m    151\u001b[0m             \u001b[0mnabla_b\u001b[0m \u001b[0;34m=\u001b[0m \u001b[0;34m[\u001b[0m\u001b[0mnb\u001b[0m \u001b[0;34m+\u001b[0m \u001b[0mdnb\u001b[0m \u001b[0;32mfor\u001b[0m \u001b[0mnb\u001b[0m\u001b[0;34m,\u001b[0m \u001b[0mdnb\u001b[0m \u001b[0;32min\u001b[0m \u001b[0mzip\u001b[0m\u001b[0;34m(\u001b[0m\u001b[0mnabla_b\u001b[0m\u001b[0;34m,\u001b[0m \u001b[0mdelta_nabla_b\u001b[0m\u001b[0;34m)\u001b[0m\u001b[0;34m]\u001b[0m\u001b[0;34m\u001b[0m\u001b[0;34m\u001b[0m\u001b[0m\n\u001b[1;32m    152\u001b[0m             \u001b[0mnabla_w\u001b[0m \u001b[0;34m=\u001b[0m \u001b[0;34m[\u001b[0m\u001b[0mnw\u001b[0m \u001b[0;34m+\u001b[0m \u001b[0mdnw\u001b[0m \u001b[0;32mfor\u001b[0m \u001b[0mnw\u001b[0m\u001b[0;34m,\u001b[0m \u001b[0mdnw\u001b[0m \u001b[0;32min\u001b[0m \u001b[0mzip\u001b[0m\u001b[0;34m(\u001b[0m\u001b[0mnabla_w\u001b[0m\u001b[0;34m,\u001b[0m \u001b[0mdelta_nabla_w\u001b[0m\u001b[0;34m)\u001b[0m\u001b[0;34m]\u001b[0m\u001b[0;34m\u001b[0m\u001b[0;34m\u001b[0m\u001b[0m\n",
      "\u001b[0;32m/mnt/D/GitHub/classes/CS522/CS522-TeamProject/bpnn_cuda.py\u001b[0m in \u001b[0;36mbackprop\u001b[0;34m(self, x, y)\u001b[0m\n\u001b[1;32m    181\u001b[0m         \u001b[0;32mfor\u001b[0m \u001b[0ml\u001b[0m \u001b[0;32min\u001b[0m \u001b[0mrange\u001b[0m\u001b[0;34m(\u001b[0m\u001b[0;36m2\u001b[0m\u001b[0;34m,\u001b[0m \u001b[0mself\u001b[0m\u001b[0;34m.\u001b[0m\u001b[0mnum_layers\u001b[0m\u001b[0;34m)\u001b[0m\u001b[0;34m:\u001b[0m\u001b[0;34m\u001b[0m\u001b[0;34m\u001b[0m\u001b[0m\n\u001b[1;32m    182\u001b[0m             \u001b[0mz\u001b[0m \u001b[0;34m=\u001b[0m \u001b[0mzs\u001b[0m\u001b[0;34m[\u001b[0m\u001b[0;34m-\u001b[0m\u001b[0ml\u001b[0m\u001b[0;34m]\u001b[0m\u001b[0;34m\u001b[0m\u001b[0;34m\u001b[0m\u001b[0m\n\u001b[0;32m--> 183\u001b[0;31m             \u001b[0msp\u001b[0m \u001b[0;34m=\u001b[0m \u001b[0msigmoid_prime\u001b[0m\u001b[0;34m(\u001b[0m\u001b[0mz\u001b[0m\u001b[0;34m)\u001b[0m\u001b[0;34m\u001b[0m\u001b[0;34m\u001b[0m\u001b[0m\n\u001b[0m\u001b[1;32m    184\u001b[0m             \u001b[0mdelta\u001b[0m \u001b[0;34m=\u001b[0m \u001b[0mcp\u001b[0m\u001b[0;34m.\u001b[0m\u001b[0mdot\u001b[0m\u001b[0;34m(\u001b[0m\u001b[0mself\u001b[0m\u001b[0;34m.\u001b[0m\u001b[0mweights\u001b[0m\u001b[0;34m[\u001b[0m\u001b[0;34m-\u001b[0m\u001b[0ml\u001b[0m \u001b[0;34m+\u001b[0m \u001b[0;36m1\u001b[0m\u001b[0;34m]\u001b[0m\u001b[0;34m.\u001b[0m\u001b[0mtranspose\u001b[0m\u001b[0;34m(\u001b[0m\u001b[0;34m)\u001b[0m\u001b[0;34m,\u001b[0m \u001b[0mdelta\u001b[0m\u001b[0;34m)\u001b[0m \u001b[0;34m*\u001b[0m \u001b[0msp\u001b[0m\u001b[0;34m\u001b[0m\u001b[0;34m\u001b[0m\u001b[0m\n\u001b[1;32m    185\u001b[0m             \u001b[0mnabla_b\u001b[0m\u001b[0;34m[\u001b[0m\u001b[0;34m-\u001b[0m\u001b[0ml\u001b[0m\u001b[0;34m]\u001b[0m \u001b[0;34m=\u001b[0m \u001b[0mdelta\u001b[0m\u001b[0;34m\u001b[0m\u001b[0;34m\u001b[0m\u001b[0m\n",
      "\u001b[0;32m/mnt/D/GitHub/classes/CS522/CS522-TeamProject/bpnn_cuda.py\u001b[0m in \u001b[0;36msigmoid_prime\u001b[0;34m(z)\u001b[0m\n\u001b[1;32m     18\u001b[0m     \u001b[0mDerivative\u001b[0m \u001b[0mof\u001b[0m \u001b[0msigmoid\u001b[0m \u001b[0mfunction\u001b[0m\u001b[0;34m\u001b[0m\u001b[0;34m\u001b[0m\u001b[0m\n\u001b[1;32m     19\u001b[0m     \"\"\"\n\u001b[0;32m---> 20\u001b[0;31m     \u001b[0;32mreturn\u001b[0m \u001b[0msigmoid\u001b[0m\u001b[0;34m(\u001b[0m\u001b[0mz\u001b[0m\u001b[0;34m)\u001b[0m \u001b[0;34m*\u001b[0m \u001b[0;34m(\u001b[0m\u001b[0;36m1\u001b[0m \u001b[0;34m-\u001b[0m \u001b[0msigmoid\u001b[0m\u001b[0;34m(\u001b[0m\u001b[0mz\u001b[0m\u001b[0;34m)\u001b[0m\u001b[0;34m)\u001b[0m\u001b[0;34m\u001b[0m\u001b[0;34m\u001b[0m\u001b[0m\n\u001b[0m\u001b[1;32m     21\u001b[0m \u001b[0;34m\u001b[0m\u001b[0m\n\u001b[1;32m     22\u001b[0m \u001b[0;34m\u001b[0m\u001b[0m\n",
      "\u001b[0;32m/mnt/D/GitHub/classes/CS522/CS522-TeamProject/bpnn_cuda.py\u001b[0m in \u001b[0;36msigmoid\u001b[0;34m(z)\u001b[0m\n\u001b[1;32m     11\u001b[0m     \u001b[0mImplementing\u001b[0m \u001b[0mthe\u001b[0m \u001b[0msigmoid\u001b[0m \u001b[0mfunction\u001b[0m\u001b[0;34m\u001b[0m\u001b[0;34m\u001b[0m\u001b[0m\n\u001b[1;32m     12\u001b[0m     \"\"\"\n\u001b[0;32m---> 13\u001b[0;31m     \u001b[0;32mreturn\u001b[0m \u001b[0;36m1.0\u001b[0m \u001b[0;34m/\u001b[0m \u001b[0;34m(\u001b[0m\u001b[0;36m1.0\u001b[0m \u001b[0;34m+\u001b[0m \u001b[0mcp\u001b[0m\u001b[0;34m.\u001b[0m\u001b[0mexp\u001b[0m\u001b[0;34m(\u001b[0m\u001b[0;34m-\u001b[0m\u001b[0mz\u001b[0m\u001b[0;34m)\u001b[0m\u001b[0;34m)\u001b[0m\u001b[0;34m\u001b[0m\u001b[0;34m\u001b[0m\u001b[0m\n\u001b[0m\u001b[1;32m     14\u001b[0m \u001b[0;34m\u001b[0m\u001b[0m\n\u001b[1;32m     15\u001b[0m \u001b[0;34m\u001b[0m\u001b[0m\n",
      "\u001b[0;32mcupy/_core/core.pyx\u001b[0m in \u001b[0;36mcupy._core.core.ndarray.__add__\u001b[0;34m()\u001b[0m\n",
      "\u001b[0;32mcupy/_core/_kernel.pyx\u001b[0m in \u001b[0;36mcupy._core._kernel.ufunc.__call__\u001b[0;34m()\u001b[0m\n",
      "\u001b[0;32mcupy/_core/_kernel.pyx\u001b[0m in \u001b[0;36mcupy._core._kernel._Ops.guess_routine\u001b[0;34m()\u001b[0m\n",
      "\u001b[0;32mcupy/_core/_kernel.pyx\u001b[0m in \u001b[0;36mcupy._core._kernel._min_scalar_type\u001b[0;34m()\u001b[0m\n",
      "\u001b[0;32m<__array_function__ internals>\u001b[0m in \u001b[0;36mmin_scalar_type\u001b[0;34m(*args, **kwargs)\u001b[0m\n",
      "\u001b[0;31mKeyboardInterrupt\u001b[0m: "
     ]
    }
   ],
   "source": [
    "from HyperbandTuner import HyperbandTuner\n",
    "from bpnn_cuda import BPNN\n",
    "\n",
    "def run_hyperband_tuning():\n",
    "    training_data, validation_data, testing_data, ndimen = BPNN.get_data()\n",
    "    print(f\"Input Dimension: {ndimen}\")\n",
    "\n",
    "    ht = HyperbandTuner(BPNN, num_trials=1, max_epochs=100, eta=3)\n",
    "\n",
    "    ht.tune([ndimen, 160, 2], 10, 0.83)\n",
    "\n",
    "    # print(ht.get_best_hyperparameters())\n",
    "\n",
    "\n",
    "run_hyperband_tuning()"
   ]
  },
  {
   "cell_type": "markdown",
   "metadata": {},
   "source": [
    "# Train Best Model"
   ]
  },
  {
   "cell_type": "code",
   "execution_count": 83,
   "metadata": {
    "collapsed": false,
    "pycharm": {
     "name": "#%%\n"
    }
   },
   "outputs": [
    {
     "name": "stdout",
     "output_type": "stream",
     "text": [
      "# Best Hyperparameters:\n",
      " - Best Network Configuration: [900, 78, 2]\n",
      " - Best Batch Size: 4\n",
      " - Best Learning Rate: 1.229\n"
     ]
    },
    {
     "name": "stderr",
     "output_type": "stream",
     "text": [
      " 66%|██████▌   | 33/50 [02:52<01:29,  5.28s/it]"
     ]
    }
   ],
   "source": [
    "\"\"\"\n",
    "Plot the convergence curve of BPNN\n",
    "\"\"\"\n",
    "\n",
    "training_data, validation_data, testing_data, ndimen = BPNN.get_data()\n",
    "\n",
    "\"\"\"\n",
    "# Best Model:\n",
    "#  - Hypers: [[900, 78, 2], 4, 1.2296296296296296]\n",
    "#  - Accuracy: 0.9525\n",
    "#  - Time: 419.82\n",
    "\"\"\"\n",
    "max_epochs = 50\n",
    "best_nc = [ndimen, 78, 2]\n",
    "best_b = 4\n",
    "best_lr = 1.229\n",
    "\n",
    "print('# Best Hyperparameters:')\n",
    "print(f' - Best Network Configuration: {best_nc}')\n",
    "print(f' - Best Batch Size: {best_b}')\n",
    "print(f' - Best Learning Rate: {best_lr}')\n",
    "\n",
    "nn = None\n",
    "eval_scores = None\n",
    "highest_score = 0\n",
    "for i in range(5):\n",
    "    training_data, validation_data, testing_data, ndimen = BPNN.get_data()\n",
    "    nn_test = BPNN(best_nc, verbose=False)\n",
    "    final_score, eval_scores, eval_scores_deltas, nn_conv_time = nn_test.train(training_data,\n",
    "                                                                        max_epochs=max_epochs,\n",
    "                                                                        batch_size=best_b,\n",
    "                                                                        learning_rate=best_lr,\n",
    "                                                                        evaluation_data=validation_data,\n",
    "                                                                        evaluation_treshold=None)\n",
    "    print(f\"# {i} => Accuracy: {final_score} ({nn_conv_time} sec)\")\n",
    "    if final_score > highest_score:\n",
    "        highest_score = final_score\n",
    "        eval_scores = eval_scores\n",
    "        nn = nn_test\n",
    "\n",
    "\n",
    "print(\"# Best model:\")\n",
    "print(\" - Accuracy:\", highest_score)\n"
   ]
  },
  {
   "cell_type": "code",
   "execution_count": 82,
   "metadata": {},
   "outputs": [
    {
     "data": {
      "image/png": "[encoded data removed]",
      "text/plain": [
       "<Figure size 1008x432 with 1 Axes>"
      ]
     },
     "metadata": {
      "needs_background": "light"
     },
     "output_type": "display_data"
    }
   ],
   "source": [
    "\n",
    "fig = plt.figure(figsize=(14, 6))\n",
    "\n",
    "plt.title(f\"Training Epoch vs. Accuracy with (Final Model)\")\n",
    "plt.xlabel(\"Epoch\")\n",
    "plt.ylabel('Accuracy')\n",
    "\n",
    "plt.plot(eval_scores, label=f'Accuracy ({highest_score})')\n",
    "\n",
    "plt.grid()\n",
    "plt.legend()\n",
    "plt.show()\n",
    "fig.savefig(f'img/bpnn_best_model', dpi=100)"
   ]
  },
  {
   "cell_type": "markdown",
   "metadata": {},
   "source": [
    "# Save Best Model & Predictions"
   ]
  },
  {
   "cell_type": "code",
   "execution_count": 81,
   "metadata": {},
   "outputs": [
    {
     "name": "stdout",
     "output_type": "stream",
     "text": [
      "# Saving model\n",
      "Overall Test Accuracy: 0.9425403225806451\n",
      "Class 0 Test Accuracy: 0.9410609037328095\n",
      "Class 1 Test Accuracy: 0.9440993788819876\n"
     ]
    }
   ],
   "source": [
    "import gzip\n",
    "from evaluation import *\n",
    "from model import Model\n",
    "\n",
    "\n",
    "def evaluate(y, y_nn, name):\n",
    "    acc_i, acc_overall = accuracy_score(y, y_nn)\n",
    "    print(f'Overall {name} Accuracy: {acc_overall}')\n",
    "    print(f'Class 0 {name} Accuracy: {acc_i[0]}')\n",
    "    print(f'Class 1 {name} Accuracy: {acc_i[1]}')\n",
    "    \n",
    "def save_best_model(nn, data):\n",
    "    # Save the best BPNN model to a pickle file\n",
    "    print(\"# Saving model\")\n",
    "    \n",
    "    y_test = []\n",
    "    nn_y = []\n",
    "    for x, y in data:\n",
    "        decision = np.argmax(nn.feedforward(x))\n",
    "        y_test.append(y.item())\n",
    "        nn_y.append(decision.item())\n",
    "\n",
    "    y_test = np.array(y_test)\n",
    "    nn_y = np.array(nn_y)\n",
    "    evaluate(y_test, nn_y, \"Test\")\n",
    "    cm = get_confusion_matrix(y_test, nn_y, np.unique(y_test))\n",
    "    Model(nn, nn_y, cm).save('bpnn.pkl')\n",
    "\n",
    "\n",
    "training_data, validation_data, testing_data, ndimen = BPNN.get_data()\n",
    "save_best_model(nn, testing_data)\n"
   ]
  },
  {
   "cell_type": "markdown",
   "metadata": {},
   "source": [
    "# Plot Bar Chart"
   ]
  },
  {
   "cell_type": "code",
   "execution_count": null,
   "metadata": {},
   "outputs": [
    {
     "data": {
      "image/png": "[encoded data removed]",
      "text/plain": [
       "<Figure size 1008x720 with 1 Axes>"
      ]
     },
     "metadata": {
      "needs_background": "light"
     },
     "output_type": "display_data"
    }
   ],
   "source": [
    "from bpnn_cuda import *\n",
    "from model import Model\n",
    "import cupy as cp\n",
    "\n",
    "\n",
    "def plot_vt_bar(tnn_acc, tnn_acc0, tnn_acc1, vnn_acc, vnn_acc0, vnn_acc1):\n",
    "    # Plot a barchart comparing the validation vs testing accuracies overall, for class 0, and for class 1 side by side\n",
    "\n",
    "    # set the y axis major ticks to .1 and minor ticks to .01\n",
    "    major_ticks = np.arange(0, 1.1, 0.1)\n",
    "\n",
    "    fig = plt.figure(figsize=(14, 10))\n",
    "\n",
    "    plt.title(f\"Validation vs. Testing Accuracy\")\n",
    "    plt.xlabel(\"Accuracy\")\n",
    "\n",
    "    width = 0.25\n",
    "    plt.barh(0 + width/2, tnn_acc, width, label='Testing', color='green')\n",
    "    plt.barh(0 - width/2, vnn_acc, width, label='Validation', color='blue')\n",
    "\n",
    "    plt.barh(1 + width/2, tnn_acc0, width, color='green')\n",
    "    plt.barh(1 - width/2, vnn_acc0, width, color='blue')\n",
    "\n",
    "    plt.barh(2 + width/2, tnn_acc1, width, color='green')\n",
    "    plt.barh(2 - width/2, vnn_acc1, width, color='blue')\n",
    "\n",
    "    plt.yticks(np.arange(0, 3, 1), ['Overall', 'Class 0', 'Class 1'])\n",
    "    plt.xticks(major_ticks)\n",
    "    plt.grid()\n",
    "    plt.legend()\n",
    "    plt.show()\n",
    "    fig.savefig(f'img/bpnn_validation_vs_testing', dpi=100)\n",
    "\n",
    "\n",
    "def evaluate(data, name):\n",
    "\n",
    "   # Load the best model from file\n",
    "    best_model = Model.load('bpnn.pkl')\n",
    "\n",
    "    y_test = []\n",
    "    nn_y = []\n",
    "    for x, y in data:\n",
    "        decision = np.argmax(best_model.model.feedforward(x))\n",
    "        y_test.append(y.item())\n",
    "        nn_y.append(decision.item())\n",
    "\n",
    "    y_test = np.array(y_test)\n",
    "    nn_y = np.array(nn_y)\n",
    "\n",
    "    acc_i, acc_overall = accuracy_score(y_test, nn_y)\n",
    "    print(f'Overall {name} Accuracy: {acc_overall}')\n",
    "    print(f'Class 0 {name} Accuracy: {acc_i[0]}')\n",
    "    print(f'Class 1 {name} Accuracy: {acc_i[1]}')\n",
    "\n",
    "    cm = get_confusion_matrix(y_test, nn_y, np.unique(y_test))\n",
    "\n",
    "    plot_confusion_matrix(cm, np.unique(\n",
    "        y_test), f'BPNN {name} Matrix')\n",
    "\n",
    "    return acc_overall, acc_i[0], acc_i[1]\n",
    "\n",
    "\n",
    "training_data, validation_data, testing_data, ndimen = BPNN.get_data()\n",
    "\n",
    "vnn_acc, vnn_acc0, vnn_acc1 = evaluate(validation_data, \"Validation\")\n",
    "tnn_acc, tnn_acc0, tnn_acc1 = evaluate(testing_data, \"Testing\")\n",
    "\n",
    "plot_vt_bar(tnn_acc, tnn_acc0, tnn_acc1, vnn_acc, vnn_acc0, vnn_acc1)\n"
   ]
  }
 ],
 "metadata": {
  "kernelspec": {
   "display_name": "Python 3",
   "language": "python",
   "name": "python3"
  },
  "language_info": {
   "codemirror_mode": {
    "name": "ipython",
    "version": 3
   },
   "file_extension": ".py",
   "mimetype": "text/x-python",
   "name": "python",
   "nbconvert_exporter": "python",
   "pygments_lexer": "ipython3",
   "version": "3.8.8"
  }
 },
 "nbformat": 4,
 "nbformat_minor": 0
}
