{
 "cells": [
  {
   "cell_type": "markdown",
   "metadata": {
    "collapsed": false
   },
   "source": [
    "# CS522 - Final Project\n",
    "The objective of the final project is to integrate various machine learning techniques to achieve the best performance. Final project is a group effort. Each group can have 4-5 members. You are required to apply ALL techniques learned in this semester.\n",
    "\n",
    "## Schedule\n",
    "- (5) Milestone 1 (Due 11/4): Group Formation and Topic selection. Submit through Canvas. Approval and comments will be returned in one day. The same topic cannot be chosen by more than 1 group. The topic follows the first-come first-served rule. So pick a topic as soon as possible.\n",
    "- (5) Milestone 2 - Literature Survey (Due 11/11): Background study including references and state-of-the-art performance on the dataset (2-page report need to be submitted).\n",
    "- (5) Milestone 3 - Prototype 1 (Due 11/18): Prototype, preliminary results and task allocation among group members. Apply at least one learned technique successfully for each component in the pipeline on the chosen dataset and submit a 1-page report.\n",
    "- (5) Milestone 4 - Prototype 2 (Due 12/02): Implement at least two solutions to each component of the pipeline. Determine what metrics to use. Provide performance evaluation results.\n",
    "- (100) Final presentation (Due 12/08)(Presentation slides due the midnight before the presentation on 12/9. Submit through Canvas)\n",
    "- (80) Final report (Due 12/10). Submit through Canvas.\n",
    "\n",
    "## Potential Topics\n",
    "Each group can choose one topic from the following sources. All selection needs to be approved by instructor.\n",
    "- KDD-Cup 1997-2009\n",
    "- Kaggle Competitions\n",
    "- Other topics: You can select a topic yourself from other resources.\n",
    "\n",
    "## Requirement\n",
    "General steps involved in a machine learning problem include\n",
    "- Data collection (raw data)\n",
    "- Feature extraction (how to extract features from the raw data)\n",
    "- Feature selection (dimensionality reduction - Fisher's linear discriminant or PCA)\n",
    "- Classification/Regression methods need to be included\n",
    "    - Supervised learning and Unsupervised learning\n",
    "    - Baysian approaches and non-Baysian approaches\n",
    "    - Parametric and Non-parametric density estimation in supervised learning\n",
    "    - Fusion\n",
    "- Performance evaluation\n",
    "- Feedback system\n",
    "\n",
    "You are required to evaluate the effect of various aspects of the classification/regression process, including but not limited to\n",
    "- the effect of assuming the data is Gaussian-distributed\n",
    "- the effect of assuming parametric pdf vs. non-parametric pdf\n",
    "- the effect of using different prior probability ratio\n",
    "- the effect of using different distance\n",
    "- the effect of knowing the class label\n",
    "- the effect of dimension of the feature space (e.g., changed through dimensionality reduction)\n",
    "- the effect of fusion\n",
    "\n",
    "To be more specific, you need to at least go through the following steps:\n",
    "- Data normalization\n",
    "- Dimensionality reduction\n",
    "    - Classification/Regression with the following\n",
    "    - MPP (case 1, 2, and 3)\n",
    "    - kNN with different k's\n",
    "    - BPNN\n",
    "    - Decision tree\n",
    "    - SVM\n",
    "    - Clustering (kmeans, wta)\n",
    "- Classifier fusion\n",
    "- Evaluation (use n-fold cross validation to generate confusion matrix and ROC curve if applicable)."
   ]
  },
  {
   "cell_type": "markdown",
   "metadata": {
    "collapsed": false
   },
   "source": [
    "# 1. Data collection (raw data) - Face Mask 12k Images Dataset\n",
    "- URL: [https://www.kaggle.com/ashishjangra27/face-mask-12k-images-dataset](https://www.kaggle.com/ashishjangra27/face-mask-12k-images-dataset)\n",
    "\n",
    "This dataset is used for Face Mask Detection Classification with images. The dataset consists of almost 12K images which are almost 328.92MB in size.\n",
    "\n",
    "\"All the images with the face mask (~6K) are scrapped from google search and all the images without the face mask are preprocessed from the CelebFace dataset created by Jessica Li (https://www.kaggle.com/jessicali9530). Thank you so much Jessica for providing a wonderful dataset to the community.\"\n"
   ]
  },
  {
   "cell_type": "code",
   "execution_count": 1,
   "metadata": {
    "collapsed": true
   },
   "outputs": [],
   "source": [
    "%load_ext autoreload\n",
    "%autoreload 2\n",
    "\n",
    "import os\n",
    "import PIL\n",
    "import pickle\n",
    "import numpy as np\n",
    "import matplotlib.pyplot as plt\n",
    "from PIL import Image, ImageOps\n",
    "from convolution import *\n",
    "from activation_functions import get_activation_func"
   ]
  },
  {
   "cell_type": "markdown",
   "metadata": {
    "collapsed": false,
    "pycharm": {
     "name": "#%% md\n"
    }
   },
   "source": [
    "## 1.1. Read In Data\n",
    "Throughout this project:\n",
    "- 0 corresponds to not wearing a mask\n",
    "- 1 corresponds to wearing a mask"
   ]
  },
  {
   "cell_type": "code",
   "execution_count": 2,
   "metadata": {
    "collapsed": false,
    "pycharm": {
     "name": "#%%\n"
    }
   },
   "outputs": [],
   "source": [
    "# make directory to save generated images to\n",
    "os.makedirs('img', exist_ok=True)\n",
    "\n",
    "\n",
    "\n",
    "dataset_dir = os.path.join(\"datasets\", \"face_mask\")\n",
    "def get_dataset_fn(dataset_dir: str, type: str) -> (np.array, np.array):\n",
    "    \"\"\"\n",
    "    given the directory name of the entire dataset and whether it is the train, validation, or test set\n",
    "    return X and y where X is a list of filenames and y is the target labels\n",
    "    \"\"\"\n",
    "    # get base dir path (account for different operating systems)\n",
    "    base_dir = os.path.join(dataset_dir, type)\n",
    "    # get directories for each class in each folder\n",
    "    no_mask_dir = os.path.join(base_dir, \"WithoutMask\")\n",
    "    mask_dir = os.path.join(base_dir, \"WithMask\")\n",
    "    # get filenames\n",
    "    no_mask_fn = list(map(lambda fn: os.path.join(no_mask_dir,fn),os.listdir(no_mask_dir)))\n",
    "    mask_fn = list(map(lambda fn: os.path.join(mask_dir,fn), os.listdir(mask_dir)))\n",
    "    # create X with associated y labels\n",
    "    y = np.hstack((np.zeros(len(no_mask_fn)),np.ones(len(mask_fn))))\n",
    "    X = np.hstack((np.array(no_mask_fn),np.array(mask_fn)))\n",
    "    return X, y\n",
    "\n",
    "def load_img(fn: str) -> np.array:\n",
    "    \"\"\"\n",
    "    load an image into a numpy array from the given filename\n",
    "    # converts to grayscale\n",
    "    \"\"\"\n",
    "    return np.array(Image.open(fn))\n",
    "\n",
    "def load_dataset(X_fn: np.array) -> list:\n",
    "    \"\"\"\n",
    "    given a list of filenames, load in each image into a numpy array and return a list of the images\n",
    "    \"\"\"\n",
    "    X = []\n",
    "    # iterate through each filename and load in each image\n",
    "    for i in range(len(X_fn)):\n",
    "        X.append(load_img(X_fn[i]))\n",
    "\n",
    "    # returns X as a list because images are different sizes\n",
    "    return X\n",
    "\n",
    "def to_categorical(y) -> np.array:\n",
    "    \"\"\"\n",
    "    One hot encode the target labels\n",
    "    \"\"\"\n",
    "    Y = np.zeros((len(y),len(np.unique(y))))\n",
    "    for i in range(len(y)):\n",
    "        Y[i,int(y[i])] = 1\n",
    "    return Y\n",
    "\n",
    "# get dataset of filenames and labels\n",
    "X_train_fn, y_train = get_dataset_fn(dataset_dir, \"train\")\n",
    "X_validation_fn, y_validation = get_dataset_fn(dataset_dir, \"validation\")\n",
    "X_test_fn, y_test = get_dataset_fn(dataset_dir, \"test\")\n",
    "\n",
    "# one hot encode target labels\n",
    "y_train = to_categorical(y_train)\n",
    "y_test = to_categorical(y_test)\n",
    "y_validation = to_categorical(y_validation)\n",
    "\n",
    "# load in images\n",
    "X_train = load_dataset(X_train_fn)\n",
    "X_validation = load_dataset(X_validation_fn)\n",
    "X_test = load_dataset(X_test_fn)\n"
   ]
  },
  {
   "cell_type": "markdown",
   "metadata": {
    "collapsed": false,
    "pycharm": {
     "name": "#%% md\n"
    }
   },
   "source": [
    "## 1.2. Normalizing dataset\n",
    "Need to standardize the size of the images.\n",
    "It is conventional to resize all of the images to the smallest image in the dataset.\n",
    "https://datascience.stackexchange.com/questions/40462/how-to-prepare-the-varied-size-input-in-cnn-prediction\n",
    "\n"
   ]
  },
  {
   "cell_type": "code",
   "execution_count": 3,
   "metadata": {
    "collapsed": false,
    "pycharm": {
     "name": "#%%\n"
    }
   },
   "outputs": [],
   "source": [
    "# helper functions to resize images\n",
    "def resize_img(x:np.array, size: tuple):\n",
    "    return np.asarray(Image.fromarray(x).resize(size, resample=PIL.Image.LANCZOS)).astype(np.uint8)\n",
    "def resize_dataset(X, size:tuple):\n",
    "    X_new = np.zeros((len(X), *size))\n",
    "    size = size[:-1] if len(size) == 3 else size\n",
    "    for i, x in enumerate(X):\n",
    "        X_new[i] = resize_img(x, size)\n",
    "    return X_new\n",
    "\n",
    "# helper functions to turn images to grayscale\n",
    "def img2grayscale(img: np.array):\n",
    "    return np.asarray(ImageOps.grayscale(Image.fromarray(img.astype(np.uint8),'RGB'))).astype(np.uint8)\n",
    "def dataset2grayscale(X):\n",
    "    X_new = []\n",
    "    for  x in X:\n",
    "        X_new.append(img2grayscale(x))\n",
    "    return X_new\n",
    "\n",
    "# resize training data\n",
    "size = (128,128,3)\n",
    "X_train_resized = resize_dataset(X_train, size)\n",
    "X_validation_resized = resize_dataset(X_validation, size)\n",
    "X_test_resized = resize_dataset(X_test, size)\n",
    "\n",
    "# create a set of grayscale training data\n",
    "X_train_gray = dataset2grayscale(X_train_resized)\n",
    "X_validation_gray = dataset2grayscale(X_validation_resized)\n",
    "X_test_gray = dataset2grayscale(X_test_resized)\n",
    "\n",
    "# min-max scale images\n",
    "def min_max_scale_img(x:np.array):\n",
    "    x = x.astype(\"float64\")\n",
    "    x /= 255\n",
    "    return x\n",
    "def min_max_scale_dataset(X):\n",
    "    X_new = []\n",
    "    for x in X:\n",
    "        X_new.append(min_max_scale_img(x))\n",
    "    return X_new\n",
    "\n",
    "# normalize both the rgb and grayscale data\n",
    "# RGB\n",
    "X_train_norm = min_max_scale_dataset(X_train_resized)\n",
    "X_validation_norm = min_max_scale_dataset(X_validation_resized)\n",
    "X_test_norm = min_max_scale_dataset(X_test_resized)\n",
    "# Gray Variation\n",
    "X_train_gray_norm = min_max_scale_dataset(X_train_gray)\n",
    "X_validation_gray_norm = min_max_scale_dataset(X_validation_gray)\n",
    "X_test_gray_norm = min_max_scale_dataset(X_test_gray)\n"
   ]
  },
  {
   "cell_type": "markdown",
   "metadata": {
    "collapsed": false,
    "pycharm": {
     "name": "#%% md\n"
    }
   },
   "source": [
    "## 1.3. Peek at Dataset\n",
    "In order to get a feel for the data, lets look at some of the images"
   ]
  },
  {
   "cell_type": "code",
   "execution_count": null,
   "metadata": {
    "collapsed": false,
    "pycharm": {
     "name": "#%%\n"
    }
   },
   "outputs": [
    {
     "ename": "Error",
     "evalue": "Session cannot generate requests",
     "output_type": "error",
     "traceback": [
      "Error: Session cannot generate requests",
      "at w.executeCodeCell (/home/isaac/.vscode/extensions/ms-toolsai.jupyter-2021.9.1101343141/out/client/extension.js:52:301180)",
      "at w.execute (/home/isaac/.vscode/extensions/ms-toolsai.jupyter-2021.9.1101343141/out/client/extension.js:52:300551)",
      "at w.start (/home/isaac/.vscode/extensions/ms-toolsai.jupyter-2021.9.1101343141/out/client/extension.js:52:296215)",
      "at processTicksAndRejections (internal/process/task_queues.js:93:5)",
      "at async t.CellExecutionQueue.executeQueuedCells (/home/isaac/.vscode/extensions/ms-toolsai.jupyter-2021.9.1101343141/out/client/extension.js:52:310950)",
      "at async t.CellExecutionQueue.start (/home/isaac/.vscode/extensions/ms-toolsai.jupyter-2021.9.1101343141/out/client/extension.js:52:310490)"
     ]
    }
   ],
   "source": [
    "def plot_img_grid(img, label, size, pos):\n",
    "    \"\"\"\n",
    "    given the image, its label, the size of the grid, and its position on the grid,\n",
    "    create a grid of images displaying images in the dataset\n",
    "    \"\"\"\n",
    "    ax = plt.subplot2grid(size, pos)\n",
    "    ax.tick_params(left = False, right = False , labelleft = False ,\n",
    "                   labelbottom = False, bottom = False)\n",
    "    ax.title.set_text(label)\n",
    "    ax.imshow(img,cmap='gray')\n",
    "\n",
    "fig = plt.figure(figsize=(8,6))\n",
    "fig.suptitle('Quick peek at the data')\n",
    "plot_img_grid(X_train_gray_norm[0], 'No Mask', (2,3),(0,0))\n",
    "plot_img_grid(X_train_gray_norm[1000], 'No Mask', (2,3),(0,1))\n",
    "plot_img_grid(X_train_gray_norm[2000], 'No Mask', (2,3),(0,2))\n",
    "plot_img_grid(X_train_gray_norm[7000], 'Mask', (2,3),(1,0))\n",
    "plot_img_grid(X_train_gray_norm[8001], 'Mask', (2,3),(1,1))\n",
    "plot_img_grid(X_train_gray_norm[9004], 'Mask', (2,3),(1,2))\n",
    "plt.tight_layout()\n",
    "plt.savefig('./img/faces.png', dpi=500)\n",
    "plt.show()\n"
   ]
  },
  {
   "cell_type": "markdown",
   "metadata": {
    "collapsed": false,
    "pycharm": {
     "name": "#%% md\n"
    }
   },
   "source": [
    "# 2. Feature extraction\n",
    "Objective: how to extract features from the raw data\n",
    "\n",
    "# 2.1. Convolutional Neural Network (CNN)\n",
    "\n",
    "![CNN Hierarchy](img/cnn_hierarchy.png)\n",
    "\n",
    "Build Layers and Sequential Model for the convolution\n"
   ]
  },
  {
   "cell_type": "code",
   "execution_count": null,
   "metadata": {
    "collapsed": false,
    "pycharm": {
     "name": "#%%\n"
    }
   },
   "outputs": [
    {
     "name": "stdout",
     "output_type": "stream",
     "text": [
      "Model: Sequential\n",
      "\n",
      "#    Layer\n",
      "0    input_layer (Conv3d)\n",
      "1    activation (Activation)\n",
      "2    pooling1 (MaxPooling2D)\n",
      "3    layer1 (Conv3d)\n",
      "4    activation (Activation)\n",
      "5    pooling1 (MaxPooling2D)\n"
     ]
    },
    {
     "data": {
      "image/png": "[encoded data removed]",
      "text/plain": [
       "<Figure size 432x288 with 1 Axes>"
      ]
     },
     "metadata": {
      "needs_background": "light"
     },
     "output_type": "display_data"
    },
    {
     "data": {
      "image/png": "[encoded data removed]",
      "text/plain": [
       "<Figure size 432x288 with 1 Axes>"
      ]
     },
     "metadata": {
      "needs_background": "light"
     },
     "output_type": "display_data"
    }
   ],
   "source": [
    "kernel = np.array([ [[1,-1,1], [-1, 8, -1], [1,-1,1]], [[1,-1,1], [-1, 8, -1], [1,-1,1]], [[1,-1,1], [-1, 8, -1], [1,-1,1]] ]) # 3d kernel needed for 3d image\n",
    "\n",
    "model = Sequential()\n",
    "model.add(Conv(kernel=kernel, name=\"input_layer\"))\n",
    "model.add(Activation('relu'))\n",
    "model.add(Pooling2D(pool_size=2, stride=2, padding=0, mode='avg', name=\"pooling1\"))\n",
    "model.add(Conv(kernel=kernel, name=\"layer1\"))\n",
    "model.add(Activation('relu'))\n",
    "model.add(Pooling2D(pool_size=2, stride=2, padding=0, mode='avg', name=\"pooling1\"))\n",
    "model.summary()\n",
    "\n",
    "x = model.feedforward(X_train_norm[0])\n",
    "\n",
    "# display original image\n",
    "plt.imshow(X_train_norm[0])\n",
    "plt.show()\n",
    "\n",
    "# display convolved image\n",
    "plt.imshow(x)\n",
    "plt.show()"
   ]
  },
  {
   "cell_type": "code",
   "execution_count": null,
   "metadata": {
    "collapsed": false,
    "pycharm": {
     "name": "#%%\n"
    }
   },
   "outputs": [
    {
     "name": "stdout",
     "output_type": "stream",
     "text": [
      "Model: Sequential\n",
      "\n",
      "#    Layer\n",
      "0    input_layer (Conv2d)\n",
      "1    activation (Activation)\n",
      "2    pooling_2d (MaxPooling2D)\n",
      "3    input_layer (Conv2d)\n",
      "4    activation (Activation)\n",
      "5    input_layer (Conv2d)\n"
     ]
    },
    {
     "data": {
      "image/png": "[encoded data removed]",
      "text/plain": [
       "<Figure size 432x288 with 1 Axes>"
      ]
     },
     "metadata": {
      "needs_background": "light"
     },
     "output_type": "display_data"
    },
    {
     "data": {
      "image/png": "[encoded data removed]",
      "text/plain": [
       "<Figure size 432x288 with 1 Axes>"
      ]
     },
     "metadata": {
      "needs_background": "light"
     },
     "output_type": "display_data"
    }
   ],
   "source": [
    "# convolution kernel\n",
    "# kernel = np.array([[-1, -1, -1], [-1, 9, -1], [-1, -1, -1]]) # sharper images\n",
    "kernel = np.array([[0, -1, 0], [-1, 6, -1], [0, -1, 0]]) # sharper images\n",
    "# kernel = np.array([[-1, -1, -1], [-1, 0, -1], [-1, -1, -1]])\n",
    "# kernel = np.array([[[-1, 0, -1], [-1, 0, -1], [-1, 0, -1]],\n",
    "#                    [[-1, 0, -1], [-1, 0, -1], [-1, 0, -1]],\n",
    "#                    [[-1, 0, -1], [-1, 0, -1], [-1, 0, -1]]])\n",
    "# kernel = np.array([[0,1,2,1,0], [1,4,8,4,1], [2,8,16,8,2], [1,4,8,4,1],[0,1,2,1,0]]) # smoothing\n",
    "# kernel = np.array([[0, 1, 0], [1, 4, 1], [0, 1, 0]])  # gaussian blur\n",
    "\n",
    "# build model\n",
    "model = Sequential()\n",
    "model.add(Conv(kernel=kernel, name=\"input_layer\"))\n",
    "model.add(Activation('relu'))\n",
    "model.add(Pooling2D(mode='avg'))\n",
    "model.add(Conv(kernel=kernel, name=\"input_layer\"))\n",
    "model.add(Activation('relu'))\n",
    "model.add(Conv(kernel=kernel, name=\"input_layer\"))\n",
    "# model.add(Activation('sigmoid'))\n",
    "model.summary()\n",
    "\n",
    "# feed image through model\n",
    "x = model.feedforward(X_train_gray_norm[7345])\n",
    "\n",
    "# display original image\n",
    "plt.imshow(X_train_gray_norm[7345],cmap='gray')\n",
    "plt.show()\n",
    "\n",
    "# display convoluted image\n",
    "plt.imshow(x,cmap='gray')\n",
    "plt.show()"
   ]
  },
  {
   "cell_type": "markdown",
   "metadata": {
    "collapsed": false
   },
   "source": [
    "# 3. Feature Selection\n",
    "Dimensionality Reduction - Fisher's linear discriminant or PCA"
   ]
  },
  {
   "cell_type": "code",
   "execution_count": null,
   "metadata": {
    "collapsed": false,
    "pycharm": {
     "name": "#%%\n"
    }
   },
   "outputs": [
    {
     "name": "stdout",
     "output_type": "stream",
     "text": [
      "# Train\n",
      "* X_train_norm shape (10000, 128, 128, 3)\n",
      "* X_train_gray_norm shape (10000, 128, 128)\n",
      "* y_train shape (10000, 2)\n",
      "\n",
      "# Validation\n",
      "* X_validation_norm shape (800, 128, 128, 3)\n",
      "* X_validation_gray_norm shape (800, 128, 128)\n",
      "* y_validation shape (800, 2)\n",
      "\n",
      "# Test\n",
      "* X_test_norm shape (992, 128, 128, 3)\n",
      "* X_test_gray_norm shape (992, 128, 128)\n",
      "* y_test shape (992, 2)\n",
      "\n"
     ]
    }
   ],
   "source": [
    "print(\"# Train\")\n",
    "X_train_norm = np.array(X_train_norm)\n",
    "X_train_gray_norm = np.array(X_train_gray_norm)\n",
    "print(f\"* X_train_norm shape {X_train_norm.shape}\")\n",
    "print(f\"* X_train_gray_norm shape {X_train_gray_norm.shape}\")\n",
    "print(f\"* y_train shape {y_train.shape}\")\n",
    "print()\n",
    "\n",
    "print(\"# Validation\")\n",
    "X_validation_norm = np.array(X_validation_norm)\n",
    "X_validation_gray_norm = np.array(X_validation_gray_norm)\n",
    "print(f\"* X_validation_norm shape {X_validation_norm.shape}\")\n",
    "print(f\"* X_validation_gray_norm shape {X_validation_gray_norm.shape}\")\n",
    "print(f\"* y_validation shape {y_validation.shape}\")\n",
    "print()\n",
    "\n",
    "print(\"# Test\")\n",
    "X_test_norm = np.array(X_test_norm)\n",
    "X_test_gray_norm = np.array(X_test_gray_norm)\n",
    "print(f\"* X_test_norm shape {X_test_norm.shape}\")\n",
    "print(f\"* X_test_gray_norm shape {X_test_gray_norm.shape}\")\n",
    "print(f\"* y_test shape {y_test.shape}\")\n",
    "print()\n",
    "\n",
    "# Flatten array (without CNN for now until we run and save all images)"
   ]
  },
  {
   "cell_type": "markdown",
   "metadata": {
    "collapsed": false
   },
   "source": []
  },
  {
   "cell_type": "code",
   "execution_count": null,
   "metadata": {
    "collapsed": false,
    "pycharm": {
     "name": "#%%\n"
    }
   },
   "outputs": [],
   "source": [
    "# this might take a while\n",
    "# save the output of the convoluted training examples in case we want to use them later\n",
    "dir_path = os.path.join('datasets','face_mask_pickled')\n",
    "os.makedirs(dir_path, exist_ok=True)\n",
    "\n",
    "def get_conv_dataset(dataset, fn):\n",
    "    if os.path.exists(fn):\n",
    "        with open(fn, 'rb') as f:\n",
    "            conv = pickle.load(f)\n",
    "    else:\n",
    "        conv = np.array([model.feedforward(x) for x in dataset])\n",
    "        with open(fn, 'wb') as f:\n",
    "            pickle.dump(conv, f)\n",
    "    return conv\n",
    "X_train_gray_conv = get_conv_dataset(X_train_gray_norm, os.path.join(dir_path, 'X_train_gray_conv.pkl'))\n",
    "X_validation_gray_conv = get_conv_dataset(X_validation_gray_norm, os.path.join(dir_path, 'X_validation_gray_conv.pkl'))\n",
    "X_test_gray_conv = get_conv_dataset(X_test_gray_norm, os.path.join(dir_path, 'X_test_gray_conv.pkl'))"
   ]
  },
  {
   "cell_type": "code",
   "execution_count": null,
   "metadata": {
    "collapsed": false,
    "pycharm": {
     "name": "#%%\n"
    }
   },
   "outputs": [],
   "source": [
    "\n"
   ]
  },
  {
   "cell_type": "markdown",
   "metadata": {
    "collapsed": false
   },
   "source": [
    "# 4. Classification/Regression methods need to be included\n",
    "- Supervised learning and Unsupervised learning\n",
    "- Baysian approaches and non-Baysian approaches\n",
    "- Parametric and Non-parametric density estimation in supervised learning\n",
    "- Fusion\n",
    "\n",
    "Classification performed with:\n",
    "1. MPP (case 1, 2, and 3)\n",
    "2. kNN with different k's\n",
    "3. BPNN\n",
    "4. Decision tree\n",
    "5. SVM\n",
    "6. Clustering (kmeans, wta)\n",
    "\n",
    "You are required to evaluate the effect of various aspects of the classification/regression process, including but not limited to:\n",
    "- the effect of assuming the data is Gaussian-distributed\n",
    "- the effect of assuming parametric pdf vs. non-parametric pdf\n",
    "- the effect of using different prior probability ratio\n",
    "- the effect of using different distance\n",
    "- the effect of knowing the class label\n",
    "- the effect of dimension of the feature space (e.g., changed through dimensionality reduction)\n",
    "- the effect of fusion"
   ]
  },
  {
   "cell_type": "code",
   "execution_count": null,
   "metadata": {
    "collapsed": false,
    "pycharm": {
     "name": "#%%\n"
    }
   },
   "outputs": [],
   "source": []
  },
  {
   "cell_type": "markdown",
   "metadata": {
    "collapsed": false
   },
   "source": [
    "## 4.1. MPP (case 1, 2, and 3)"
   ]
  },
  {
   "cell_type": "code",
   "execution_count": 1,
   "metadata": {
    "collapsed": false,
    "pycharm": {
     "name": "#%%\n"
    }
   },
   "outputs": [
    {
     "ename": "NameError",
     "evalue": "name 'X_train_gray_conv' is not defined",
     "output_type": "error",
     "traceback": [
      "\u001b[0;31m---------------------------------------------------------------------------\u001b[0m",
      "\u001b[0;31mNameError\u001b[0m                                 Traceback (most recent call last)",
      "\u001b[0;32m/tmp/ipykernel_2155233/28139659.py\u001b[0m in \u001b[0;36m<module>\u001b[0;34m\u001b[0m\n\u001b[1;32m      3\u001b[0m \u001b[0;34m\u001b[0m\u001b[0m\n\u001b[1;32m      4\u001b[0m \u001b[0mcase_1\u001b[0m \u001b[0;34m=\u001b[0m \u001b[0mMPPCase1\u001b[0m\u001b[0;34m(\u001b[0m\u001b[0;34m[\u001b[0m\u001b[0;36m0.5\u001b[0m\u001b[0;34m,\u001b[0m \u001b[0;36m0.5\u001b[0m\u001b[0;34m]\u001b[0m\u001b[0;34m)\u001b[0m\u001b[0;34m\u001b[0m\u001b[0;34m\u001b[0m\u001b[0m\n\u001b[0;32m----> 5\u001b[0;31m \u001b[0mcase_1\u001b[0m\u001b[0;34m.\u001b[0m\u001b[0mfit\u001b[0m\u001b[0;34m(\u001b[0m\u001b[0mX_train_gray_conv\u001b[0m\u001b[0;34m,\u001b[0m \u001b[0my_train\u001b[0m\u001b[0;34m)\u001b[0m\u001b[0;34m\u001b[0m\u001b[0;34m\u001b[0m\u001b[0m\n\u001b[0m\u001b[1;32m      6\u001b[0m \u001b[0my\u001b[0m \u001b[0;34m=\u001b[0m \u001b[0mcase_1\u001b[0m\u001b[0;34m.\u001b[0m\u001b[0mpredict\u001b[0m\u001b[0;34m(\u001b[0m\u001b[0mX_test_gray_conv\u001b[0m\u001b[0;34m)\u001b[0m\u001b[0;34m\u001b[0m\u001b[0;34m\u001b[0m\u001b[0m\n\u001b[1;32m      7\u001b[0m \u001b[0;34m\u001b[0m\u001b[0m\n",
      "\u001b[0;31mNameError\u001b[0m: name 'X_train_gray_conv' is not defined"
     ]
    }
   ],
   "source": [
    "from mpp import MPPCase1\n",
    "from evaluation import *\n",
    "\n",
    "case_1 = MPPCase1([0.5, 0.5])\n",
    "case_1.fit(X_train_gray_conv, y_train)\n",
    "y = case_1.predict(X_test_gray_conv)\n",
    "\n",
    "cm = get_confusion_matrix(y_test, y, np.unique(y_test))\n",
    "plot_confusion_matrix(cm, None, None)"
   ]
  },
  {
   "cell_type": "markdown",
   "metadata": {
    "collapsed": false
   },
   "source": [
    "## 4.2. kNN with different k's"
   ]
  },
  {
   "cell_type": "code",
   "execution_count": null,
   "metadata": {
    "collapsed": false,
    "pycharm": {
     "name": "#%%\n"
    }
   },
   "outputs": [],
   "source": []
  },
  {
   "cell_type": "markdown",
   "metadata": {
    "collapsed": false
   },
   "source": [
    "## 4.3. BPNN"
   ]
  },
  {
   "cell_type": "code",
   "execution_count": null,
   "metadata": {
    "collapsed": false,
    "pycharm": {
     "name": "#%%\n"
    }
   },
   "outputs": [
    {
     "name": "stdout",
     "output_type": "stream",
     "text": [
      "(59, 59)\n"
     ]
    }
   ],
   "source": [
    "from bpnn import BPNN\n",
    "\n",
    "print(x.shape)\n",
    "# model_BPNN = BPNN()"
   ]
  },
  {
   "cell_type": "markdown",
   "metadata": {
    "collapsed": false
   },
   "source": [
    "## 4.4. Decision Tree"
   ]
  },
  {
   "cell_type": "code",
   "execution_count": null,
   "metadata": {
    "collapsed": false,
    "pycharm": {
     "name": "#%%\n"
    }
   },
   "outputs": [],
   "source": []
  },
  {
   "cell_type": "markdown",
   "metadata": {
    "collapsed": false
   },
   "source": [
    "## 4.5. SVM"
   ]
  },
  {
   "cell_type": "code",
   "execution_count": null,
   "metadata": {
    "collapsed": false,
    "pycharm": {
     "name": "#%%\n"
    }
   },
   "outputs": [],
   "source": []
  },
  {
   "cell_type": "markdown",
   "metadata": {
    "collapsed": false
   },
   "source": [
    "## 4.6. Clustering (KMeans and WTA)"
   ]
  },
  {
   "cell_type": "code",
   "execution_count": null,
   "metadata": {
    "collapsed": false,
    "pycharm": {
     "name": "#%%\n"
    }
   },
   "outputs": [
    {
     "data": {
      "text/plain": [
       "array([[[[ 66., 154., 190.],\n",
       "         [ 80., 150., 181.],\n",
       "         [ 95., 150., 176.],\n",
       "         ...,\n",
       "         [207., 202., 182.],\n",
       "         [183., 181., 160.],\n",
       "         [159., 158., 138.]],\n",
       "\n",
       "        [[ 68., 154., 189.],\n",
       "         [ 83., 150., 182.],\n",
       "         [ 97., 149., 174.],\n",
       "         ...,\n",
       "         [212., 205., 186.],\n",
       "         [191., 186., 166.],\n",
       "         [165., 163., 142.]],\n",
       "\n",
       "        [[ 67., 150., 184.],\n",
       "         [ 82., 148., 178.],\n",
       "         [ 93., 144., 169.],\n",
       "         ...,\n",
       "         [213., 208., 186.],\n",
       "         [198., 195., 174.],\n",
       "         [170., 168., 147.]],\n",
       "\n",
       "        ...,\n",
       "\n",
       "        [[124., 104.,  77.],\n",
       "         [ 94.,  71.,  39.],\n",
       "         [130., 105.,  68.],\n",
       "         ...,\n",
       "         [162., 143., 121.],\n",
       "         [134., 113.,  90.],\n",
       "         [172., 150., 126.]],\n",
       "\n",
       "        [[119., 101.,  71.],\n",
       "         [ 93.,  71.,  39.],\n",
       "         [133., 108.,  71.],\n",
       "         ...,\n",
       "         [158., 136., 114.],\n",
       "         [134., 112.,  89.],\n",
       "         [175., 153., 129.]],\n",
       "\n",
       "        [[115.,  96.,  66.],\n",
       "         [ 95.,  72.,  40.],\n",
       "         [139., 114.,  77.],\n",
       "         ...,\n",
       "         [151., 130., 108.],\n",
       "         [142., 120.,  96.],\n",
       "         [177., 153., 129.]]],\n",
       "\n",
       "\n",
       "       [[[ 94.,  79.,  77.],\n",
       "         [121., 103.,  98.],\n",
       "         [132., 110., 101.],\n",
       "         ...,\n",
       "         [240., 240., 244.],\n",
       "         [241., 240., 245.],\n",
       "         [242., 241., 246.]],\n",
       "\n",
       "        [[109.,  94.,  90.],\n",
       "         [137., 120., 114.],\n",
       "         [122., 100.,  91.],\n",
       "         ...,\n",
       "         [239., 240., 244.],\n",
       "         [240., 239., 244.],\n",
       "         [241., 240., 245.]],\n",
       "\n",
       "        [[111.,  95.,  89.],\n",
       "         [145., 127., 119.],\n",
       "         [129., 107.,  97.],\n",
       "         ...,\n",
       "         [239., 239., 244.],\n",
       "         [240., 239., 244.],\n",
       "         [241., 240., 245.]],\n",
       "\n",
       "        ...,\n",
       "\n",
       "        [[ 82.,  51.,  37.],\n",
       "         [ 54.,  26.,  15.],\n",
       "         [ 19.,   0.,   0.],\n",
       "         ...,\n",
       "         [ 77.,  52.,  51.],\n",
       "         [ 61.,  35.,  33.],\n",
       "         [ 43.,  19.,  17.]],\n",
       "\n",
       "        [[199., 149., 139.],\n",
       "         [155., 108.,  96.],\n",
       "         [ 86.,  44.,  35.],\n",
       "         ...,\n",
       "         [ 86.,  55.,  56.],\n",
       "         [ 59.,  28.,  25.],\n",
       "         [ 29.,   2.,   1.]],\n",
       "\n",
       "        [[255., 196., 187.],\n",
       "         [231., 171., 164.],\n",
       "         [169., 115., 104.],\n",
       "         ...,\n",
       "         [ 74.,  42.,  43.],\n",
       "         [ 68.,  32.,  28.],\n",
       "         [ 60.,  23.,  14.]]],\n",
       "\n",
       "\n",
       "       [[[  6.,  15.,  20.],\n",
       "         [  5.,  14.,  19.],\n",
       "         [  5.,  13.,  20.],\n",
       "         ...,\n",
       "         [197., 179., 131.],\n",
       "         [198., 181., 135.],\n",
       "         [199., 185., 138.]],\n",
       "\n",
       "        [[  8.,  17.,  22.],\n",
       "         [  7.,  16.,  22.],\n",
       "         [  7.,  15.,  22.],\n",
       "         ...,\n",
       "         [198., 180., 133.],\n",
       "         [200., 182., 136.],\n",
       "         [201., 184., 140.]],\n",
       "\n",
       "        [[  8.,  17.,  20.],\n",
       "         [  9.,  17.,  20.],\n",
       "         [  9.,  16.,  22.],\n",
       "         ...,\n",
       "         [198., 181., 133.],\n",
       "         [199., 181., 136.],\n",
       "         [200., 183., 139.]],\n",
       "\n",
       "        ...,\n",
       "\n",
       "        [[162., 121.,  55.],\n",
       "         [159., 119.,  53.],\n",
       "         [157., 116.,  50.],\n",
       "         ...,\n",
       "         [170., 116.,  69.],\n",
       "         [172., 120.,  72.],\n",
       "         [173., 120.,  73.]],\n",
       "\n",
       "        [[167., 128.,  64.],\n",
       "         [164., 125.,  60.],\n",
       "         [160., 122.,  56.],\n",
       "         ...,\n",
       "         [169., 116.,  69.],\n",
       "         [170., 119.,  70.],\n",
       "         [171., 120.,  72.]],\n",
       "\n",
       "        [[171., 133.,  71.],\n",
       "         [168., 130.,  68.],\n",
       "         [164., 126.,  63.],\n",
       "         ...,\n",
       "         [168., 116.,  69.],\n",
       "         [169., 118.,  69.],\n",
       "         [170., 120.,  71.]]],\n",
       "\n",
       "\n",
       "       ...,\n",
       "\n",
       "\n",
       "       [[[221., 157., 130.],\n",
       "         [210., 146., 119.],\n",
       "         [202., 137., 108.],\n",
       "         ...,\n",
       "         [ 79.,  42.,  26.],\n",
       "         [ 73.,  37.,  21.],\n",
       "         [ 77.,  41.,  25.]],\n",
       "\n",
       "        [[214., 152., 124.],\n",
       "         [205., 142., 115.],\n",
       "         [197., 134., 106.],\n",
       "         ...,\n",
       "         [ 74.,  37.,  21.],\n",
       "         [ 76.,  41.,  25.],\n",
       "         [ 94.,  60.,  43.]],\n",
       "\n",
       "        [[203., 144., 116.],\n",
       "         [199., 140., 111.],\n",
       "         [194., 136., 107.],\n",
       "         ...,\n",
       "         [100.,  64.,  47.],\n",
       "         [ 94.,  60.,  44.],\n",
       "         [104.,  71.,  54.]],\n",
       "\n",
       "        ...,\n",
       "\n",
       "        [[225., 223., 219.],\n",
       "         [224., 220., 215.],\n",
       "         [220., 214., 206.],\n",
       "         ...,\n",
       "         [106.,  71.,  45.],\n",
       "         [ 85.,  48.,  22.],\n",
       "         [ 74.,  38.,  11.]],\n",
       "\n",
       "        [[229., 222., 216.],\n",
       "         [226., 218., 210.],\n",
       "         [220., 212., 200.],\n",
       "         ...,\n",
       "         [ 91.,  55.,  29.],\n",
       "         [ 94.,  56.,  30.],\n",
       "         [100.,  62.,  35.]],\n",
       "\n",
       "        [[230., 221., 211.],\n",
       "         [225., 216., 205.],\n",
       "         [219., 209., 195.],\n",
       "         ...,\n",
       "         [ 81.,  44.,  17.],\n",
       "         [108.,  69.,  42.],\n",
       "         [128.,  88.,  62.]]],\n",
       "\n",
       "\n",
       "       [[[105., 114.,  67.],\n",
       "         [101., 110.,  65.],\n",
       "         [101., 111.,  67.],\n",
       "         ...,\n",
       "         [ 90., 101.,  58.],\n",
       "         [ 78.,  91.,  47.],\n",
       "         [ 71.,  84.,  40.]],\n",
       "\n",
       "        [[106., 114.,  64.],\n",
       "         [100., 109.,  61.],\n",
       "         [100., 109.,  66.],\n",
       "         ...,\n",
       "         [ 99., 105.,  64.],\n",
       "         [ 81.,  94.,  51.],\n",
       "         [ 72.,  84.,  42.]],\n",
       "\n",
       "        [[107., 114.,  62.],\n",
       "         [ 96., 104.,  55.],\n",
       "         [ 98., 107.,  63.],\n",
       "         ...,\n",
       "         [103., 107.,  67.],\n",
       "         [ 87.,  94.,  56.],\n",
       "         [ 77.,  85.,  44.]],\n",
       "\n",
       "        ...,\n",
       "\n",
       "        [[ 98., 110.,  72.],\n",
       "         [101., 113.,  75.],\n",
       "         [100., 112.,  75.],\n",
       "         ...,\n",
       "         [147., 147.,  73.],\n",
       "         [158., 157.,  82.],\n",
       "         [168., 165.,  91.]],\n",
       "\n",
       "        [[ 97., 109.,  73.],\n",
       "         [ 99., 111.,  75.],\n",
       "         [101., 113.,  77.],\n",
       "         ...,\n",
       "         [144., 146.,  77.],\n",
       "         [155., 157.,  85.],\n",
       "         [166., 166.,  95.]],\n",
       "\n",
       "        [[ 96., 108.,  72.],\n",
       "         [ 97., 109.,  73.],\n",
       "         [101., 113.,  77.],\n",
       "         ...,\n",
       "         [143., 145.,  81.],\n",
       "         [154., 157.,  90.],\n",
       "         [165., 168., 101.]]],\n",
       "\n",
       "\n",
       "       [[[ 42.,  28.,  51.],\n",
       "         [ 38.,  24.,  47.],\n",
       "         [ 32.,  18.,  41.],\n",
       "         ...,\n",
       "         [ 16.,  27., 137.],\n",
       "         [ 15.,  30., 137.],\n",
       "         [ 16.,  33., 139.]],\n",
       "\n",
       "        [[ 41.,  29.,  51.],\n",
       "         [ 37.,  25.,  47.],\n",
       "         [ 32.,  18.,  41.],\n",
       "         ...,\n",
       "         [ 19.,  29., 138.],\n",
       "         [ 17.,  31., 136.],\n",
       "         [ 17.,  32., 137.]],\n",
       "\n",
       "        [[ 40.,  28.,  51.],\n",
       "         [ 36.,  24.,  47.],\n",
       "         [ 30.,  17.,  40.],\n",
       "         ...,\n",
       "         [ 23.,  31., 138.],\n",
       "         [ 18.,  31., 135.],\n",
       "         [ 17.,  30., 135.]],\n",
       "\n",
       "        ...,\n",
       "\n",
       "        [[168., 224., 235.],\n",
       "         [171., 220., 230.],\n",
       "         [162., 200., 210.],\n",
       "         ...,\n",
       "         [ 91., 203., 250.],\n",
       "         [ 86., 197., 253.],\n",
       "         [ 82., 192., 253.]],\n",
       "\n",
       "        [[152., 204., 217.],\n",
       "         [163., 208., 220.],\n",
       "         [166., 198., 210.],\n",
       "         ...,\n",
       "         [ 92., 205., 250.],\n",
       "         [ 87., 199., 254.],\n",
       "         [ 83., 193., 254.]],\n",
       "\n",
       "        [[132., 180., 194.],\n",
       "         [151., 192., 205.],\n",
       "         [165., 194., 206.],\n",
       "         ...,\n",
       "         [ 93., 206., 249.],\n",
       "         [ 88., 200., 253.],\n",
       "         [ 84., 194., 253.]]]])"
      ]
     },
     "execution_count": 4,
     "metadata": {},
     "output_type": "execute_result"
    }
   ],
   "source": [
    "from kmeans import kmeans_image_compress\n",
    "from data_functions import get_dataset_fn, load_dataset, resize_dataset\n",
    "\n",
    "# plt.imshow(X_train[0])\n",
    "# plt.show()\n",
    "\n",
    "# plt.imshow(kmeans_image_compress(X_train[0], 3))\n",
    "# plt.show()\n",
    "dataset_dir = os.path.join(\"datasets\", \"face_mask\")\n",
    "size = (128, 128, 3)\n",
    "X_train_resized = resize_dataset(load_dataset(get_dataset_fn(dataset_dir, \"train\")[0][:10]), size)\n"
   ]
  },
  {
   "cell_type": "markdown",
   "metadata": {
    "collapsed": false
   },
   "source": [
    "# 5. Performance evaluation\n",
    "Note: Use n-fold cross validation to generate confusion matrix and ROC curve if applicable."
   ]
  },
  {
   "cell_type": "code",
   "execution_count": null,
   "metadata": {
    "collapsed": false,
    "pycharm": {
     "name": "#%%\n"
    }
   },
   "outputs": [],
   "source": []
  },
  {
   "cell_type": "markdown",
   "metadata": {
    "collapsed": false
   },
   "source": [
    "# 6. Feedback system\n",
    "Maybe"
   ]
  },
  {
   "cell_type": "code",
   "execution_count": null,
   "metadata": {
    "collapsed": false,
    "pycharm": {
     "name": "#%%\n"
    }
   },
   "outputs": [],
   "source": []
  }
 ],
 "metadata": {
  "interpreter": {
   "hash": "e7370f93d1d0cde622a1f8e1c04877d8463912d04d973331ad4851f04de6915a"
  },
  "kernelspec": {
   "display_name": "Python 3.9.7 64-bit",
   "name": "python3"
  },
  "language_info": {
   "codemirror_mode": {
    "name": "ipython",
    "version": 3
   },
   "file_extension": ".py",
   "mimetype": "text/x-python",
   "name": "python",
   "nbconvert_exporter": "python",
   "pygments_lexer": "ipython3",
   "version": "3.9.7"
  }
 },
 "nbformat": 4,
 "nbformat_minor": 0
}
